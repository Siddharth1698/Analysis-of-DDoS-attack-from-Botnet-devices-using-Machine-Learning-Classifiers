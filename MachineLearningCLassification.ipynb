{
  "nbformat": 4,
  "nbformat_minor": 0,
  "metadata": {
    "colab": {
      "name": "MachineLearningCLassification.ipynb",
      "provenance": []
    },
    "kernelspec": {
      "name": "python3",
      "display_name": "Python 3"
    }
  },
  "cells": [
    {
      "cell_type": "code",
      "metadata": {
        "id": "qr2UdY33jeUQ",
        "colab_type": "code",
        "colab": {}
      },
      "source": [
        "import smote_variants as sv\n",
        "import pandas  as pd\n",
        "import matplotlib.pyplot as plt\n",
        "import numpy as np\n",
        "import imbalanced_databases as imbd\n",
        "from sklearn import metrics\n",
        "from sklearn.datasets import load_wine\n",
        "\n",
        "%matplotlib inline\n",
        "from sklearn.model_selection import train_test_split"
      ],
      "execution_count": 0,
      "outputs": []
    },
    {
      "cell_type": "code",
      "metadata": {
        "id": "5i6xdA4nJ_Me",
        "colab_type": "code",
        "colab": {}
      },
      "source": [
        "df_train = pd.read_csv('/content/drive/My Drive/Major Project Works/dataset/ml_dataset.csv')"
      ],
      "execution_count": 0,
      "outputs": []
    },
    {
      "cell_type": "code",
      "metadata": {
        "id": "rL13VhV0kb78",
        "colab_type": "code",
        "colab": {}
      },
      "source": [
        "df = df_train.copy()\n",
        "df.drop(['Unnamed: 0'],inplace=True,axis=1)"
      ],
      "execution_count": 0,
      "outputs": []
    },
    {
      "cell_type": "code",
      "metadata": {
        "id": "32fIeDsCDP1T",
        "colab_type": "code",
        "colab": {}
      },
      "source": [
        "df_attack = df[df['attack'] == 1]"
      ],
      "execution_count": 0,
      "outputs": []
    },
    {
      "cell_type": "code",
      "metadata": {
        "id": "7u0uBOUmDP4F",
        "colab_type": "code",
        "colab": {}
      },
      "source": [
        "df_normal = df[df['attack'] == 0]"
      ],
      "execution_count": 0,
      "outputs": []
    },
    {
      "cell_type": "code",
      "metadata": {
        "id": "IQdKY-srDP7e",
        "colab_type": "code",
        "colab": {}
      },
      "source": [
        "df_attack = df_attack.sample(n=200000)"
      ],
      "execution_count": 0,
      "outputs": []
    },
    {
      "cell_type": "code",
      "metadata": {
        "id": "udpo_fYYDP92",
        "colab_type": "code",
        "colab": {}
      },
      "source": [
        "df = df_attack.append(df_normal, ignore_index=True, sort=False)"
      ],
      "execution_count": 0,
      "outputs": []
    },
    {
      "cell_type": "code",
      "metadata": {
        "id": "ILzX8RoAJ6vd",
        "colab_type": "code",
        "outputId": "c2ad9a6d-c5dd-46f8-81bc-89bf11d69b7f",
        "colab": {
          "base_uri": "https://localhost:8080/",
          "height": 444
        }
      },
      "source": [
        "df"
      ],
      "execution_count": 8,
      "outputs": [
        {
          "output_type": "execute_result",
          "data": {
            "text/html": [
              "<div>\n",
              "<style scoped>\n",
              "    .dataframe tbody tr th:only-of-type {\n",
              "        vertical-align: middle;\n",
              "    }\n",
              "\n",
              "    .dataframe tbody tr th {\n",
              "        vertical-align: top;\n",
              "    }\n",
              "\n",
              "    .dataframe thead th {\n",
              "        text-align: right;\n",
              "    }\n",
              "</style>\n",
              "<table border=\"1\" class=\"dataframe\">\n",
              "  <thead>\n",
              "    <tr style=\"text-align: right;\">\n",
              "      <th></th>\n",
              "      <th>pkts</th>\n",
              "      <th>bytes</th>\n",
              "      <th>dur</th>\n",
              "      <th>average_dur</th>\n",
              "      <th>stddev_dur</th>\n",
              "      <th>total_dur</th>\n",
              "      <th>min_dur</th>\n",
              "      <th>max_dur</th>\n",
              "      <th>spkts</th>\n",
              "      <th>dpkts</th>\n",
              "      <th>sbytes</th>\n",
              "      <th>dbytes</th>\n",
              "      <th>rate</th>\n",
              "      <th>srate</th>\n",
              "      <th>drate</th>\n",
              "      <th>TnBPSrcIP</th>\n",
              "      <th>TnBPDstIP</th>\n",
              "      <th>TnP_PSrcIP</th>\n",
              "      <th>TnP_PDstIP</th>\n",
              "      <th>TnP_PerProto</th>\n",
              "      <th>TnP_Per_Dport</th>\n",
              "      <th>AR_P_Proto_P_SrcIP</th>\n",
              "      <th>AR_P_Proto_P_DstIP</th>\n",
              "      <th>N_IN_Conn_P_DstIP</th>\n",
              "      <th>N_IN_Conn_P_SrcIP</th>\n",
              "      <th>AR_P_Proto_P_Sport</th>\n",
              "      <th>AR_P_Proto_P_Dport</th>\n",
              "      <th>Pkts_P_State_P_Protocol_P_DestIP</th>\n",
              "      <th>Pkts_P_State_P_Protocol_P_SrcIP</th>\n",
              "      <th>attack</th>\n",
              "    </tr>\n",
              "  </thead>\n",
              "  <tbody>\n",
              "    <tr>\n",
              "      <th>0</th>\n",
              "      <td>7</td>\n",
              "      <td>420</td>\n",
              "      <td>12.133525</td>\n",
              "      <td>2.689915</td>\n",
              "      <td>1.902059</td>\n",
              "      <td>8.069744</td>\n",
              "      <td>0.000000</td>\n",
              "      <td>4.038417</td>\n",
              "      <td>7</td>\n",
              "      <td>0</td>\n",
              "      <td>420</td>\n",
              "      <td>0</td>\n",
              "      <td>0.494498</td>\n",
              "      <td>0.494498</td>\n",
              "      <td>0.000000</td>\n",
              "      <td>35280</td>\n",
              "      <td>42000</td>\n",
              "      <td>588</td>\n",
              "      <td>700</td>\n",
              "      <td>700</td>\n",
              "      <td>700</td>\n",
              "      <td>0.576914</td>\n",
              "      <td>0.576659</td>\n",
              "      <td>100</td>\n",
              "      <td>84</td>\n",
              "      <td>0.576914</td>\n",
              "      <td>0.576659</td>\n",
              "      <td>700</td>\n",
              "      <td>588</td>\n",
              "      <td>1</td>\n",
              "    </tr>\n",
              "    <tr>\n",
              "      <th>1</th>\n",
              "      <td>9</td>\n",
              "      <td>1010</td>\n",
              "      <td>16.118649</td>\n",
              "      <td>2.835775</td>\n",
              "      <td>1.871438</td>\n",
              "      <td>8.507324</td>\n",
              "      <td>0.197346</td>\n",
              "      <td>4.335104</td>\n",
              "      <td>7</td>\n",
              "      <td>2</td>\n",
              "      <td>890</td>\n",
              "      <td>120</td>\n",
              "      <td>0.496320</td>\n",
              "      <td>0.372240</td>\n",
              "      <td>0.125450</td>\n",
              "      <td>98380</td>\n",
              "      <td>99612</td>\n",
              "      <td>872</td>\n",
              "      <td>880</td>\n",
              "      <td>880</td>\n",
              "      <td>880</td>\n",
              "      <td>0.552154</td>\n",
              "      <td>0.547033</td>\n",
              "      <td>100</td>\n",
              "      <td>98</td>\n",
              "      <td>0.558359</td>\n",
              "      <td>0.547033</td>\n",
              "      <td>872</td>\n",
              "      <td>872</td>\n",
              "      <td>1</td>\n",
              "    </tr>\n",
              "    <tr>\n",
              "      <th>2</th>\n",
              "      <td>4</td>\n",
              "      <td>616</td>\n",
              "      <td>39.214909</td>\n",
              "      <td>0.840302</td>\n",
              "      <td>1.188366</td>\n",
              "      <td>2.520905</td>\n",
              "      <td>0.000000</td>\n",
              "      <td>2.520905</td>\n",
              "      <td>4</td>\n",
              "      <td>0</td>\n",
              "      <td>616</td>\n",
              "      <td>0</td>\n",
              "      <td>0.076502</td>\n",
              "      <td>0.076502</td>\n",
              "      <td>0.000000</td>\n",
              "      <td>53592</td>\n",
              "      <td>63160</td>\n",
              "      <td>348</td>\n",
              "      <td>426</td>\n",
              "      <td>426</td>\n",
              "      <td>426</td>\n",
              "      <td>0.102002</td>\n",
              "      <td>0.110796</td>\n",
              "      <td>100</td>\n",
              "      <td>87</td>\n",
              "      <td>0.102002</td>\n",
              "      <td>0.110796</td>\n",
              "      <td>348</td>\n",
              "      <td>348</td>\n",
              "      <td>1</td>\n",
              "    </tr>\n",
              "    <tr>\n",
              "      <th>3</th>\n",
              "      <td>8</td>\n",
              "      <td>856</td>\n",
              "      <td>11.495111</td>\n",
              "      <td>3.860351</td>\n",
              "      <td>0.005955</td>\n",
              "      <td>7.720701</td>\n",
              "      <td>3.854396</td>\n",
              "      <td>3.866305</td>\n",
              "      <td>6</td>\n",
              "      <td>2</td>\n",
              "      <td>736</td>\n",
              "      <td>120</td>\n",
              "      <td>0.608954</td>\n",
              "      <td>0.434968</td>\n",
              "      <td>0.131082</td>\n",
              "      <td>80048</td>\n",
              "      <td>81280</td>\n",
              "      <td>720</td>\n",
              "      <td>728</td>\n",
              "      <td>728</td>\n",
              "      <td>728</td>\n",
              "      <td>0.640216</td>\n",
              "      <td>0.635320</td>\n",
              "      <td>100</td>\n",
              "      <td>98</td>\n",
              "      <td>0.695948</td>\n",
              "      <td>0.635320</td>\n",
              "      <td>720</td>\n",
              "      <td>720</td>\n",
              "      <td>1</td>\n",
              "    </tr>\n",
              "    <tr>\n",
              "      <th>4</th>\n",
              "      <td>7</td>\n",
              "      <td>890</td>\n",
              "      <td>12.280018</td>\n",
              "      <td>2.074457</td>\n",
              "      <td>1.472787</td>\n",
              "      <td>6.223372</td>\n",
              "      <td>0.000000</td>\n",
              "      <td>3.273309</td>\n",
              "      <td>6</td>\n",
              "      <td>1</td>\n",
              "      <td>830</td>\n",
              "      <td>60</td>\n",
              "      <td>0.488599</td>\n",
              "      <td>0.407166</td>\n",
              "      <td>0.000000</td>\n",
              "      <td>76540</td>\n",
              "      <td>86844</td>\n",
              "      <td>602</td>\n",
              "      <td>686</td>\n",
              "      <td>686</td>\n",
              "      <td>686</td>\n",
              "      <td>0.570029</td>\n",
              "      <td>0.566089</td>\n",
              "      <td>100</td>\n",
              "      <td>86</td>\n",
              "      <td>0.570032</td>\n",
              "      <td>0.566089</td>\n",
              "      <td>686</td>\n",
              "      <td>602</td>\n",
              "      <td>1</td>\n",
              "    </tr>\n",
              "    <tr>\n",
              "      <th>...</th>\n",
              "      <td>...</td>\n",
              "      <td>...</td>\n",
              "      <td>...</td>\n",
              "      <td>...</td>\n",
              "      <td>...</td>\n",
              "      <td>...</td>\n",
              "      <td>...</td>\n",
              "      <td>...</td>\n",
              "      <td>...</td>\n",
              "      <td>...</td>\n",
              "      <td>...</td>\n",
              "      <td>...</td>\n",
              "      <td>...</td>\n",
              "      <td>...</td>\n",
              "      <td>...</td>\n",
              "      <td>...</td>\n",
              "      <td>...</td>\n",
              "      <td>...</td>\n",
              "      <td>...</td>\n",
              "      <td>...</td>\n",
              "      <td>...</td>\n",
              "      <td>...</td>\n",
              "      <td>...</td>\n",
              "      <td>...</td>\n",
              "      <td>...</td>\n",
              "      <td>...</td>\n",
              "      <td>...</td>\n",
              "      <td>...</td>\n",
              "      <td>...</td>\n",
              "      <td>...</td>\n",
              "    </tr>\n",
              "    <tr>\n",
              "      <th>200472</th>\n",
              "      <td>2</td>\n",
              "      <td>397</td>\n",
              "      <td>0.293476</td>\n",
              "      <td>0.293476</td>\n",
              "      <td>0.000000</td>\n",
              "      <td>0.293476</td>\n",
              "      <td>0.293476</td>\n",
              "      <td>0.293476</td>\n",
              "      <td>1</td>\n",
              "      <td>1</td>\n",
              "      <td>106</td>\n",
              "      <td>291</td>\n",
              "      <td>3.407434</td>\n",
              "      <td>0.000000</td>\n",
              "      <td>0.000000</td>\n",
              "      <td>48697</td>\n",
              "      <td>694</td>\n",
              "      <td>190</td>\n",
              "      <td>4</td>\n",
              "      <td>142</td>\n",
              "      <td>122</td>\n",
              "      <td>9.493260</td>\n",
              "      <td>6.832010</td>\n",
              "      <td>2</td>\n",
              "      <td>74</td>\n",
              "      <td>6.814870</td>\n",
              "      <td>9.493260</td>\n",
              "      <td>4</td>\n",
              "      <td>122</td>\n",
              "      <td>0</td>\n",
              "    </tr>\n",
              "    <tr>\n",
              "      <th>200473</th>\n",
              "      <td>2</td>\n",
              "      <td>297</td>\n",
              "      <td>0.292003</td>\n",
              "      <td>0.292003</td>\n",
              "      <td>0.000000</td>\n",
              "      <td>0.292003</td>\n",
              "      <td>0.292003</td>\n",
              "      <td>0.292003</td>\n",
              "      <td>1</td>\n",
              "      <td>1</td>\n",
              "      <td>106</td>\n",
              "      <td>191</td>\n",
              "      <td>3.424622</td>\n",
              "      <td>0.000000</td>\n",
              "      <td>0.000000</td>\n",
              "      <td>48697</td>\n",
              "      <td>694</td>\n",
              "      <td>190</td>\n",
              "      <td>4</td>\n",
              "      <td>142</td>\n",
              "      <td>122</td>\n",
              "      <td>9.493260</td>\n",
              "      <td>6.832010</td>\n",
              "      <td>2</td>\n",
              "      <td>74</td>\n",
              "      <td>6.849240</td>\n",
              "      <td>9.493260</td>\n",
              "      <td>4</td>\n",
              "      <td>122</td>\n",
              "      <td>0</td>\n",
              "    </tr>\n",
              "    <tr>\n",
              "      <th>200474</th>\n",
              "      <td>2</td>\n",
              "      <td>337</td>\n",
              "      <td>0.277896</td>\n",
              "      <td>0.277896</td>\n",
              "      <td>0.000000</td>\n",
              "      <td>0.277896</td>\n",
              "      <td>0.277896</td>\n",
              "      <td>0.277896</td>\n",
              "      <td>1</td>\n",
              "      <td>1</td>\n",
              "      <td>100</td>\n",
              "      <td>237</td>\n",
              "      <td>3.598469</td>\n",
              "      <td>0.000000</td>\n",
              "      <td>0.000000</td>\n",
              "      <td>48697</td>\n",
              "      <td>337</td>\n",
              "      <td>190</td>\n",
              "      <td>2</td>\n",
              "      <td>142</td>\n",
              "      <td>122</td>\n",
              "      <td>9.493260</td>\n",
              "      <td>7.196940</td>\n",
              "      <td>1</td>\n",
              "      <td>74</td>\n",
              "      <td>7.196940</td>\n",
              "      <td>9.493260</td>\n",
              "      <td>2</td>\n",
              "      <td>122</td>\n",
              "      <td>0</td>\n",
              "    </tr>\n",
              "    <tr>\n",
              "      <th>200475</th>\n",
              "      <td>2</td>\n",
              "      <td>936</td>\n",
              "      <td>0.280742</td>\n",
              "      <td>0.280742</td>\n",
              "      <td>0.000000</td>\n",
              "      <td>0.280742</td>\n",
              "      <td>0.280742</td>\n",
              "      <td>0.280742</td>\n",
              "      <td>1</td>\n",
              "      <td>1</td>\n",
              "      <td>91</td>\n",
              "      <td>845</td>\n",
              "      <td>3.561990</td>\n",
              "      <td>0.000000</td>\n",
              "      <td>0.000000</td>\n",
              "      <td>48697</td>\n",
              "      <td>1872</td>\n",
              "      <td>190</td>\n",
              "      <td>4</td>\n",
              "      <td>142</td>\n",
              "      <td>122</td>\n",
              "      <td>9.493260</td>\n",
              "      <td>7.126890</td>\n",
              "      <td>2</td>\n",
              "      <td>74</td>\n",
              "      <td>7.123980</td>\n",
              "      <td>9.493260</td>\n",
              "      <td>4</td>\n",
              "      <td>122</td>\n",
              "      <td>0</td>\n",
              "    </tr>\n",
              "    <tr>\n",
              "      <th>200476</th>\n",
              "      <td>2</td>\n",
              "      <td>936</td>\n",
              "      <td>0.280513</td>\n",
              "      <td>0.280513</td>\n",
              "      <td>0.000000</td>\n",
              "      <td>0.280513</td>\n",
              "      <td>0.280513</td>\n",
              "      <td>0.280513</td>\n",
              "      <td>1</td>\n",
              "      <td>1</td>\n",
              "      <td>91</td>\n",
              "      <td>845</td>\n",
              "      <td>3.564897</td>\n",
              "      <td>0.000000</td>\n",
              "      <td>0.000000</td>\n",
              "      <td>48697</td>\n",
              "      <td>1872</td>\n",
              "      <td>190</td>\n",
              "      <td>4</td>\n",
              "      <td>142</td>\n",
              "      <td>122</td>\n",
              "      <td>9.493260</td>\n",
              "      <td>7.126890</td>\n",
              "      <td>2</td>\n",
              "      <td>74</td>\n",
              "      <td>7.129790</td>\n",
              "      <td>9.493260</td>\n",
              "      <td>4</td>\n",
              "      <td>122</td>\n",
              "      <td>0</td>\n",
              "    </tr>\n",
              "  </tbody>\n",
              "</table>\n",
              "<p>200477 rows × 30 columns</p>\n",
              "</div>"
            ],
            "text/plain": [
              "        pkts  bytes  ...  Pkts_P_State_P_Protocol_P_SrcIP  attack\n",
              "0          7    420  ...                              588       1\n",
              "1          9   1010  ...                              872       1\n",
              "2          4    616  ...                              348       1\n",
              "3          8    856  ...                              720       1\n",
              "4          7    890  ...                              602       1\n",
              "...      ...    ...  ...                              ...     ...\n",
              "200472     2    397  ...                              122       0\n",
              "200473     2    297  ...                              122       0\n",
              "200474     2    337  ...                              122       0\n",
              "200475     2    936  ...                              122       0\n",
              "200476     2    936  ...                              122       0\n",
              "\n",
              "[200477 rows x 30 columns]"
            ]
          },
          "metadata": {
            "tags": []
          },
          "execution_count": 8
        }
      ]
    },
    {
      "cell_type": "code",
      "metadata": {
        "id": "gq1OUFUMmbxT",
        "colab_type": "code",
        "outputId": "20cc854e-a13a-48f0-8b75-5216bdb91b4f",
        "colab": {
          "base_uri": "https://localhost:8080/",
          "height": 344
        }
      },
      "source": [
        "pd.value_counts(df['attack']).plot.bar()\n",
        "plt.title('Attack histogram')\n",
        "plt.xlabel('attack')\n",
        "plt.ylabel('Value')\n",
        "df['attack'].value_counts()"
      ],
      "execution_count": 9,
      "outputs": [
        {
          "output_type": "execute_result",
          "data": {
            "text/plain": [
              "1    200000\n",
              "0       477\n",
              "Name: attack, dtype: int64"
            ]
          },
          "metadata": {
            "tags": []
          },
          "execution_count": 9
        },
        {
          "output_type": "display_data",
          "data": {
            "image/png": "[encoded data removed]",
            "text/plain": [
              "<Figure size 432x288 with 1 Axes>"
            ]
          },
          "metadata": {
            "tags": [],
            "needs_background": "light"
          }
        }
      ]
    },
    {
      "cell_type": "code",
      "metadata": {
        "id": "qD0Yxvv2qQGR",
        "colab_type": "code",
        "colab": {}
      },
      "source": [
        ""
      ],
      "execution_count": 0,
      "outputs": []
    },
    {
      "cell_type": "code",
      "metadata": {
        "id": "4I_gzBXwBJTp",
        "colab_type": "code",
        "colab": {}
      },
      "source": [
        "X = df.iloc[:, df.columns != 'attack']\n",
        "y = df.iloc[:, df.columns == 'attack']"
      ],
      "execution_count": 0,
      "outputs": []
    },
    {
      "cell_type": "code",
      "metadata": {
        "id": "ZCxyQRcQNnbB",
        "colab_type": "code",
        "outputId": "d0bc5ee9-d0c0-417c-ceb8-f8a4d84eba91",
        "colab": {
          "base_uri": "https://localhost:8080/",
          "height": 72
        }
      },
      "source": [
        "from sklearn.model_selection import train_test_split\n",
        "X_train, X_test, y_train, y_test = train_test_split(X, y, test_size = 0.2, random_state = 0)\n",
        "\n",
        "from sklearn.preprocessing import StandardScaler\n",
        "sc_X = StandardScaler()\n",
        "X_train = sc_X.fit_transform(X_train)\n",
        "X_test = sc_X.transform(X_test)\n",
        "\n",
        "from sklearn.linear_model import LogisticRegression \n",
        "classifier = LogisticRegression(random_state = 0)\n",
        "classifier.fit(X_train,y_train)\n",
        "\n",
        "y_pred = classifier.predict(X_test)\n",
        "\n"
      ],
      "execution_count": 39,
      "outputs": [
        {
          "output_type": "stream",
          "text": [
            "/usr/local/lib/python3.6/dist-packages/sklearn/utils/validation.py:760: DataConversionWarning: A column-vector y was passed when a 1d array was expected. Please change the shape of y to (n_samples, ), for example using ravel().\n",
            "  y = column_or_1d(y, warn=True)\n"
          ],
          "name": "stderr"
        }
      ]
    },
    {
      "cell_type": "code",
      "metadata": {
        "id": "pcxbl49VBFFD",
        "colab_type": "code",
        "outputId": "f3c36ce0-a107-412d-c8e9-a15eec6fff94",
        "colab": {
          "base_uri": "https://localhost:8080/",
          "height": 331
        }
      },
      "source": [
        "from sklearn.metrics import confusion_matrix\n",
        "from matplotlib import pyplot as plt\n",
        "\n",
        "conf_mat = confusion_matrix(y_true=y_test, y_pred=y_pred)\n",
        "print('Confusion matrix:\\n', conf_mat)\n",
        "\n",
        "labels = ['Class 0', 'Class 1']\n",
        "fig = plt.figure()\n",
        "ax = fig.add_subplot(111)\n",
        "cax = ax.matshow(conf_mat, cmap=plt.cm.Blues)\n",
        "fig.colorbar(cax)\n",
        "ax.set_xticklabels([''] + labels)\n",
        "ax.set_yticklabels([''] + labels)\n",
        "plt.xlabel('Predicted')\n",
        "plt.ylabel('Expected')\n",
        "plt.show()"
      ],
      "execution_count": 40,
      "outputs": [
        {
          "output_type": "stream",
          "text": [
            "Confusion matrix:\n",
            " [[   97     1]\n",
            " [    1 39997]]\n"
          ],
          "name": "stdout"
        },
        {
          "output_type": "display_data",
          "data": {
            "image/png": "[encoded data removed]",
            "text/plain": [
              "<Figure size 432x288 with 2 Axes>"
            ]
          },
          "metadata": {
            "tags": [],
            "needs_background": "light"
          }
        }
      ]
    },
    {
      "cell_type": "code",
      "metadata": {
        "id": "HTBZlSua6VOW",
        "colab_type": "code",
        "colab": {
          "base_uri": "https://localhost:8080/",
          "height": 34
        },
        "outputId": "2f06c306-3689-477b-d815-a31706b6772a"
      },
      "source": [
        "print(\"Accuracy\", metrics.accuracy_score(y_test, y_pred))"
      ],
      "execution_count": 41,
      "outputs": [
        {
          "output_type": "stream",
          "text": [
            "Accuracy 0.9999501197126895\n"
          ],
          "name": "stdout"
        }
      ]
    },
    {
      "cell_type": "code",
      "metadata": {
        "id": "OyYTgj2yWrmp",
        "colab_type": "code",
        "colab": {
          "base_uri": "https://localhost:8080/",
          "height": 173
        },
        "outputId": "36be7ef7-ed69-4c70-dbbf-f606731fe767"
      },
      "source": [
        "from sklearn.metrics import classification_report\n",
        "print(classification_report(y_test, y_pred))"
      ],
      "execution_count": 42,
      "outputs": [
        {
          "output_type": "stream",
          "text": [
            "              precision    recall  f1-score   support\n",
            "\n",
            "           0       0.99      0.99      0.99        98\n",
            "           1       1.00      1.00      1.00     39998\n",
            "\n",
            "    accuracy                           1.00     40096\n",
            "   macro avg       0.99      0.99      0.99     40096\n",
            "weighted avg       1.00      1.00      1.00     40096\n",
            "\n"
          ],
          "name": "stdout"
        }
      ]
    },
    {
      "cell_type": "code",
      "metadata": {
        "id": "855_nnUXyLUf",
        "colab_type": "code",
        "colab": {}
      },
      "source": [
        "def plot_roc_curve(fpr, tpr):\n",
        "    plt.plot(fpr, tpr, color='orange', label='ROC')\n",
        "    plt.plot([0, 1], [0, 1], color='darkblue', linestyle='--')\n",
        "    plt.xlabel('False Positive Rate')\n",
        "    plt.ylabel('True Positive Rate')\n",
        "    plt.title('Receiver Operating Characteristic (ROC) Curve')\n",
        "    plt.legend()\n",
        "    plt.show()"
      ],
      "execution_count": 0,
      "outputs": []
    },
    {
      "cell_type": "code",
      "metadata": {
        "id": "sV7MKL4StMwa",
        "colab_type": "code",
        "colab": {
          "base_uri": "https://localhost:8080/",
          "height": 34
        },
        "outputId": "4f8ef36d-ca41-4d9a-dc79-693816669438"
      },
      "source": [
        "auc = roc_auc_score(y_test, y_pred)\n",
        "auc"
      ],
      "execution_count": 44,
      "outputs": [
        {
          "output_type": "execute_result",
          "data": {
            "text/plain": [
              "0.9948854585586422"
            ]
          },
          "metadata": {
            "tags": []
          },
          "execution_count": 44
        }
      ]
    },
    {
      "cell_type": "code",
      "metadata": {
        "id": "dLbXNKDh8bVo",
        "colab_type": "code",
        "colab": {}
      },
      "source": [
        "fpr, tpr, thresholds = roc_curve(y_test, y_pred)"
      ],
      "execution_count": 0,
      "outputs": []
    },
    {
      "cell_type": "code",
      "metadata": {
        "id": "ZLRZi_LU8okr",
        "colab_type": "code",
        "colab": {
          "base_uri": "https://localhost:8080/",
          "height": 295
        },
        "outputId": "92c56d66-c255-45fa-b142-d8dfa46be30a"
      },
      "source": [
        "plot_roc_curve(fpr, tpr)"
      ],
      "execution_count": 46,
      "outputs": [
        {
          "output_type": "display_data",
          "data": {
            "image/png": "[encoded data removed]",
            "text/plain": [
              "<Figure size 432x288 with 1 Axes>"
            ]
          },
          "metadata": {
            "tags": [],
            "needs_background": "light"
          }
        }
      ]
    },
    {
      "cell_type": "code",
      "metadata": {
        "id": "E5zig0XK8qdq",
        "colab_type": "code",
        "colab": {}
      },
      "source": [
        ""
      ],
      "execution_count": 0,
      "outputs": []
    }
  ]
}