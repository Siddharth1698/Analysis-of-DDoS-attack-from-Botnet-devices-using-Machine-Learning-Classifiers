{
  "nbformat": 4,
  "nbformat_minor": 0,
  "metadata": {
    "colab": {
      "name": "MachineLearningCLassification.ipynb",
      "provenance": [],
      "collapsed_sections": []
    },
    "kernelspec": {
      "name": "python3",
      "display_name": "Python 3"
    }
  },
  "cells": [
    {
      "cell_type": "code",
      "metadata": {
        "id": "qr2UdY33jeUQ",
        "colab_type": "code",
        "outputId": "067623f2-6e7e-46d3-a548-47728b9f4d7c",
        "colab": {
          "base_uri": "https://localhost:8080/",
          "height": 923
        }
      },
      "source": [
        "pip install smote_variants"
      ],
      "execution_count": 1,
      "outputs": [
        {
          "output_type": "stream",
          "text": [
            "Requirement already satisfied: smote_variants in /usr/local/lib/python3.6/dist-packages (0.3.13)\n",
            "Requirement already satisfied: joblib in /usr/local/lib/python3.6/dist-packages (from smote_variants) (0.15.1)\n",
            "Requirement already satisfied: pandas in /usr/local/lib/python3.6/dist-packages (from smote_variants) (1.0.4)\n",
            "Requirement already satisfied: scikit-learn in /usr/local/lib/python3.6/dist-packages (from smote_variants) (0.22.2.post1)\n",
            "Requirement already satisfied: tensorflow in /usr/local/lib/python3.6/dist-packages (from smote_variants) (2.2.0)\n",
            "Requirement already satisfied: scipy in /usr/local/lib/python3.6/dist-packages (from smote_variants) (1.4.1)\n",
            "Requirement already satisfied: mkl in /usr/local/lib/python3.6/dist-packages (from smote_variants) (2019.0)\n",
            "Requirement already satisfied: numpy>=1.13.0 in /usr/local/lib/python3.6/dist-packages (from smote_variants) (1.18.4)\n",
            "Requirement already satisfied: keras in /usr/local/lib/python3.6/dist-packages (from smote_variants) (2.3.1)\n",
            "Requirement already satisfied: minisom in /usr/local/lib/python3.6/dist-packages (from smote_variants) (2.2.5)\n",
            "Requirement already satisfied: statistics in /usr/local/lib/python3.6/dist-packages (from smote_variants) (1.0.3.5)\n",
            "Requirement already satisfied: pytz>=2017.2 in /usr/local/lib/python3.6/dist-packages (from pandas->smote_variants) (2018.9)\n",
            "Requirement already satisfied: python-dateutil>=2.6.1 in /usr/local/lib/python3.6/dist-packages (from pandas->smote_variants) (2.8.1)\n",
            "Requirement already satisfied: keras-preprocessing>=1.1.0 in /usr/local/lib/python3.6/dist-packages (from tensorflow->smote_variants) (1.1.2)\n",
            "Requirement already satisfied: astunparse==1.6.3 in /usr/local/lib/python3.6/dist-packages (from tensorflow->smote_variants) (1.6.3)\n",
            "Requirement already satisfied: google-pasta>=0.1.8 in /usr/local/lib/python3.6/dist-packages (from tensorflow->smote_variants) (0.2.0)\n",
            "Requirement already satisfied: opt-einsum>=2.3.2 in /usr/local/lib/python3.6/dist-packages (from tensorflow->smote_variants) (3.2.1)\n",
            "Requirement already satisfied: protobuf>=3.8.0 in /usr/local/lib/python3.6/dist-packages (from tensorflow->smote_variants) (3.10.0)\n",
            "Requirement already satisfied: h5py<2.11.0,>=2.10.0 in /usr/local/lib/python3.6/dist-packages (from tensorflow->smote_variants) (2.10.0)\n",
            "Requirement already satisfied: tensorflow-estimator<2.3.0,>=2.2.0 in /usr/local/lib/python3.6/dist-packages (from tensorflow->smote_variants) (2.2.0)\n",
            "Requirement already satisfied: grpcio>=1.8.6 in /usr/local/lib/python3.6/dist-packages (from tensorflow->smote_variants) (1.29.0)\n",
            "Requirement already satisfied: wheel>=0.26; python_version >= \"3\" in /usr/local/lib/python3.6/dist-packages (from tensorflow->smote_variants) (0.34.2)\n",
            "Requirement already satisfied: tensorboard<2.3.0,>=2.2.0 in /usr/local/lib/python3.6/dist-packages (from tensorflow->smote_variants) (2.2.2)\n",
            "Requirement already satisfied: gast==0.3.3 in /usr/local/lib/python3.6/dist-packages (from tensorflow->smote_variants) (0.3.3)\n",
            "Requirement already satisfied: termcolor>=1.1.0 in /usr/local/lib/python3.6/dist-packages (from tensorflow->smote_variants) (1.1.0)\n",
            "Requirement already satisfied: absl-py>=0.7.0 in /usr/local/lib/python3.6/dist-packages (from tensorflow->smote_variants) (0.9.0)\n",
            "Requirement already satisfied: six>=1.12.0 in /usr/local/lib/python3.6/dist-packages (from tensorflow->smote_variants) (1.12.0)\n",
            "Requirement already satisfied: wrapt>=1.11.1 in /usr/local/lib/python3.6/dist-packages (from tensorflow->smote_variants) (1.12.1)\n",
            "Requirement already satisfied: intel-openmp in /usr/local/lib/python3.6/dist-packages (from mkl->smote_variants) (2020.0.133)\n",
            "Requirement already satisfied: pyyaml in /usr/local/lib/python3.6/dist-packages (from keras->smote_variants) (3.13)\n",
            "Requirement already satisfied: keras-applications>=1.0.6 in /usr/local/lib/python3.6/dist-packages (from keras->smote_variants) (1.0.8)\n",
            "Requirement already satisfied: docutils>=0.3 in /usr/local/lib/python3.6/dist-packages (from statistics->smote_variants) (0.15.2)\n",
            "Requirement already satisfied: setuptools in /usr/local/lib/python3.6/dist-packages (from protobuf>=3.8.0->tensorflow->smote_variants) (47.1.1)\n",
            "Requirement already satisfied: google-auth-oauthlib<0.5,>=0.4.1 in /usr/local/lib/python3.6/dist-packages (from tensorboard<2.3.0,>=2.2.0->tensorflow->smote_variants) (0.4.1)\n",
            "Requirement already satisfied: markdown>=2.6.8 in /usr/local/lib/python3.6/dist-packages (from tensorboard<2.3.0,>=2.2.0->tensorflow->smote_variants) (3.2.2)\n",
            "Requirement already satisfied: tensorboard-plugin-wit>=1.6.0 in /usr/local/lib/python3.6/dist-packages (from tensorboard<2.3.0,>=2.2.0->tensorflow->smote_variants) (1.6.0.post3)\n",
            "Requirement already satisfied: requests<3,>=2.21.0 in /usr/local/lib/python3.6/dist-packages (from tensorboard<2.3.0,>=2.2.0->tensorflow->smote_variants) (2.23.0)\n",
            "Requirement already satisfied: werkzeug>=0.11.15 in /usr/local/lib/python3.6/dist-packages (from tensorboard<2.3.0,>=2.2.0->tensorflow->smote_variants) (1.0.1)\n",
            "Requirement already satisfied: google-auth<2,>=1.6.3 in /usr/local/lib/python3.6/dist-packages (from tensorboard<2.3.0,>=2.2.0->tensorflow->smote_variants) (1.7.2)\n",
            "Requirement already satisfied: requests-oauthlib>=0.7.0 in /usr/local/lib/python3.6/dist-packages (from google-auth-oauthlib<0.5,>=0.4.1->tensorboard<2.3.0,>=2.2.0->tensorflow->smote_variants) (1.3.0)\n",
            "Requirement already satisfied: importlib-metadata; python_version < \"3.8\" in /usr/local/lib/python3.6/dist-packages (from markdown>=2.6.8->tensorboard<2.3.0,>=2.2.0->tensorflow->smote_variants) (1.6.0)\n",
            "Requirement already satisfied: urllib3!=1.25.0,!=1.25.1,<1.26,>=1.21.1 in /usr/local/lib/python3.6/dist-packages (from requests<3,>=2.21.0->tensorboard<2.3.0,>=2.2.0->tensorflow->smote_variants) (1.24.3)\n",
            "Requirement already satisfied: idna<3,>=2.5 in /usr/local/lib/python3.6/dist-packages (from requests<3,>=2.21.0->tensorboard<2.3.0,>=2.2.0->tensorflow->smote_variants) (2.9)\n",
            "Requirement already satisfied: chardet<4,>=3.0.2 in /usr/local/lib/python3.6/dist-packages (from requests<3,>=2.21.0->tensorboard<2.3.0,>=2.2.0->tensorflow->smote_variants) (3.0.4)\n",
            "Requirement already satisfied: certifi>=2017.4.17 in /usr/local/lib/python3.6/dist-packages (from requests<3,>=2.21.0->tensorboard<2.3.0,>=2.2.0->tensorflow->smote_variants) (2020.4.5.1)\n",
            "Requirement already satisfied: cachetools<3.2,>=2.0.0 in /usr/local/lib/python3.6/dist-packages (from google-auth<2,>=1.6.3->tensorboard<2.3.0,>=2.2.0->tensorflow->smote_variants) (3.1.1)\n",
            "Requirement already satisfied: rsa<4.1,>=3.1.4 in /usr/local/lib/python3.6/dist-packages (from google-auth<2,>=1.6.3->tensorboard<2.3.0,>=2.2.0->tensorflow->smote_variants) (4.0)\n",
            "Requirement already satisfied: pyasn1-modules>=0.2.1 in /usr/local/lib/python3.6/dist-packages (from google-auth<2,>=1.6.3->tensorboard<2.3.0,>=2.2.0->tensorflow->smote_variants) (0.2.8)\n",
            "Requirement already satisfied: oauthlib>=3.0.0 in /usr/local/lib/python3.6/dist-packages (from requests-oauthlib>=0.7.0->google-auth-oauthlib<0.5,>=0.4.1->tensorboard<2.3.0,>=2.2.0->tensorflow->smote_variants) (3.1.0)\n",
            "Requirement already satisfied: zipp>=0.5 in /usr/local/lib/python3.6/dist-packages (from importlib-metadata; python_version < \"3.8\"->markdown>=2.6.8->tensorboard<2.3.0,>=2.2.0->tensorflow->smote_variants) (3.1.0)\n",
            "Requirement already satisfied: pyasn1>=0.1.3 in /usr/local/lib/python3.6/dist-packages (from rsa<4.1,>=3.1.4->google-auth<2,>=1.6.3->tensorboard<2.3.0,>=2.2.0->tensorflow->smote_variants) (0.4.8)\n"
          ],
          "name": "stdout"
        }
      ]
    },
    {
      "cell_type": "code",
      "metadata": {
        "id": "7czY2ZsRLL2q",
        "colab_type": "code",
        "outputId": "04b9f2fb-8e2d-4e74-a7c3-00c7d6e764cf",
        "colab": {
          "base_uri": "https://localhost:8080/",
          "height": 191
        }
      },
      "source": [
        "pip install imbalanced_databases"
      ],
      "execution_count": 2,
      "outputs": [
        {
          "output_type": "stream",
          "text": [
            "Requirement already satisfied: imbalanced_databases in /usr/local/lib/python3.6/dist-packages (0.1.1)\n",
            "Requirement already satisfied: sklearn in /usr/local/lib/python3.6/dist-packages (from imbalanced_databases) (0.0)\n",
            "Requirement already satisfied: scipy in /usr/local/lib/python3.6/dist-packages (from imbalanced_databases) (1.4.1)\n",
            "Requirement already satisfied: pandas in /usr/local/lib/python3.6/dist-packages (from imbalanced_databases) (1.0.4)\n",
            "Requirement already satisfied: numpy in /usr/local/lib/python3.6/dist-packages (from imbalanced_databases) (1.18.4)\n",
            "Requirement already satisfied: scikit-learn in /usr/local/lib/python3.6/dist-packages (from sklearn->imbalanced_databases) (0.22.2.post1)\n",
            "Requirement already satisfied: pytz>=2017.2 in /usr/local/lib/python3.6/dist-packages (from pandas->imbalanced_databases) (2018.9)\n",
            "Requirement already satisfied: python-dateutil>=2.6.1 in /usr/local/lib/python3.6/dist-packages (from pandas->imbalanced_databases) (2.8.1)\n",
            "Requirement already satisfied: joblib>=0.11 in /usr/local/lib/python3.6/dist-packages (from scikit-learn->sklearn->imbalanced_databases) (0.15.1)\n",
            "Requirement already satisfied: six>=1.5 in /usr/local/lib/python3.6/dist-packages (from python-dateutil>=2.6.1->pandas->imbalanced_databases) (1.12.0)\n"
          ],
          "name": "stdout"
        }
      ]
    },
    {
      "cell_type": "code",
      "metadata": {
        "id": "b4FUTDEnT0qp",
        "colab_type": "code",
        "outputId": "7f7cb1ac-bceb-4b6f-ed36-3bfe1102c954",
        "colab": {
          "base_uri": "https://localhost:8080/",
          "height": 104
        }
      },
      "source": [
        "pip install imbalanced-learn"
      ],
      "execution_count": 3,
      "outputs": [
        {
          "output_type": "stream",
          "text": [
            "Requirement already satisfied: imbalanced-learn in /usr/local/lib/python3.6/dist-packages (0.4.3)\n",
            "Requirement already satisfied: scikit-learn>=0.20 in /usr/local/lib/python3.6/dist-packages (from imbalanced-learn) (0.22.2.post1)\n",
            "Requirement already satisfied: numpy>=1.8.2 in /usr/local/lib/python3.6/dist-packages (from imbalanced-learn) (1.18.4)\n",
            "Requirement already satisfied: scipy>=0.13.3 in /usr/local/lib/python3.6/dist-packages (from imbalanced-learn) (1.4.1)\n",
            "Requirement already satisfied: joblib>=0.11 in /usr/local/lib/python3.6/dist-packages (from scikit-learn>=0.20->imbalanced-learn) (0.15.1)\n"
          ],
          "name": "stdout"
        }
      ]
    },
    {
      "cell_type": "code",
      "metadata": {
        "id": "JnKWN9B2LHP4",
        "colab_type": "code",
        "outputId": "4aa45710-ba59-4375-e38f-ea76c707a3bf",
        "colab": {
          "base_uri": "https://localhost:8080/",
          "height": 106
        }
      },
      "source": [
        "import smote_variants as sv\n",
        "import pandas  as pd\n",
        "import matplotlib.pyplot as plt\n",
        "import numpy as np\n",
        "import imbalanced_databases as imbd\n",
        "from sklearn import metrics\n",
        "from sklearn.datasets import load_wine\n",
        "from sklearn.metrics import roc_curve, auc, roc_auc_score\n",
        "from sklearn.metrics import confusion_matrix\n",
        "from sklearn import metrics\n",
        "from sklearn.metrics import plot_roc_curve\n",
        "from imblearn.over_sampling import SMOTE\n",
        "\n",
        "%matplotlib inline\n",
        "from sklearn.model_selection import train_test_split"
      ],
      "execution_count": 4,
      "outputs": [
        {
          "output_type": "stream",
          "text": [
            "/usr/local/lib/python3.6/dist-packages/sklearn/externals/six.py:31: FutureWarning: The module is deprecated in version 0.21 and will be removed in version 0.23 since we've dropped support for Python 2.7. Please rely on the official version of six (https://pypi.org/project/six/).\n",
            "  \"(https://pypi.org/project/six/).\", FutureWarning)\n",
            "/usr/local/lib/python3.6/dist-packages/sklearn/utils/deprecation.py:144: FutureWarning: The sklearn.neighbors.base module is  deprecated in version 0.22 and will be removed in version 0.24. The corresponding classes / functions should instead be imported from sklearn.neighbors. Anything that cannot be imported from sklearn.neighbors is now part of the private API.\n",
            "  warnings.warn(message, FutureWarning)\n"
          ],
          "name": "stderr"
        }
      ]
    },
    {
      "cell_type": "code",
      "metadata": {
        "id": "K6gyDfH5PcxL",
        "colab_type": "code",
        "outputId": "a3aa8059-3137-41cc-8971-cd751777b679",
        "colab": {
          "base_uri": "https://localhost:8080/",
          "height": 34
        }
      },
      "source": [
        "from google.colab import drive\n",
        "drive.mount('/content/drive')"
      ],
      "execution_count": 5,
      "outputs": [
        {
          "output_type": "stream",
          "text": [
            "Drive already mounted at /content/drive; to attempt to forcibly remount, call drive.mount(\"/content/drive\", force_remount=True).\n"
          ],
          "name": "stdout"
        }
      ]
    },
    {
      "cell_type": "code",
      "metadata": {
        "id": "5i6xdA4nJ_Me",
        "colab_type": "code",
        "colab": {}
      },
      "source": [
        "df_train = pd.read_csv('/content/drive/My Drive/Major Project Works/dataset/ml_dataset.csv')"
      ],
      "execution_count": 0,
      "outputs": []
    },
    {
      "cell_type": "code",
      "metadata": {
        "id": "rL13VhV0kb78",
        "colab_type": "code",
        "colab": {}
      },
      "source": [
        "df = df_train.copy()\n",
        "df.drop(['Unnamed: 0'],inplace=True,axis=1)"
      ],
      "execution_count": 0,
      "outputs": []
    },
    {
      "cell_type": "code",
      "metadata": {
        "id": "32fIeDsCDP1T",
        "colab_type": "code",
        "colab": {}
      },
      "source": [
        "#df_attack = df[df['attack'] == 1]"
      ],
      "execution_count": 0,
      "outputs": []
    },
    {
      "cell_type": "code",
      "metadata": {
        "id": "7u0uBOUmDP4F",
        "colab_type": "code",
        "colab": {}
      },
      "source": [
        "#df_normal = df[df['attack'] == 0]"
      ],
      "execution_count": 0,
      "outputs": []
    },
    {
      "cell_type": "code",
      "metadata": {
        "id": "IQdKY-srDP7e",
        "colab_type": "code",
        "colab": {}
      },
      "source": [
        "#df_attack = df_attack.sample(n=500000)"
      ],
      "execution_count": 0,
      "outputs": []
    },
    {
      "cell_type": "code",
      "metadata": {
        "id": "udpo_fYYDP92",
        "colab_type": "code",
        "colab": {}
      },
      "source": [
        "#df = df_normal.append(df_attack, ignore_index=True, sort=False)"
      ],
      "execution_count": 0,
      "outputs": []
    },
    {
      "cell_type": "markdown",
      "metadata": {
        "id": "j8XjHHFUbd4t",
        "colab_type": "text"
      },
      "source": [
        ""
      ]
    },
    {
      "cell_type": "code",
      "metadata": {
        "id": "ILzX8RoAJ6vd",
        "colab_type": "code",
        "outputId": "2d25b5da-dcc2-4ff7-9d0a-d6a58cecdee7",
        "colab": {
          "base_uri": "https://localhost:8080/",
          "height": 226
        }
      },
      "source": [
        "df.head()"
      ],
      "execution_count": 12,
      "outputs": [
        {
          "output_type": "execute_result",
          "data": {
            "text/html": [
              "<div>\n",
              "<style scoped>\n",
              "    .dataframe tbody tr th:only-of-type {\n",
              "        vertical-align: middle;\n",
              "    }\n",
              "\n",
              "    .dataframe tbody tr th {\n",
              "        vertical-align: top;\n",
              "    }\n",
              "\n",
              "    .dataframe thead th {\n",
              "        text-align: right;\n",
              "    }\n",
              "</style>\n",
              "<table border=\"1\" class=\"dataframe\">\n",
              "  <thead>\n",
              "    <tr style=\"text-align: right;\">\n",
              "      <th></th>\n",
              "      <th>pkts</th>\n",
              "      <th>bytes</th>\n",
              "      <th>dur</th>\n",
              "      <th>average_dur</th>\n",
              "      <th>stddev_dur</th>\n",
              "      <th>total_dur</th>\n",
              "      <th>min_dur</th>\n",
              "      <th>max_dur</th>\n",
              "      <th>spkts</th>\n",
              "      <th>dpkts</th>\n",
              "      <th>sbytes</th>\n",
              "      <th>dbytes</th>\n",
              "      <th>rate</th>\n",
              "      <th>srate</th>\n",
              "      <th>drate</th>\n",
              "      <th>TnBPSrcIP</th>\n",
              "      <th>TnBPDstIP</th>\n",
              "      <th>TnP_PSrcIP</th>\n",
              "      <th>TnP_PDstIP</th>\n",
              "      <th>TnP_PerProto</th>\n",
              "      <th>TnP_Per_Dport</th>\n",
              "      <th>AR_P_Proto_P_SrcIP</th>\n",
              "      <th>AR_P_Proto_P_DstIP</th>\n",
              "      <th>N_IN_Conn_P_DstIP</th>\n",
              "      <th>N_IN_Conn_P_SrcIP</th>\n",
              "      <th>AR_P_Proto_P_Sport</th>\n",
              "      <th>AR_P_Proto_P_Dport</th>\n",
              "      <th>Pkts_P_State_P_Protocol_P_DestIP</th>\n",
              "      <th>Pkts_P_State_P_Protocol_P_SrcIP</th>\n",
              "      <th>attack</th>\n",
              "    </tr>\n",
              "  </thead>\n",
              "  <tbody>\n",
              "    <tr>\n",
              "      <th>0</th>\n",
              "      <td>10</td>\n",
              "      <td>1729</td>\n",
              "      <td>6.406424</td>\n",
              "      <td>0.679473</td>\n",
              "      <td>0.544126</td>\n",
              "      <td>1.358946</td>\n",
              "      <td>0.135347</td>\n",
              "      <td>1.223599</td>\n",
              "      <td>6</td>\n",
              "      <td>4</td>\n",
              "      <td>963</td>\n",
              "      <td>766</td>\n",
              "      <td>1.404840</td>\n",
              "      <td>0.780467</td>\n",
              "      <td>0.468280</td>\n",
              "      <td>56864</td>\n",
              "      <td>59969</td>\n",
              "      <td>308</td>\n",
              "      <td>328</td>\n",
              "      <td>328</td>\n",
              "      <td>700</td>\n",
              "      <td>1.26889</td>\n",
              "      <td>1.21662</td>\n",
              "      <td>40</td>\n",
              "      <td>38</td>\n",
              "      <td>1.56093</td>\n",
              "      <td>1.21662</td>\n",
              "      <td>328</td>\n",
              "      <td>308</td>\n",
              "      <td>1</td>\n",
              "    </tr>\n",
              "    <tr>\n",
              "      <th>1</th>\n",
              "      <td>10</td>\n",
              "      <td>1604</td>\n",
              "      <td>6.405851</td>\n",
              "      <td>0.679572</td>\n",
              "      <td>0.544197</td>\n",
              "      <td>1.359144</td>\n",
              "      <td>0.135375</td>\n",
              "      <td>1.223769</td>\n",
              "      <td>6</td>\n",
              "      <td>4</td>\n",
              "      <td>838</td>\n",
              "      <td>766</td>\n",
              "      <td>1.404966</td>\n",
              "      <td>0.780536</td>\n",
              "      <td>0.468322</td>\n",
              "      <td>56864</td>\n",
              "      <td>59969</td>\n",
              "      <td>308</td>\n",
              "      <td>328</td>\n",
              "      <td>328</td>\n",
              "      <td>700</td>\n",
              "      <td>1.26889</td>\n",
              "      <td>1.21662</td>\n",
              "      <td>40</td>\n",
              "      <td>38</td>\n",
              "      <td>1.56107</td>\n",
              "      <td>1.21662</td>\n",
              "      <td>328</td>\n",
              "      <td>308</td>\n",
              "      <td>1</td>\n",
              "    </tr>\n",
              "    <tr>\n",
              "      <th>2</th>\n",
              "      <td>8</td>\n",
              "      <td>1708</td>\n",
              "      <td>6.401038</td>\n",
              "      <td>1.110847</td>\n",
              "      <td>1.110847</td>\n",
              "      <td>2.221694</td>\n",
              "      <td>0.000000</td>\n",
              "      <td>2.221694</td>\n",
              "      <td>5</td>\n",
              "      <td>3</td>\n",
              "      <td>1008</td>\n",
              "      <td>700</td>\n",
              "      <td>1.093573</td>\n",
              "      <td>0.624899</td>\n",
              "      <td>0.900214</td>\n",
              "      <td>56864</td>\n",
              "      <td>59969</td>\n",
              "      <td>308</td>\n",
              "      <td>328</td>\n",
              "      <td>328</td>\n",
              "      <td>700</td>\n",
              "      <td>1.26889</td>\n",
              "      <td>1.21662</td>\n",
              "      <td>40</td>\n",
              "      <td>38</td>\n",
              "      <td>1.24980</td>\n",
              "      <td>1.21662</td>\n",
              "      <td>328</td>\n",
              "      <td>308</td>\n",
              "      <td>1</td>\n",
              "    </tr>\n",
              "    <tr>\n",
              "      <th>3</th>\n",
              "      <td>8</td>\n",
              "      <td>1462</td>\n",
              "      <td>6.400703</td>\n",
              "      <td>1.113328</td>\n",
              "      <td>1.113328</td>\n",
              "      <td>2.226655</td>\n",
              "      <td>0.000000</td>\n",
              "      <td>2.226655</td>\n",
              "      <td>5</td>\n",
              "      <td>3</td>\n",
              "      <td>762</td>\n",
              "      <td>700</td>\n",
              "      <td>1.093630</td>\n",
              "      <td>0.624931</td>\n",
              "      <td>0.898208</td>\n",
              "      <td>56864</td>\n",
              "      <td>59969</td>\n",
              "      <td>308</td>\n",
              "      <td>328</td>\n",
              "      <td>328</td>\n",
              "      <td>700</td>\n",
              "      <td>1.26889</td>\n",
              "      <td>1.21662</td>\n",
              "      <td>40</td>\n",
              "      <td>38</td>\n",
              "      <td>1.24986</td>\n",
              "      <td>1.21662</td>\n",
              "      <td>328</td>\n",
              "      <td>308</td>\n",
              "      <td>1</td>\n",
              "    </tr>\n",
              "    <tr>\n",
              "      <th>4</th>\n",
              "      <td>8</td>\n",
              "      <td>1296</td>\n",
              "      <td>6.400472</td>\n",
              "      <td>1.113098</td>\n",
              "      <td>1.113098</td>\n",
              "      <td>2.226195</td>\n",
              "      <td>0.000000</td>\n",
              "      <td>2.226195</td>\n",
              "      <td>5</td>\n",
              "      <td>3</td>\n",
              "      <td>596</td>\n",
              "      <td>700</td>\n",
              "      <td>1.093669</td>\n",
              "      <td>0.624954</td>\n",
              "      <td>0.898394</td>\n",
              "      <td>56864</td>\n",
              "      <td>59969</td>\n",
              "      <td>308</td>\n",
              "      <td>328</td>\n",
              "      <td>328</td>\n",
              "      <td>700</td>\n",
              "      <td>1.26889</td>\n",
              "      <td>1.21662</td>\n",
              "      <td>40</td>\n",
              "      <td>38</td>\n",
              "      <td>1.24991</td>\n",
              "      <td>1.21662</td>\n",
              "      <td>328</td>\n",
              "      <td>308</td>\n",
              "      <td>1</td>\n",
              "    </tr>\n",
              "  </tbody>\n",
              "</table>\n",
              "</div>"
            ],
            "text/plain": [
              "   pkts  bytes  ...  Pkts_P_State_P_Protocol_P_SrcIP  attack\n",
              "0    10   1729  ...                              308       1\n",
              "1    10   1604  ...                              308       1\n",
              "2     8   1708  ...                              308       1\n",
              "3     8   1462  ...                              308       1\n",
              "4     8   1296  ...                              308       1\n",
              "\n",
              "[5 rows x 30 columns]"
            ]
          },
          "metadata": {
            "tags": []
          },
          "execution_count": 12
        }
      ]
    },
    {
      "cell_type": "code",
      "metadata": {
        "id": "gq1OUFUMmbxT",
        "colab_type": "code",
        "outputId": "b3c39210-7e47-487b-b487-caa9ca4e23c5",
        "colab": {
          "base_uri": "https://localhost:8080/",
          "height": 344
        }
      },
      "source": [
        "pd.value_counts(df['attack']).plot.bar()\n",
        "plt.title('Attack histogram')\n",
        "plt.xlabel('attack')\n",
        "plt.ylabel('Value')\n",
        "df['attack'].value_counts()"
      ],
      "execution_count": 13,
      "outputs": [
        {
          "output_type": "execute_result",
          "data": {
            "text/plain": [
              "1    1926624\n",
              "0        477\n",
              "Name: attack, dtype: int64"
            ]
          },
          "metadata": {
            "tags": []
          },
          "execution_count": 13
        },
        {
          "output_type": "display_data",
          "data": {
            "image/png": "[encoded data removed]",
            "text/plain": [
              "<Figure size 432x288 with 1 Axes>"
            ]
          },
          "metadata": {
            "tags": [],
            "needs_background": "light"
          }
        }
      ]
    },
    {
      "cell_type": "code",
      "metadata": {
        "id": "qD0Yxvv2qQGR",
        "colab_type": "code",
        "colab": {}
      },
      "source": [
        "def plot_roc_curve(fpr, tpr):\n",
        "    plt.plot(fpr, tpr, color='orange', label='ROC')\n",
        "    plt.plot([0, 1], [0, 1], color='darkblue', linestyle='--')\n",
        "    plt.xlabel('False Positive Rate')\n",
        "    plt.ylabel('True Positive Rate')\n",
        "    plt.title('Receiver Operating Characteristic (ROC) Curve')\n",
        "    plt.legend()\n",
        "    plt.show()\n",
        "    \n",
        "def classif_results(): \n",
        "  conf_mat = confusion_matrix(y_true=y_test, y_pred=y_pred)\n",
        "  print('Confusion matrix:\\n', conf_mat)\n",
        "\n",
        "  labels = ['Class 0', 'Class 1']\n",
        "  fig = plt.figure()\n",
        "  ax = fig.add_subplot(111)\n",
        "  cax = ax.matshow(conf_mat, cmap=plt.cm.Blues)\n",
        "  fig.colorbar(cax)\n",
        "  ax.set_xticklabels([''] + labels)\n",
        "  ax.set_yticklabels([''] + labels)\n",
        "  plt.xlabel('Predicted')\n",
        "  plt.ylabel('Expected')\n",
        "  plt.show()\n",
        "\n",
        "  print(\"Accuracy\", metrics.accuracy_score(y_test, y_pred))\n",
        "\n",
        "  from sklearn.metrics import classification_report\n",
        "  print(classification_report(y_test, y_pred))\n",
        "\n",
        "  auc = roc_auc_score(y_test, y_pred)\n",
        "  print(\"AUC Score: \")\n",
        "  print(auc)\n",
        "\n",
        "  fpr, tpr, thresholds = roc_curve(y_test, y_pred)\n",
        "  plot_roc_curve(fpr, tpr)\n",
        "\n",
        "\n",
        "def test_scale():\n",
        "  from sklearn.model_selection import train_test_split\n",
        "  X_train, X_test, y_train, y_test = train_test_split(X, y, test_size = 0.4, random_state = 0)\n",
        "\n",
        "  from sklearn.preprocessing import StandardScaler\n",
        "  sc_X = StandardScaler()\n",
        "  X_train = sc_X.fit_transform(X_train)\n",
        "  X_test = sc_X.transform(X_test)"
      ],
      "execution_count": 0,
      "outputs": []
    },
    {
      "cell_type": "code",
      "metadata": {
        "id": "4I_gzBXwBJTp",
        "colab_type": "code",
        "outputId": "86841c67-4987-42c2-e971-e90bc66ce8f2",
        "colab": {
          "base_uri": "https://localhost:8080/",
          "height": 106
        }
      },
      "source": [
        "X = df.iloc[:, df.columns != 'attack']\n",
        "y = df.iloc[:, df.columns == 'attack']\n",
        "X, y = SMOTE().fit_sample(X, y)"
      ],
      "execution_count": 15,
      "outputs": [
        {
          "output_type": "stream",
          "text": [
            "/usr/local/lib/python3.6/dist-packages/sklearn/utils/validation.py:760: DataConversionWarning: A column-vector y was passed when a 1d array was expected. Please change the shape of y to (n_samples, ), for example using ravel().\n",
            "  y = column_or_1d(y, warn=True)\n",
            "/usr/local/lib/python3.6/dist-packages/sklearn/utils/deprecation.py:87: FutureWarning: Function safe_indexing is deprecated; safe_indexing is deprecated in version 0.22 and will be removed in version 0.24.\n",
            "  warnings.warn(msg, category=FutureWarning)\n"
          ],
          "name": "stderr"
        }
      ]
    },
    {
      "cell_type": "markdown",
      "metadata": {
        "id": "WaBPuri0Sk4O",
        "colab_type": "text"
      },
      "source": [
        "**Logistic Regression**"
      ]
    },
    {
      "cell_type": "code",
      "metadata": {
        "id": "ZCxyQRcQNnbB",
        "colab_type": "code",
        "colab": {}
      },
      "source": [
        "test_scale()\n",
        "\n",
        "from sklearn.linear_model import LogisticRegression \n",
        "classifier = LogisticRegression(random_state = 0)\n",
        "classifier.fit(X_train,y_train)\n",
        "\n",
        "y_pred = classifier.predict(X_test)\n",
        "\n"
      ],
      "execution_count": 0,
      "outputs": []
    },
    {
      "cell_type": "code",
      "metadata": {
        "id": "zq3cY5zdNAij",
        "colab_type": "code",
        "outputId": "f08d254d-6b14-4411-b429-82b029d00faf",
        "colab": {
          "base_uri": "https://localhost:8080/",
          "height": 818
        }
      },
      "source": [
        "classif_results()"
      ],
      "execution_count": 17,
      "outputs": [
        {
          "output_type": "stream",
          "text": [
            "Confusion matrix:\n",
            " [[771574      0]\n",
            " [    91 769635]]\n"
          ],
          "name": "stdout"
        },
        {
          "output_type": "display_data",
          "data": {
            "image/png": "[encoded data removed]",
            "text/plain": [
              "<Figure size 432x288 with 2 Axes>"
            ]
          },
          "metadata": {
            "tags": [],
            "needs_background": "light"
          }
        },
        {
          "output_type": "stream",
          "text": [
            "Accuracy 0.9999409589307727\n",
            "              precision    recall  f1-score   support\n",
            "\n",
            "           0       1.00      1.00      1.00    771574\n",
            "           1       1.00      1.00      1.00    769726\n",
            "\n",
            "    accuracy                           1.00   1541300\n",
            "   macro avg       1.00      1.00      1.00   1541300\n",
            "weighted avg       1.00      1.00      1.00   1541300\n",
            "\n",
            "AUC Score: \n",
            "0.9999408880562694\n"
          ],
          "name": "stdout"
        },
        {
          "output_type": "display_data",
          "data": {
            "image/png": "[encoded data removed]",
            "text/plain": [
              "<Figure size 432x288 with 1 Axes>"
            ]
          },
          "metadata": {
            "tags": [],
            "needs_background": "light"
          }
        }
      ]
    },
    {
      "cell_type": "code",
      "metadata": {
        "id": "1_oX5TSiZlYN",
        "colab_type": "code",
        "colab": {}
      },
      "source": [
        ""
      ],
      "execution_count": 0,
      "outputs": []
    },
    {
      "cell_type": "markdown",
      "metadata": {
        "id": "XgAdLKxwYz4a",
        "colab_type": "text"
      },
      "source": [
        "**Decision Trees**"
      ]
    },
    {
      "cell_type": "code",
      "metadata": {
        "id": "u8Eq9ptJY17w",
        "colab_type": "code",
        "colab": {}
      },
      "source": [
        "test_scale()\n",
        "\n",
        "classifier = DecisionTreeClassifier(criterion=\"entropy\", max_depth=3)\n",
        "classifier.fit(X_train,y_train)\n",
        "\n",
        "y_pred = classifier.predict(X_test)\n",
        "\n"
      ],
      "execution_count": 0,
      "outputs": []
    },
    {
      "cell_type": "code",
      "metadata": {
        "id": "mc1cZCHAY1-0",
        "colab_type": "code",
        "outputId": "fdcd93aa-7ad1-424e-8c5f-d784ab797d16",
        "colab": {
          "base_uri": "https://localhost:8080/",
          "height": 818
        }
      },
      "source": [
        "classif_results()"
      ],
      "execution_count": 19,
      "outputs": [
        {
          "output_type": "stream",
          "text": [
            "Confusion matrix:\n",
            " [[771574      0]\n",
            " [   227 769499]]\n"
          ],
          "name": "stdout"
        },
        {
          "output_type": "display_data",
          "data": {
            "image/png": "[encoded data removed]",
            "text/plain": [
              "<Figure size 432x288 with 2 Axes>"
            ]
          },
          "metadata": {
            "tags": [],
            "needs_background": "light"
          }
        },
        {
          "output_type": "stream",
          "text": [
            "Accuracy 0.9998527217284111\n",
            "              precision    recall  f1-score   support\n",
            "\n",
            "           0       1.00      1.00      1.00    771574\n",
            "           1       1.00      1.00      1.00    769726\n",
            "\n",
            "    accuracy                           1.00   1541300\n",
            "   macro avg       1.00      1.00      1.00   1541300\n",
            "weighted avg       1.00      1.00      1.00   1541300\n",
            "\n",
            "AUC Score: \n",
            "0.999852544931573\n"
          ],
          "name": "stdout"
        },
        {
          "output_type": "display_data",
          "data": {
            "image/png": "[encoded data removed]",
            "text/plain": [
              "<Figure size 432x288 with 1 Axes>"
            ]
          },
          "metadata": {
            "tags": [],
            "needs_background": "light"
          }
        }
      ]
    },
    {
      "cell_type": "code",
      "metadata": {
        "id": "4U1rSQSJY2Bq",
        "colab_type": "code",
        "colab": {}
      },
      "source": [
        ""
      ],
      "execution_count": 0,
      "outputs": []
    },
    {
      "cell_type": "markdown",
      "metadata": {
        "id": "F7eoKyO8gvU0",
        "colab_type": "text"
      },
      "source": [
        "**Random Forest:**"
      ]
    },
    {
      "cell_type": "code",
      "metadata": {
        "id": "v0xYdJZGgugZ",
        "colab_type": "code",
        "colab": {}
      },
      "source": [
        "test_scale()\n",
        "\n",
        "# Fitting SVM to the Training set\n",
        "     \n",
        "\n",
        "from sklearn.ensemble import RandomForestClassifier\n",
        "classifier = RandomForestClassifier(n_estimators=100)\n",
        "classifier.fit(X_train, y_train)\n",
        "\n",
        "\n",
        "y_pred = classifier.predict(X_test)"
      ],
      "execution_count": 0,
      "outputs": []
    },
    {
      "cell_type": "code",
      "metadata": {
        "id": "SxnUXQK6gulj",
        "colab_type": "code",
        "colab": {
          "base_uri": "https://localhost:8080/",
          "height": 818
        },
        "outputId": "23bd111b-4154-400d-ce8c-fa417fe4bbe8"
      },
      "source": [
        "classif_results()"
      ],
      "execution_count": 25,
      "outputs": [
        {
          "output_type": "stream",
          "text": [
            "Confusion matrix:\n",
            " [[771574      0]\n",
            " [     0 769726]]\n"
          ],
          "name": "stdout"
        },
        {
          "output_type": "display_data",
          "data": {
            "image/png": "[encoded data removed]",
            "text/plain": [
              "<Figure size 432x288 with 2 Axes>"
            ]
          },
          "metadata": {
            "tags": [],
            "needs_background": "light"
          }
        },
        {
          "output_type": "stream",
          "text": [
            "Accuracy 1.0\n",
            "              precision    recall  f1-score   support\n",
            "\n",
            "           0       1.00      1.00      1.00    771574\n",
            "           1       1.00      1.00      1.00    769726\n",
            "\n",
            "    accuracy                           1.00   1541300\n",
            "   macro avg       1.00      1.00      1.00   1541300\n",
            "weighted avg       1.00      1.00      1.00   1541300\n",
            "\n",
            "AUC Score: \n",
            "1.0\n"
          ],
          "name": "stdout"
        },
        {
          "output_type": "display_data",
          "data": {
            "image/png": "[encoded data removed]",
            "text/plain": [
              "<Figure size 432x288 with 1 Axes>"
            ]
          },
          "metadata": {
            "tags": [],
            "needs_background": "light"
          }
        }
      ]
    },
    {
      "cell_type": "code",
      "metadata": {
        "id": "Q7-wWafQguo8",
        "colab_type": "code",
        "colab": {}
      },
      "source": [
        ""
      ],
      "execution_count": 0,
      "outputs": []
    },
    {
      "cell_type": "markdown",
      "metadata": {
        "id": "k3RQYB8WSSSY",
        "colab_type": "text"
      },
      "source": [
        "**KNN**"
      ]
    },
    {
      "cell_type": "code",
      "metadata": {
        "id": "uJNUH0aVSd4P",
        "colab_type": "code",
        "colab": {}
      },
      "source": [
        "test_scale()\n",
        "\n",
        "\n",
        "from sklearn.neighbors import KNeighborsClassifier\n",
        "classifier = KNeighborsClassifier(n_neighbors=5,metric='minkowski',p=2)\n",
        "classifier.fit(X_train,y_train)\n",
        "\n",
        "y_pred = classifier.predict(X_test)\n",
        "\n",
        "from sklearn.metrics import confusion_matrix\n",
        "cm = confusion_matrix(y_test,y_pred)"
      ],
      "execution_count": 0,
      "outputs": []
    },
    {
      "cell_type": "code",
      "metadata": {
        "id": "UPjbK4lIV__f",
        "colab_type": "code",
        "colab": {
          "base_uri": "https://localhost:8080/",
          "height": 818
        },
        "outputId": "3cbafea0-17dd-4a92-ec13-67a15583dd17"
      },
      "source": [
        "classif_results()"
      ],
      "execution_count": 21,
      "outputs": [
        {
          "output_type": "stream",
          "text": [
            "Confusion matrix:\n",
            " [[771574      0]\n",
            " [     3 769723]]\n"
          ],
          "name": "stdout"
        },
        {
          "output_type": "display_data",
          "data": {
            "image/png": "[encoded data removed]",
            "text/plain": [
              "<Figure size 432x288 with 2 Axes>"
            ]
          },
          "metadata": {
            "tags": [],
            "needs_background": "light"
          }
        },
        {
          "output_type": "stream",
          "text": [
            "Accuracy 0.9999980535911244\n",
            "              precision    recall  f1-score   support\n",
            "\n",
            "           0       1.00      1.00      1.00    771574\n",
            "           1       1.00      1.00      1.00    769726\n",
            "\n",
            "    accuracy                           1.00   1541300\n",
            "   macro avg       1.00      1.00      1.00   1541300\n",
            "weighted avg       1.00      1.00      1.00   1541300\n",
            "\n",
            "AUC Score: \n",
            "0.9999980512546023\n"
          ],
          "name": "stdout"
        },
        {
          "output_type": "display_data",
          "data": {
            "image/png": "[encoded data removed]",
            "text/plain": [
              "<Figure size 432x288 with 1 Axes>"
            ]
          },
          "metadata": {
            "tags": [],
            "needs_background": "light"
          }
        }
      ]
    },
    {
      "cell_type": "code",
      "metadata": {
        "id": "RtcmLQ1rVewF",
        "colab_type": "code",
        "colab": {}
      },
      "source": [
        ""
      ],
      "execution_count": 0,
      "outputs": []
    },
    {
      "cell_type": "markdown",
      "metadata": {
        "id": "Q802V5OiXG8F",
        "colab_type": "text"
      },
      "source": [
        "**Support Vector Machines:**"
      ]
    },
    {
      "cell_type": "code",
      "metadata": {
        "id": "dZB9pl0bVwwU",
        "colab_type": "code",
        "colab": {}
      },
      "source": [
        "test_scale()\n",
        "\n",
        "# Fitting SVM to the Training set\n",
        "from sklearn.svm import SVC\n",
        "classifier = SVC(kernel = 'linear', random_state = 0)\n",
        "classifier.fit(X_train, y_train)\n",
        "\n",
        "\n",
        "y_pred = classifier.predict(X_test)\n",
        "\n",
        "from sklearn.metrics import confusion_matrix\n",
        "cm = confusion_matrix(y_test,y_pred)"
      ],
      "execution_count": 0,
      "outputs": []
    },
    {
      "cell_type": "code",
      "metadata": {
        "id": "rBko4G0GXaw7",
        "colab_type": "code",
        "colab": {
          "base_uri": "https://localhost:8080/",
          "height": 818
        },
        "outputId": "00adbfea-3981-4194-8145-1f4bedf21f99"
      },
      "source": [
        "classif_results()"
      ],
      "execution_count": 23,
      "outputs": [
        {
          "output_type": "stream",
          "text": [
            "Confusion matrix:\n",
            " [[771574      0]\n",
            " [    13 769713]]\n"
          ],
          "name": "stdout"
        },
        {
          "output_type": "display_data",
          "data": {
            "image/png": "[encoded data removed]",
            "text/plain": [
              "<Figure size 432x288 with 2 Axes>"
            ]
          },
          "metadata": {
            "tags": [],
            "needs_background": "light"
          }
        },
        {
          "output_type": "stream",
          "text": [
            "Accuracy 0.999991565561539\n",
            "              precision    recall  f1-score   support\n",
            "\n",
            "           0       1.00      1.00      1.00    771574\n",
            "           1       1.00      1.00      1.00    769726\n",
            "\n",
            "    accuracy                           1.00   1541300\n",
            "   macro avg       1.00      1.00      1.00   1541300\n",
            "weighted avg       1.00      1.00      1.00   1541300\n",
            "\n",
            "AUC Score: \n",
            "0.9999915554366099\n"
          ],
          "name": "stdout"
        },
        {
          "output_type": "display_data",
          "data": {
            "image/png": "[encoded data removed]",
            "text/plain": [
              "<Figure size 432x288 with 1 Axes>"
            ]
          },
          "metadata": {
            "tags": [],
            "needs_background": "light"
          }
        }
      ]
    },
    {
      "cell_type": "code",
      "metadata": {
        "id": "zNttbb-TXtxS",
        "colab_type": "code",
        "colab": {}
      },
      "source": [
        ""
      ],
      "execution_count": 0,
      "outputs": []
    },
    {
      "cell_type": "markdown",
      "metadata": {
        "id": "uC67IAVcYtOz",
        "colab_type": "text"
      },
      "source": [
        "**Naive Bayes Classifier**"
      ]
    },
    {
      "cell_type": "code",
      "metadata": {
        "id": "zBwG-YYncej7",
        "colab_type": "code",
        "colab": {}
      },
      "source": [
        "test_scale()\n",
        "\n",
        "# Fitting SVM to the Training set\n",
        "from sklearn.naive_bayes import GaussianNB\n",
        "\n",
        "#Create a Gaussian Classifier\n",
        "classifier = GaussianNB()\n",
        "\n",
        "# Train the model using the training sets\n",
        "classifier.fit(X_train, y_train)\n",
        "\n",
        "\n",
        "y_pred = classifier.predict(X_test)\n",
        "\n",
        "from sklearn.metrics import confusion_matrix\n",
        "cm = confusion_matrix(y_test,y_pred)"
      ],
      "execution_count": 0,
      "outputs": []
    },
    {
      "cell_type": "code",
      "metadata": {
        "id": "hLkdNWmZksZC",
        "colab_type": "code",
        "colab": {
          "base_uri": "https://localhost:8080/",
          "height": 818
        },
        "outputId": "e9d12527-da3f-410e-b671-bc088e04b049"
      },
      "source": [
        "classif_results()"
      ],
      "execution_count": 29,
      "outputs": [
        {
          "output_type": "stream",
          "text": [
            "Confusion matrix:\n",
            " [[771574      0]\n",
            " [   837 768889]]\n"
          ],
          "name": "stdout"
        },
        {
          "output_type": "display_data",
          "data": {
            "image/png": "[encoded data removed]",
            "text/plain": [
              "<Figure size 432x288 with 2 Axes>"
            ]
          },
          "metadata": {
            "tags": [],
            "needs_background": "light"
          }
        },
        {
          "output_type": "stream",
          "text": [
            "Accuracy 0.9994569519237008\n",
            "              precision    recall  f1-score   support\n",
            "\n",
            "           0       1.00      1.00      1.00    771574\n",
            "           1       1.00      1.00      1.00    769726\n",
            "\n",
            "    accuracy                           1.00   1541300\n",
            "   macro avg       1.00      1.00      1.00   1541300\n",
            "weighted avg       1.00      1.00      1.00   1541300\n",
            "\n",
            "AUC Score: \n",
            "0.9994563000340381\n"
          ],
          "name": "stdout"
        },
        {
          "output_type": "display_data",
          "data": {
            "image/png": "[encoded data removed]",
            "text/plain": [
              "<Figure size 432x288 with 1 Axes>"
            ]
          },
          "metadata": {
            "tags": [],
            "needs_background": "light"
          }
        }
      ]
    },
    {
      "cell_type": "code",
      "metadata": {
        "id": "M6HUBYufk7zw",
        "colab_type": "code",
        "colab": {}
      },
      "source": [
        ""
      ],
      "execution_count": 0,
      "outputs": []
    }
  ]
}