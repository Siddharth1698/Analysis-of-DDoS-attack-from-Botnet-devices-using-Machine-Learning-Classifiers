{
  "nbformat": 4,
  "nbformat_minor": 0,
  "metadata": {
    "colab": {
      "name": "MachineLearningCLassification.ipynb",
      "provenance": [],
      "collapsed_sections": []
    },
    "kernelspec": {
      "name": "python3",
      "display_name": "Python 3"
    }
  },
  "cells": [
    {
      "cell_type": "code",
      "metadata": {
        "id": "qr2UdY33jeUQ",
        "colab_type": "code",
        "colab": {
          "base_uri": "https://localhost:8080/",
          "height": 1000
        },
        "outputId": "b00e7ca2-5f2f-4e10-e127-3936d8615986"
      },
      "source": [
        "pip install smote_variants"
      ],
      "execution_count": 2,
      "outputs": [
        {
          "output_type": "stream",
          "text": [
            "Collecting smote_variants\n",
            "\u001b[?25l  Downloading https://files.pythonhosted.org/packages/c2/a9/ce76c71804f935c00e7a4f4222ea83744f88ae140b080e4428535fc88ddc/smote_variants-0.3.13-py3-none-any.whl (131kB)\n",
            "\r\u001b[K     |██▌                             | 10kB 20.9MB/s eta 0:00:01\r\u001b[K     |█████                           | 20kB 1.8MB/s eta 0:00:01\r\u001b[K     |███████▌                        | 30kB 2.3MB/s eta 0:00:01\r\u001b[K     |██████████                      | 40kB 2.6MB/s eta 0:00:01\r\u001b[K     |████████████▍                   | 51kB 2.1MB/s eta 0:00:01\r\u001b[K     |███████████████                 | 61kB 2.3MB/s eta 0:00:01\r\u001b[K     |█████████████████▍              | 71kB 2.5MB/s eta 0:00:01\r\u001b[K     |████████████████████            | 81kB 2.8MB/s eta 0:00:01\r\u001b[K     |██████████████████████▍         | 92kB 3.0MB/s eta 0:00:01\r\u001b[K     |████████████████████████▉       | 102kB 2.9MB/s eta 0:00:01\r\u001b[K     |███████████████████████████▍    | 112kB 2.9MB/s eta 0:00:01\r\u001b[K     |█████████████████████████████▉  | 122kB 2.9MB/s eta 0:00:01\r\u001b[K     |████████████████████████████████| 133kB 2.9MB/s \n",
            "\u001b[?25hRequirement already satisfied: scikit-learn in /usr/local/lib/python3.6/dist-packages (from smote_variants) (0.22.2.post1)\n",
            "Requirement already satisfied: numpy>=1.13.0 in /usr/local/lib/python3.6/dist-packages (from smote_variants) (1.18.4)\n",
            "Requirement already satisfied: keras in /usr/local/lib/python3.6/dist-packages (from smote_variants) (2.3.1)\n",
            "Collecting statistics\n",
            "  Downloading https://files.pythonhosted.org/packages/bb/3a/ae99a15e65636559d936dd2159d75af1619491e8cb770859fbc8aa62cef6/statistics-1.0.3.5.tar.gz\n",
            "Requirement already satisfied: tensorflow in /usr/local/lib/python3.6/dist-packages (from smote_variants) (2.2.0)\n",
            "Collecting minisom\n",
            "  Downloading https://files.pythonhosted.org/packages/10/17/88e894b68c062f6917e77a657927c9199b63d24ebbd0c34682816d3c770d/MiniSom-2.2.5.tar.gz\n",
            "Requirement already satisfied: pandas in /usr/local/lib/python3.6/dist-packages (from smote_variants) (1.0.4)\n",
            "Requirement already satisfied: scipy in /usr/local/lib/python3.6/dist-packages (from smote_variants) (1.4.1)\n",
            "Requirement already satisfied: mkl in /usr/local/lib/python3.6/dist-packages (from smote_variants) (2019.0)\n",
            "Requirement already satisfied: joblib in /usr/local/lib/python3.6/dist-packages (from smote_variants) (0.15.1)\n",
            "Requirement already satisfied: keras-applications>=1.0.6 in /usr/local/lib/python3.6/dist-packages (from keras->smote_variants) (1.0.8)\n",
            "Requirement already satisfied: keras-preprocessing>=1.0.5 in /usr/local/lib/python3.6/dist-packages (from keras->smote_variants) (1.1.2)\n",
            "Requirement already satisfied: six>=1.9.0 in /usr/local/lib/python3.6/dist-packages (from keras->smote_variants) (1.12.0)\n",
            "Requirement already satisfied: pyyaml in /usr/local/lib/python3.6/dist-packages (from keras->smote_variants) (3.13)\n",
            "Requirement already satisfied: h5py in /usr/local/lib/python3.6/dist-packages (from keras->smote_variants) (2.10.0)\n",
            "Requirement already satisfied: docutils>=0.3 in /usr/local/lib/python3.6/dist-packages (from statistics->smote_variants) (0.15.2)\n",
            "Requirement already satisfied: gast==0.3.3 in /usr/local/lib/python3.6/dist-packages (from tensorflow->smote_variants) (0.3.3)\n",
            "Requirement already satisfied: astunparse==1.6.3 in /usr/local/lib/python3.6/dist-packages (from tensorflow->smote_variants) (1.6.3)\n",
            "Requirement already satisfied: wheel>=0.26; python_version >= \"3\" in /usr/local/lib/python3.6/dist-packages (from tensorflow->smote_variants) (0.34.2)\n",
            "Requirement already satisfied: grpcio>=1.8.6 in /usr/local/lib/python3.6/dist-packages (from tensorflow->smote_variants) (1.29.0)\n",
            "Requirement already satisfied: protobuf>=3.8.0 in /usr/local/lib/python3.6/dist-packages (from tensorflow->smote_variants) (3.10.0)\n",
            "Requirement already satisfied: termcolor>=1.1.0 in /usr/local/lib/python3.6/dist-packages (from tensorflow->smote_variants) (1.1.0)\n",
            "Requirement already satisfied: absl-py>=0.7.0 in /usr/local/lib/python3.6/dist-packages (from tensorflow->smote_variants) (0.9.0)\n",
            "Requirement already satisfied: opt-einsum>=2.3.2 in /usr/local/lib/python3.6/dist-packages (from tensorflow->smote_variants) (3.2.1)\n",
            "Requirement already satisfied: wrapt>=1.11.1 in /usr/local/lib/python3.6/dist-packages (from tensorflow->smote_variants) (1.12.1)\n",
            "Requirement already satisfied: tensorflow-estimator<2.3.0,>=2.2.0 in /usr/local/lib/python3.6/dist-packages (from tensorflow->smote_variants) (2.2.0)\n",
            "Requirement already satisfied: tensorboard<2.3.0,>=2.2.0 in /usr/local/lib/python3.6/dist-packages (from tensorflow->smote_variants) (2.2.2)\n",
            "Requirement already satisfied: google-pasta>=0.1.8 in /usr/local/lib/python3.6/dist-packages (from tensorflow->smote_variants) (0.2.0)\n",
            "Requirement already satisfied: pytz>=2017.2 in /usr/local/lib/python3.6/dist-packages (from pandas->smote_variants) (2018.9)\n",
            "Requirement already satisfied: python-dateutil>=2.6.1 in /usr/local/lib/python3.6/dist-packages (from pandas->smote_variants) (2.8.1)\n",
            "Requirement already satisfied: intel-openmp in /usr/local/lib/python3.6/dist-packages (from mkl->smote_variants) (2020.0.133)\n",
            "Requirement already satisfied: setuptools in /usr/local/lib/python3.6/dist-packages (from protobuf>=3.8.0->tensorflow->smote_variants) (47.1.1)\n",
            "Requirement already satisfied: requests<3,>=2.21.0 in /usr/local/lib/python3.6/dist-packages (from tensorboard<2.3.0,>=2.2.0->tensorflow->smote_variants) (2.23.0)\n",
            "Requirement already satisfied: markdown>=2.6.8 in /usr/local/lib/python3.6/dist-packages (from tensorboard<2.3.0,>=2.2.0->tensorflow->smote_variants) (3.2.2)\n",
            "Requirement already satisfied: google-auth-oauthlib<0.5,>=0.4.1 in /usr/local/lib/python3.6/dist-packages (from tensorboard<2.3.0,>=2.2.0->tensorflow->smote_variants) (0.4.1)\n",
            "Requirement already satisfied: tensorboard-plugin-wit>=1.6.0 in /usr/local/lib/python3.6/dist-packages (from tensorboard<2.3.0,>=2.2.0->tensorflow->smote_variants) (1.6.0.post3)\n",
            "Requirement already satisfied: google-auth<2,>=1.6.3 in /usr/local/lib/python3.6/dist-packages (from tensorboard<2.3.0,>=2.2.0->tensorflow->smote_variants) (1.7.2)\n",
            "Requirement already satisfied: werkzeug>=0.11.15 in /usr/local/lib/python3.6/dist-packages (from tensorboard<2.3.0,>=2.2.0->tensorflow->smote_variants) (1.0.1)\n",
            "Requirement already satisfied: urllib3!=1.25.0,!=1.25.1,<1.26,>=1.21.1 in /usr/local/lib/python3.6/dist-packages (from requests<3,>=2.21.0->tensorboard<2.3.0,>=2.2.0->tensorflow->smote_variants) (1.24.3)\n",
            "Requirement already satisfied: chardet<4,>=3.0.2 in /usr/local/lib/python3.6/dist-packages (from requests<3,>=2.21.0->tensorboard<2.3.0,>=2.2.0->tensorflow->smote_variants) (3.0.4)\n",
            "Requirement already satisfied: certifi>=2017.4.17 in /usr/local/lib/python3.6/dist-packages (from requests<3,>=2.21.0->tensorboard<2.3.0,>=2.2.0->tensorflow->smote_variants) (2020.4.5.1)\n",
            "Requirement already satisfied: idna<3,>=2.5 in /usr/local/lib/python3.6/dist-packages (from requests<3,>=2.21.0->tensorboard<2.3.0,>=2.2.0->tensorflow->smote_variants) (2.9)\n",
            "Requirement already satisfied: importlib-metadata; python_version < \"3.8\" in /usr/local/lib/python3.6/dist-packages (from markdown>=2.6.8->tensorboard<2.3.0,>=2.2.0->tensorflow->smote_variants) (1.6.0)\n",
            "Requirement already satisfied: requests-oauthlib>=0.7.0 in /usr/local/lib/python3.6/dist-packages (from google-auth-oauthlib<0.5,>=0.4.1->tensorboard<2.3.0,>=2.2.0->tensorflow->smote_variants) (1.3.0)\n",
            "Requirement already satisfied: cachetools<3.2,>=2.0.0 in /usr/local/lib/python3.6/dist-packages (from google-auth<2,>=1.6.3->tensorboard<2.3.0,>=2.2.0->tensorflow->smote_variants) (3.1.1)\n",
            "Requirement already satisfied: rsa<4.1,>=3.1.4 in /usr/local/lib/python3.6/dist-packages (from google-auth<2,>=1.6.3->tensorboard<2.3.0,>=2.2.0->tensorflow->smote_variants) (4.0)\n",
            "Requirement already satisfied: pyasn1-modules>=0.2.1 in /usr/local/lib/python3.6/dist-packages (from google-auth<2,>=1.6.3->tensorboard<2.3.0,>=2.2.0->tensorflow->smote_variants) (0.2.8)\n",
            "Requirement already satisfied: zipp>=0.5 in /usr/local/lib/python3.6/dist-packages (from importlib-metadata; python_version < \"3.8\"->markdown>=2.6.8->tensorboard<2.3.0,>=2.2.0->tensorflow->smote_variants) (3.1.0)\n",
            "Requirement already satisfied: oauthlib>=3.0.0 in /usr/local/lib/python3.6/dist-packages (from requests-oauthlib>=0.7.0->google-auth-oauthlib<0.5,>=0.4.1->tensorboard<2.3.0,>=2.2.0->tensorflow->smote_variants) (3.1.0)\n",
            "Requirement already satisfied: pyasn1>=0.1.3 in /usr/local/lib/python3.6/dist-packages (from rsa<4.1,>=3.1.4->google-auth<2,>=1.6.3->tensorboard<2.3.0,>=2.2.0->tensorflow->smote_variants) (0.4.8)\n",
            "Building wheels for collected packages: statistics, minisom\n",
            "  Building wheel for statistics (setup.py) ... \u001b[?25l\u001b[?25hdone\n",
            "  Created wheel for statistics: filename=statistics-1.0.3.5-cp36-none-any.whl size=7453 sha256=dca90500c05292c10ea29268745aeed69845db1e20f4f96749379cea50e12d4f\n",
            "  Stored in directory: /root/.cache/pip/wheels/75/55/90/73aa7662bfb4565b567618547a275f01372a678ca92ecd64f3\n",
            "  Building wheel for minisom (setup.py) ... \u001b[?25l\u001b[?25hdone\n",
            "  Created wheel for minisom: filename=MiniSom-2.2.5-cp36-none-any.whl size=8474 sha256=73cc0a4746d5af5ad50ec0d46f57333afa3467d1b381e312eceb3adac4720f07\n",
            "  Stored in directory: /root/.cache/pip/wheels/39/5b/16/cc9402ffc58cafb1da6997e5c94b1bde65e8cb214907879fd4\n",
            "Successfully built statistics minisom\n",
            "Installing collected packages: statistics, minisom, smote-variants\n",
            "Successfully installed minisom-2.2.5 smote-variants-0.3.13 statistics-1.0.3.5\n"
          ],
          "name": "stdout"
        }
      ]
    },
    {
      "cell_type": "code",
      "metadata": {
        "id": "7czY2ZsRLL2q",
        "colab_type": "code",
        "colab": {
          "base_uri": "https://localhost:8080/",
          "height": 280
        },
        "outputId": "d71bba92-4885-47cd-888b-0e6cac78f7e0"
      },
      "source": [
        "pip install imbalanced_databases"
      ],
      "execution_count": 3,
      "outputs": [
        {
          "output_type": "stream",
          "text": [
            "Collecting imbalanced_databases\n",
            "\u001b[?25l  Downloading https://files.pythonhosted.org/packages/9e/44/5bc6bf4d05a19e711fcdbceb0f4fcc48b46b85d3f140285bacafee2a40d8/imbalanced_databases-0.1.1-py3-none-any.whl (4.3MB)\n",
            "\u001b[K     |████████████████████████████████| 4.3MB 2.8MB/s \n",
            "\u001b[?25hRequirement already satisfied: sklearn in /usr/local/lib/python3.6/dist-packages (from imbalanced_databases) (0.0)\n",
            "Requirement already satisfied: numpy in /usr/local/lib/python3.6/dist-packages (from imbalanced_databases) (1.18.4)\n",
            "Requirement already satisfied: scipy in /usr/local/lib/python3.6/dist-packages (from imbalanced_databases) (1.4.1)\n",
            "Requirement already satisfied: pandas in /usr/local/lib/python3.6/dist-packages (from imbalanced_databases) (1.0.4)\n",
            "Requirement already satisfied: scikit-learn in /usr/local/lib/python3.6/dist-packages (from sklearn->imbalanced_databases) (0.22.2.post1)\n",
            "Requirement already satisfied: pytz>=2017.2 in /usr/local/lib/python3.6/dist-packages (from pandas->imbalanced_databases) (2018.9)\n",
            "Requirement already satisfied: python-dateutil>=2.6.1 in /usr/local/lib/python3.6/dist-packages (from pandas->imbalanced_databases) (2.8.1)\n",
            "Requirement already satisfied: joblib>=0.11 in /usr/local/lib/python3.6/dist-packages (from scikit-learn->sklearn->imbalanced_databases) (0.15.1)\n",
            "Requirement already satisfied: six>=1.5 in /usr/local/lib/python3.6/dist-packages (from python-dateutil>=2.6.1->pandas->imbalanced_databases) (1.12.0)\n",
            "Installing collected packages: imbalanced-databases\n",
            "Successfully installed imbalanced-databases-0.1.1\n"
          ],
          "name": "stdout"
        }
      ]
    },
    {
      "cell_type": "code",
      "metadata": {
        "id": "JnKWN9B2LHP4",
        "colab_type": "code",
        "colab": {}
      },
      "source": [
        "import smote_variants as sv\n",
        "import pandas  as pd\n",
        "import matplotlib.pyplot as plt\n",
        "import numpy as np\n",
        "import imbalanced_databases as imbd\n",
        "from sklearn import metrics\n",
        "from sklearn.datasets import load_wine\n",
        "from sklearn.metrics import roc_curve, auc, roc_auc_score\n",
        "\n",
        "%matplotlib inline\n",
        "from sklearn.model_selection import train_test_split"
      ],
      "execution_count": 0,
      "outputs": []
    },
    {
      "cell_type": "code",
      "metadata": {
        "id": "5i6xdA4nJ_Me",
        "colab_type": "code",
        "colab": {}
      },
      "source": [
        "df_train = pd.read_csv('/content/drive/My Drive/Major Project Works/dataset/ml_dataset.csv')"
      ],
      "execution_count": 0,
      "outputs": []
    },
    {
      "cell_type": "code",
      "metadata": {
        "id": "rL13VhV0kb78",
        "colab_type": "code",
        "colab": {}
      },
      "source": [
        "df = df_train.copy()\n",
        "df.drop(['Unnamed: 0'],inplace=True,axis=1)"
      ],
      "execution_count": 0,
      "outputs": []
    },
    {
      "cell_type": "code",
      "metadata": {
        "id": "DKe_iKE0LT7H",
        "colab_type": "code",
        "colab": {
          "base_uri": "https://localhost:8080/",
          "height": 34
        },
        "outputId": "c44d8863-3d29-4701-b348-76cd1cf7ccad"
      },
      "source": [
        "from google.colab import drive\n",
        "drive.mount('/content/drive')"
      ],
      "execution_count": 161,
      "outputs": [
        {
          "output_type": "stream",
          "text": [
            "Drive already mounted at /content/drive; to attempt to forcibly remount, call drive.mount(\"/content/drive\", force_remount=True).\n"
          ],
          "name": "stdout"
        }
      ]
    },
    {
      "cell_type": "code",
      "metadata": {
        "id": "32fIeDsCDP1T",
        "colab_type": "code",
        "colab": {}
      },
      "source": [
        "df_attack = df[df['attack'] == 1]"
      ],
      "execution_count": 0,
      "outputs": []
    },
    {
      "cell_type": "code",
      "metadata": {
        "id": "7u0uBOUmDP4F",
        "colab_type": "code",
        "colab": {}
      },
      "source": [
        "df_normal = df[df['attack'] == 0]"
      ],
      "execution_count": 0,
      "outputs": []
    },
    {
      "cell_type": "code",
      "metadata": {
        "id": "IQdKY-srDP7e",
        "colab_type": "code",
        "colab": {}
      },
      "source": [
        "df_attack = df_attack.sample(n=380000)"
      ],
      "execution_count": 0,
      "outputs": []
    },
    {
      "cell_type": "code",
      "metadata": {
        "id": "udpo_fYYDP92",
        "colab_type": "code",
        "colab": {}
      },
      "source": [
        "df = df_attack.append(df_normal, ignore_index=True, sort=False)"
      ],
      "execution_count": 0,
      "outputs": []
    },
    {
      "cell_type": "code",
      "metadata": {
        "id": "ILzX8RoAJ6vd",
        "colab_type": "code",
        "outputId": "cad011df-7b9d-41aa-8021-e426c1c67265",
        "colab": {
          "base_uri": "https://localhost:8080/",
          "height": 444
        }
      },
      "source": [
        "df"
      ],
      "execution_count": 166,
      "outputs": [
        {
          "output_type": "execute_result",
          "data": {
            "text/html": [
              "<div>\n",
              "<style scoped>\n",
              "    .dataframe tbody tr th:only-of-type {\n",
              "        vertical-align: middle;\n",
              "    }\n",
              "\n",
              "    .dataframe tbody tr th {\n",
              "        vertical-align: top;\n",
              "    }\n",
              "\n",
              "    .dataframe thead th {\n",
              "        text-align: right;\n",
              "    }\n",
              "</style>\n",
              "<table border=\"1\" class=\"dataframe\">\n",
              "  <thead>\n",
              "    <tr style=\"text-align: right;\">\n",
              "      <th></th>\n",
              "      <th>pkts</th>\n",
              "      <th>bytes</th>\n",
              "      <th>dur</th>\n",
              "      <th>average_dur</th>\n",
              "      <th>stddev_dur</th>\n",
              "      <th>total_dur</th>\n",
              "      <th>min_dur</th>\n",
              "      <th>max_dur</th>\n",
              "      <th>spkts</th>\n",
              "      <th>dpkts</th>\n",
              "      <th>sbytes</th>\n",
              "      <th>dbytes</th>\n",
              "      <th>rate</th>\n",
              "      <th>srate</th>\n",
              "      <th>drate</th>\n",
              "      <th>TnBPSrcIP</th>\n",
              "      <th>TnBPDstIP</th>\n",
              "      <th>TnP_PSrcIP</th>\n",
              "      <th>TnP_PDstIP</th>\n",
              "      <th>TnP_PerProto</th>\n",
              "      <th>TnP_Per_Dport</th>\n",
              "      <th>AR_P_Proto_P_SrcIP</th>\n",
              "      <th>AR_P_Proto_P_DstIP</th>\n",
              "      <th>N_IN_Conn_P_DstIP</th>\n",
              "      <th>N_IN_Conn_P_SrcIP</th>\n",
              "      <th>AR_P_Proto_P_Sport</th>\n",
              "      <th>AR_P_Proto_P_Dport</th>\n",
              "      <th>Pkts_P_State_P_Protocol_P_DestIP</th>\n",
              "      <th>Pkts_P_State_P_Protocol_P_SrcIP</th>\n",
              "      <th>attack</th>\n",
              "    </tr>\n",
              "  </thead>\n",
              "  <tbody>\n",
              "    <tr>\n",
              "      <th>0</th>\n",
              "      <td>8</td>\n",
              "      <td>480</td>\n",
              "      <td>14.411690</td>\n",
              "      <td>3.427670</td>\n",
              "      <td>0.994120</td>\n",
              "      <td>10.283010</td>\n",
              "      <td>2.022162</td>\n",
              "      <td>4.159049</td>\n",
              "      <td>8</td>\n",
              "      <td>0</td>\n",
              "      <td>480</td>\n",
              "      <td>0</td>\n",
              "      <td>0.485717</td>\n",
              "      <td>0.485717</td>\n",
              "      <td>0.0</td>\n",
              "      <td>36480</td>\n",
              "      <td>52320</td>\n",
              "      <td>608</td>\n",
              "      <td>872</td>\n",
              "      <td>872</td>\n",
              "      <td>872</td>\n",
              "      <td>0.555105</td>\n",
              "      <td>0.611127</td>\n",
              "      <td>100</td>\n",
              "      <td>76</td>\n",
              "      <td>0.555105</td>\n",
              "      <td>0.611127</td>\n",
              "      <td>872</td>\n",
              "      <td>608</td>\n",
              "      <td>1</td>\n",
              "    </tr>\n",
              "    <tr>\n",
              "      <th>1</th>\n",
              "      <td>13</td>\n",
              "      <td>780</td>\n",
              "      <td>11.944736</td>\n",
              "      <td>3.308725</td>\n",
              "      <td>2.339679</td>\n",
              "      <td>9.926175</td>\n",
              "      <td>0.000000</td>\n",
              "      <td>4.983151</td>\n",
              "      <td>13</td>\n",
              "      <td>0</td>\n",
              "      <td>780</td>\n",
              "      <td>0</td>\n",
              "      <td>1.004627</td>\n",
              "      <td>1.004627</td>\n",
              "      <td>0.0</td>\n",
              "      <td>17160</td>\n",
              "      <td>54600</td>\n",
              "      <td>286</td>\n",
              "      <td>910</td>\n",
              "      <td>910</td>\n",
              "      <td>910</td>\n",
              "      <td>1.088350</td>\n",
              "      <td>0.651245</td>\n",
              "      <td>100</td>\n",
              "      <td>22</td>\n",
              "      <td>1.088350</td>\n",
              "      <td>0.651245</td>\n",
              "      <td>910</td>\n",
              "      <td>286</td>\n",
              "      <td>1</td>\n",
              "    </tr>\n",
              "    <tr>\n",
              "      <th>2</th>\n",
              "      <td>15</td>\n",
              "      <td>900</td>\n",
              "      <td>13.664112</td>\n",
              "      <td>3.906413</td>\n",
              "      <td>1.369302</td>\n",
              "      <td>11.719238</td>\n",
              "      <td>1.969928</td>\n",
              "      <td>4.874940</td>\n",
              "      <td>15</td>\n",
              "      <td>0</td>\n",
              "      <td>900</td>\n",
              "      <td>0</td>\n",
              "      <td>1.024582</td>\n",
              "      <td>1.024582</td>\n",
              "      <td>0.0</td>\n",
              "      <td>38700</td>\n",
              "      <td>66060</td>\n",
              "      <td>645</td>\n",
              "      <td>1101</td>\n",
              "      <td>1101</td>\n",
              "      <td>1101</td>\n",
              "      <td>1.097770</td>\n",
              "      <td>0.789826</td>\n",
              "      <td>100</td>\n",
              "      <td>43</td>\n",
              "      <td>1.097770</td>\n",
              "      <td>0.789826</td>\n",
              "      <td>1101</td>\n",
              "      <td>645</td>\n",
              "      <td>1</td>\n",
              "    </tr>\n",
              "    <tr>\n",
              "      <th>3</th>\n",
              "      <td>7</td>\n",
              "      <td>890</td>\n",
              "      <td>14.248625</td>\n",
              "      <td>2.450336</td>\n",
              "      <td>1.739739</td>\n",
              "      <td>7.351007</td>\n",
              "      <td>0.000000</td>\n",
              "      <td>3.867673</td>\n",
              "      <td>6</td>\n",
              "      <td>1</td>\n",
              "      <td>830</td>\n",
              "      <td>60</td>\n",
              "      <td>0.421093</td>\n",
              "      <td>0.350911</td>\n",
              "      <td>0.0</td>\n",
              "      <td>83000</td>\n",
              "      <td>83000</td>\n",
              "      <td>600</td>\n",
              "      <td>600</td>\n",
              "      <td>600</td>\n",
              "      <td>600</td>\n",
              "      <td>0.421063</td>\n",
              "      <td>0.421063</td>\n",
              "      <td>100</td>\n",
              "      <td>100</td>\n",
              "      <td>0.491275</td>\n",
              "      <td>0.421063</td>\n",
              "      <td>350</td>\n",
              "      <td>350</td>\n",
              "      <td>1</td>\n",
              "    </tr>\n",
              "    <tr>\n",
              "      <th>4</th>\n",
              "      <td>15</td>\n",
              "      <td>900</td>\n",
              "      <td>13.957853</td>\n",
              "      <td>3.982851</td>\n",
              "      <td>0.825013</td>\n",
              "      <td>11.948554</td>\n",
              "      <td>2.975780</td>\n",
              "      <td>4.996607</td>\n",
              "      <td>15</td>\n",
              "      <td>0</td>\n",
              "      <td>900</td>\n",
              "      <td>0</td>\n",
              "      <td>1.003020</td>\n",
              "      <td>1.003020</td>\n",
              "      <td>0.0</td>\n",
              "      <td>90000</td>\n",
              "      <td>90000</td>\n",
              "      <td>1500</td>\n",
              "      <td>1500</td>\n",
              "      <td>1500</td>\n",
              "      <td>1500</td>\n",
              "      <td>1.074660</td>\n",
              "      <td>1.074660</td>\n",
              "      <td>100</td>\n",
              "      <td>100</td>\n",
              "      <td>1.074660</td>\n",
              "      <td>1.074660</td>\n",
              "      <td>1500</td>\n",
              "      <td>1500</td>\n",
              "      <td>1</td>\n",
              "    </tr>\n",
              "    <tr>\n",
              "      <th>...</th>\n",
              "      <td>...</td>\n",
              "      <td>...</td>\n",
              "      <td>...</td>\n",
              "      <td>...</td>\n",
              "      <td>...</td>\n",
              "      <td>...</td>\n",
              "      <td>...</td>\n",
              "      <td>...</td>\n",
              "      <td>...</td>\n",
              "      <td>...</td>\n",
              "      <td>...</td>\n",
              "      <td>...</td>\n",
              "      <td>...</td>\n",
              "      <td>...</td>\n",
              "      <td>...</td>\n",
              "      <td>...</td>\n",
              "      <td>...</td>\n",
              "      <td>...</td>\n",
              "      <td>...</td>\n",
              "      <td>...</td>\n",
              "      <td>...</td>\n",
              "      <td>...</td>\n",
              "      <td>...</td>\n",
              "      <td>...</td>\n",
              "      <td>...</td>\n",
              "      <td>...</td>\n",
              "      <td>...</td>\n",
              "      <td>...</td>\n",
              "      <td>...</td>\n",
              "      <td>...</td>\n",
              "    </tr>\n",
              "    <tr>\n",
              "      <th>380472</th>\n",
              "      <td>2</td>\n",
              "      <td>397</td>\n",
              "      <td>0.293476</td>\n",
              "      <td>0.293476</td>\n",
              "      <td>0.000000</td>\n",
              "      <td>0.293476</td>\n",
              "      <td>0.293476</td>\n",
              "      <td>0.293476</td>\n",
              "      <td>1</td>\n",
              "      <td>1</td>\n",
              "      <td>106</td>\n",
              "      <td>291</td>\n",
              "      <td>3.407434</td>\n",
              "      <td>0.000000</td>\n",
              "      <td>0.0</td>\n",
              "      <td>48697</td>\n",
              "      <td>694</td>\n",
              "      <td>190</td>\n",
              "      <td>4</td>\n",
              "      <td>142</td>\n",
              "      <td>122</td>\n",
              "      <td>9.493260</td>\n",
              "      <td>6.832010</td>\n",
              "      <td>2</td>\n",
              "      <td>74</td>\n",
              "      <td>6.814870</td>\n",
              "      <td>9.493260</td>\n",
              "      <td>4</td>\n",
              "      <td>122</td>\n",
              "      <td>0</td>\n",
              "    </tr>\n",
              "    <tr>\n",
              "      <th>380473</th>\n",
              "      <td>2</td>\n",
              "      <td>297</td>\n",
              "      <td>0.292003</td>\n",
              "      <td>0.292003</td>\n",
              "      <td>0.000000</td>\n",
              "      <td>0.292003</td>\n",
              "      <td>0.292003</td>\n",
              "      <td>0.292003</td>\n",
              "      <td>1</td>\n",
              "      <td>1</td>\n",
              "      <td>106</td>\n",
              "      <td>191</td>\n",
              "      <td>3.424622</td>\n",
              "      <td>0.000000</td>\n",
              "      <td>0.0</td>\n",
              "      <td>48697</td>\n",
              "      <td>694</td>\n",
              "      <td>190</td>\n",
              "      <td>4</td>\n",
              "      <td>142</td>\n",
              "      <td>122</td>\n",
              "      <td>9.493260</td>\n",
              "      <td>6.832010</td>\n",
              "      <td>2</td>\n",
              "      <td>74</td>\n",
              "      <td>6.849240</td>\n",
              "      <td>9.493260</td>\n",
              "      <td>4</td>\n",
              "      <td>122</td>\n",
              "      <td>0</td>\n",
              "    </tr>\n",
              "    <tr>\n",
              "      <th>380474</th>\n",
              "      <td>2</td>\n",
              "      <td>337</td>\n",
              "      <td>0.277896</td>\n",
              "      <td>0.277896</td>\n",
              "      <td>0.000000</td>\n",
              "      <td>0.277896</td>\n",
              "      <td>0.277896</td>\n",
              "      <td>0.277896</td>\n",
              "      <td>1</td>\n",
              "      <td>1</td>\n",
              "      <td>100</td>\n",
              "      <td>237</td>\n",
              "      <td>3.598469</td>\n",
              "      <td>0.000000</td>\n",
              "      <td>0.0</td>\n",
              "      <td>48697</td>\n",
              "      <td>337</td>\n",
              "      <td>190</td>\n",
              "      <td>2</td>\n",
              "      <td>142</td>\n",
              "      <td>122</td>\n",
              "      <td>9.493260</td>\n",
              "      <td>7.196940</td>\n",
              "      <td>1</td>\n",
              "      <td>74</td>\n",
              "      <td>7.196940</td>\n",
              "      <td>9.493260</td>\n",
              "      <td>2</td>\n",
              "      <td>122</td>\n",
              "      <td>0</td>\n",
              "    </tr>\n",
              "    <tr>\n",
              "      <th>380475</th>\n",
              "      <td>2</td>\n",
              "      <td>936</td>\n",
              "      <td>0.280742</td>\n",
              "      <td>0.280742</td>\n",
              "      <td>0.000000</td>\n",
              "      <td>0.280742</td>\n",
              "      <td>0.280742</td>\n",
              "      <td>0.280742</td>\n",
              "      <td>1</td>\n",
              "      <td>1</td>\n",
              "      <td>91</td>\n",
              "      <td>845</td>\n",
              "      <td>3.561990</td>\n",
              "      <td>0.000000</td>\n",
              "      <td>0.0</td>\n",
              "      <td>48697</td>\n",
              "      <td>1872</td>\n",
              "      <td>190</td>\n",
              "      <td>4</td>\n",
              "      <td>142</td>\n",
              "      <td>122</td>\n",
              "      <td>9.493260</td>\n",
              "      <td>7.126890</td>\n",
              "      <td>2</td>\n",
              "      <td>74</td>\n",
              "      <td>7.123980</td>\n",
              "      <td>9.493260</td>\n",
              "      <td>4</td>\n",
              "      <td>122</td>\n",
              "      <td>0</td>\n",
              "    </tr>\n",
              "    <tr>\n",
              "      <th>380476</th>\n",
              "      <td>2</td>\n",
              "      <td>936</td>\n",
              "      <td>0.280513</td>\n",
              "      <td>0.280513</td>\n",
              "      <td>0.000000</td>\n",
              "      <td>0.280513</td>\n",
              "      <td>0.280513</td>\n",
              "      <td>0.280513</td>\n",
              "      <td>1</td>\n",
              "      <td>1</td>\n",
              "      <td>91</td>\n",
              "      <td>845</td>\n",
              "      <td>3.564897</td>\n",
              "      <td>0.000000</td>\n",
              "      <td>0.0</td>\n",
              "      <td>48697</td>\n",
              "      <td>1872</td>\n",
              "      <td>190</td>\n",
              "      <td>4</td>\n",
              "      <td>142</td>\n",
              "      <td>122</td>\n",
              "      <td>9.493260</td>\n",
              "      <td>7.126890</td>\n",
              "      <td>2</td>\n",
              "      <td>74</td>\n",
              "      <td>7.129790</td>\n",
              "      <td>9.493260</td>\n",
              "      <td>4</td>\n",
              "      <td>122</td>\n",
              "      <td>0</td>\n",
              "    </tr>\n",
              "  </tbody>\n",
              "</table>\n",
              "<p>380477 rows × 30 columns</p>\n",
              "</div>"
            ],
            "text/plain": [
              "        pkts  bytes  ...  Pkts_P_State_P_Protocol_P_SrcIP  attack\n",
              "0          8    480  ...                              608       1\n",
              "1         13    780  ...                              286       1\n",
              "2         15    900  ...                              645       1\n",
              "3          7    890  ...                              350       1\n",
              "4         15    900  ...                             1500       1\n",
              "...      ...    ...  ...                              ...     ...\n",
              "380472     2    397  ...                              122       0\n",
              "380473     2    297  ...                              122       0\n",
              "380474     2    337  ...                              122       0\n",
              "380475     2    936  ...                              122       0\n",
              "380476     2    936  ...                              122       0\n",
              "\n",
              "[380477 rows x 30 columns]"
            ]
          },
          "metadata": {
            "tags": []
          },
          "execution_count": 166
        }
      ]
    },
    {
      "cell_type": "code",
      "metadata": {
        "id": "gq1OUFUMmbxT",
        "colab_type": "code",
        "outputId": "ef52229a-2566-4d09-aa02-861580b9bdf2",
        "colab": {
          "base_uri": "https://localhost:8080/",
          "height": 344
        }
      },
      "source": [
        "pd.value_counts(df['attack']).plot.bar()\n",
        "plt.title('Attack histogram')\n",
        "plt.xlabel('attack')\n",
        "plt.ylabel('Value')\n",
        "df['attack'].value_counts()"
      ],
      "execution_count": 167,
      "outputs": [
        {
          "output_type": "execute_result",
          "data": {
            "text/plain": [
              "1    380000\n",
              "0       477\n",
              "Name: attack, dtype: int64"
            ]
          },
          "metadata": {
            "tags": []
          },
          "execution_count": 167
        },
        {
          "output_type": "display_data",
          "data": {
            "image/png": "[encoded data removed]",
            "text/plain": [
              "<Figure size 432x288 with 1 Axes>"
            ]
          },
          "metadata": {
            "tags": [],
            "needs_background": "light"
          }
        }
      ]
    },
    {
      "cell_type": "code",
      "metadata": {
        "id": "qD0Yxvv2qQGR",
        "colab_type": "code",
        "colab": {}
      },
      "source": [
        ""
      ],
      "execution_count": 0,
      "outputs": []
    },
    {
      "cell_type": "code",
      "metadata": {
        "id": "4I_gzBXwBJTp",
        "colab_type": "code",
        "colab": {}
      },
      "source": [
        "X = df.iloc[:, df.columns != 'attack']\n",
        "y = df.iloc[:, df.columns == 'attack']"
      ],
      "execution_count": 0,
      "outputs": []
    },
    {
      "cell_type": "markdown",
      "metadata": {
        "id": "WaBPuri0Sk4O",
        "colab_type": "text"
      },
      "source": [
        "**Logistic Regression**"
      ]
    },
    {
      "cell_type": "code",
      "metadata": {
        "id": "ZCxyQRcQNnbB",
        "colab_type": "code",
        "outputId": "768ddb3d-2bed-4e1c-c4f6-6d6b8f85f513",
        "colab": {
          "base_uri": "https://localhost:8080/",
          "height": 211
        }
      },
      "source": [
        "from sklearn.model_selection import train_test_split\n",
        "X_train, X_test, y_train, y_test = train_test_split(X, y, test_size = 0.4, random_state = 0)\n",
        "\n",
        "from sklearn.preprocessing import StandardScaler\n",
        "sc_X = StandardScaler()\n",
        "X_train = sc_X.fit_transform(X_train)\n",
        "X_test = sc_X.transform(X_test)\n",
        "\n",
        "from sklearn.linear_model import LogisticRegression \n",
        "classifier = LogisticRegression(random_state = 0)\n",
        "classifier.fit(X_train,y_train)\n",
        "\n",
        "y_pred = classifier.predict(X_test)\n",
        "\n"
      ],
      "execution_count": 169,
      "outputs": [
        {
          "output_type": "stream",
          "text": [
            "/usr/local/lib/python3.6/dist-packages/sklearn/utils/validation.py:760: DataConversionWarning: A column-vector y was passed when a 1d array was expected. Please change the shape of y to (n_samples, ), for example using ravel().\n",
            "  y = column_or_1d(y, warn=True)\n",
            "/usr/local/lib/python3.6/dist-packages/sklearn/linear_model/_logistic.py:940: ConvergenceWarning: lbfgs failed to converge (status=1):\n",
            "STOP: TOTAL NO. of ITERATIONS REACHED LIMIT.\n",
            "\n",
            "Increase the number of iterations (max_iter) or scale the data as shown in:\n",
            "    https://scikit-learn.org/stable/modules/preprocessing.html\n",
            "Please also refer to the documentation for alternative solver options:\n",
            "    https://scikit-learn.org/stable/modules/linear_model.html#logistic-regression\n",
            "  extra_warning_msg=_LOGISTIC_SOLVER_CONVERGENCE_MSG)\n"
          ],
          "name": "stderr"
        }
      ]
    },
    {
      "cell_type": "code",
      "metadata": {
        "id": "pcxbl49VBFFD",
        "colab_type": "code",
        "outputId": "9996ddf8-7114-4a52-be2c-1fb35417d6c2",
        "colab": {
          "base_uri": "https://localhost:8080/",
          "height": 331
        }
      },
      "source": [
        "from sklearn.metrics import confusion_matrix\n",
        "from matplotlib import pyplot as plt\n",
        "\n",
        "conf_mat = confusion_matrix(y_true=y_test, y_pred=y_pred)\n",
        "print('Confusion matrix:\\n', conf_mat)\n",
        "\n",
        "labels = ['Class 0', 'Class 1']\n",
        "fig = plt.figure()\n",
        "ax = fig.add_subplot(111)\n",
        "cax = ax.matshow(conf_mat, cmap=plt.cm.Blues)\n",
        "fig.colorbar(cax)\n",
        "ax.set_xticklabels([''] + labels)\n",
        "ax.set_yticklabels([''] + labels)\n",
        "plt.xlabel('Predicted')\n",
        "plt.ylabel('Expected')\n",
        "plt.show()"
      ],
      "execution_count": 170,
      "outputs": [
        {
          "output_type": "stream",
          "text": [
            "Confusion matrix:\n",
            " [[   180      4]\n",
            " [     4 152003]]\n"
          ],
          "name": "stdout"
        },
        {
          "output_type": "display_data",
          "data": {
            "image/png": "[encoded data removed]",
            "text/plain": [
              "<Figure size 432x288 with 2 Axes>"
            ]
          },
          "metadata": {
            "tags": [],
            "needs_background": "light"
          }
        }
      ]
    },
    {
      "cell_type": "code",
      "metadata": {
        "id": "HTBZlSua6VOW",
        "colab_type": "code",
        "outputId": "a0037dfa-01b8-4341-f860-0949b33aba38",
        "colab": {
          "base_uri": "https://localhost:8080/",
          "height": 34
        }
      },
      "source": [
        "print(\"Accuracy\", metrics.accuracy_score(y_test, y_pred))"
      ],
      "execution_count": 171,
      "outputs": [
        {
          "output_type": "stream",
          "text": [
            "Accuracy 0.9999474344737862\n"
          ],
          "name": "stdout"
        }
      ]
    },
    {
      "cell_type": "code",
      "metadata": {
        "id": "OyYTgj2yWrmp",
        "colab_type": "code",
        "outputId": "9d17a5c2-1f72-4df2-fc4c-dfe7bd13adf1",
        "colab": {
          "base_uri": "https://localhost:8080/",
          "height": 173
        }
      },
      "source": [
        "from sklearn.metrics import classification_report\n",
        "print(classification_report(y_test, y_pred))"
      ],
      "execution_count": 172,
      "outputs": [
        {
          "output_type": "stream",
          "text": [
            "              precision    recall  f1-score   support\n",
            "\n",
            "           0       0.98      0.98      0.98       184\n",
            "           1       1.00      1.00      1.00    152007\n",
            "\n",
            "    accuracy                           1.00    152191\n",
            "   macro avg       0.99      0.99      0.99    152191\n",
            "weighted avg       1.00      1.00      1.00    152191\n",
            "\n"
          ],
          "name": "stdout"
        }
      ]
    },
    {
      "cell_type": "code",
      "metadata": {
        "id": "855_nnUXyLUf",
        "colab_type": "code",
        "colab": {}
      },
      "source": [
        "def plot_roc_curve(fpr, tpr):\n",
        "    plt.plot(fpr, tpr, color='orange', label='ROC')\n",
        "    plt.plot([0, 1], [0, 1], color='darkblue', linestyle='--')\n",
        "    plt.xlabel('False Positive Rate')\n",
        "    plt.ylabel('True Positive Rate')\n",
        "    plt.title('Receiver Operating Characteristic (ROC) Curve')\n",
        "    plt.legend()\n",
        "    plt.show()"
      ],
      "execution_count": 0,
      "outputs": []
    },
    {
      "cell_type": "code",
      "metadata": {
        "id": "sV7MKL4StMwa",
        "colab_type": "code",
        "outputId": "2f294afa-4e38-4023-b7c2-b2361b6906f8",
        "colab": {
          "base_uri": "https://localhost:8080/",
          "height": 34
        }
      },
      "source": [
        "auc = roc_auc_score(y_test, y_pred)\n",
        "auc"
      ],
      "execution_count": 174,
      "outputs": [
        {
          "output_type": "execute_result",
          "data": {
            "text/plain": [
              "0.9891172774937996"
            ]
          },
          "metadata": {
            "tags": []
          },
          "execution_count": 174
        }
      ]
    },
    {
      "cell_type": "code",
      "metadata": {
        "id": "dLbXNKDh8bVo",
        "colab_type": "code",
        "colab": {}
      },
      "source": [
        "fpr, tpr, thresholds = roc_curve(y_test, y_pred)"
      ],
      "execution_count": 0,
      "outputs": []
    },
    {
      "cell_type": "code",
      "metadata": {
        "id": "ZLRZi_LU8okr",
        "colab_type": "code",
        "outputId": "602be5d9-89d3-4c00-c92f-f635706ae620",
        "colab": {
          "base_uri": "https://localhost:8080/",
          "height": 295
        }
      },
      "source": [
        "plot_roc_curve(fpr, tpr)"
      ],
      "execution_count": 176,
      "outputs": [
        {
          "output_type": "display_data",
          "data": {
            "image/png": "[encoded data removed]",
            "text/plain": [
              "<Figure size 432x288 with 1 Axes>"
            ]
          },
          "metadata": {
            "tags": [],
            "needs_background": "light"
          }
        }
      ]
    },
    {
      "cell_type": "code",
      "metadata": {
        "id": "zq3cY5zdNAij",
        "colab_type": "code",
        "colab": {}
      },
      "source": [
        ""
      ],
      "execution_count": 0,
      "outputs": []
    },
    {
      "cell_type": "code",
      "metadata": {
        "id": "7KKo4kZUSSCD",
        "colab_type": "code",
        "colab": {}
      },
      "source": [
        ""
      ],
      "execution_count": 0,
      "outputs": []
    },
    {
      "cell_type": "markdown",
      "metadata": {
        "id": "k3RQYB8WSSSY",
        "colab_type": "text"
      },
      "source": [
        "**KNN**"
      ]
    },
    {
      "cell_type": "code",
      "metadata": {
        "id": "uJNUH0aVSd4P",
        "colab_type": "code",
        "colab": {
          "base_uri": "https://localhost:8080/",
          "height": 72
        },
        "outputId": "21e9cda8-12af-4d00-de29-05d96b25c227"
      },
      "source": [
        "from sklearn.model_selection import train_test_split\n",
        "X_train, X_test, y_train, y_test = train_test_split(X, y, test_size = 0.4, random_state = 0)\n",
        "\n",
        "from sklearn.preprocessing import StandardScaler\n",
        "sc_X = StandardScaler()\n",
        "X_train = sc_X.fit_transform(X_train)\n",
        "X_test = sc_X.transform(X_test)\n",
        "\n",
        "from sklearn.neighbors import KNeighborsClassifier\n",
        "classifier = KNeighborsClassifier(n_neighbors=5,metric='minkowski',p=2)\n",
        "classifier.fit(X_train,y_train)\n",
        "\n",
        "y_pred = classifier.predict(X_test)\n",
        "\n",
        "from sklearn.metrics import confusion_matrix\n",
        "cm = confusion_matrix(y_test,y_pred)"
      ],
      "execution_count": 177,
      "outputs": [
        {
          "output_type": "stream",
          "text": [
            "/usr/local/lib/python3.6/dist-packages/ipykernel_launcher.py:11: DataConversionWarning: A column-vector y was passed when a 1d array was expected. Please change the shape of y to (n_samples, ), for example using ravel().\n",
            "  # This is added back by InteractiveShellApp.init_path()\n"
          ],
          "name": "stderr"
        }
      ]
    },
    {
      "cell_type": "code",
      "metadata": {
        "id": "hSbt7g5MUiPw",
        "colab_type": "code",
        "colab": {
          "base_uri": "https://localhost:8080/",
          "height": 331
        },
        "outputId": "2dbf10e6-242c-4326-846b-167707de6753"
      },
      "source": [
        "conf_mat = confusion_matrix(y_true=y_test, y_pred=y_pred)\n",
        "print('Confusion matrix:\\n', conf_mat)\n",
        "\n",
        "labels = ['Class 0', 'Class 1']\n",
        "fig = plt.figure()\n",
        "ax = fig.add_subplot(111)\n",
        "cax = ax.matshow(conf_mat, cmap=plt.cm.Blues)\n",
        "fig.colorbar(cax)\n",
        "ax.set_xticklabels([''] + labels)\n",
        "ax.set_yticklabels([''] + labels)\n",
        "plt.xlabel('Predicted')\n",
        "plt.ylabel('Expected')\n",
        "plt.show()"
      ],
      "execution_count": 178,
      "outputs": [
        {
          "output_type": "stream",
          "text": [
            "Confusion matrix:\n",
            " [[   183      1]\n",
            " [     0 152007]]\n"
          ],
          "name": "stdout"
        },
        {
          "output_type": "display_data",
          "data": {
            "image/png": "[encoded data removed]",
            "text/plain": [
              "<Figure size 432x288 with 2 Axes>"
            ]
          },
          "metadata": {
            "tags": [],
            "needs_background": "light"
          }
        }
      ]
    },
    {
      "cell_type": "code",
      "metadata": {
        "id": "dqqHccmOU2ex",
        "colab_type": "code",
        "colab": {
          "base_uri": "https://localhost:8080/",
          "height": 34
        },
        "outputId": "954ab9c6-4fc0-4c2c-bc34-cc96eadfd003"
      },
      "source": [
        "print(\"Accuracy\", metrics.accuracy_score(y_test, y_pred))"
      ],
      "execution_count": 179,
      "outputs": [
        {
          "output_type": "stream",
          "text": [
            "Accuracy 0.9999934293092233\n"
          ],
          "name": "stdout"
        }
      ]
    },
    {
      "cell_type": "code",
      "metadata": {
        "id": "53uKOwTRU7E7",
        "colab_type": "code",
        "colab": {
          "base_uri": "https://localhost:8080/",
          "height": 173
        },
        "outputId": "c85ffa57-2f9f-42fc-e24b-bb5d241a6567"
      },
      "source": [
        "from sklearn.metrics import classification_report\n",
        "print(classification_report(y_test, y_pred))"
      ],
      "execution_count": 180,
      "outputs": [
        {
          "output_type": "stream",
          "text": [
            "              precision    recall  f1-score   support\n",
            "\n",
            "           0       1.00      0.99      1.00       184\n",
            "           1       1.00      1.00      1.00    152007\n",
            "\n",
            "    accuracy                           1.00    152191\n",
            "   macro avg       1.00      1.00      1.00    152191\n",
            "weighted avg       1.00      1.00      1.00    152191\n",
            "\n"
          ],
          "name": "stdout"
        }
      ]
    },
    {
      "cell_type": "code",
      "metadata": {
        "id": "e6PmMhZkU_ab",
        "colab_type": "code",
        "colab": {
          "base_uri": "https://localhost:8080/",
          "height": 34
        },
        "outputId": "5d018d9f-9375-4c9d-b460-8a1a58c86a75"
      },
      "source": [
        "auc = roc_auc_score(y_test, y_pred)\n",
        "auc"
      ],
      "execution_count": 181,
      "outputs": [
        {
          "output_type": "execute_result",
          "data": {
            "text/plain": [
              "0.9972826086956521"
            ]
          },
          "metadata": {
            "tags": []
          },
          "execution_count": 181
        }
      ]
    },
    {
      "cell_type": "code",
      "metadata": {
        "id": "XnkRbLiAVER8",
        "colab_type": "code",
        "colab": {
          "base_uri": "https://localhost:8080/",
          "height": 295
        },
        "outputId": "4e181425-b338-40cf-eba1-50d280276046"
      },
      "source": [
        "fpr, tpr, thresholds = roc_curve(y_test, y_pred)\n",
        "plot_roc_curve(fpr, tpr)"
      ],
      "execution_count": 182,
      "outputs": [
        {
          "output_type": "display_data",
          "data": {
            "image/png": "[encoded data removed]",
            "text/plain": [
              "<Figure size 432x288 with 1 Axes>"
            ]
          },
          "metadata": {
            "tags": [],
            "needs_background": "light"
          }
        }
      ]
    },
    {
      "cell_type": "code",
      "metadata": {
        "id": "vtISMU_3VKij",
        "colab_type": "code",
        "colab": {}
      },
      "source": [
        ""
      ],
      "execution_count": 0,
      "outputs": []
    }
  ]
}