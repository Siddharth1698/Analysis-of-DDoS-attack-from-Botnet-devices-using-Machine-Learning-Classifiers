{
 "cells": [
  {
   "cell_type": "code",
   "execution_count": 1,
   "metadata": {},
   "outputs": [],
   "source": [
    "import pandas as pd\n",
    "import numpy as np"
   ]
  },
  {
   "cell_type": "code",
   "execution_count": 2,
   "metadata": {},
   "outputs": [
    {
     "name": "stderr",
     "output_type": "stream",
     "text": [
      "/home/siddharth/anaconda3/lib/python3.7/site-packages/IPython/core/interactiveshell.py:3063: DtypeWarning: Columns (8,10) have mixed types.Specify dtype option on import or set low_memory=False.\n",
      "  interactivity=interactivity, compiler=compiler, result=result)\n"
     ]
    }
   ],
   "source": [
    "df_orginal = pd.read_csv(\"../dataset/DDoSdata.csv\")"
   ]
  },
  {
   "cell_type": "code",
   "execution_count": 3,
   "metadata": {},
   "outputs": [],
   "source": [
    "df = df_orginal.copy()"
   ]
  },
  {
   "cell_type": "code",
   "execution_count": 4,
   "metadata": {},
   "outputs": [
    {
     "data": {
      "text/html": [
       "<div>\n",
       "<style scoped>\n",
       "    .dataframe tbody tr th:only-of-type {\n",
       "        vertical-align: middle;\n",
       "    }\n",
       "\n",
       "    .dataframe tbody tr th {\n",
       "        vertical-align: top;\n",
       "    }\n",
       "\n",
       "    .dataframe thead th {\n",
       "        text-align: right;\n",
       "    }\n",
       "</style>\n",
       "<table border=\"1\" class=\"dataframe\">\n",
       "  <thead>\n",
       "    <tr style=\"text-align: right;\">\n",
       "      <th></th>\n",
       "      <th>Unnamed: 0</th>\n",
       "      <th>pkSeqID</th>\n",
       "      <th>stime</th>\n",
       "      <th>flgs</th>\n",
       "      <th>flgs_number</th>\n",
       "      <th>proto</th>\n",
       "      <th>proto_number</th>\n",
       "      <th>saddr</th>\n",
       "      <th>sport</th>\n",
       "      <th>daddr</th>\n",
       "      <th>...</th>\n",
       "      <th>AR_P_Proto_P_DstIP</th>\n",
       "      <th>N_IN_Conn_P_DstIP</th>\n",
       "      <th>N_IN_Conn_P_SrcIP</th>\n",
       "      <th>AR_P_Proto_P_Sport</th>\n",
       "      <th>AR_P_Proto_P_Dport</th>\n",
       "      <th>Pkts_P_State_P_Protocol_P_DestIP</th>\n",
       "      <th>Pkts_P_State_P_Protocol_P_SrcIP</th>\n",
       "      <th>attack</th>\n",
       "      <th>category</th>\n",
       "      <th>subcategory</th>\n",
       "    </tr>\n",
       "  </thead>\n",
       "  <tbody>\n",
       "    <tr>\n",
       "      <th>0</th>\n",
       "      <td>1650261</td>\n",
       "      <td>1650261</td>\n",
       "      <td>1.528103e+09</td>\n",
       "      <td>e</td>\n",
       "      <td>1</td>\n",
       "      <td>tcp</td>\n",
       "      <td>1</td>\n",
       "      <td>192.168.100.150</td>\n",
       "      <td>54110</td>\n",
       "      <td>192.168.100.3</td>\n",
       "      <td>...</td>\n",
       "      <td>1.21662</td>\n",
       "      <td>40</td>\n",
       "      <td>38</td>\n",
       "      <td>1.56093</td>\n",
       "      <td>1.21662</td>\n",
       "      <td>328</td>\n",
       "      <td>308</td>\n",
       "      <td>1</td>\n",
       "      <td>DDoS</td>\n",
       "      <td>HTTP</td>\n",
       "    </tr>\n",
       "    <tr>\n",
       "      <th>1</th>\n",
       "      <td>1650262</td>\n",
       "      <td>1650262</td>\n",
       "      <td>1.528103e+09</td>\n",
       "      <td>e</td>\n",
       "      <td>1</td>\n",
       "      <td>tcp</td>\n",
       "      <td>1</td>\n",
       "      <td>192.168.100.150</td>\n",
       "      <td>54112</td>\n",
       "      <td>192.168.100.3</td>\n",
       "      <td>...</td>\n",
       "      <td>1.21662</td>\n",
       "      <td>40</td>\n",
       "      <td>38</td>\n",
       "      <td>1.56107</td>\n",
       "      <td>1.21662</td>\n",
       "      <td>328</td>\n",
       "      <td>308</td>\n",
       "      <td>1</td>\n",
       "      <td>DDoS</td>\n",
       "      <td>HTTP</td>\n",
       "    </tr>\n",
       "    <tr>\n",
       "      <th>2</th>\n",
       "      <td>1650263</td>\n",
       "      <td>1650263</td>\n",
       "      <td>1.528103e+09</td>\n",
       "      <td>e</td>\n",
       "      <td>1</td>\n",
       "      <td>tcp</td>\n",
       "      <td>1</td>\n",
       "      <td>192.168.100.150</td>\n",
       "      <td>54114</td>\n",
       "      <td>192.168.100.3</td>\n",
       "      <td>...</td>\n",
       "      <td>1.21662</td>\n",
       "      <td>40</td>\n",
       "      <td>38</td>\n",
       "      <td>1.24980</td>\n",
       "      <td>1.21662</td>\n",
       "      <td>328</td>\n",
       "      <td>308</td>\n",
       "      <td>1</td>\n",
       "      <td>DDoS</td>\n",
       "      <td>HTTP</td>\n",
       "    </tr>\n",
       "    <tr>\n",
       "      <th>3</th>\n",
       "      <td>1650264</td>\n",
       "      <td>1650264</td>\n",
       "      <td>1.528103e+09</td>\n",
       "      <td>e</td>\n",
       "      <td>1</td>\n",
       "      <td>tcp</td>\n",
       "      <td>1</td>\n",
       "      <td>192.168.100.150</td>\n",
       "      <td>54116</td>\n",
       "      <td>192.168.100.3</td>\n",
       "      <td>...</td>\n",
       "      <td>1.21662</td>\n",
       "      <td>40</td>\n",
       "      <td>38</td>\n",
       "      <td>1.24986</td>\n",
       "      <td>1.21662</td>\n",
       "      <td>328</td>\n",
       "      <td>308</td>\n",
       "      <td>1</td>\n",
       "      <td>DDoS</td>\n",
       "      <td>HTTP</td>\n",
       "    </tr>\n",
       "    <tr>\n",
       "      <th>4</th>\n",
       "      <td>1650265</td>\n",
       "      <td>1650265</td>\n",
       "      <td>1.528103e+09</td>\n",
       "      <td>e</td>\n",
       "      <td>1</td>\n",
       "      <td>tcp</td>\n",
       "      <td>1</td>\n",
       "      <td>192.168.100.150</td>\n",
       "      <td>54118</td>\n",
       "      <td>192.168.100.3</td>\n",
       "      <td>...</td>\n",
       "      <td>1.21662</td>\n",
       "      <td>40</td>\n",
       "      <td>38</td>\n",
       "      <td>1.24991</td>\n",
       "      <td>1.21662</td>\n",
       "      <td>328</td>\n",
       "      <td>308</td>\n",
       "      <td>1</td>\n",
       "      <td>DDoS</td>\n",
       "      <td>HTTP</td>\n",
       "    </tr>\n",
       "  </tbody>\n",
       "</table>\n",
       "<p>5 rows × 47 columns</p>\n",
       "</div>"
      ],
      "text/plain": [
       "   Unnamed: 0  pkSeqID         stime flgs  flgs_number proto  proto_number  \\\n",
       "0     1650261  1650261  1.528103e+09    e            1   tcp             1   \n",
       "1     1650262  1650262  1.528103e+09    e            1   tcp             1   \n",
       "2     1650263  1650263  1.528103e+09    e            1   tcp             1   \n",
       "3     1650264  1650264  1.528103e+09    e            1   tcp             1   \n",
       "4     1650265  1650265  1.528103e+09    e            1   tcp             1   \n",
       "\n",
       "             saddr  sport          daddr  ... AR_P_Proto_P_DstIP  \\\n",
       "0  192.168.100.150  54110  192.168.100.3  ...            1.21662   \n",
       "1  192.168.100.150  54112  192.168.100.3  ...            1.21662   \n",
       "2  192.168.100.150  54114  192.168.100.3  ...            1.21662   \n",
       "3  192.168.100.150  54116  192.168.100.3  ...            1.21662   \n",
       "4  192.168.100.150  54118  192.168.100.3  ...            1.21662   \n",
       "\n",
       "   N_IN_Conn_P_DstIP  N_IN_Conn_P_SrcIP AR_P_Proto_P_Sport  \\\n",
       "0                 40                 38            1.56093   \n",
       "1                 40                 38            1.56107   \n",
       "2                 40                 38            1.24980   \n",
       "3                 40                 38            1.24986   \n",
       "4                 40                 38            1.24991   \n",
       "\n",
       "   AR_P_Proto_P_Dport  Pkts_P_State_P_Protocol_P_DestIP  \\\n",
       "0             1.21662                               328   \n",
       "1             1.21662                               328   \n",
       "2             1.21662                               328   \n",
       "3             1.21662                               328   \n",
       "4             1.21662                               328   \n",
       "\n",
       "   Pkts_P_State_P_Protocol_P_SrcIP  attack  category  subcategory  \n",
       "0                              308       1      DDoS         HTTP  \n",
       "1                              308       1      DDoS         HTTP  \n",
       "2                              308       1      DDoS         HTTP  \n",
       "3                              308       1      DDoS         HTTP  \n",
       "4                              308       1      DDoS         HTTP  \n",
       "\n",
       "[5 rows x 47 columns]"
      ]
     },
     "execution_count": 4,
     "metadata": {},
     "output_type": "execute_result"
    }
   ],
   "source": [
    "df.head()"
   ]
  },
  {
   "cell_type": "code",
   "execution_count": 20,
   "metadata": {},
   "outputs": [
    {
     "data": {
      "text/plain": [
       "Index(['Unnamed: 0', 'pkSeqID', 'stime', 'flgs', 'flgs_number', 'proto',\n",
       "       'proto_number', 'saddr', 'sport', 'daddr', 'dport', 'pkts', 'bytes',\n",
       "       'state', 'state_number', 'ltime', 'seq', 'dur', 'mean', 'stddev', 'sum',\n",
       "       'min', 'max', 'spkts', 'dpkts', 'sbytes', 'dbytes', 'rate', 'srate',\n",
       "       'drate', 'TnBPSrcIP', 'TnBPDstIP', 'TnP_PSrcIP', 'TnP_PDstIP',\n",
       "       'TnP_PerProto', 'TnP_Per_Dport', 'AR_P_Proto_P_SrcIP',\n",
       "       'AR_P_Proto_P_DstIP', 'N_IN_Conn_P_DstIP', 'N_IN_Conn_P_SrcIP',\n",
       "       'AR_P_Proto_P_Sport', 'AR_P_Proto_P_Dport',\n",
       "       'Pkts_P_State_P_Protocol_P_DestIP', 'Pkts_P_State_P_Protocol_P_SrcIP',\n",
       "       'attack', 'category', 'subcategory'],\n",
       "      dtype='object')"
      ]
     },
     "execution_count": 20,
     "metadata": {},
     "output_type": "execute_result"
    }
   ],
   "source": [
    "df.columns"
   ]
  },
  {
   "cell_type": "code",
   "execution_count": 68,
   "metadata": {},
   "outputs": [],
   "source": [
    "df.rename(columns = {'mean':'average_dur', 'stddev':'stddev_dur', \n",
    "                              'sum':'total_dur','min':'min_dur','max':'max_dur'}, inplace = True) "
   ]
  },
  {
   "cell_type": "code",
   "execution_count": 69,
   "metadata": {},
   "outputs": [
    {
     "data": {
      "text/plain": [
       "(1927101, 47)"
      ]
     },
     "execution_count": 69,
     "metadata": {},
     "output_type": "execute_result"
    }
   ],
   "source": [
    "df.shape"
   ]
  },
  {
   "cell_type": "code",
   "execution_count": 70,
   "metadata": {},
   "outputs": [
    {
     "data": {
      "text/plain": [
       "array(['tcp', 'arp', 'udp', 'icmp', 'ipv6-icmp'], dtype=object)"
      ]
     },
     "execution_count": 70,
     "metadata": {},
     "output_type": "execute_result"
    }
   ],
   "source": [
    "df.proto.unique()"
   ]
  },
  {
   "cell_type": "code",
   "execution_count": 71,
   "metadata": {},
   "outputs": [
    {
     "data": {
      "text/plain": [
       "e      1129681\n",
       "e s     778517\n",
       "e g      17825\n",
       "e *        809\n",
       "eU         247\n",
       "e d         17\n",
       "e &          5\n",
       "Name: flgs, dtype: int64"
      ]
     },
     "execution_count": 71,
     "metadata": {},
     "output_type": "execute_result"
    }
   ],
   "source": [
    "df.flgs.value_counts()"
   ]
  },
  {
   "cell_type": "code",
   "execution_count": 72,
   "metadata": {},
   "outputs": [
    {
     "data": {
      "text/plain": [
       "1528099338.27983    29\n",
       "1528099353.01837    29\n",
       "1528099339.51717    28\n",
       "1528099327.20760    28\n",
       "1528099323.15023    28\n",
       "                    ..\n",
       "1528102921.38342     1\n",
       "1528099353.64484     1\n",
       "1528099337.69590     1\n",
       "1528099321.76411     1\n",
       "1526348175.32554     1\n",
       "Name: stime, Length: 187071, dtype: int64"
      ]
     },
     "execution_count": 72,
     "metadata": {},
     "output_type": "execute_result"
    }
   ],
   "source": [
    "pd.set_option('display.float_format', lambda x: '%.5f' % x)\n",
    "df.stime.value_counts()"
   ]
  },
  {
   "cell_type": "code",
   "execution_count": 73,
   "metadata": {},
   "outputs": [
    {
     "data": {
      "text/plain": [
       "array([1, 2, 4, 3, 5, 6, 7])"
      ]
     },
     "execution_count": 73,
     "metadata": {},
     "output_type": "execute_result"
    }
   ],
   "source": [
    "df.flgs_number.unique()"
   ]
  },
  {
   "cell_type": "code",
   "execution_count": 74,
   "metadata": {},
   "outputs": [
    {
     "data": {
      "text/plain": [
       "192.168.100.147    520012\n",
       "192.168.100.148    494696\n",
       "192.168.100.150    457002\n",
       "192.168.100.149    451641\n",
       "192.168.100.3        3625\n",
       "Name: saddr, dtype: int64"
      ]
     },
     "execution_count": 74,
     "metadata": {},
     "output_type": "execute_result"
    }
   ],
   "source": [
    "df.saddr.value_counts()[:5]"
   ]
  },
  {
   "cell_type": "code",
   "execution_count": 19,
   "metadata": {},
   "outputs": [
    {
     "data": {
      "text/plain": [
       "192.168.100.3      1923162\n",
       "192.168.100.147       1340\n",
       "192.168.100.150       1317\n",
       "192.168.100.149        583\n",
       "192.168.100.148        250\n",
       "Name: daddr, dtype: int64"
      ]
     },
     "execution_count": 19,
     "metadata": {},
     "output_type": "execute_result"
    }
   ],
   "source": [
    "df.daddr.value_counts()[:5]"
   ]
  },
  {
   "cell_type": "code",
   "execution_count": 38,
   "metadata": {},
   "outputs": [
    {
     "data": {
      "text/plain": [
       " 80       3496\n",
       "-1          81\n",
       " 5353       43\n",
       " 8612       32\n",
       " 59552      32\n",
       "Name: sport, dtype: int64"
      ]
     },
     "execution_count": 38,
     "metadata": {},
     "output_type": "execute_result"
    }
   ],
   "source": [
    "df.sport.value_counts()[:5]"
   ]
  },
  {
   "cell_type": "code",
   "execution_count": 39,
   "metadata": {},
   "outputs": [
    {
     "data": {
      "text/plain": [
       "80      1710165\n",
       "80       212975\n",
       "53          251\n",
       "-1           81\n",
       "5353         65\n",
       "Name: dport, dtype: int64"
      ]
     },
     "execution_count": 39,
     "metadata": {},
     "output_type": "execute_result"
    }
   ],
   "source": [
    "df.dport.value_counts()[:5]"
   ]
  },
  {
   "cell_type": "code",
   "execution_count": 43,
   "metadata": {},
   "outputs": [
    {
     "data": {
      "text/plain": [
       "7        296451\n",
       "6        253330\n",
       "5        208627\n",
       "4        190894\n",
       "8        188133\n",
       "          ...  \n",
       "14751         1\n",
       "20881         1\n",
       "7586          1\n",
       "3492          1\n",
       "97            1\n",
       "Name: pkts, Length: 75, dtype: int64"
      ]
     },
     "execution_count": 43,
     "metadata": {},
     "output_type": "execute_result"
    }
   ],
   "source": [
    "df.pkts.value_counts()"
   ]
  },
  {
   "cell_type": "code",
   "execution_count": 45,
   "metadata": {},
   "outputs": [
    {
     "data": {
      "text/plain": [
       "count   1927101.00000\n",
       "mean          7.91394\n",
       "std         159.19746\n",
       "min           1.00000\n",
       "25%           5.00000\n",
       "50%           7.00000\n",
       "75%          10.00000\n",
       "max       70057.00000\n",
       "Name: pkts, dtype: float64"
      ]
     },
     "execution_count": 45,
     "metadata": {},
     "output_type": "execute_result"
    }
   ],
   "source": [
    "df.pkts.describe()"
   ]
  },
  {
   "cell_type": "code",
   "execution_count": 40,
   "metadata": {},
   "outputs": [
    {
     "data": {
      "text/plain": [
       "420         183844\n",
       "770         159099\n",
       "480         141146\n",
       "616         138020\n",
       "900         135767\n",
       "             ...  \n",
       "845              1\n",
       "17131488         1\n",
       "1587             1\n",
       "4660             1\n",
       "3060             1\n",
       "Name: bytes, Length: 626, dtype: int64"
      ]
     },
     "execution_count": 40,
     "metadata": {},
     "output_type": "execute_result"
    }
   ],
   "source": [
    "df.bytes.value_counts()"
   ]
  },
  {
   "cell_type": "code",
   "execution_count": 42,
   "metadata": {},
   "outputs": [
    {
     "data": {
      "text/plain": [
       "count    1927101.00000\n",
       "mean        1126.11307\n",
       "std       154895.09592\n",
       "min           60.00000\n",
       "25%          420.00000\n",
       "50%          616.00000\n",
       "75%          780.00000\n",
       "max     71833345.00000\n",
       "Name: bytes, dtype: float64"
      ]
     },
     "execution_count": 42,
     "metadata": {},
     "output_type": "execute_result"
    }
   ],
   "source": [
    "df.bytes.describe()"
   ]
  },
  {
   "cell_type": "code",
   "execution_count": 47,
   "metadata": {},
   "outputs": [
    {
     "data": {
      "text/plain": [
       "array(['RST', 'CON', 'FIN', 'REQ', 'ACC', 'INT', 'URP', 'NRS'],\n",
       "      dtype=object)"
      ]
     },
     "execution_count": 47,
     "metadata": {},
     "output_type": "execute_result"
    }
   ],
   "source": [
    "df.state.unique()"
   ]
  },
  {
   "cell_type": "code",
   "execution_count": 50,
   "metadata": {},
   "outputs": [
    {
     "data": {
      "text/plain": [
       "array([1, 2, 6, 3, 7, 4, 5, 8])"
      ]
     },
     "execution_count": 50,
     "metadata": {},
     "output_type": "execute_result"
    }
   ],
   "source": [
    "df.state_number.unique()"
   ]
  },
  {
   "cell_type": "code",
   "execution_count": 51,
   "metadata": {},
   "outputs": [
    {
     "data": {
      "text/plain": [
       "0         1528102927.75104\n",
       "1         1528102927.75106\n",
       "2         1528102927.75109\n",
       "3         1528102927.75111\n",
       "4         1528102927.75114\n",
       "                ...       \n",
       "1927096   1526351824.66770\n",
       "1927097   1526351824.86374\n",
       "1927098   1526351825.12750\n",
       "1927099   1526351825.27450\n",
       "1927100   1526351825.27437\n",
       "Name: ltime, Length: 1927101, dtype: float64"
      ]
     },
     "execution_count": 51,
     "metadata": {},
     "output_type": "execute_result"
    }
   ],
   "source": [
    "df.ltime"
   ]
  },
  {
   "cell_type": "code",
   "execution_count": 53,
   "metadata": {},
   "outputs": [
    {
     "data": {
      "text/plain": [
       "1         11\n",
       "2         11\n",
       "41        11\n",
       "14        11\n",
       "7         11\n",
       "          ..\n",
       "262162     1\n",
       "262167     1\n",
       "262168     1\n",
       "262164     1\n",
       "262165     1\n",
       "Name: seq, Length: 262168, dtype: int64"
      ]
     },
     "execution_count": 53,
     "metadata": {},
     "output_type": "execute_result"
    }
   ],
   "source": [
    "df.seq.value_counts()"
   ]
  },
  {
   "cell_type": "code",
   "execution_count": 55,
   "metadata": {},
   "outputs": [
    {
     "data": {
      "text/plain": [
       "0.00000     84317\n",
       "12.16235      182\n",
       "12.38465      169\n",
       "13.96231      167\n",
       "12.38396      166\n",
       "            ...  \n",
       "6.40681         1\n",
       "14.41112        1\n",
       "13.80980        1\n",
       "13.40667        1\n",
       "9.62721         1\n",
       "Name: dur, Length: 369058, dtype: int64"
      ]
     },
     "execution_count": 55,
     "metadata": {},
     "output_type": "execute_result"
    }
   ],
   "source": [
    "df.dur.value_counts()"
   ]
  },
  {
   "cell_type": "code",
   "execution_count": 57,
   "metadata": {},
   "outputs": [
    {
     "data": {
      "text/plain": [
       "count   1927101.00000\n",
       "mean         14.84886\n",
       "std          12.38456\n",
       "min           0.00000\n",
       "25%          12.12153\n",
       "50%          13.68344\n",
       "75%          14.54814\n",
       "max        1940.85925\n",
       "Name: dur, dtype: float64"
      ]
     },
     "execution_count": 57,
     "metadata": {},
     "output_type": "execute_result"
    }
   ],
   "source": [
    "df.dur.describe()"
   ]
  },
  {
   "cell_type": "code",
   "execution_count": 75,
   "metadata": {},
   "outputs": [
    {
     "data": {
      "text/plain": [
       "count   1927101.00000\n",
       "mean          2.54913\n",
       "std           1.40456\n",
       "min           0.00000\n",
       "25%           2.01583\n",
       "50%           2.75968\n",
       "75%           3.65985\n",
       "max           4.98188\n",
       "Name: average_dur, dtype: float64"
      ]
     },
     "execution_count": 75,
     "metadata": {},
     "output_type": "execute_result"
    }
   ],
   "source": [
    "df.average_dur.describe()"
   ]
  },
  {
   "cell_type": "code",
   "execution_count": 76,
   "metadata": {},
   "outputs": [
    {
     "data": {
      "text/plain": [
       "count   1927101.00000\n",
       "mean          0.94513\n",
       "std           0.75185\n",
       "min           0.00000\n",
       "25%           0.12290\n",
       "50%           0.93757\n",
       "75%           1.69005\n",
       "max           2.49676\n",
       "Name: stddev_dur, dtype: float64"
      ]
     },
     "execution_count": 76,
     "metadata": {},
     "output_type": "execute_result"
    }
   ],
   "source": [
    "df.stddev_dur.describe()"
   ]
  },
  {
   "cell_type": "code",
   "execution_count": 79,
   "metadata": {},
   "outputs": [
    {
     "data": {
      "text/plain": [
       "count   1927101.00000\n",
       "mean          7.25685\n",
       "std           8.14079\n",
       "min           0.00000\n",
       "25%           4.53265\n",
       "50%           8.11673\n",
       "75%          10.52108\n",
       "max        1913.19360\n",
       "Name: total_dur, dtype: float64"
      ]
     },
     "execution_count": 79,
     "metadata": {},
     "output_type": "execute_result"
    }
   ],
   "source": [
    "df.total_dur.describe()"
   ]
  },
  {
   "cell_type": "code",
   "execution_count": 82,
   "metadata": {},
   "outputs": [
    {
     "data": {
      "text/plain": [
       "count   1927101.00000\n",
       "mean          1.30163\n",
       "std           1.49103\n",
       "min           0.00000\n",
       "25%           0.00000\n",
       "50%           0.16957\n",
       "75%           2.76341\n",
       "max           4.98047\n",
       "Name: min_dur, dtype: float64"
      ]
     },
     "execution_count": 82,
     "metadata": {},
     "output_type": "execute_result"
    }
   ],
   "source": [
    "df.min_dur.describe()"
   ]
  },
  {
   "cell_type": "code",
   "execution_count": null,
   "metadata": {},
   "outputs": [],
   "source": []
  },
  {
   "cell_type": "code",
   "execution_count": 78,
   "metadata": {},
   "outputs": [
    {
     "data": {
      "text/plain": [
       "Index(['Unnamed: 0', 'pkSeqID', 'stime', 'flgs', 'flgs_number', 'proto',\n",
       "       'proto_number', 'saddr', 'sport', 'daddr', 'dport', 'pkts', 'bytes',\n",
       "       'state', 'state_number', 'ltime', 'seq', 'dur', 'average_dur',\n",
       "       'stddev_dur', 'total_dur', 'min_dur', 'max_dur', 'spkts', 'dpkts',\n",
       "       'sbytes', 'dbytes', 'rate', 'srate', 'drate', 'TnBPSrcIP', 'TnBPDstIP',\n",
       "       'TnP_PSrcIP', 'TnP_PDstIP', 'TnP_PerProto', 'TnP_Per_Dport',\n",
       "       'AR_P_Proto_P_SrcIP', 'AR_P_Proto_P_DstIP', 'N_IN_Conn_P_DstIP',\n",
       "       'N_IN_Conn_P_SrcIP', 'AR_P_Proto_P_Sport', 'AR_P_Proto_P_Dport',\n",
       "       'Pkts_P_State_P_Protocol_P_DestIP', 'Pkts_P_State_P_Protocol_P_SrcIP',\n",
       "       'attack', 'category', 'subcategory'],\n",
       "      dtype='object')"
      ]
     },
     "execution_count": 78,
     "metadata": {},
     "output_type": "execute_result"
    }
   ],
   "source": [
    "df.columns"
   ]
  },
  {
   "cell_type": "code",
   "execution_count": null,
   "metadata": {},
   "outputs": [],
   "source": []
  }
 ],
 "metadata": {
  "kernelspec": {
   "display_name": "Python 3",
   "language": "python",
   "name": "python3"
  },
  "language_info": {
   "codemirror_mode": {
    "name": "ipython",
    "version": 3
   },
   "file_extension": ".py",
   "mimetype": "text/x-python",
   "name": "python",
   "nbconvert_exporter": "python",
   "pygments_lexer": "ipython3",
   "version": "3.7.6"
  }
 },
 "nbformat": 4,
 "nbformat_minor": 4
}
