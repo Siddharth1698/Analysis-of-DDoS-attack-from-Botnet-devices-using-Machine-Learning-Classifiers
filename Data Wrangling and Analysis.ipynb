{
 "cells": [
  {
   "cell_type": "markdown",
   "metadata": {},
   "source": [
    "#  DATA WRANGLING AND ANALYSIS\n",
    "\n",
    "#### Data wrangling is the process of cleaning, structuring and enriching raw data into a desired format for better decision making in less time. Data wrangling is increasingly ubiquitous at today’s top firms. Data has become more diverse and unstructured, demanding increased time spent culling, cleaning, and organizing data ahead of broader analysis. At the same time, with data informing just about every business decision, business users have less time to wait on technical resources for prepared data.\n",
    "\n",
    "####  Data analysis is the process of collecting and organizing data in order to draw helpful conclusions from it. The process of data analysis uses analytical and logical reasoning to gain information from the data. The main purpose of data analysis is to find meaning in data so that the derived knowledge can be used to make informed decisions."
   ]
  },
  {
   "cell_type": "markdown",
   "metadata": {},
   "source": [
    "## UNDERSTANDING THE DATASET"
   ]
  },
  {
   "cell_type": "markdown",
   "metadata": {},
   "source": [
    "### THE DATASET IS DIVIDED INTO TWO FEATURE SETS WHICH ARE COMBINED TOGETHER :\n",
    " #### 1. Basic Features\n",
    " #### 2. Flow based Features\n"
   ]
  },
  {
   "cell_type": "markdown",
   "metadata": {},
   "source": [
    "## BASIC FEATURES"
   ]
  },
  {
   "cell_type": "markdown",
   "metadata": {},
   "source": [
    "<img src=\"images/feature.jpg\">"
   ]
  },
  {
   "cell_type": "markdown",
   "metadata": {},
   "source": [
    "#### The basic features are from column 0 to 29 and last three columns"
   ]
  },
  {
   "cell_type": "markdown",
   "metadata": {},
   "source": [
    "### Data Wrangling on Basic Features"
   ]
  },
  {
   "cell_type": "code",
   "execution_count": null,
   "metadata": {},
   "outputs": [],
   "source": [
    "import pandas as pd\n",
    "import numpy as np"
   ]
  },
  {
   "cell_type": "code",
   "execution_count": 2,
   "metadata": {},
   "outputs": [
    {
     "name": "stderr",
     "output_type": "stream",
     "text": [
      "/home/siddharth/anaconda3/lib/python3.7/site-packages/IPython/core/interactiveshell.py:3063: DtypeWarning: Columns (8,10) have mixed types.Specify dtype option on import or set low_memory=False.\n",
      "  interactivity=interactivity, compiler=compiler, result=result)\n"
     ]
    }
   ],
   "source": [
    "df_orginal = pd.read_csv(\"../dataset/DDoSdata.csv\")"
   ]
  },
  {
   "cell_type": "code",
   "execution_count": 48,
   "metadata": {},
   "outputs": [],
   "source": [
    "df = df_orginal.copy()"
   ]
  },
  {
   "cell_type": "code",
   "execution_count": 49,
   "metadata": {},
   "outputs": [
    {
     "data": {
      "text/html": [
       "<div>\n",
       "<style scoped>\n",
       "    .dataframe tbody tr th:only-of-type {\n",
       "        vertical-align: middle;\n",
       "    }\n",
       "\n",
       "    .dataframe tbody tr th {\n",
       "        vertical-align: top;\n",
       "    }\n",
       "\n",
       "    .dataframe thead th {\n",
       "        text-align: right;\n",
       "    }\n",
       "</style>\n",
       "<table border=\"1\" class=\"dataframe\">\n",
       "  <thead>\n",
       "    <tr style=\"text-align: right;\">\n",
       "      <th></th>\n",
       "      <th>Unnamed: 0</th>\n",
       "      <th>pkSeqID</th>\n",
       "      <th>stime</th>\n",
       "      <th>flgs</th>\n",
       "      <th>flgs_number</th>\n",
       "      <th>proto</th>\n",
       "      <th>proto_number</th>\n",
       "      <th>saddr</th>\n",
       "      <th>sport</th>\n",
       "      <th>daddr</th>\n",
       "      <th>...</th>\n",
       "      <th>AR_P_Proto_P_DstIP</th>\n",
       "      <th>N_IN_Conn_P_DstIP</th>\n",
       "      <th>N_IN_Conn_P_SrcIP</th>\n",
       "      <th>AR_P_Proto_P_Sport</th>\n",
       "      <th>AR_P_Proto_P_Dport</th>\n",
       "      <th>Pkts_P_State_P_Protocol_P_DestIP</th>\n",
       "      <th>Pkts_P_State_P_Protocol_P_SrcIP</th>\n",
       "      <th>attack</th>\n",
       "      <th>category</th>\n",
       "      <th>subcategory</th>\n",
       "    </tr>\n",
       "  </thead>\n",
       "  <tbody>\n",
       "    <tr>\n",
       "      <th>0</th>\n",
       "      <td>1650261</td>\n",
       "      <td>1650261</td>\n",
       "      <td>1528102921.34461</td>\n",
       "      <td>e</td>\n",
       "      <td>1</td>\n",
       "      <td>tcp</td>\n",
       "      <td>1</td>\n",
       "      <td>192.168.100.150</td>\n",
       "      <td>54110</td>\n",
       "      <td>192.168.100.3</td>\n",
       "      <td>...</td>\n",
       "      <td>1.21662</td>\n",
       "      <td>40</td>\n",
       "      <td>38</td>\n",
       "      <td>1.56093</td>\n",
       "      <td>1.21662</td>\n",
       "      <td>328</td>\n",
       "      <td>308</td>\n",
       "      <td>1</td>\n",
       "      <td>DDoS</td>\n",
       "      <td>HTTP</td>\n",
       "    </tr>\n",
       "    <tr>\n",
       "      <th>1</th>\n",
       "      <td>1650262</td>\n",
       "      <td>1650262</td>\n",
       "      <td>1528102921.34521</td>\n",
       "      <td>e</td>\n",
       "      <td>1</td>\n",
       "      <td>tcp</td>\n",
       "      <td>1</td>\n",
       "      <td>192.168.100.150</td>\n",
       "      <td>54112</td>\n",
       "      <td>192.168.100.3</td>\n",
       "      <td>...</td>\n",
       "      <td>1.21662</td>\n",
       "      <td>40</td>\n",
       "      <td>38</td>\n",
       "      <td>1.56107</td>\n",
       "      <td>1.21662</td>\n",
       "      <td>328</td>\n",
       "      <td>308</td>\n",
       "      <td>1</td>\n",
       "      <td>DDoS</td>\n",
       "      <td>HTTP</td>\n",
       "    </tr>\n",
       "    <tr>\n",
       "      <th>2</th>\n",
       "      <td>1650263</td>\n",
       "      <td>1650263</td>\n",
       "      <td>1528102921.35005</td>\n",
       "      <td>e</td>\n",
       "      <td>1</td>\n",
       "      <td>tcp</td>\n",
       "      <td>1</td>\n",
       "      <td>192.168.100.150</td>\n",
       "      <td>54114</td>\n",
       "      <td>192.168.100.3</td>\n",
       "      <td>...</td>\n",
       "      <td>1.21662</td>\n",
       "      <td>40</td>\n",
       "      <td>38</td>\n",
       "      <td>1.24980</td>\n",
       "      <td>1.21662</td>\n",
       "      <td>328</td>\n",
       "      <td>308</td>\n",
       "      <td>1</td>\n",
       "      <td>DDoS</td>\n",
       "      <td>HTTP</td>\n",
       "    </tr>\n",
       "    <tr>\n",
       "      <th>3</th>\n",
       "      <td>1650264</td>\n",
       "      <td>1650264</td>\n",
       "      <td>1528102921.35041</td>\n",
       "      <td>e</td>\n",
       "      <td>1</td>\n",
       "      <td>tcp</td>\n",
       "      <td>1</td>\n",
       "      <td>192.168.100.150</td>\n",
       "      <td>54116</td>\n",
       "      <td>192.168.100.3</td>\n",
       "      <td>...</td>\n",
       "      <td>1.21662</td>\n",
       "      <td>40</td>\n",
       "      <td>38</td>\n",
       "      <td>1.24986</td>\n",
       "      <td>1.21662</td>\n",
       "      <td>328</td>\n",
       "      <td>308</td>\n",
       "      <td>1</td>\n",
       "      <td>DDoS</td>\n",
       "      <td>HTTP</td>\n",
       "    </tr>\n",
       "    <tr>\n",
       "      <th>4</th>\n",
       "      <td>1650265</td>\n",
       "      <td>1650265</td>\n",
       "      <td>1528102921.35066</td>\n",
       "      <td>e</td>\n",
       "      <td>1</td>\n",
       "      <td>tcp</td>\n",
       "      <td>1</td>\n",
       "      <td>192.168.100.150</td>\n",
       "      <td>54118</td>\n",
       "      <td>192.168.100.3</td>\n",
       "      <td>...</td>\n",
       "      <td>1.21662</td>\n",
       "      <td>40</td>\n",
       "      <td>38</td>\n",
       "      <td>1.24991</td>\n",
       "      <td>1.21662</td>\n",
       "      <td>328</td>\n",
       "      <td>308</td>\n",
       "      <td>1</td>\n",
       "      <td>DDoS</td>\n",
       "      <td>HTTP</td>\n",
       "    </tr>\n",
       "  </tbody>\n",
       "</table>\n",
       "<p>5 rows × 47 columns</p>\n",
       "</div>"
      ],
      "text/plain": [
       "   Unnamed: 0  pkSeqID            stime flgs  flgs_number proto  proto_number  \\\n",
       "0     1650261  1650261 1528102921.34461    e            1   tcp             1   \n",
       "1     1650262  1650262 1528102921.34521    e            1   tcp             1   \n",
       "2     1650263  1650263 1528102921.35005    e            1   tcp             1   \n",
       "3     1650264  1650264 1528102921.35041    e            1   tcp             1   \n",
       "4     1650265  1650265 1528102921.35066    e            1   tcp             1   \n",
       "\n",
       "             saddr  sport          daddr  ... AR_P_Proto_P_DstIP  \\\n",
       "0  192.168.100.150  54110  192.168.100.3  ...            1.21662   \n",
       "1  192.168.100.150  54112  192.168.100.3  ...            1.21662   \n",
       "2  192.168.100.150  54114  192.168.100.3  ...            1.21662   \n",
       "3  192.168.100.150  54116  192.168.100.3  ...            1.21662   \n",
       "4  192.168.100.150  54118  192.168.100.3  ...            1.21662   \n",
       "\n",
       "   N_IN_Conn_P_DstIP  N_IN_Conn_P_SrcIP AR_P_Proto_P_Sport  \\\n",
       "0                 40                 38            1.56093   \n",
       "1                 40                 38            1.56107   \n",
       "2                 40                 38            1.24980   \n",
       "3                 40                 38            1.24986   \n",
       "4                 40                 38            1.24991   \n",
       "\n",
       "   AR_P_Proto_P_Dport  Pkts_P_State_P_Protocol_P_DestIP  \\\n",
       "0             1.21662                               328   \n",
       "1             1.21662                               328   \n",
       "2             1.21662                               328   \n",
       "3             1.21662                               328   \n",
       "4             1.21662                               328   \n",
       "\n",
       "   Pkts_P_State_P_Protocol_P_SrcIP  attack  category  subcategory  \n",
       "0                              308       1      DDoS         HTTP  \n",
       "1                              308       1      DDoS         HTTP  \n",
       "2                              308       1      DDoS         HTTP  \n",
       "3                              308       1      DDoS         HTTP  \n",
       "4                              308       1      DDoS         HTTP  \n",
       "\n",
       "[5 rows x 47 columns]"
      ]
     },
     "execution_count": 49,
     "metadata": {},
     "output_type": "execute_result"
    }
   ],
   "source": [
    "df.head()"
   ]
  },
  {
   "cell_type": "code",
   "execution_count": 50,
   "metadata": {},
   "outputs": [
    {
     "data": {
      "text/plain": [
       "Index(['Unnamed: 0', 'pkSeqID', 'stime', 'flgs', 'flgs_number', 'proto',\n",
       "       'proto_number', 'saddr', 'sport', 'daddr', 'dport', 'pkts', 'bytes',\n",
       "       'state', 'state_number', 'ltime', 'seq', 'dur', 'mean', 'stddev', 'sum',\n",
       "       'min', 'max', 'spkts', 'dpkts', 'sbytes', 'dbytes', 'rate', 'srate',\n",
       "       'drate', 'TnBPSrcIP', 'TnBPDstIP', 'TnP_PSrcIP', 'TnP_PDstIP',\n",
       "       'TnP_PerProto', 'TnP_Per_Dport', 'AR_P_Proto_P_SrcIP',\n",
       "       'AR_P_Proto_P_DstIP', 'N_IN_Conn_P_DstIP', 'N_IN_Conn_P_SrcIP',\n",
       "       'AR_P_Proto_P_Sport', 'AR_P_Proto_P_Dport',\n",
       "       'Pkts_P_State_P_Protocol_P_DestIP', 'Pkts_P_State_P_Protocol_P_SrcIP',\n",
       "       'attack', 'category', 'subcategory'],\n",
       "      dtype='object')"
      ]
     },
     "execution_count": 50,
     "metadata": {},
     "output_type": "execute_result"
    }
   ],
   "source": [
    "df.columns"
   ]
  },
  {
   "cell_type": "code",
   "execution_count": 51,
   "metadata": {},
   "outputs": [],
   "source": [
    "df.rename(columns = {'mean':'average_dur', 'stddev':'stddev_dur', \n",
    "                              'sum':'total_dur','min':'min_dur','max':'max_dur'}, inplace = True) "
   ]
  },
  {
   "cell_type": "code",
   "execution_count": 52,
   "metadata": {},
   "outputs": [
    {
     "data": {
      "text/plain": [
       "(1927101, 47)"
      ]
     },
     "execution_count": 52,
     "metadata": {},
     "output_type": "execute_result"
    }
   ],
   "source": [
    "df.shape"
   ]
  },
  {
   "cell_type": "code",
   "execution_count": 53,
   "metadata": {},
   "outputs": [
    {
     "data": {
      "text/plain": [
       "array(['tcp', 'arp', 'udp', 'icmp', 'ipv6-icmp'], dtype=object)"
      ]
     },
     "execution_count": 53,
     "metadata": {},
     "output_type": "execute_result"
    }
   ],
   "source": [
    "df.proto.unique()"
   ]
  },
  {
   "cell_type": "code",
   "execution_count": 54,
   "metadata": {},
   "outputs": [
    {
     "data": {
      "text/plain": [
       "e      1129681\n",
       "e s     778517\n",
       "e g      17825\n",
       "e *        809\n",
       "eU         247\n",
       "e d         17\n",
       "e &          5\n",
       "Name: flgs, dtype: int64"
      ]
     },
     "execution_count": 54,
     "metadata": {},
     "output_type": "execute_result"
    }
   ],
   "source": [
    "df.flgs.value_counts()"
   ]
  },
  {
   "cell_type": "code",
   "execution_count": 55,
   "metadata": {},
   "outputs": [
    {
     "data": {
      "text/plain": [
       "1528099338.27983    29\n",
       "1528099353.01837    29\n",
       "1528099339.51717    28\n",
       "1528099327.20760    28\n",
       "1528099323.15023    28\n",
       "                    ..\n",
       "1528102921.38342     1\n",
       "1528099353.64484     1\n",
       "1528099337.69590     1\n",
       "1528099321.76411     1\n",
       "1526348175.32554     1\n",
       "Name: stime, Length: 187071, dtype: int64"
      ]
     },
     "execution_count": 55,
     "metadata": {},
     "output_type": "execute_result"
    }
   ],
   "source": [
    "pd.set_option('display.float_format', lambda x: '%.5f' % x)\n",
    "df.stime.value_counts()"
   ]
  },
  {
   "cell_type": "code",
   "execution_count": 56,
   "metadata": {},
   "outputs": [
    {
     "data": {
      "text/plain": [
       "array([1, 2, 4, 3, 5, 6, 7])"
      ]
     },
     "execution_count": 56,
     "metadata": {},
     "output_type": "execute_result"
    }
   ],
   "source": [
    "df.flgs_number.unique()"
   ]
  },
  {
   "cell_type": "code",
   "execution_count": 57,
   "metadata": {},
   "outputs": [
    {
     "data": {
      "text/plain": [
       "192.168.100.147    520012\n",
       "192.168.100.148    494696\n",
       "192.168.100.150    457002\n",
       "192.168.100.149    451641\n",
       "192.168.100.3        3625\n",
       "Name: saddr, dtype: int64"
      ]
     },
     "execution_count": 57,
     "metadata": {},
     "output_type": "execute_result"
    }
   ],
   "source": [
    "df.saddr.value_counts()[:5]"
   ]
  },
  {
   "cell_type": "code",
   "execution_count": 58,
   "metadata": {},
   "outputs": [
    {
     "data": {
      "text/plain": [
       "192.168.100.3      1923162\n",
       "192.168.100.147       1340\n",
       "192.168.100.150       1317\n",
       "192.168.100.149        583\n",
       "192.168.100.148        250\n",
       "Name: daddr, dtype: int64"
      ]
     },
     "execution_count": 58,
     "metadata": {},
     "output_type": "execute_result"
    }
   ],
   "source": [
    "df.daddr.value_counts()[:5]"
   ]
  },
  {
   "cell_type": "code",
   "execution_count": 59,
   "metadata": {},
   "outputs": [
    {
     "data": {
      "text/plain": [
       " 80       3496\n",
       "-1          81\n",
       " 5353       43\n",
       " 8612       32\n",
       " 59552      32\n",
       "Name: sport, dtype: int64"
      ]
     },
     "execution_count": 59,
     "metadata": {},
     "output_type": "execute_result"
    }
   ],
   "source": [
    "df.sport.value_counts()[:5]"
   ]
  },
  {
   "cell_type": "code",
   "execution_count": 60,
   "metadata": {},
   "outputs": [
    {
     "data": {
      "text/plain": [
       "80      1710165\n",
       "80       212975\n",
       "53          251\n",
       "-1           81\n",
       "5353         65\n",
       "Name: dport, dtype: int64"
      ]
     },
     "execution_count": 60,
     "metadata": {},
     "output_type": "execute_result"
    }
   ],
   "source": [
    "df.dport.value_counts()[:5]"
   ]
  },
  {
   "cell_type": "code",
   "execution_count": 61,
   "metadata": {},
   "outputs": [
    {
     "data": {
      "text/plain": [
       "7        296451\n",
       "6        253330\n",
       "5        208627\n",
       "4        190894\n",
       "8        188133\n",
       "          ...  \n",
       "14751         1\n",
       "20881         1\n",
       "7586          1\n",
       "3492          1\n",
       "97            1\n",
       "Name: pkts, Length: 75, dtype: int64"
      ]
     },
     "execution_count": 61,
     "metadata": {},
     "output_type": "execute_result"
    }
   ],
   "source": [
    "df.pkts.value_counts()"
   ]
  },
  {
   "cell_type": "code",
   "execution_count": 62,
   "metadata": {},
   "outputs": [
    {
     "data": {
      "text/plain": [
       "count   1927101.00000\n",
       "mean          7.91394\n",
       "std         159.19746\n",
       "min           1.00000\n",
       "25%           5.00000\n",
       "50%           7.00000\n",
       "75%          10.00000\n",
       "max       70057.00000\n",
       "Name: pkts, dtype: float64"
      ]
     },
     "execution_count": 62,
     "metadata": {},
     "output_type": "execute_result"
    }
   ],
   "source": [
    "df.pkts.describe()"
   ]
  },
  {
   "cell_type": "code",
   "execution_count": 63,
   "metadata": {},
   "outputs": [
    {
     "data": {
      "text/plain": [
       "420         183844\n",
       "770         159099\n",
       "480         141146\n",
       "616         138020\n",
       "900         135767\n",
       "             ...  \n",
       "845              1\n",
       "17131488         1\n",
       "1587             1\n",
       "4660             1\n",
       "3060             1\n",
       "Name: bytes, Length: 626, dtype: int64"
      ]
     },
     "execution_count": 63,
     "metadata": {},
     "output_type": "execute_result"
    }
   ],
   "source": [
    "df.bytes.value_counts()"
   ]
  },
  {
   "cell_type": "code",
   "execution_count": 64,
   "metadata": {},
   "outputs": [
    {
     "data": {
      "text/plain": [
       "count    1927101.00000\n",
       "mean        1126.11307\n",
       "std       154895.09592\n",
       "min           60.00000\n",
       "25%          420.00000\n",
       "50%          616.00000\n",
       "75%          780.00000\n",
       "max     71833345.00000\n",
       "Name: bytes, dtype: float64"
      ]
     },
     "execution_count": 64,
     "metadata": {},
     "output_type": "execute_result"
    }
   ],
   "source": [
    "df.bytes.describe()"
   ]
  },
  {
   "cell_type": "code",
   "execution_count": 65,
   "metadata": {},
   "outputs": [
    {
     "data": {
      "text/plain": [
       "array(['RST', 'CON', 'FIN', 'REQ', 'ACC', 'INT', 'URP', 'NRS'],\n",
       "      dtype=object)"
      ]
     },
     "execution_count": 65,
     "metadata": {},
     "output_type": "execute_result"
    }
   ],
   "source": [
    "df.state.unique()"
   ]
  },
  {
   "cell_type": "code",
   "execution_count": 66,
   "metadata": {},
   "outputs": [
    {
     "data": {
      "text/plain": [
       "array([1, 2, 6, 3, 7, 4, 5, 8])"
      ]
     },
     "execution_count": 66,
     "metadata": {},
     "output_type": "execute_result"
    }
   ],
   "source": [
    "df.state_number.unique()"
   ]
  },
  {
   "cell_type": "code",
   "execution_count": 67,
   "metadata": {},
   "outputs": [
    {
     "data": {
      "text/plain": [
       "0         1528102927.75104\n",
       "1         1528102927.75106\n",
       "2         1528102927.75109\n",
       "3         1528102927.75111\n",
       "4         1528102927.75114\n",
       "                ...       \n",
       "1927096   1526351824.66770\n",
       "1927097   1526351824.86374\n",
       "1927098   1526351825.12750\n",
       "1927099   1526351825.27450\n",
       "1927100   1526351825.27437\n",
       "Name: ltime, Length: 1927101, dtype: float64"
      ]
     },
     "execution_count": 67,
     "metadata": {},
     "output_type": "execute_result"
    }
   ],
   "source": [
    "df.ltime"
   ]
  },
  {
   "cell_type": "code",
   "execution_count": 68,
   "metadata": {},
   "outputs": [
    {
     "data": {
      "text/plain": [
       "1         11\n",
       "2         11\n",
       "41        11\n",
       "14        11\n",
       "7         11\n",
       "          ..\n",
       "262162     1\n",
       "262167     1\n",
       "262168     1\n",
       "262164     1\n",
       "262165     1\n",
       "Name: seq, Length: 262168, dtype: int64"
      ]
     },
     "execution_count": 68,
     "metadata": {},
     "output_type": "execute_result"
    }
   ],
   "source": [
    "df.seq.value_counts()"
   ]
  },
  {
   "cell_type": "code",
   "execution_count": 69,
   "metadata": {},
   "outputs": [
    {
     "data": {
      "text/plain": [
       "0.00000     84317\n",
       "12.16235      182\n",
       "12.38465      169\n",
       "13.96231      167\n",
       "12.38396      166\n",
       "            ...  \n",
       "6.40681         1\n",
       "14.41112        1\n",
       "13.80980        1\n",
       "13.40667        1\n",
       "9.62721         1\n",
       "Name: dur, Length: 369058, dtype: int64"
      ]
     },
     "execution_count": 69,
     "metadata": {},
     "output_type": "execute_result"
    }
   ],
   "source": [
    "df.dur.value_counts()"
   ]
  },
  {
   "cell_type": "code",
   "execution_count": 70,
   "metadata": {},
   "outputs": [
    {
     "data": {
      "text/plain": [
       "count   1927101.00000\n",
       "mean         14.84886\n",
       "std          12.38456\n",
       "min           0.00000\n",
       "25%          12.12153\n",
       "50%          13.68344\n",
       "75%          14.54814\n",
       "max        1940.85925\n",
       "Name: dur, dtype: float64"
      ]
     },
     "execution_count": 70,
     "metadata": {},
     "output_type": "execute_result"
    }
   ],
   "source": [
    "df.dur.describe()"
   ]
  },
  {
   "cell_type": "code",
   "execution_count": 71,
   "metadata": {},
   "outputs": [
    {
     "data": {
      "text/plain": [
       "count   1927101.00000\n",
       "mean          2.54913\n",
       "std           1.40456\n",
       "min           0.00000\n",
       "25%           2.01583\n",
       "50%           2.75968\n",
       "75%           3.65985\n",
       "max           4.98188\n",
       "Name: average_dur, dtype: float64"
      ]
     },
     "execution_count": 71,
     "metadata": {},
     "output_type": "execute_result"
    }
   ],
   "source": [
    "df.average_dur.describe()"
   ]
  },
  {
   "cell_type": "code",
   "execution_count": 72,
   "metadata": {},
   "outputs": [
    {
     "data": {
      "text/plain": [
       "count   1927101.00000\n",
       "mean          0.94513\n",
       "std           0.75185\n",
       "min           0.00000\n",
       "25%           0.12290\n",
       "50%           0.93757\n",
       "75%           1.69005\n",
       "max           2.49676\n",
       "Name: stddev_dur, dtype: float64"
      ]
     },
     "execution_count": 72,
     "metadata": {},
     "output_type": "execute_result"
    }
   ],
   "source": [
    "df.stddev_dur.describe()"
   ]
  },
  {
   "cell_type": "code",
   "execution_count": 73,
   "metadata": {},
   "outputs": [
    {
     "data": {
      "text/plain": [
       "count   1927101.00000\n",
       "mean          7.25685\n",
       "std           8.14079\n",
       "min           0.00000\n",
       "25%           4.53265\n",
       "50%           8.11673\n",
       "75%          10.52108\n",
       "max        1913.19360\n",
       "Name: total_dur, dtype: float64"
      ]
     },
     "execution_count": 73,
     "metadata": {},
     "output_type": "execute_result"
    }
   ],
   "source": [
    "df.total_dur.describe()"
   ]
  },
  {
   "cell_type": "code",
   "execution_count": 74,
   "metadata": {},
   "outputs": [
    {
     "data": {
      "text/plain": [
       "count   1927101.00000\n",
       "mean          1.30163\n",
       "std           1.49103\n",
       "min           0.00000\n",
       "25%           0.00000\n",
       "50%           0.16957\n",
       "75%           2.76341\n",
       "max           4.98047\n",
       "Name: min_dur, dtype: float64"
      ]
     },
     "execution_count": 74,
     "metadata": {},
     "output_type": "execute_result"
    }
   ],
   "source": [
    "df.min_dur.describe()"
   ]
  },
  {
   "cell_type": "code",
   "execution_count": 75,
   "metadata": {},
   "outputs": [
    {
     "data": {
      "text/plain": [
       "6     277866\n",
       "5     272505\n",
       "7     240939\n",
       "4     193098\n",
       "8     155965\n",
       "15    135780\n",
       "11    129710\n",
       "3     117821\n",
       "2      91799\n",
       "1      84570\n",
       "Name: spkts, dtype: int64"
      ]
     },
     "execution_count": 75,
     "metadata": {},
     "output_type": "execute_result"
    }
   ],
   "source": [
    "df.spkts.value_counts()[:10]"
   ]
  },
  {
   "cell_type": "code",
   "execution_count": 76,
   "metadata": {},
   "outputs": [
    {
     "data": {
      "text/plain": [
       "0     1463522\n",
       "1      353455\n",
       "2       93371\n",
       "3       14606\n",
       "4        2103\n",
       "5          11\n",
       "12          3\n",
       "14          3\n",
       "15          2\n",
       "16          2\n",
       "Name: dpkts, dtype: int64"
      ]
     },
     "execution_count": 76,
     "metadata": {},
     "output_type": "execute_result"
    }
   ],
   "source": [
    "df.dpkts.value_counts()[:10]"
   ]
  },
  {
   "cell_type": "code",
   "execution_count": 77,
   "metadata": {},
   "outputs": [
    {
     "data": {
      "text/plain": [
       "420     183843\n",
       "770     159640\n",
       "480     141141\n",
       "616     139199\n",
       "900     135770\n",
       "         ...  \n",
       "711          1\n",
       "4808         1\n",
       "721          1\n",
       "5843         1\n",
       "2048         1\n",
       "Name: sbytes, Length: 540, dtype: int64"
      ]
     },
     "execution_count": 77,
     "metadata": {},
     "output_type": "execute_result"
    }
   ],
   "source": [
    "df.sbytes.value_counts()"
   ]
  },
  {
   "cell_type": "code",
   "execution_count": 78,
   "metadata": {},
   "outputs": [
    {
     "data": {
      "text/plain": [
       "count    1927101.00000\n",
       "mean         953.44279\n",
       "std        99240.94647\n",
       "min           42.00000\n",
       "25%          420.00000\n",
       "50%          616.00000\n",
       "75%          770.00000\n",
       "max     37747017.00000\n",
       "Name: sbytes, dtype: float64"
      ]
     },
     "execution_count": 78,
     "metadata": {},
     "output_type": "execute_result"
    }
   ],
   "source": [
    "df.sbytes.describe()"
   ]
  },
  {
   "cell_type": "code",
   "execution_count": 79,
   "metadata": {},
   "outputs": [
    {
     "data": {
      "text/plain": [
       "count   1927101.00000\n",
       "mean          0.90928\n",
       "std         119.10445\n",
       "min           0.00000\n",
       "25%           0.27143\n",
       "50%           0.46384\n",
       "75%           0.65159\n",
       "max       90909.09375\n",
       "Name: rate, dtype: float64"
      ]
     },
     "execution_count": 79,
     "metadata": {},
     "output_type": "execute_result"
    }
   ],
   "source": [
    "df.rate.describe()"
   ]
  },
  {
   "cell_type": "code",
   "execution_count": 80,
   "metadata": {},
   "outputs": [
    {
     "data": {
      "text/plain": [
       "count   1927101.00000\n",
       "mean          1.98643\n",
       "std         918.27705\n",
       "min           0.00000\n",
       "25%           0.24985\n",
       "50%           0.41008\n",
       "75%           0.63466\n",
       "max     1000000.00000\n",
       "Name: srate, dtype: float64"
      ]
     },
     "execution_count": 80,
     "metadata": {},
     "output_type": "execute_result"
    }
   ],
   "source": [
    "df.srate.describe()"
   ]
  },
  {
   "cell_type": "code",
   "execution_count": 81,
   "metadata": {},
   "outputs": [
    {
     "data": {
      "text/plain": [
       "count   1927101.00000\n",
       "mean          0.00977\n",
       "std           2.10783\n",
       "min           0.00000\n",
       "25%           0.00000\n",
       "50%           0.00000\n",
       "75%           0.00000\n",
       "max        2178.64917\n",
       "Name: drate, dtype: float64"
      ]
     },
     "execution_count": 81,
     "metadata": {},
     "output_type": "execute_result"
    }
   ],
   "source": [
    "df.drate.describe()"
   ]
  },
  {
   "cell_type": "code",
   "execution_count": null,
   "metadata": {},
   "outputs": [],
   "source": []
  },
  {
   "cell_type": "code",
   "execution_count": null,
   "metadata": {},
   "outputs": [],
   "source": []
  },
  {
   "cell_type": "code",
   "execution_count": null,
   "metadata": {},
   "outputs": [],
   "source": []
  },
  {
   "cell_type": "code",
   "execution_count": 82,
   "metadata": {},
   "outputs": [
    {
     "data": {
      "text/plain": [
       "Index(['Unnamed: 0', 'pkSeqID', 'stime', 'flgs', 'flgs_number', 'proto',\n",
       "       'proto_number', 'saddr', 'sport', 'daddr', 'dport', 'pkts', 'bytes',\n",
       "       'state', 'state_number', 'ltime', 'seq', 'dur', 'average_dur',\n",
       "       'stddev_dur', 'total_dur', 'min_dur', 'max_dur', 'spkts', 'dpkts',\n",
       "       'sbytes', 'dbytes', 'rate', 'srate', 'drate', 'TnBPSrcIP', 'TnBPDstIP',\n",
       "       'TnP_PSrcIP', 'TnP_PDstIP', 'TnP_PerProto', 'TnP_Per_Dport',\n",
       "       'AR_P_Proto_P_SrcIP', 'AR_P_Proto_P_DstIP', 'N_IN_Conn_P_DstIP',\n",
       "       'N_IN_Conn_P_SrcIP', 'AR_P_Proto_P_Sport', 'AR_P_Proto_P_Dport',\n",
       "       'Pkts_P_State_P_Protocol_P_DestIP', 'Pkts_P_State_P_Protocol_P_SrcIP',\n",
       "       'attack', 'category', 'subcategory'],\n",
       "      dtype='object')"
      ]
     },
     "execution_count": 82,
     "metadata": {},
     "output_type": "execute_result"
    }
   ],
   "source": [
    "df.columns"
   ]
  },
  {
   "cell_type": "code",
   "execution_count": null,
   "metadata": {},
   "outputs": [],
   "source": []
  },
  {
   "cell_type": "code",
   "execution_count": 83,
   "metadata": {},
   "outputs": [],
   "source": [
    "df_ml = df.copy()"
   ]
  },
  {
   "cell_type": "code",
   "execution_count": 84,
   "metadata": {},
   "outputs": [],
   "source": [
    "#df.drop(['column_nameA', 'column_nameB'], axis=1, inplace=True)"
   ]
  },
  {
   "cell_type": "code",
   "execution_count": null,
   "metadata": {},
   "outputs": [],
   "source": []
  },
  {
   "cell_type": "markdown",
   "metadata": {},
   "source": [
    "## Data Cleaning and Information of basic features"
   ]
  },
  {
   "cell_type": "markdown",
   "metadata": {},
   "source": [
    "### 1. Remove the first and second column\n",
    "\n",
    "#### Define:\n",
    " The first and second column is basically the id number of each row and is not required for analysis."
   ]
  },
  {
   "cell_type": "markdown",
   "metadata": {},
   "source": [
    "#### Code:"
   ]
  },
  {
   "cell_type": "code",
   "execution_count": 85,
   "metadata": {},
   "outputs": [],
   "source": [
    "df.drop(['Unnamed: 0','pkSeqID'], axis=1, inplace=True)"
   ]
  },
  {
   "cell_type": "markdown",
   "metadata": {},
   "source": [
    "#### Test:"
   ]
  },
  {
   "cell_type": "code",
   "execution_count": 86,
   "metadata": {},
   "outputs": [
    {
     "data": {
      "text/plain": [
       "Index(['stime', 'flgs', 'flgs_number', 'proto', 'proto_number', 'saddr',\n",
       "       'sport', 'daddr', 'dport', 'pkts', 'bytes', 'state', 'state_number',\n",
       "       'ltime', 'seq', 'dur', 'average_dur', 'stddev_dur', 'total_dur',\n",
       "       'min_dur', 'max_dur', 'spkts', 'dpkts', 'sbytes', 'dbytes', 'rate',\n",
       "       'srate', 'drate', 'TnBPSrcIP', 'TnBPDstIP', 'TnP_PSrcIP', 'TnP_PDstIP',\n",
       "       'TnP_PerProto', 'TnP_Per_Dport', 'AR_P_Proto_P_SrcIP',\n",
       "       'AR_P_Proto_P_DstIP', 'N_IN_Conn_P_DstIP', 'N_IN_Conn_P_SrcIP',\n",
       "       'AR_P_Proto_P_Sport', 'AR_P_Proto_P_Dport',\n",
       "       'Pkts_P_State_P_Protocol_P_DestIP', 'Pkts_P_State_P_Protocol_P_SrcIP',\n",
       "       'attack', 'category', 'subcategory'],\n",
       "      dtype='object')"
      ]
     },
     "execution_count": 86,
     "metadata": {},
     "output_type": "execute_result"
    }
   ],
   "source": [
    "df.columns"
   ]
  },
  {
   "cell_type": "code",
   "execution_count": null,
   "metadata": {},
   "outputs": [],
   "source": []
  },
  {
   "cell_type": "markdown",
   "metadata": {},
   "source": [
    "### 2. Drop flgs and flgno as its of no use for analytics"
   ]
  },
  {
   "cell_type": "markdown",
   "metadata": {},
   "source": [
    "#### Define:\n",
    "We have our second column as fgs which is \"Flow state flags seen in transactions\" and flgs_number which is associated with the flow state. We are removing this because we are dealing with the flags alone in an upcoming column and dont require this for analysis now.\n"
   ]
  },
  {
   "cell_type": "markdown",
   "metadata": {},
   "source": [
    "#### Code:"
   ]
  },
  {
   "cell_type": "code",
   "execution_count": 87,
   "metadata": {},
   "outputs": [],
   "source": [
    "df.drop(['flgs', 'flgs_number'], axis=1, inplace=True)"
   ]
  },
  {
   "cell_type": "markdown",
   "metadata": {},
   "source": [
    "#### Test:"
   ]
  },
  {
   "cell_type": "code",
   "execution_count": 89,
   "metadata": {},
   "outputs": [
    {
     "data": {
      "text/plain": [
       "Index(['stime', 'proto', 'proto_number', 'saddr', 'sport', 'daddr', 'dport',\n",
       "       'pkts', 'bytes', 'state', 'state_number', 'ltime', 'seq', 'dur',\n",
       "       'average_dur', 'stddev_dur', 'total_dur', 'min_dur', 'max_dur', 'spkts',\n",
       "       'dpkts', 'sbytes', 'dbytes', 'rate', 'srate', 'drate', 'TnBPSrcIP',\n",
       "       'TnBPDstIP', 'TnP_PSrcIP', 'TnP_PDstIP', 'TnP_PerProto',\n",
       "       'TnP_Per_Dport', 'AR_P_Proto_P_SrcIP', 'AR_P_Proto_P_DstIP',\n",
       "       'N_IN_Conn_P_DstIP', 'N_IN_Conn_P_SrcIP', 'AR_P_Proto_P_Sport',\n",
       "       'AR_P_Proto_P_Dport', 'Pkts_P_State_P_Protocol_P_DestIP',\n",
       "       'Pkts_P_State_P_Protocol_P_SrcIP', 'attack', 'category', 'subcategory'],\n",
       "      dtype='object')"
      ]
     },
     "execution_count": 89,
     "metadata": {},
     "output_type": "execute_result"
    }
   ],
   "source": [
    "df.columns"
   ]
  },
  {
   "cell_type": "code",
   "execution_count": null,
   "metadata": {},
   "outputs": [],
   "source": []
  },
  {
   "cell_type": "markdown",
   "metadata": {},
   "source": [
    "### 3. stime(start time) and ltime(last time) required for our analysis and can it be dropped?"
   ]
  },
  {
   "cell_type": "markdown",
   "metadata": {},
   "source": [
    "#### Define:\n",
    "Start time is the time at which the machine started recording the packet transfer and end time is the time at which the packet transfer was completed. SInce in the upcoming columns we are making flow based analysis from this features we dont actually need this as it is of no use for either analysis nor machine learning. This can be dropped from the datafram for further analysis."
   ]
  },
  {
   "cell_type": "markdown",
   "metadata": {},
   "source": [
    "#### Code:"
   ]
  },
  {
   "cell_type": "code",
   "execution_count": 93,
   "metadata": {},
   "outputs": [],
   "source": [
    "df.drop(['stime', 'ltime'], axis=1, inplace=True)"
   ]
  },
  {
   "cell_type": "markdown",
   "metadata": {},
   "source": [
    "#### Test:"
   ]
  },
  {
   "cell_type": "code",
   "execution_count": 94,
   "metadata": {},
   "outputs": [
    {
     "data": {
      "text/plain": [
       "Index(['proto', 'proto_number', 'saddr', 'sport', 'daddr', 'dport', 'pkts',\n",
       "       'bytes', 'state', 'state_number', 'seq', 'dur', 'average_dur',\n",
       "       'stddev_dur', 'total_dur', 'min_dur', 'max_dur', 'spkts', 'dpkts',\n",
       "       'sbytes', 'dbytes', 'rate', 'srate', 'drate', 'TnBPSrcIP', 'TnBPDstIP',\n",
       "       'TnP_PSrcIP', 'TnP_PDstIP', 'TnP_PerProto', 'TnP_Per_Dport',\n",
       "       'AR_P_Proto_P_SrcIP', 'AR_P_Proto_P_DstIP', 'N_IN_Conn_P_DstIP',\n",
       "       'N_IN_Conn_P_SrcIP', 'AR_P_Proto_P_Sport', 'AR_P_Proto_P_Dport',\n",
       "       'Pkts_P_State_P_Protocol_P_DestIP', 'Pkts_P_State_P_Protocol_P_SrcIP',\n",
       "       'attack', 'category', 'subcategory'],\n",
       "      dtype='object')"
      ]
     },
     "execution_count": 94,
     "metadata": {},
     "output_type": "execute_result"
    }
   ],
   "source": [
    "df.columns"
   ]
  },
  {
   "cell_type": "code",
   "execution_count": null,
   "metadata": {},
   "outputs": [],
   "source": []
  },
  {
   "cell_type": "markdown",
   "metadata": {},
   "source": [
    "### 4.sport and dport are port numbers but the type available for them is object."
   ]
  },
  {
   "cell_type": "markdown",
   "metadata": {},
   "source": [
    "#### Define:\n",
    "We need to convert both dport and sport into int type as they are numbers"
   ]
  },
  {
   "cell_type": "markdown",
   "metadata": {},
   "source": [
    "#### Code:"
   ]
  },
  {
   "cell_type": "code",
   "execution_count": 111,
   "metadata": {},
   "outputs": [
    {
     "name": "stdout",
     "output_type": "stream",
     "text": [
      "<class 'pandas.core.frame.DataFrame'>\n",
      "RangeIndex: 1927101 entries, 0 to 1927100\n",
      "Data columns (total 41 columns):\n",
      " #   Column                            Dtype  \n",
      "---  ------                            -----  \n",
      " 0   proto                             object \n",
      " 1   proto_number                      int64  \n",
      " 2   saddr                             object \n",
      " 3   sport                             object \n",
      " 4   daddr                             object \n",
      " 5   dport                             object \n",
      " 6   pkts                              int64  \n",
      " 7   bytes                             int64  \n",
      " 8   state                             object \n",
      " 9   state_number                      int64  \n",
      " 10  seq                               int64  \n",
      " 11  dur                               float64\n",
      " 12  average_dur                       float64\n",
      " 13  stddev_dur                        float64\n",
      " 14  total_dur                         float64\n",
      " 15  min_dur                           float64\n",
      " 16  max_dur                           float64\n",
      " 17  spkts                             int64  \n",
      " 18  dpkts                             int64  \n",
      " 19  sbytes                            int64  \n",
      " 20  dbytes                            int64  \n",
      " 21  rate                              float64\n",
      " 22  srate                             float64\n",
      " 23  drate                             float64\n",
      " 24  TnBPSrcIP                         int64  \n",
      " 25  TnBPDstIP                         int64  \n",
      " 26  TnP_PSrcIP                        int64  \n",
      " 27  TnP_PDstIP                        int64  \n",
      " 28  TnP_PerProto                      int64  \n",
      " 29  TnP_Per_Dport                     int64  \n",
      " 30  AR_P_Proto_P_SrcIP                float64\n",
      " 31  AR_P_Proto_P_DstIP                float64\n",
      " 32  N_IN_Conn_P_DstIP                 int64  \n",
      " 33  N_IN_Conn_P_SrcIP                 int64  \n",
      " 34  AR_P_Proto_P_Sport                float64\n",
      " 35  AR_P_Proto_P_Dport                float64\n",
      " 36  Pkts_P_State_P_Protocol_P_DestIP  int64  \n",
      " 37  Pkts_P_State_P_Protocol_P_SrcIP   int64  \n",
      " 38  attack                            int64  \n",
      " 39  category                          object \n",
      " 40  subcategory                       object \n",
      "dtypes: float64(13), int64(20), object(8)\n",
      "memory usage: 602.8+ MB\n"
     ]
    }
   ],
   "source": [
    "df.info()"
   ]
  },
  {
   "cell_type": "code",
   "execution_count": 117,
   "metadata": {},
   "outputs": [],
   "source": [
    "df[\"sport\"] = df[\"sport\"].astype(str)\n",
    "df[\"dport\"] = df[\"dport\"].astype(str)"
   ]
  },
  {
   "cell_type": "code",
   "execution_count": 119,
   "metadata": {},
   "outputs": [
    {
     "ename": "ValueError",
     "evalue": "Unable to parse string \"0x0303\" at position 978389",
     "output_type": "error",
     "traceback": [
      "\u001b[0;31m---------------------------------------------------------------------------\u001b[0m",
      "\u001b[0;31mValueError\u001b[0m                                Traceback (most recent call last)",
      "\u001b[0;32mpandas/_libs/lib.pyx\u001b[0m in \u001b[0;36mpandas._libs.lib.maybe_convert_numeric\u001b[0;34m()\u001b[0m\n",
      "\u001b[0;31mValueError\u001b[0m: Unable to parse string \"0x0303\"",
      "\nDuring handling of the above exception, another exception occurred:\n",
      "\u001b[0;31mValueError\u001b[0m                                Traceback (most recent call last)",
      "\u001b[0;32m<ipython-input-119-fa2efbf5e053>\u001b[0m in \u001b[0;36m<module>\u001b[0;34m\u001b[0m\n\u001b[0;32m----> 1\u001b[0;31m \u001b[0mdf\u001b[0m\u001b[0;34m[\u001b[0m\u001b[0;34m\"sport\"\u001b[0m\u001b[0;34m]\u001b[0m \u001b[0;34m=\u001b[0m \u001b[0mpd\u001b[0m\u001b[0;34m.\u001b[0m\u001b[0mto_numeric\u001b[0m\u001b[0;34m(\u001b[0m\u001b[0mdf\u001b[0m\u001b[0;34m[\u001b[0m\u001b[0;34m'sport'\u001b[0m\u001b[0;34m]\u001b[0m\u001b[0;34m)\u001b[0m\u001b[0;34m\u001b[0m\u001b[0;34m\u001b[0m\u001b[0m\n\u001b[0m\u001b[1;32m      2\u001b[0m \u001b[0mdf\u001b[0m\u001b[0;34m[\u001b[0m\u001b[0;34m\"dport\"\u001b[0m\u001b[0;34m]\u001b[0m \u001b[0;34m=\u001b[0m \u001b[0mpd\u001b[0m\u001b[0;34m.\u001b[0m\u001b[0mto_numeric\u001b[0m\u001b[0;34m(\u001b[0m\u001b[0mdf\u001b[0m\u001b[0;34m[\u001b[0m\u001b[0;34m'dport'\u001b[0m\u001b[0;34m]\u001b[0m\u001b[0;34m)\u001b[0m\u001b[0;34m\u001b[0m\u001b[0;34m\u001b[0m\u001b[0m\n",
      "\u001b[0;32m~/anaconda3/lib/python3.7/site-packages/pandas/core/tools/numeric.py\u001b[0m in \u001b[0;36mto_numeric\u001b[0;34m(arg, errors, downcast)\u001b[0m\n\u001b[1;32m    148\u001b[0m         \u001b[0;32mtry\u001b[0m\u001b[0;34m:\u001b[0m\u001b[0;34m\u001b[0m\u001b[0;34m\u001b[0m\u001b[0m\n\u001b[1;32m    149\u001b[0m             values = lib.maybe_convert_numeric(\n\u001b[0;32m--> 150\u001b[0;31m                 \u001b[0mvalues\u001b[0m\u001b[0;34m,\u001b[0m \u001b[0mset\u001b[0m\u001b[0;34m(\u001b[0m\u001b[0;34m)\u001b[0m\u001b[0;34m,\u001b[0m \u001b[0mcoerce_numeric\u001b[0m\u001b[0;34m=\u001b[0m\u001b[0mcoerce_numeric\u001b[0m\u001b[0;34m\u001b[0m\u001b[0;34m\u001b[0m\u001b[0m\n\u001b[0m\u001b[1;32m    151\u001b[0m             )\n\u001b[1;32m    152\u001b[0m         \u001b[0;32mexcept\u001b[0m \u001b[0;34m(\u001b[0m\u001b[0mValueError\u001b[0m\u001b[0;34m,\u001b[0m \u001b[0mTypeError\u001b[0m\u001b[0;34m)\u001b[0m\u001b[0;34m:\u001b[0m\u001b[0;34m\u001b[0m\u001b[0;34m\u001b[0m\u001b[0m\n",
      "\u001b[0;32mpandas/_libs/lib.pyx\u001b[0m in \u001b[0;36mpandas._libs.lib.maybe_convert_numeric\u001b[0;34m()\u001b[0m\n",
      "\u001b[0;31mValueError\u001b[0m: Unable to parse string \"0x0303\" at position 978389"
     ]
    }
   ],
   "source": [
    "df[\"sport\"] = pd.to_numeric(df['sport'])\n",
    "df[\"dport\"] = pd.to_numeric(df['dport'])"
   ]
  },
  {
   "cell_type": "code",
   "execution_count": 121,
   "metadata": {},
   "outputs": [
    {
     "data": {
      "text/html": [
       "<div>\n",
       "<style scoped>\n",
       "    .dataframe tbody tr th:only-of-type {\n",
       "        vertical-align: middle;\n",
       "    }\n",
       "\n",
       "    .dataframe tbody tr th {\n",
       "        vertical-align: top;\n",
       "    }\n",
       "\n",
       "    .dataframe thead th {\n",
       "        text-align: right;\n",
       "    }\n",
       "</style>\n",
       "<table border=\"1\" class=\"dataframe\">\n",
       "  <thead>\n",
       "    <tr style=\"text-align: right;\">\n",
       "      <th></th>\n",
       "      <th>proto</th>\n",
       "      <th>proto_number</th>\n",
       "      <th>saddr</th>\n",
       "      <th>sport</th>\n",
       "      <th>daddr</th>\n",
       "      <th>dport</th>\n",
       "      <th>pkts</th>\n",
       "      <th>bytes</th>\n",
       "      <th>state</th>\n",
       "      <th>state_number</th>\n",
       "      <th>...</th>\n",
       "      <th>AR_P_Proto_P_DstIP</th>\n",
       "      <th>N_IN_Conn_P_DstIP</th>\n",
       "      <th>N_IN_Conn_P_SrcIP</th>\n",
       "      <th>AR_P_Proto_P_Sport</th>\n",
       "      <th>AR_P_Proto_P_Dport</th>\n",
       "      <th>Pkts_P_State_P_Protocol_P_DestIP</th>\n",
       "      <th>Pkts_P_State_P_Protocol_P_SrcIP</th>\n",
       "      <th>attack</th>\n",
       "      <th>category</th>\n",
       "      <th>subcategory</th>\n",
       "    </tr>\n",
       "  </thead>\n",
       "  <tbody>\n",
       "    <tr>\n",
       "      <th>0</th>\n",
       "      <td>tcp</td>\n",
       "      <td>1</td>\n",
       "      <td>192.168.100.150</td>\n",
       "      <td>54110</td>\n",
       "      <td>192.168.100.3</td>\n",
       "      <td>80</td>\n",
       "      <td>10</td>\n",
       "      <td>1729</td>\n",
       "      <td>RST</td>\n",
       "      <td>1</td>\n",
       "      <td>...</td>\n",
       "      <td>1.21662</td>\n",
       "      <td>40</td>\n",
       "      <td>38</td>\n",
       "      <td>1.56093</td>\n",
       "      <td>1.21662</td>\n",
       "      <td>328</td>\n",
       "      <td>308</td>\n",
       "      <td>1</td>\n",
       "      <td>DDoS</td>\n",
       "      <td>HTTP</td>\n",
       "    </tr>\n",
       "    <tr>\n",
       "      <th>1</th>\n",
       "      <td>tcp</td>\n",
       "      <td>1</td>\n",
       "      <td>192.168.100.150</td>\n",
       "      <td>54112</td>\n",
       "      <td>192.168.100.3</td>\n",
       "      <td>80</td>\n",
       "      <td>10</td>\n",
       "      <td>1604</td>\n",
       "      <td>RST</td>\n",
       "      <td>1</td>\n",
       "      <td>...</td>\n",
       "      <td>1.21662</td>\n",
       "      <td>40</td>\n",
       "      <td>38</td>\n",
       "      <td>1.56107</td>\n",
       "      <td>1.21662</td>\n",
       "      <td>328</td>\n",
       "      <td>308</td>\n",
       "      <td>1</td>\n",
       "      <td>DDoS</td>\n",
       "      <td>HTTP</td>\n",
       "    </tr>\n",
       "    <tr>\n",
       "      <th>2</th>\n",
       "      <td>tcp</td>\n",
       "      <td>1</td>\n",
       "      <td>192.168.100.150</td>\n",
       "      <td>54114</td>\n",
       "      <td>192.168.100.3</td>\n",
       "      <td>80</td>\n",
       "      <td>8</td>\n",
       "      <td>1708</td>\n",
       "      <td>RST</td>\n",
       "      <td>1</td>\n",
       "      <td>...</td>\n",
       "      <td>1.21662</td>\n",
       "      <td>40</td>\n",
       "      <td>38</td>\n",
       "      <td>1.24980</td>\n",
       "      <td>1.21662</td>\n",
       "      <td>328</td>\n",
       "      <td>308</td>\n",
       "      <td>1</td>\n",
       "      <td>DDoS</td>\n",
       "      <td>HTTP</td>\n",
       "    </tr>\n",
       "    <tr>\n",
       "      <th>3</th>\n",
       "      <td>tcp</td>\n",
       "      <td>1</td>\n",
       "      <td>192.168.100.150</td>\n",
       "      <td>54116</td>\n",
       "      <td>192.168.100.3</td>\n",
       "      <td>80</td>\n",
       "      <td>8</td>\n",
       "      <td>1462</td>\n",
       "      <td>RST</td>\n",
       "      <td>1</td>\n",
       "      <td>...</td>\n",
       "      <td>1.21662</td>\n",
       "      <td>40</td>\n",
       "      <td>38</td>\n",
       "      <td>1.24986</td>\n",
       "      <td>1.21662</td>\n",
       "      <td>328</td>\n",
       "      <td>308</td>\n",
       "      <td>1</td>\n",
       "      <td>DDoS</td>\n",
       "      <td>HTTP</td>\n",
       "    </tr>\n",
       "    <tr>\n",
       "      <th>4</th>\n",
       "      <td>tcp</td>\n",
       "      <td>1</td>\n",
       "      <td>192.168.100.150</td>\n",
       "      <td>54118</td>\n",
       "      <td>192.168.100.3</td>\n",
       "      <td>80</td>\n",
       "      <td>8</td>\n",
       "      <td>1296</td>\n",
       "      <td>RST</td>\n",
       "      <td>1</td>\n",
       "      <td>...</td>\n",
       "      <td>1.21662</td>\n",
       "      <td>40</td>\n",
       "      <td>38</td>\n",
       "      <td>1.24991</td>\n",
       "      <td>1.21662</td>\n",
       "      <td>328</td>\n",
       "      <td>308</td>\n",
       "      <td>1</td>\n",
       "      <td>DDoS</td>\n",
       "      <td>HTTP</td>\n",
       "    </tr>\n",
       "    <tr>\n",
       "      <th>...</th>\n",
       "      <td>...</td>\n",
       "      <td>...</td>\n",
       "      <td>...</td>\n",
       "      <td>...</td>\n",
       "      <td>...</td>\n",
       "      <td>...</td>\n",
       "      <td>...</td>\n",
       "      <td>...</td>\n",
       "      <td>...</td>\n",
       "      <td>...</td>\n",
       "      <td>...</td>\n",
       "      <td>...</td>\n",
       "      <td>...</td>\n",
       "      <td>...</td>\n",
       "      <td>...</td>\n",
       "      <td>...</td>\n",
       "      <td>...</td>\n",
       "      <td>...</td>\n",
       "      <td>...</td>\n",
       "      <td>...</td>\n",
       "      <td>...</td>\n",
       "    </tr>\n",
       "    <tr>\n",
       "      <th>978385</th>\n",
       "      <td>udp</td>\n",
       "      <td>3</td>\n",
       "      <td>192.168.100.147</td>\n",
       "      <td>1970</td>\n",
       "      <td>192.168.100.3</td>\n",
       "      <td>80</td>\n",
       "      <td>14</td>\n",
       "      <td>840</td>\n",
       "      <td>INT</td>\n",
       "      <td>4</td>\n",
       "      <td>...</td>\n",
       "      <td>0.90185</td>\n",
       "      <td>99</td>\n",
       "      <td>70</td>\n",
       "      <td>0.90184</td>\n",
       "      <td>0.90185</td>\n",
       "      <td>980</td>\n",
       "      <td>980</td>\n",
       "      <td>1</td>\n",
       "      <td>DDoS</td>\n",
       "      <td>UDP</td>\n",
       "    </tr>\n",
       "    <tr>\n",
       "      <th>978386</th>\n",
       "      <td>udp</td>\n",
       "      <td>3</td>\n",
       "      <td>192.168.100.147</td>\n",
       "      <td>1971</td>\n",
       "      <td>192.168.100.3</td>\n",
       "      <td>80</td>\n",
       "      <td>14</td>\n",
       "      <td>840</td>\n",
       "      <td>INT</td>\n",
       "      <td>4</td>\n",
       "      <td>...</td>\n",
       "      <td>0.90185</td>\n",
       "      <td>99</td>\n",
       "      <td>70</td>\n",
       "      <td>0.90184</td>\n",
       "      <td>0.90185</td>\n",
       "      <td>980</td>\n",
       "      <td>980</td>\n",
       "      <td>1</td>\n",
       "      <td>DDoS</td>\n",
       "      <td>UDP</td>\n",
       "    </tr>\n",
       "    <tr>\n",
       "      <th>978387</th>\n",
       "      <td>udp</td>\n",
       "      <td>3</td>\n",
       "      <td>192.168.100.147</td>\n",
       "      <td>1972</td>\n",
       "      <td>192.168.100.3</td>\n",
       "      <td>80</td>\n",
       "      <td>14</td>\n",
       "      <td>840</td>\n",
       "      <td>INT</td>\n",
       "      <td>4</td>\n",
       "      <td>...</td>\n",
       "      <td>0.90185</td>\n",
       "      <td>99</td>\n",
       "      <td>70</td>\n",
       "      <td>0.90184</td>\n",
       "      <td>0.90185</td>\n",
       "      <td>980</td>\n",
       "      <td>980</td>\n",
       "      <td>1</td>\n",
       "      <td>DDoS</td>\n",
       "      <td>UDP</td>\n",
       "    </tr>\n",
       "    <tr>\n",
       "      <th>978388</th>\n",
       "      <td>udp</td>\n",
       "      <td>3</td>\n",
       "      <td>192.168.100.147</td>\n",
       "      <td>1973</td>\n",
       "      <td>192.168.100.3</td>\n",
       "      <td>80</td>\n",
       "      <td>14</td>\n",
       "      <td>840</td>\n",
       "      <td>INT</td>\n",
       "      <td>4</td>\n",
       "      <td>...</td>\n",
       "      <td>0.90185</td>\n",
       "      <td>99</td>\n",
       "      <td>70</td>\n",
       "      <td>0.90184</td>\n",
       "      <td>0.90185</td>\n",
       "      <td>980</td>\n",
       "      <td>980</td>\n",
       "      <td>1</td>\n",
       "      <td>DDoS</td>\n",
       "      <td>UDP</td>\n",
       "    </tr>\n",
       "    <tr>\n",
       "      <th>978389</th>\n",
       "      <td>icmp</td>\n",
       "      <td>4</td>\n",
       "      <td>192.168.100.3</td>\n",
       "      <td>0x0303</td>\n",
       "      <td>192.168.100.147</td>\n",
       "      <td>0x5000</td>\n",
       "      <td>21</td>\n",
       "      <td>1470</td>\n",
       "      <td>URP</td>\n",
       "      <td>5</td>\n",
       "      <td>...</td>\n",
       "      <td>1.40005</td>\n",
       "      <td>1</td>\n",
       "      <td>1</td>\n",
       "      <td>1.40005</td>\n",
       "      <td>1.40005</td>\n",
       "      <td>21</td>\n",
       "      <td>21</td>\n",
       "      <td>1</td>\n",
       "      <td>DDoS</td>\n",
       "      <td>UDP</td>\n",
       "    </tr>\n",
       "  </tbody>\n",
       "</table>\n",
       "<p>978390 rows × 41 columns</p>\n",
       "</div>"
      ],
      "text/plain": [
       "       proto  proto_number            saddr   sport            daddr   dport  \\\n",
       "0        tcp             1  192.168.100.150   54110    192.168.100.3      80   \n",
       "1        tcp             1  192.168.100.150   54112    192.168.100.3      80   \n",
       "2        tcp             1  192.168.100.150   54114    192.168.100.3      80   \n",
       "3        tcp             1  192.168.100.150   54116    192.168.100.3      80   \n",
       "4        tcp             1  192.168.100.150   54118    192.168.100.3      80   \n",
       "...      ...           ...              ...     ...              ...     ...   \n",
       "978385   udp             3  192.168.100.147    1970    192.168.100.3      80   \n",
       "978386   udp             3  192.168.100.147    1971    192.168.100.3      80   \n",
       "978387   udp             3  192.168.100.147    1972    192.168.100.3      80   \n",
       "978388   udp             3  192.168.100.147    1973    192.168.100.3      80   \n",
       "978389  icmp             4    192.168.100.3  0x0303  192.168.100.147  0x5000   \n",
       "\n",
       "        pkts  bytes state  state_number  ...  AR_P_Proto_P_DstIP  \\\n",
       "0         10   1729   RST             1  ...             1.21662   \n",
       "1         10   1604   RST             1  ...             1.21662   \n",
       "2          8   1708   RST             1  ...             1.21662   \n",
       "3          8   1462   RST             1  ...             1.21662   \n",
       "4          8   1296   RST             1  ...             1.21662   \n",
       "...      ...    ...   ...           ...  ...                 ...   \n",
       "978385    14    840   INT             4  ...             0.90185   \n",
       "978386    14    840   INT             4  ...             0.90185   \n",
       "978387    14    840   INT             4  ...             0.90185   \n",
       "978388    14    840   INT             4  ...             0.90185   \n",
       "978389    21   1470   URP             5  ...             1.40005   \n",
       "\n",
       "        N_IN_Conn_P_DstIP  N_IN_Conn_P_SrcIP  AR_P_Proto_P_Sport  \\\n",
       "0                      40                 38             1.56093   \n",
       "1                      40                 38             1.56107   \n",
       "2                      40                 38             1.24980   \n",
       "3                      40                 38             1.24986   \n",
       "4                      40                 38             1.24991   \n",
       "...                   ...                ...                 ...   \n",
       "978385                 99                 70             0.90184   \n",
       "978386                 99                 70             0.90184   \n",
       "978387                 99                 70             0.90184   \n",
       "978388                 99                 70             0.90184   \n",
       "978389                  1                  1             1.40005   \n",
       "\n",
       "        AR_P_Proto_P_Dport  Pkts_P_State_P_Protocol_P_DestIP  \\\n",
       "0                  1.21662                               328   \n",
       "1                  1.21662                               328   \n",
       "2                  1.21662                               328   \n",
       "3                  1.21662                               328   \n",
       "4                  1.21662                               328   \n",
       "...                    ...                               ...   \n",
       "978385             0.90185                               980   \n",
       "978386             0.90185                               980   \n",
       "978387             0.90185                               980   \n",
       "978388             0.90185                               980   \n",
       "978389             1.40005                                21   \n",
       "\n",
       "        Pkts_P_State_P_Protocol_P_SrcIP  attack  category  subcategory  \n",
       "0                                   308       1      DDoS         HTTP  \n",
       "1                                   308       1      DDoS         HTTP  \n",
       "2                                   308       1      DDoS         HTTP  \n",
       "3                                   308       1      DDoS         HTTP  \n",
       "4                                   308       1      DDoS         HTTP  \n",
       "...                                 ...     ...       ...          ...  \n",
       "978385                              980       1      DDoS          UDP  \n",
       "978386                              980       1      DDoS          UDP  \n",
       "978387                              980       1      DDoS          UDP  \n",
       "978388                              980       1      DDoS          UDP  \n",
       "978389                               21       1      DDoS          UDP  \n",
       "\n",
       "[978390 rows x 41 columns]"
      ]
     },
     "execution_count": 121,
     "metadata": {},
     "output_type": "execute_result"
    }
   ],
   "source": [
    "df.iloc[:978390]\n"
   ]
  },
  {
   "cell_type": "markdown",
   "metadata": {},
   "source": [
    "### 5.we have -ve port number so we need to see what is wrong and remove it if needed?"
   ]
  },
  {
   "cell_type": "markdown",
   "metadata": {},
   "source": [
    "#### INFO:\n",
    "The valid port numbers can range as,\n",
    "(2^16)-1, or 0-65,535 (the -1 is because port 0 is reserved and unavailable). -ve can also occur if there is a NAT translation occuring.\n",
    "NAT: Transmision of private ip to public ip.\n"
   ]
  },
  {
   "cell_type": "markdown",
   "metadata": {},
   "source": [
    "#### Define:\n",
    "The -ve port indicates"
   ]
  },
  {
   "cell_type": "markdown",
   "metadata": {},
   "source": [
    "#### Code:"
   ]
  },
  {
   "cell_type": "markdown",
   "metadata": {},
   "source": [
    "#### Test:"
   ]
  },
  {
   "cell_type": "code",
   "execution_count": null,
   "metadata": {},
   "outputs": [],
   "source": []
  },
  {
   "cell_type": "code",
   "execution_count": 102,
   "metadata": {},
   "outputs": [
    {
     "ename": "TypeError",
     "evalue": "'<' not supported between instances of 'int' and 'str'",
     "output_type": "error",
     "traceback": [
      "\u001b[0;31m---------------------------------------------------------------------------\u001b[0m",
      "\u001b[0;31mTypeError\u001b[0m                                 Traceback (most recent call last)",
      "\u001b[0;32m<ipython-input-102-cecde3b3fa10>\u001b[0m in \u001b[0;36m<module>\u001b[0;34m\u001b[0m\n\u001b[0;32m----> 1\u001b[0;31m \u001b[0mdf\u001b[0m\u001b[0;34m.\u001b[0m\u001b[0mloc\u001b[0m\u001b[0;34m[\u001b[0m\u001b[0mdf\u001b[0m\u001b[0;34m[\u001b[0m\u001b[0;34m'sport'\u001b[0m\u001b[0;34m]\u001b[0m \u001b[0;34m<\u001b[0m \u001b[0;34m'0'\u001b[0m\u001b[0;34m]\u001b[0m\u001b[0;34m\u001b[0m\u001b[0;34m\u001b[0m\u001b[0m\n\u001b[0m",
      "\u001b[0;32m~/anaconda3/lib/python3.7/site-packages/pandas/core/ops/common.py\u001b[0m in \u001b[0;36mnew_method\u001b[0;34m(self, other)\u001b[0m\n\u001b[1;32m     62\u001b[0m         \u001b[0mother\u001b[0m \u001b[0;34m=\u001b[0m \u001b[0mitem_from_zerodim\u001b[0m\u001b[0;34m(\u001b[0m\u001b[0mother\u001b[0m\u001b[0;34m)\u001b[0m\u001b[0;34m\u001b[0m\u001b[0;34m\u001b[0m\u001b[0m\n\u001b[1;32m     63\u001b[0m \u001b[0;34m\u001b[0m\u001b[0m\n\u001b[0;32m---> 64\u001b[0;31m         \u001b[0;32mreturn\u001b[0m \u001b[0mmethod\u001b[0m\u001b[0;34m(\u001b[0m\u001b[0mself\u001b[0m\u001b[0;34m,\u001b[0m \u001b[0mother\u001b[0m\u001b[0;34m)\u001b[0m\u001b[0;34m\u001b[0m\u001b[0;34m\u001b[0m\u001b[0m\n\u001b[0m\u001b[1;32m     65\u001b[0m \u001b[0;34m\u001b[0m\u001b[0m\n\u001b[1;32m     66\u001b[0m     \u001b[0;32mreturn\u001b[0m \u001b[0mnew_method\u001b[0m\u001b[0;34m\u001b[0m\u001b[0;34m\u001b[0m\u001b[0m\n",
      "\u001b[0;32m~/anaconda3/lib/python3.7/site-packages/pandas/core/ops/__init__.py\u001b[0m in \u001b[0;36mwrapper\u001b[0;34m(self, other)\u001b[0m\n\u001b[1;32m    524\u001b[0m         \u001b[0mrvalues\u001b[0m \u001b[0;34m=\u001b[0m \u001b[0mextract_array\u001b[0m\u001b[0;34m(\u001b[0m\u001b[0mother\u001b[0m\u001b[0;34m,\u001b[0m \u001b[0mextract_numpy\u001b[0m\u001b[0;34m=\u001b[0m\u001b[0;32mTrue\u001b[0m\u001b[0;34m)\u001b[0m\u001b[0;34m\u001b[0m\u001b[0;34m\u001b[0m\u001b[0m\n\u001b[1;32m    525\u001b[0m \u001b[0;34m\u001b[0m\u001b[0m\n\u001b[0;32m--> 526\u001b[0;31m         \u001b[0mres_values\u001b[0m \u001b[0;34m=\u001b[0m \u001b[0mcomparison_op\u001b[0m\u001b[0;34m(\u001b[0m\u001b[0mlvalues\u001b[0m\u001b[0;34m,\u001b[0m \u001b[0mrvalues\u001b[0m\u001b[0;34m,\u001b[0m \u001b[0mop\u001b[0m\u001b[0;34m)\u001b[0m\u001b[0;34m\u001b[0m\u001b[0;34m\u001b[0m\u001b[0m\n\u001b[0m\u001b[1;32m    527\u001b[0m \u001b[0;34m\u001b[0m\u001b[0m\n\u001b[1;32m    528\u001b[0m         \u001b[0;32mreturn\u001b[0m \u001b[0m_construct_result\u001b[0m\u001b[0;34m(\u001b[0m\u001b[0mself\u001b[0m\u001b[0;34m,\u001b[0m \u001b[0mres_values\u001b[0m\u001b[0;34m,\u001b[0m \u001b[0mindex\u001b[0m\u001b[0;34m=\u001b[0m\u001b[0mself\u001b[0m\u001b[0;34m.\u001b[0m\u001b[0mindex\u001b[0m\u001b[0;34m,\u001b[0m \u001b[0mname\u001b[0m\u001b[0;34m=\u001b[0m\u001b[0mres_name\u001b[0m\u001b[0;34m)\u001b[0m\u001b[0;34m\u001b[0m\u001b[0;34m\u001b[0m\u001b[0m\n",
      "\u001b[0;32m~/anaconda3/lib/python3.7/site-packages/pandas/core/ops/array_ops.py\u001b[0m in \u001b[0;36mcomparison_op\u001b[0;34m(left, right, op)\u001b[0m\n\u001b[1;32m    245\u001b[0m \u001b[0;34m\u001b[0m\u001b[0m\n\u001b[1;32m    246\u001b[0m     \u001b[0;32melif\u001b[0m \u001b[0mis_object_dtype\u001b[0m\u001b[0;34m(\u001b[0m\u001b[0mlvalues\u001b[0m\u001b[0;34m.\u001b[0m\u001b[0mdtype\u001b[0m\u001b[0;34m)\u001b[0m\u001b[0;34m:\u001b[0m\u001b[0;34m\u001b[0m\u001b[0;34m\u001b[0m\u001b[0m\n\u001b[0;32m--> 247\u001b[0;31m         \u001b[0mres_values\u001b[0m \u001b[0;34m=\u001b[0m \u001b[0mcomp_method_OBJECT_ARRAY\u001b[0m\u001b[0;34m(\u001b[0m\u001b[0mop\u001b[0m\u001b[0;34m,\u001b[0m \u001b[0mlvalues\u001b[0m\u001b[0;34m,\u001b[0m \u001b[0mrvalues\u001b[0m\u001b[0;34m)\u001b[0m\u001b[0;34m\u001b[0m\u001b[0;34m\u001b[0m\u001b[0m\n\u001b[0m\u001b[1;32m    248\u001b[0m \u001b[0;34m\u001b[0m\u001b[0m\n\u001b[1;32m    249\u001b[0m     \u001b[0;32melse\u001b[0m\u001b[0;34m:\u001b[0m\u001b[0;34m\u001b[0m\u001b[0;34m\u001b[0m\u001b[0m\n",
      "\u001b[0;32m~/anaconda3/lib/python3.7/site-packages/pandas/core/ops/array_ops.py\u001b[0m in \u001b[0;36mcomp_method_OBJECT_ARRAY\u001b[0;34m(op, x, y)\u001b[0m\n\u001b[1;32m     55\u001b[0m         \u001b[0mresult\u001b[0m \u001b[0;34m=\u001b[0m \u001b[0mlibops\u001b[0m\u001b[0;34m.\u001b[0m\u001b[0mvec_compare\u001b[0m\u001b[0;34m(\u001b[0m\u001b[0mx\u001b[0m\u001b[0;34m.\u001b[0m\u001b[0mravel\u001b[0m\u001b[0;34m(\u001b[0m\u001b[0;34m)\u001b[0m\u001b[0;34m,\u001b[0m \u001b[0my\u001b[0m\u001b[0;34m,\u001b[0m \u001b[0mop\u001b[0m\u001b[0;34m)\u001b[0m\u001b[0;34m\u001b[0m\u001b[0;34m\u001b[0m\u001b[0m\n\u001b[1;32m     56\u001b[0m     \u001b[0;32melse\u001b[0m\u001b[0;34m:\u001b[0m\u001b[0;34m\u001b[0m\u001b[0;34m\u001b[0m\u001b[0m\n\u001b[0;32m---> 57\u001b[0;31m         \u001b[0mresult\u001b[0m \u001b[0;34m=\u001b[0m \u001b[0mlibops\u001b[0m\u001b[0;34m.\u001b[0m\u001b[0mscalar_compare\u001b[0m\u001b[0;34m(\u001b[0m\u001b[0mx\u001b[0m\u001b[0;34m.\u001b[0m\u001b[0mravel\u001b[0m\u001b[0;34m(\u001b[0m\u001b[0;34m)\u001b[0m\u001b[0;34m,\u001b[0m \u001b[0my\u001b[0m\u001b[0;34m,\u001b[0m \u001b[0mop\u001b[0m\u001b[0;34m)\u001b[0m\u001b[0;34m\u001b[0m\u001b[0;34m\u001b[0m\u001b[0m\n\u001b[0m\u001b[1;32m     58\u001b[0m     \u001b[0;32mreturn\u001b[0m \u001b[0mresult\u001b[0m\u001b[0;34m.\u001b[0m\u001b[0mreshape\u001b[0m\u001b[0;34m(\u001b[0m\u001b[0mx\u001b[0m\u001b[0;34m.\u001b[0m\u001b[0mshape\u001b[0m\u001b[0;34m)\u001b[0m\u001b[0;34m\u001b[0m\u001b[0;34m\u001b[0m\u001b[0m\n\u001b[1;32m     59\u001b[0m \u001b[0;34m\u001b[0m\u001b[0m\n",
      "\u001b[0;32mpandas/_libs/ops.pyx\u001b[0m in \u001b[0;36mpandas._libs.ops.scalar_compare\u001b[0;34m()\u001b[0m\n",
      "\u001b[0;31mTypeError\u001b[0m: '<' not supported between instances of 'int' and 'str'"
     ]
    }
   ],
   "source": [
    "df.loc[df['sport'] < '0']"
   ]
  },
  {
   "cell_type": "code",
   "execution_count": null,
   "metadata": {},
   "outputs": [],
   "source": []
  },
  {
   "cell_type": "markdown",
   "metadata": {},
   "source": [
    "### 1. Remove the first column\n",
    "\n",
    "#### Define:\n",
    "\n",
    "#### Code:\n",
    "\n",
    "\n",
    "#### Test:"
   ]
  }
 ],
 "metadata": {
  "kernelspec": {
   "display_name": "Python 3",
   "language": "python",
   "name": "python3"
  },
  "language_info": {
   "codemirror_mode": {
    "name": "ipython",
    "version": 3
   },
   "file_extension": ".py",
   "mimetype": "text/x-python",
   "name": "python",
   "nbconvert_exporter": "python",
   "pygments_lexer": "ipython3",
   "version": "3.7.6"
  }
 },
 "nbformat": 4,
 "nbformat_minor": 4
}
