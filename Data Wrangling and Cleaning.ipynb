{
 "cells": [
  {
   "cell_type": "markdown",
   "metadata": {},
   "source": [
    "#  DATA WRANGLING AND CLEANING\n",
    "\n",
    "#### Data wrangling is the process of cleaning, structuring and enriching raw data into a desired format for better decision making in less time. Data wrangling is increasingly ubiquitous at today’s top firms. Data has become more diverse and unstructured, demanding increased time spent culling, cleaning, and organizing data ahead of broader analysis. At the same time, with data informing just about every business decision, business users have less time to wait on technical resources for prepared data.\n",
    "\n",
    "####  Data cleaning is the process of preparing data for analysis by removing or modifying data that is incorrect, incomplete, irrelevant, duplicated, or improperly formatted. This data is usually not necessary or helpful when it comes to analyzing data because it may hinder the process or provide inaccurate results. "
   ]
  },
  {
   "cell_type": "markdown",
   "metadata": {},
   "source": [
    "## UNDERSTANDING THE DATASET"
   ]
  },
  {
   "cell_type": "markdown",
   "metadata": {},
   "source": [
    "### THE DATASET IS DIVIDED INTO TWO FEATURE SETS WHICH ARE COMBINED TOGETHER :\n",
    " #### 1. Basic Features\n",
    " #### 2. Flow based Features\n"
   ]
  },
  {
   "cell_type": "markdown",
   "metadata": {},
   "source": [
    "## 1.BASIC FEATURES"
   ]
  },
  {
   "cell_type": "markdown",
   "metadata": {},
   "source": [
    "<img src=\"images/feature.jpg\">"
   ]
  },
  {
   "cell_type": "markdown",
   "metadata": {},
   "source": [
    "#### The basic features are from column 0 to 29 and last three columns"
   ]
  },
  {
   "cell_type": "markdown",
   "metadata": {},
   "source": [
    "### Data Wrangling on Basic Features"
   ]
  },
  {
   "cell_type": "code",
   "execution_count": 1,
   "metadata": {},
   "outputs": [],
   "source": [
    "import pandas as pd\n",
    "import numpy as np"
   ]
  },
  {
   "cell_type": "code",
   "execution_count": 2,
   "metadata": {},
   "outputs": [
    {
     "name": "stderr",
     "output_type": "stream",
     "text": [
      "/home/siddharth/anaconda3/lib/python3.7/site-packages/IPython/core/interactiveshell.py:3063: DtypeWarning: Columns (8,10) have mixed types.Specify dtype option on import or set low_memory=False.\n",
      "  interactivity=interactivity, compiler=compiler, result=result)\n"
     ]
    }
   ],
   "source": [
    "df_orginal = pd.read_csv(\"../dataset/DDoSdata.csv\")"
   ]
  },
  {
   "cell_type": "code",
   "execution_count": 3,
   "metadata": {},
   "outputs": [],
   "source": [
    "df = df_orginal.copy()"
   ]
  },
  {
   "cell_type": "code",
   "execution_count": 4,
   "metadata": {},
   "outputs": [
    {
     "data": {
      "text/html": [
       "<div>\n",
       "<style scoped>\n",
       "    .dataframe tbody tr th:only-of-type {\n",
       "        vertical-align: middle;\n",
       "    }\n",
       "\n",
       "    .dataframe tbody tr th {\n",
       "        vertical-align: top;\n",
       "    }\n",
       "\n",
       "    .dataframe thead th {\n",
       "        text-align: right;\n",
       "    }\n",
       "</style>\n",
       "<table border=\"1\" class=\"dataframe\">\n",
       "  <thead>\n",
       "    <tr style=\"text-align: right;\">\n",
       "      <th></th>\n",
       "      <th>Unnamed: 0</th>\n",
       "      <th>pkSeqID</th>\n",
       "      <th>stime</th>\n",
       "      <th>flgs</th>\n",
       "      <th>flgs_number</th>\n",
       "      <th>proto</th>\n",
       "      <th>proto_number</th>\n",
       "      <th>saddr</th>\n",
       "      <th>sport</th>\n",
       "      <th>daddr</th>\n",
       "      <th>...</th>\n",
       "      <th>AR_P_Proto_P_DstIP</th>\n",
       "      <th>N_IN_Conn_P_DstIP</th>\n",
       "      <th>N_IN_Conn_P_SrcIP</th>\n",
       "      <th>AR_P_Proto_P_Sport</th>\n",
       "      <th>AR_P_Proto_P_Dport</th>\n",
       "      <th>Pkts_P_State_P_Protocol_P_DestIP</th>\n",
       "      <th>Pkts_P_State_P_Protocol_P_SrcIP</th>\n",
       "      <th>attack</th>\n",
       "      <th>category</th>\n",
       "      <th>subcategory</th>\n",
       "    </tr>\n",
       "  </thead>\n",
       "  <tbody>\n",
       "    <tr>\n",
       "      <th>0</th>\n",
       "      <td>1650261</td>\n",
       "      <td>1650261</td>\n",
       "      <td>1.528103e+09</td>\n",
       "      <td>e</td>\n",
       "      <td>1</td>\n",
       "      <td>tcp</td>\n",
       "      <td>1</td>\n",
       "      <td>192.168.100.150</td>\n",
       "      <td>54110</td>\n",
       "      <td>192.168.100.3</td>\n",
       "      <td>...</td>\n",
       "      <td>1.21662</td>\n",
       "      <td>40</td>\n",
       "      <td>38</td>\n",
       "      <td>1.56093</td>\n",
       "      <td>1.21662</td>\n",
       "      <td>328</td>\n",
       "      <td>308</td>\n",
       "      <td>1</td>\n",
       "      <td>DDoS</td>\n",
       "      <td>HTTP</td>\n",
       "    </tr>\n",
       "    <tr>\n",
       "      <th>1</th>\n",
       "      <td>1650262</td>\n",
       "      <td>1650262</td>\n",
       "      <td>1.528103e+09</td>\n",
       "      <td>e</td>\n",
       "      <td>1</td>\n",
       "      <td>tcp</td>\n",
       "      <td>1</td>\n",
       "      <td>192.168.100.150</td>\n",
       "      <td>54112</td>\n",
       "      <td>192.168.100.3</td>\n",
       "      <td>...</td>\n",
       "      <td>1.21662</td>\n",
       "      <td>40</td>\n",
       "      <td>38</td>\n",
       "      <td>1.56107</td>\n",
       "      <td>1.21662</td>\n",
       "      <td>328</td>\n",
       "      <td>308</td>\n",
       "      <td>1</td>\n",
       "      <td>DDoS</td>\n",
       "      <td>HTTP</td>\n",
       "    </tr>\n",
       "    <tr>\n",
       "      <th>2</th>\n",
       "      <td>1650263</td>\n",
       "      <td>1650263</td>\n",
       "      <td>1.528103e+09</td>\n",
       "      <td>e</td>\n",
       "      <td>1</td>\n",
       "      <td>tcp</td>\n",
       "      <td>1</td>\n",
       "      <td>192.168.100.150</td>\n",
       "      <td>54114</td>\n",
       "      <td>192.168.100.3</td>\n",
       "      <td>...</td>\n",
       "      <td>1.21662</td>\n",
       "      <td>40</td>\n",
       "      <td>38</td>\n",
       "      <td>1.24980</td>\n",
       "      <td>1.21662</td>\n",
       "      <td>328</td>\n",
       "      <td>308</td>\n",
       "      <td>1</td>\n",
       "      <td>DDoS</td>\n",
       "      <td>HTTP</td>\n",
       "    </tr>\n",
       "    <tr>\n",
       "      <th>3</th>\n",
       "      <td>1650264</td>\n",
       "      <td>1650264</td>\n",
       "      <td>1.528103e+09</td>\n",
       "      <td>e</td>\n",
       "      <td>1</td>\n",
       "      <td>tcp</td>\n",
       "      <td>1</td>\n",
       "      <td>192.168.100.150</td>\n",
       "      <td>54116</td>\n",
       "      <td>192.168.100.3</td>\n",
       "      <td>...</td>\n",
       "      <td>1.21662</td>\n",
       "      <td>40</td>\n",
       "      <td>38</td>\n",
       "      <td>1.24986</td>\n",
       "      <td>1.21662</td>\n",
       "      <td>328</td>\n",
       "      <td>308</td>\n",
       "      <td>1</td>\n",
       "      <td>DDoS</td>\n",
       "      <td>HTTP</td>\n",
       "    </tr>\n",
       "    <tr>\n",
       "      <th>4</th>\n",
       "      <td>1650265</td>\n",
       "      <td>1650265</td>\n",
       "      <td>1.528103e+09</td>\n",
       "      <td>e</td>\n",
       "      <td>1</td>\n",
       "      <td>tcp</td>\n",
       "      <td>1</td>\n",
       "      <td>192.168.100.150</td>\n",
       "      <td>54118</td>\n",
       "      <td>192.168.100.3</td>\n",
       "      <td>...</td>\n",
       "      <td>1.21662</td>\n",
       "      <td>40</td>\n",
       "      <td>38</td>\n",
       "      <td>1.24991</td>\n",
       "      <td>1.21662</td>\n",
       "      <td>328</td>\n",
       "      <td>308</td>\n",
       "      <td>1</td>\n",
       "      <td>DDoS</td>\n",
       "      <td>HTTP</td>\n",
       "    </tr>\n",
       "  </tbody>\n",
       "</table>\n",
       "<p>5 rows × 47 columns</p>\n",
       "</div>"
      ],
      "text/plain": [
       "   Unnamed: 0  pkSeqID         stime flgs  flgs_number proto  proto_number  \\\n",
       "0     1650261  1650261  1.528103e+09    e            1   tcp             1   \n",
       "1     1650262  1650262  1.528103e+09    e            1   tcp             1   \n",
       "2     1650263  1650263  1.528103e+09    e            1   tcp             1   \n",
       "3     1650264  1650264  1.528103e+09    e            1   tcp             1   \n",
       "4     1650265  1650265  1.528103e+09    e            1   tcp             1   \n",
       "\n",
       "             saddr  sport          daddr  ... AR_P_Proto_P_DstIP  \\\n",
       "0  192.168.100.150  54110  192.168.100.3  ...            1.21662   \n",
       "1  192.168.100.150  54112  192.168.100.3  ...            1.21662   \n",
       "2  192.168.100.150  54114  192.168.100.3  ...            1.21662   \n",
       "3  192.168.100.150  54116  192.168.100.3  ...            1.21662   \n",
       "4  192.168.100.150  54118  192.168.100.3  ...            1.21662   \n",
       "\n",
       "   N_IN_Conn_P_DstIP  N_IN_Conn_P_SrcIP AR_P_Proto_P_Sport  \\\n",
       "0                 40                 38            1.56093   \n",
       "1                 40                 38            1.56107   \n",
       "2                 40                 38            1.24980   \n",
       "3                 40                 38            1.24986   \n",
       "4                 40                 38            1.24991   \n",
       "\n",
       "   AR_P_Proto_P_Dport  Pkts_P_State_P_Protocol_P_DestIP  \\\n",
       "0             1.21662                               328   \n",
       "1             1.21662                               328   \n",
       "2             1.21662                               328   \n",
       "3             1.21662                               328   \n",
       "4             1.21662                               328   \n",
       "\n",
       "   Pkts_P_State_P_Protocol_P_SrcIP  attack  category  subcategory  \n",
       "0                              308       1      DDoS         HTTP  \n",
       "1                              308       1      DDoS         HTTP  \n",
       "2                              308       1      DDoS         HTTP  \n",
       "3                              308       1      DDoS         HTTP  \n",
       "4                              308       1      DDoS         HTTP  \n",
       "\n",
       "[5 rows x 47 columns]"
      ]
     },
     "execution_count": 4,
     "metadata": {},
     "output_type": "execute_result"
    }
   ],
   "source": [
    "df.head()"
   ]
  },
  {
   "cell_type": "code",
   "execution_count": 5,
   "metadata": {},
   "outputs": [
    {
     "data": {
      "text/plain": [
       "Index(['Unnamed: 0', 'pkSeqID', 'stime', 'flgs', 'flgs_number', 'proto',\n",
       "       'proto_number', 'saddr', 'sport', 'daddr', 'dport', 'pkts', 'bytes',\n",
       "       'state', 'state_number', 'ltime', 'seq', 'dur', 'mean', 'stddev', 'sum',\n",
       "       'min', 'max', 'spkts', 'dpkts', 'sbytes', 'dbytes', 'rate', 'srate',\n",
       "       'drate', 'TnBPSrcIP', 'TnBPDstIP', 'TnP_PSrcIP', 'TnP_PDstIP',\n",
       "       'TnP_PerProto', 'TnP_Per_Dport', 'AR_P_Proto_P_SrcIP',\n",
       "       'AR_P_Proto_P_DstIP', 'N_IN_Conn_P_DstIP', 'N_IN_Conn_P_SrcIP',\n",
       "       'AR_P_Proto_P_Sport', 'AR_P_Proto_P_Dport',\n",
       "       'Pkts_P_State_P_Protocol_P_DestIP', 'Pkts_P_State_P_Protocol_P_SrcIP',\n",
       "       'attack', 'category', 'subcategory'],\n",
       "      dtype='object')"
      ]
     },
     "execution_count": 5,
     "metadata": {},
     "output_type": "execute_result"
    }
   ],
   "source": [
    "df.columns"
   ]
  },
  {
   "cell_type": "code",
   "execution_count": 6,
   "metadata": {},
   "outputs": [],
   "source": [
    "df.rename(columns = {'mean':'average_dur', 'stddev':'stddev_dur', \n",
    "                              'sum':'total_dur','min':'min_dur','max':'max_dur'}, inplace = True) "
   ]
  },
  {
   "cell_type": "code",
   "execution_count": 7,
   "metadata": {},
   "outputs": [
    {
     "data": {
      "text/plain": [
       "(1927101, 47)"
      ]
     },
     "execution_count": 7,
     "metadata": {},
     "output_type": "execute_result"
    }
   ],
   "source": [
    "df.shape"
   ]
  },
  {
   "cell_type": "code",
   "execution_count": 8,
   "metadata": {},
   "outputs": [
    {
     "data": {
      "text/plain": [
       "array(['tcp', 'arp', 'udp', 'icmp', 'ipv6-icmp'], dtype=object)"
      ]
     },
     "execution_count": 8,
     "metadata": {},
     "output_type": "execute_result"
    }
   ],
   "source": [
    "df.proto.unique()"
   ]
  },
  {
   "cell_type": "code",
   "execution_count": 9,
   "metadata": {},
   "outputs": [
    {
     "data": {
      "text/plain": [
       "e      1129681\n",
       "e s     778517\n",
       "e g      17825\n",
       "e *        809\n",
       "eU         247\n",
       "e d         17\n",
       "e &          5\n",
       "Name: flgs, dtype: int64"
      ]
     },
     "execution_count": 9,
     "metadata": {},
     "output_type": "execute_result"
    }
   ],
   "source": [
    "df.flgs.value_counts()"
   ]
  },
  {
   "cell_type": "code",
   "execution_count": 10,
   "metadata": {},
   "outputs": [
    {
     "data": {
      "text/plain": [
       "1528099338.27983    29\n",
       "1528099353.01837    29\n",
       "1528099339.51717    28\n",
       "1528099327.20760    28\n",
       "1528099323.15023    28\n",
       "                    ..\n",
       "1528102921.38342     1\n",
       "1528099353.64484     1\n",
       "1528099337.69590     1\n",
       "1528099321.76411     1\n",
       "1526348175.32554     1\n",
       "Name: stime, Length: 187071, dtype: int64"
      ]
     },
     "execution_count": 10,
     "metadata": {},
     "output_type": "execute_result"
    }
   ],
   "source": [
    "pd.set_option('display.float_format', lambda x: '%.5f' % x)\n",
    "df.stime.value_counts()"
   ]
  },
  {
   "cell_type": "code",
   "execution_count": 11,
   "metadata": {},
   "outputs": [
    {
     "data": {
      "text/plain": [
       "array([1, 2, 4, 3, 5, 6, 7])"
      ]
     },
     "execution_count": 11,
     "metadata": {},
     "output_type": "execute_result"
    }
   ],
   "source": [
    "df.flgs_number.unique()"
   ]
  },
  {
   "cell_type": "code",
   "execution_count": 12,
   "metadata": {},
   "outputs": [
    {
     "data": {
      "text/plain": [
       "192.168.100.147    520012\n",
       "192.168.100.148    494696\n",
       "192.168.100.150    457002\n",
       "192.168.100.149    451641\n",
       "192.168.100.3        3625\n",
       "Name: saddr, dtype: int64"
      ]
     },
     "execution_count": 12,
     "metadata": {},
     "output_type": "execute_result"
    }
   ],
   "source": [
    "df.saddr.value_counts()[:5]"
   ]
  },
  {
   "cell_type": "code",
   "execution_count": 13,
   "metadata": {},
   "outputs": [
    {
     "data": {
      "text/plain": [
       "192.168.100.3      1923162\n",
       "192.168.100.147       1340\n",
       "192.168.100.150       1317\n",
       "192.168.100.149        583\n",
       "192.168.100.148        250\n",
       "Name: daddr, dtype: int64"
      ]
     },
     "execution_count": 13,
     "metadata": {},
     "output_type": "execute_result"
    }
   ],
   "source": [
    "df.daddr.value_counts()[:5]"
   ]
  },
  {
   "cell_type": "code",
   "execution_count": 14,
   "metadata": {},
   "outputs": [
    {
     "data": {
      "text/plain": [
       " 80       3496\n",
       "-1          81\n",
       " 5353       43\n",
       " 8612       32\n",
       " 59552      32\n",
       "Name: sport, dtype: int64"
      ]
     },
     "execution_count": 14,
     "metadata": {},
     "output_type": "execute_result"
    }
   ],
   "source": [
    "df.sport.value_counts()[:5]"
   ]
  },
  {
   "cell_type": "code",
   "execution_count": 15,
   "metadata": {},
   "outputs": [
    {
     "data": {
      "text/plain": [
       "80      1710165\n",
       "80       212975\n",
       "53          251\n",
       "-1           81\n",
       "5353         65\n",
       "Name: dport, dtype: int64"
      ]
     },
     "execution_count": 15,
     "metadata": {},
     "output_type": "execute_result"
    }
   ],
   "source": [
    "df.dport.value_counts()[:5]"
   ]
  },
  {
   "cell_type": "code",
   "execution_count": 16,
   "metadata": {},
   "outputs": [
    {
     "data": {
      "text/plain": [
       "7        296451\n",
       "6        253330\n",
       "5        208627\n",
       "4        190894\n",
       "8        188133\n",
       "          ...  \n",
       "14751         1\n",
       "20881         1\n",
       "7586          1\n",
       "3492          1\n",
       "97            1\n",
       "Name: pkts, Length: 75, dtype: int64"
      ]
     },
     "execution_count": 16,
     "metadata": {},
     "output_type": "execute_result"
    }
   ],
   "source": [
    "df.pkts.value_counts()"
   ]
  },
  {
   "cell_type": "code",
   "execution_count": 17,
   "metadata": {},
   "outputs": [
    {
     "data": {
      "text/plain": [
       "count   1927101.00000\n",
       "mean          7.91394\n",
       "std         159.19746\n",
       "min           1.00000\n",
       "25%           5.00000\n",
       "50%           7.00000\n",
       "75%          10.00000\n",
       "max       70057.00000\n",
       "Name: pkts, dtype: float64"
      ]
     },
     "execution_count": 17,
     "metadata": {},
     "output_type": "execute_result"
    }
   ],
   "source": [
    "df.pkts.describe()"
   ]
  },
  {
   "cell_type": "code",
   "execution_count": 18,
   "metadata": {},
   "outputs": [
    {
     "data": {
      "text/plain": [
       "420         183844\n",
       "770         159099\n",
       "480         141146\n",
       "616         138020\n",
       "900         135767\n",
       "             ...  \n",
       "845              1\n",
       "17131488         1\n",
       "1587             1\n",
       "4660             1\n",
       "3060             1\n",
       "Name: bytes, Length: 626, dtype: int64"
      ]
     },
     "execution_count": 18,
     "metadata": {},
     "output_type": "execute_result"
    }
   ],
   "source": [
    "df.bytes.value_counts()"
   ]
  },
  {
   "cell_type": "code",
   "execution_count": 19,
   "metadata": {},
   "outputs": [
    {
     "data": {
      "text/plain": [
       "count    1927101.00000\n",
       "mean        1126.11307\n",
       "std       154895.09592\n",
       "min           60.00000\n",
       "25%          420.00000\n",
       "50%          616.00000\n",
       "75%          780.00000\n",
       "max     71833345.00000\n",
       "Name: bytes, dtype: float64"
      ]
     },
     "execution_count": 19,
     "metadata": {},
     "output_type": "execute_result"
    }
   ],
   "source": [
    "df.bytes.describe()"
   ]
  },
  {
   "cell_type": "code",
   "execution_count": 20,
   "metadata": {},
   "outputs": [
    {
     "data": {
      "text/plain": [
       "array(['RST', 'CON', 'FIN', 'REQ', 'ACC', 'INT', 'URP', 'NRS'],\n",
       "      dtype=object)"
      ]
     },
     "execution_count": 20,
     "metadata": {},
     "output_type": "execute_result"
    }
   ],
   "source": [
    "df.state.unique()"
   ]
  },
  {
   "cell_type": "code",
   "execution_count": 21,
   "metadata": {},
   "outputs": [
    {
     "data": {
      "text/plain": [
       "array([1, 2, 6, 3, 7, 4, 5, 8])"
      ]
     },
     "execution_count": 21,
     "metadata": {},
     "output_type": "execute_result"
    }
   ],
   "source": [
    "df.state_number.unique()"
   ]
  },
  {
   "cell_type": "code",
   "execution_count": 22,
   "metadata": {},
   "outputs": [
    {
     "data": {
      "text/plain": [
       "0         1528102927.75104\n",
       "1         1528102927.75106\n",
       "2         1528102927.75109\n",
       "3         1528102927.75111\n",
       "4         1528102927.75114\n",
       "                ...       \n",
       "1927096   1526351824.66770\n",
       "1927097   1526351824.86374\n",
       "1927098   1526351825.12750\n",
       "1927099   1526351825.27450\n",
       "1927100   1526351825.27437\n",
       "Name: ltime, Length: 1927101, dtype: float64"
      ]
     },
     "execution_count": 22,
     "metadata": {},
     "output_type": "execute_result"
    }
   ],
   "source": [
    "df.ltime"
   ]
  },
  {
   "cell_type": "code",
   "execution_count": 23,
   "metadata": {},
   "outputs": [
    {
     "data": {
      "text/plain": [
       "1         11\n",
       "2         11\n",
       "41        11\n",
       "14        11\n",
       "7         11\n",
       "          ..\n",
       "262162     1\n",
       "262167     1\n",
       "262168     1\n",
       "262164     1\n",
       "262165     1\n",
       "Name: seq, Length: 262168, dtype: int64"
      ]
     },
     "execution_count": 23,
     "metadata": {},
     "output_type": "execute_result"
    }
   ],
   "source": [
    "df.seq.value_counts()"
   ]
  },
  {
   "cell_type": "code",
   "execution_count": 24,
   "metadata": {},
   "outputs": [
    {
     "data": {
      "text/plain": [
       "0.00000     84317\n",
       "12.16235      182\n",
       "12.38465      169\n",
       "13.96231      167\n",
       "12.38396      166\n",
       "            ...  \n",
       "6.40681         1\n",
       "14.41112        1\n",
       "13.80980        1\n",
       "13.40667        1\n",
       "9.62721         1\n",
       "Name: dur, Length: 369058, dtype: int64"
      ]
     },
     "execution_count": 24,
     "metadata": {},
     "output_type": "execute_result"
    }
   ],
   "source": [
    "df.dur.value_counts()"
   ]
  },
  {
   "cell_type": "code",
   "execution_count": 25,
   "metadata": {},
   "outputs": [
    {
     "data": {
      "text/plain": [
       "count   1927101.00000\n",
       "mean         14.84886\n",
       "std          12.38456\n",
       "min           0.00000\n",
       "25%          12.12153\n",
       "50%          13.68344\n",
       "75%          14.54814\n",
       "max        1940.85925\n",
       "Name: dur, dtype: float64"
      ]
     },
     "execution_count": 25,
     "metadata": {},
     "output_type": "execute_result"
    }
   ],
   "source": [
    "df.dur.describe()"
   ]
  },
  {
   "cell_type": "code",
   "execution_count": 26,
   "metadata": {},
   "outputs": [
    {
     "data": {
      "text/plain": [
       "count   1927101.00000\n",
       "mean          2.54913\n",
       "std           1.40456\n",
       "min           0.00000\n",
       "25%           2.01583\n",
       "50%           2.75968\n",
       "75%           3.65985\n",
       "max           4.98188\n",
       "Name: average_dur, dtype: float64"
      ]
     },
     "execution_count": 26,
     "metadata": {},
     "output_type": "execute_result"
    }
   ],
   "source": [
    "df.average_dur.describe()"
   ]
  },
  {
   "cell_type": "code",
   "execution_count": 27,
   "metadata": {},
   "outputs": [
    {
     "data": {
      "text/plain": [
       "count   1927101.00000\n",
       "mean          0.94513\n",
       "std           0.75185\n",
       "min           0.00000\n",
       "25%           0.12290\n",
       "50%           0.93757\n",
       "75%           1.69005\n",
       "max           2.49676\n",
       "Name: stddev_dur, dtype: float64"
      ]
     },
     "execution_count": 27,
     "metadata": {},
     "output_type": "execute_result"
    }
   ],
   "source": [
    "df.stddev_dur.describe()"
   ]
  },
  {
   "cell_type": "code",
   "execution_count": 28,
   "metadata": {},
   "outputs": [
    {
     "data": {
      "text/plain": [
       "count   1927101.00000\n",
       "mean          7.25685\n",
       "std           8.14079\n",
       "min           0.00000\n",
       "25%           4.53265\n",
       "50%           8.11673\n",
       "75%          10.52108\n",
       "max        1913.19360\n",
       "Name: total_dur, dtype: float64"
      ]
     },
     "execution_count": 28,
     "metadata": {},
     "output_type": "execute_result"
    }
   ],
   "source": [
    "df.total_dur.describe()"
   ]
  },
  {
   "cell_type": "code",
   "execution_count": 29,
   "metadata": {},
   "outputs": [
    {
     "data": {
      "text/plain": [
       "count   1927101.00000\n",
       "mean          1.30163\n",
       "std           1.49103\n",
       "min           0.00000\n",
       "25%           0.00000\n",
       "50%           0.16957\n",
       "75%           2.76341\n",
       "max           4.98047\n",
       "Name: min_dur, dtype: float64"
      ]
     },
     "execution_count": 29,
     "metadata": {},
     "output_type": "execute_result"
    }
   ],
   "source": [
    "df.min_dur.describe()"
   ]
  },
  {
   "cell_type": "code",
   "execution_count": 30,
   "metadata": {},
   "outputs": [
    {
     "data": {
      "text/plain": [
       "6     277866\n",
       "5     272505\n",
       "7     240939\n",
       "4     193098\n",
       "8     155965\n",
       "15    135780\n",
       "11    129710\n",
       "3     117821\n",
       "2      91799\n",
       "1      84570\n",
       "Name: spkts, dtype: int64"
      ]
     },
     "execution_count": 30,
     "metadata": {},
     "output_type": "execute_result"
    }
   ],
   "source": [
    "df.spkts.value_counts()[:10]"
   ]
  },
  {
   "cell_type": "code",
   "execution_count": 31,
   "metadata": {},
   "outputs": [
    {
     "data": {
      "text/plain": [
       "0     1463522\n",
       "1      353455\n",
       "2       93371\n",
       "3       14606\n",
       "4        2103\n",
       "5          11\n",
       "12          3\n",
       "14          3\n",
       "15          2\n",
       "16          2\n",
       "Name: dpkts, dtype: int64"
      ]
     },
     "execution_count": 31,
     "metadata": {},
     "output_type": "execute_result"
    }
   ],
   "source": [
    "df.dpkts.value_counts()[:10]"
   ]
  },
  {
   "cell_type": "code",
   "execution_count": 32,
   "metadata": {},
   "outputs": [
    {
     "data": {
      "text/plain": [
       "420     183843\n",
       "770     159640\n",
       "480     141141\n",
       "616     139199\n",
       "900     135770\n",
       "         ...  \n",
       "711          1\n",
       "4808         1\n",
       "721          1\n",
       "5843         1\n",
       "2048         1\n",
       "Name: sbytes, Length: 540, dtype: int64"
      ]
     },
     "execution_count": 32,
     "metadata": {},
     "output_type": "execute_result"
    }
   ],
   "source": [
    "df.sbytes.value_counts()"
   ]
  },
  {
   "cell_type": "code",
   "execution_count": 33,
   "metadata": {},
   "outputs": [
    {
     "data": {
      "text/plain": [
       "count    1927101.00000\n",
       "mean         953.44279\n",
       "std        99240.94647\n",
       "min           42.00000\n",
       "25%          420.00000\n",
       "50%          616.00000\n",
       "75%          770.00000\n",
       "max     37747017.00000\n",
       "Name: sbytes, dtype: float64"
      ]
     },
     "execution_count": 33,
     "metadata": {},
     "output_type": "execute_result"
    }
   ],
   "source": [
    "df.sbytes.describe()"
   ]
  },
  {
   "cell_type": "code",
   "execution_count": 34,
   "metadata": {},
   "outputs": [
    {
     "data": {
      "text/plain": [
       "count   1927101.00000\n",
       "mean          0.90928\n",
       "std         119.10445\n",
       "min           0.00000\n",
       "25%           0.27143\n",
       "50%           0.46384\n",
       "75%           0.65159\n",
       "max       90909.09375\n",
       "Name: rate, dtype: float64"
      ]
     },
     "execution_count": 34,
     "metadata": {},
     "output_type": "execute_result"
    }
   ],
   "source": [
    "df.rate.describe()"
   ]
  },
  {
   "cell_type": "code",
   "execution_count": 35,
   "metadata": {},
   "outputs": [
    {
     "data": {
      "text/plain": [
       "count   1927101.00000\n",
       "mean          1.98643\n",
       "std         918.27705\n",
       "min           0.00000\n",
       "25%           0.24985\n",
       "50%           0.41008\n",
       "75%           0.63466\n",
       "max     1000000.00000\n",
       "Name: srate, dtype: float64"
      ]
     },
     "execution_count": 35,
     "metadata": {},
     "output_type": "execute_result"
    }
   ],
   "source": [
    "df.srate.describe()"
   ]
  },
  {
   "cell_type": "code",
   "execution_count": 36,
   "metadata": {},
   "outputs": [
    {
     "data": {
      "text/plain": [
       "count   1927101.00000\n",
       "mean          0.00977\n",
       "std           2.10783\n",
       "min           0.00000\n",
       "25%           0.00000\n",
       "50%           0.00000\n",
       "75%           0.00000\n",
       "max        2178.64917\n",
       "Name: drate, dtype: float64"
      ]
     },
     "execution_count": 36,
     "metadata": {},
     "output_type": "execute_result"
    }
   ],
   "source": [
    "df.drate.describe()"
   ]
  },
  {
   "cell_type": "code",
   "execution_count": null,
   "metadata": {},
   "outputs": [],
   "source": []
  },
  {
   "cell_type": "code",
   "execution_count": null,
   "metadata": {},
   "outputs": [],
   "source": []
  },
  {
   "cell_type": "code",
   "execution_count": null,
   "metadata": {},
   "outputs": [],
   "source": []
  },
  {
   "cell_type": "code",
   "execution_count": 37,
   "metadata": {},
   "outputs": [
    {
     "data": {
      "text/plain": [
       "Index(['Unnamed: 0', 'pkSeqID', 'stime', 'flgs', 'flgs_number', 'proto',\n",
       "       'proto_number', 'saddr', 'sport', 'daddr', 'dport', 'pkts', 'bytes',\n",
       "       'state', 'state_number', 'ltime', 'seq', 'dur', 'average_dur',\n",
       "       'stddev_dur', 'total_dur', 'min_dur', 'max_dur', 'spkts', 'dpkts',\n",
       "       'sbytes', 'dbytes', 'rate', 'srate', 'drate', 'TnBPSrcIP', 'TnBPDstIP',\n",
       "       'TnP_PSrcIP', 'TnP_PDstIP', 'TnP_PerProto', 'TnP_Per_Dport',\n",
       "       'AR_P_Proto_P_SrcIP', 'AR_P_Proto_P_DstIP', 'N_IN_Conn_P_DstIP',\n",
       "       'N_IN_Conn_P_SrcIP', 'AR_P_Proto_P_Sport', 'AR_P_Proto_P_Dport',\n",
       "       'Pkts_P_State_P_Protocol_P_DestIP', 'Pkts_P_State_P_Protocol_P_SrcIP',\n",
       "       'attack', 'category', 'subcategory'],\n",
       "      dtype='object')"
      ]
     },
     "execution_count": 37,
     "metadata": {},
     "output_type": "execute_result"
    }
   ],
   "source": [
    "df.columns"
   ]
  },
  {
   "cell_type": "code",
   "execution_count": null,
   "metadata": {},
   "outputs": [],
   "source": []
  },
  {
   "cell_type": "code",
   "execution_count": 38,
   "metadata": {},
   "outputs": [],
   "source": [
    "df_ml = df.copy()"
   ]
  },
  {
   "cell_type": "code",
   "execution_count": 39,
   "metadata": {},
   "outputs": [],
   "source": [
    "#df.drop(['column_nameA', 'column_nameB'], axis=1, inplace=True)"
   ]
  },
  {
   "cell_type": "code",
   "execution_count": null,
   "metadata": {},
   "outputs": [],
   "source": []
  },
  {
   "cell_type": "markdown",
   "metadata": {},
   "source": [
    "## Data Cleaning and Information of basic features"
   ]
  },
  {
   "cell_type": "markdown",
   "metadata": {},
   "source": [
    "### 1. Remove the first and second column\n",
    "\n",
    "#### Define:\n",
    " The first and second column is basically the id number of each row and is not required for analysis."
   ]
  },
  {
   "cell_type": "markdown",
   "metadata": {},
   "source": [
    "#### Code:"
   ]
  },
  {
   "cell_type": "code",
   "execution_count": 40,
   "metadata": {},
   "outputs": [],
   "source": [
    "df.drop(['Unnamed: 0','pkSeqID'], axis=1, inplace=True)"
   ]
  },
  {
   "cell_type": "markdown",
   "metadata": {},
   "source": [
    "#### Test:"
   ]
  },
  {
   "cell_type": "code",
   "execution_count": 41,
   "metadata": {},
   "outputs": [
    {
     "data": {
      "text/plain": [
       "Index(['stime', 'flgs', 'flgs_number', 'proto', 'proto_number', 'saddr',\n",
       "       'sport', 'daddr', 'dport', 'pkts', 'bytes', 'state', 'state_number',\n",
       "       'ltime', 'seq', 'dur', 'average_dur', 'stddev_dur', 'total_dur',\n",
       "       'min_dur', 'max_dur', 'spkts', 'dpkts', 'sbytes', 'dbytes', 'rate',\n",
       "       'srate', 'drate', 'TnBPSrcIP', 'TnBPDstIP', 'TnP_PSrcIP', 'TnP_PDstIP',\n",
       "       'TnP_PerProto', 'TnP_Per_Dport', 'AR_P_Proto_P_SrcIP',\n",
       "       'AR_P_Proto_P_DstIP', 'N_IN_Conn_P_DstIP', 'N_IN_Conn_P_SrcIP',\n",
       "       'AR_P_Proto_P_Sport', 'AR_P_Proto_P_Dport',\n",
       "       'Pkts_P_State_P_Protocol_P_DestIP', 'Pkts_P_State_P_Protocol_P_SrcIP',\n",
       "       'attack', 'category', 'subcategory'],\n",
       "      dtype='object')"
      ]
     },
     "execution_count": 41,
     "metadata": {},
     "output_type": "execute_result"
    }
   ],
   "source": [
    "df.columns"
   ]
  },
  {
   "cell_type": "code",
   "execution_count": null,
   "metadata": {},
   "outputs": [],
   "source": []
  },
  {
   "cell_type": "markdown",
   "metadata": {},
   "source": [
    "### 2. Drop flgs and flgno as its of no use for analytics"
   ]
  },
  {
   "cell_type": "markdown",
   "metadata": {},
   "source": [
    "#### Define:\n",
    "We have our second column as fgs which is \"Flow state flags seen in transactions\" and flgs_number which is associated with the flow state. We are removing this because we are dealing with the flags alone in an upcoming column and dont require this for analysis now.\n"
   ]
  },
  {
   "cell_type": "markdown",
   "metadata": {},
   "source": [
    "#### Code:"
   ]
  },
  {
   "cell_type": "code",
   "execution_count": 42,
   "metadata": {},
   "outputs": [],
   "source": [
    "df.drop(['flgs', 'flgs_number'], axis=1, inplace=True)"
   ]
  },
  {
   "cell_type": "markdown",
   "metadata": {},
   "source": [
    "#### Test:"
   ]
  },
  {
   "cell_type": "code",
   "execution_count": 43,
   "metadata": {},
   "outputs": [
    {
     "data": {
      "text/plain": [
       "Index(['stime', 'proto', 'proto_number', 'saddr', 'sport', 'daddr', 'dport',\n",
       "       'pkts', 'bytes', 'state', 'state_number', 'ltime', 'seq', 'dur',\n",
       "       'average_dur', 'stddev_dur', 'total_dur', 'min_dur', 'max_dur', 'spkts',\n",
       "       'dpkts', 'sbytes', 'dbytes', 'rate', 'srate', 'drate', 'TnBPSrcIP',\n",
       "       'TnBPDstIP', 'TnP_PSrcIP', 'TnP_PDstIP', 'TnP_PerProto',\n",
       "       'TnP_Per_Dport', 'AR_P_Proto_P_SrcIP', 'AR_P_Proto_P_DstIP',\n",
       "       'N_IN_Conn_P_DstIP', 'N_IN_Conn_P_SrcIP', 'AR_P_Proto_P_Sport',\n",
       "       'AR_P_Proto_P_Dport', 'Pkts_P_State_P_Protocol_P_DestIP',\n",
       "       'Pkts_P_State_P_Protocol_P_SrcIP', 'attack', 'category', 'subcategory'],\n",
       "      dtype='object')"
      ]
     },
     "execution_count": 43,
     "metadata": {},
     "output_type": "execute_result"
    }
   ],
   "source": [
    "df.columns"
   ]
  },
  {
   "cell_type": "code",
   "execution_count": null,
   "metadata": {},
   "outputs": [],
   "source": []
  },
  {
   "cell_type": "markdown",
   "metadata": {},
   "source": [
    "### 3. stime(start time) and ltime(last time) required for our analysis and can it be dropped?"
   ]
  },
  {
   "cell_type": "markdown",
   "metadata": {},
   "source": [
    "#### Define:\n",
    "Start time is the time at which the machine started recording the packet transfer and end time is the time at which the packet transfer was completed. SInce in the upcoming columns we are making flow based analysis from this features we dont actually need this as it is of no use for either analysis nor machine learning. This can be dropped from the datafram for further analysis."
   ]
  },
  {
   "cell_type": "markdown",
   "metadata": {},
   "source": [
    "#### Code:"
   ]
  },
  {
   "cell_type": "code",
   "execution_count": 44,
   "metadata": {},
   "outputs": [],
   "source": [
    "df.drop(['stime', 'ltime'], axis=1, inplace=True)"
   ]
  },
  {
   "cell_type": "markdown",
   "metadata": {},
   "source": [
    "#### Test:"
   ]
  },
  {
   "cell_type": "code",
   "execution_count": 45,
   "metadata": {},
   "outputs": [
    {
     "data": {
      "text/plain": [
       "Index(['proto', 'proto_number', 'saddr', 'sport', 'daddr', 'dport', 'pkts',\n",
       "       'bytes', 'state', 'state_number', 'seq', 'dur', 'average_dur',\n",
       "       'stddev_dur', 'total_dur', 'min_dur', 'max_dur', 'spkts', 'dpkts',\n",
       "       'sbytes', 'dbytes', 'rate', 'srate', 'drate', 'TnBPSrcIP', 'TnBPDstIP',\n",
       "       'TnP_PSrcIP', 'TnP_PDstIP', 'TnP_PerProto', 'TnP_Per_Dport',\n",
       "       'AR_P_Proto_P_SrcIP', 'AR_P_Proto_P_DstIP', 'N_IN_Conn_P_DstIP',\n",
       "       'N_IN_Conn_P_SrcIP', 'AR_P_Proto_P_Sport', 'AR_P_Proto_P_Dport',\n",
       "       'Pkts_P_State_P_Protocol_P_DestIP', 'Pkts_P_State_P_Protocol_P_SrcIP',\n",
       "       'attack', 'category', 'subcategory'],\n",
       "      dtype='object')"
      ]
     },
     "execution_count": 45,
     "metadata": {},
     "output_type": "execute_result"
    }
   ],
   "source": [
    "df.columns"
   ]
  },
  {
   "cell_type": "code",
   "execution_count": 46,
   "metadata": {},
   "outputs": [
    {
     "data": {
      "text/plain": [
       "0          54110\n",
       "1          54112\n",
       "2          54114\n",
       "3          54116\n",
       "4          54118\n",
       "           ...  \n",
       "1927096    36242\n",
       "1927097    63574\n",
       "1927098    59485\n",
       "1927099    20844\n",
       "1927100    31102\n",
       "Name: sport, Length: 1927101, dtype: object"
      ]
     },
     "execution_count": 46,
     "metadata": {},
     "output_type": "execute_result"
    }
   ],
   "source": [
    "df.sport"
   ]
  },
  {
   "cell_type": "markdown",
   "metadata": {},
   "source": [
    "### 4.sport and dport are port numbers but the type available for them is object."
   ]
  },
  {
   "cell_type": "markdown",
   "metadata": {},
   "source": [
    "#### Define:\n",
    "We need to convert both dport and sport into int type as they are numbers.\n",
    "But icmp have strings so we need to delete them as they are very least in number and not usefull for analysis."
   ]
  },
  {
   "cell_type": "markdown",
   "metadata": {},
   "source": [
    "#### Code:"
   ]
  },
  {
   "cell_type": "code",
   "execution_count": 47,
   "metadata": {},
   "outputs": [],
   "source": [
    "df = df[df.proto != 'icmp']"
   ]
  },
  {
   "cell_type": "code",
   "execution_count": 50,
   "metadata": {},
   "outputs": [],
   "source": [
    "df[\"sport\"] = pd.to_numeric(df['sport'])\n",
    "df[\"dport\"] = pd.to_numeric(df['dport'])"
   ]
  },
  {
   "cell_type": "markdown",
   "metadata": {},
   "source": [
    "#### Test:"
   ]
  },
  {
   "cell_type": "code",
   "execution_count": 51,
   "metadata": {},
   "outputs": [
    {
     "data": {
      "text/plain": [
       "dtype('int64')"
      ]
     },
     "execution_count": 51,
     "metadata": {},
     "output_type": "execute_result"
    }
   ],
   "source": [
    "df.sport.dtype"
   ]
  },
  {
   "cell_type": "code",
   "execution_count": 52,
   "metadata": {},
   "outputs": [
    {
     "data": {
      "text/plain": [
       "dtype('int64')"
      ]
     },
     "execution_count": 52,
     "metadata": {},
     "output_type": "execute_result"
    }
   ],
   "source": [
    "df.dport.dtype"
   ]
  },
  {
   "cell_type": "code",
   "execution_count": null,
   "metadata": {},
   "outputs": [],
   "source": []
  },
  {
   "cell_type": "markdown",
   "metadata": {},
   "source": [
    "### 5.we have -1 as port number so we need to see what is wrong and remove it if needed?"
   ]
  },
  {
   "cell_type": "markdown",
   "metadata": {},
   "source": [
    "#### INFO:\n",
    "The valid port numbers can range as,\n",
    "(2^16)-1, or 0-65,535 (the -1 is because port 0 is reserved and unavailable). -ve can also occur if there is a NAT translation occuring.\n",
    "NAT: Transmision of private ip to public ip.\n"
   ]
  },
  {
   "cell_type": "markdown",
   "metadata": {},
   "source": [
    "\n",
    "The -1 indicates port 0 itself and can be ignored. We wont use it for analysis but it dont need to be removed."
   ]
  },
  {
   "cell_type": "code",
   "execution_count": null,
   "metadata": {},
   "outputs": [],
   "source": []
  },
  {
   "cell_type": "markdown",
   "metadata": {},
   "source": [
    "### 6.Sate number just tells us about the state and which isnt needed and can be removed."
   ]
  },
  {
   "cell_type": "markdown",
   "metadata": {},
   "source": [
    "#### Define:\n",
    "In state_number it is a numerical representation of states which we already have and can be used for analytics. We can add it later if needed and remove it for now."
   ]
  },
  {
   "cell_type": "markdown",
   "metadata": {},
   "source": [
    "#### Code:"
   ]
  },
  {
   "cell_type": "code",
   "execution_count": 55,
   "metadata": {},
   "outputs": [],
   "source": [
    "df.drop(['state_number'], axis=1, inplace=True)"
   ]
  },
  {
   "cell_type": "markdown",
   "metadata": {},
   "source": [
    "#### Test:"
   ]
  },
  {
   "cell_type": "code",
   "execution_count": 56,
   "metadata": {},
   "outputs": [
    {
     "data": {
      "text/plain": [
       "Index(['proto', 'proto_number', 'saddr', 'sport', 'daddr', 'dport', 'pkts',\n",
       "       'bytes', 'state', 'seq', 'dur', 'average_dur', 'stddev_dur',\n",
       "       'total_dur', 'min_dur', 'max_dur', 'spkts', 'dpkts', 'sbytes', 'dbytes',\n",
       "       'rate', 'srate', 'drate', 'TnBPSrcIP', 'TnBPDstIP', 'TnP_PSrcIP',\n",
       "       'TnP_PDstIP', 'TnP_PerProto', 'TnP_Per_Dport', 'AR_P_Proto_P_SrcIP',\n",
       "       'AR_P_Proto_P_DstIP', 'N_IN_Conn_P_DstIP', 'N_IN_Conn_P_SrcIP',\n",
       "       'AR_P_Proto_P_Sport', 'AR_P_Proto_P_Dport',\n",
       "       'Pkts_P_State_P_Protocol_P_DestIP', 'Pkts_P_State_P_Protocol_P_SrcIP',\n",
       "       'attack', 'category', 'subcategory'],\n",
       "      dtype='object')"
      ]
     },
     "execution_count": 56,
     "metadata": {},
     "output_type": "execute_result"
    }
   ],
   "source": [
    "df.columns"
   ]
  },
  {
   "cell_type": "markdown",
   "metadata": {},
   "source": [
    "### 7.sequence number also isnt required for analysis and can be removed."
   ]
  },
  {
   "cell_type": "markdown",
   "metadata": {},
   "source": [
    "#### Define:\n",
    "Sequence number is of no use in deciding about botnets attack and is used for transfer of data with number and hence it can be removed for analysis phase.\n"
   ]
  },
  {
   "cell_type": "markdown",
   "metadata": {},
   "source": [
    "#### Code:"
   ]
  },
  {
   "cell_type": "code",
   "execution_count": 57,
   "metadata": {},
   "outputs": [],
   "source": [
    "df.drop(['seq'], axis=1, inplace=True)"
   ]
  },
  {
   "cell_type": "markdown",
   "metadata": {},
   "source": [
    "#### Test:"
   ]
  },
  {
   "cell_type": "code",
   "execution_count": 58,
   "metadata": {},
   "outputs": [
    {
     "data": {
      "text/plain": [
       "Index(['proto', 'proto_number', 'saddr', 'sport', 'daddr', 'dport', 'pkts',\n",
       "       'bytes', 'state', 'dur', 'average_dur', 'stddev_dur', 'total_dur',\n",
       "       'min_dur', 'max_dur', 'spkts', 'dpkts', 'sbytes', 'dbytes', 'rate',\n",
       "       'srate', 'drate', 'TnBPSrcIP', 'TnBPDstIP', 'TnP_PSrcIP', 'TnP_PDstIP',\n",
       "       'TnP_PerProto', 'TnP_Per_Dport', 'AR_P_Proto_P_SrcIP',\n",
       "       'AR_P_Proto_P_DstIP', 'N_IN_Conn_P_DstIP', 'N_IN_Conn_P_SrcIP',\n",
       "       'AR_P_Proto_P_Sport', 'AR_P_Proto_P_Dport',\n",
       "       'Pkts_P_State_P_Protocol_P_DestIP', 'Pkts_P_State_P_Protocol_P_SrcIP',\n",
       "       'attack', 'category', 'subcategory'],\n",
       "      dtype='object')"
      ]
     },
     "execution_count": 58,
     "metadata": {},
     "output_type": "execute_result"
    }
   ],
   "source": [
    "df.columns"
   ]
  },
  {
   "cell_type": "markdown",
   "metadata": {},
   "source": [
    "### Basics features have been cleaned are ready to export to a new csv."
   ]
  },
  {
   "cell_type": "code",
   "execution_count": 59,
   "metadata": {},
   "outputs": [],
   "source": [
    "df.to_csv(r'basic_cleaned.csv')"
   ]
  },
  {
   "cell_type": "code",
   "execution_count": null,
   "metadata": {},
   "outputs": [],
   "source": []
  },
  {
   "cell_type": "markdown",
   "metadata": {},
   "source": [
    "# 2.Flow Based Features"
   ]
  },
  {
   "cell_type": "markdown",
   "metadata": {},
   "source": [
    "<img src=\"images/flow_features.png\">"
   ]
  },
  {
   "cell_type": "markdown",
   "metadata": {},
   "source": [
    "### Data Wrangling on Flow Based Features"
   ]
  },
  {
   "cell_type": "code",
   "execution_count": 60,
   "metadata": {},
   "outputs": [
    {
     "data": {
      "text/plain": [
       "Index(['proto', 'proto_number', 'saddr', 'sport', 'daddr', 'dport', 'pkts',\n",
       "       'bytes', 'state', 'dur', 'average_dur', 'stddev_dur', 'total_dur',\n",
       "       'min_dur', 'max_dur', 'spkts', 'dpkts', 'sbytes', 'dbytes', 'rate',\n",
       "       'srate', 'drate', 'TnBPSrcIP', 'TnBPDstIP', 'TnP_PSrcIP', 'TnP_PDstIP',\n",
       "       'TnP_PerProto', 'TnP_Per_Dport', 'AR_P_Proto_P_SrcIP',\n",
       "       'AR_P_Proto_P_DstIP', 'N_IN_Conn_P_DstIP', 'N_IN_Conn_P_SrcIP',\n",
       "       'AR_P_Proto_P_Sport', 'AR_P_Proto_P_Dport',\n",
       "       'Pkts_P_State_P_Protocol_P_DestIP', 'Pkts_P_State_P_Protocol_P_SrcIP',\n",
       "       'attack', 'category', 'subcategory'],\n",
       "      dtype='object')"
      ]
     },
     "execution_count": 60,
     "metadata": {},
     "output_type": "execute_result"
    }
   ],
   "source": [
    "df.columns"
   ]
  },
  {
   "cell_type": "markdown",
   "metadata": {},
   "source": [
    "#### Flow based features are derived from basic features and so no cleaning process required."
   ]
  },
  {
   "cell_type": "code",
   "execution_count": null,
   "metadata": {},
   "outputs": [],
   "source": []
  },
  {
   "cell_type": "markdown",
   "metadata": {},
   "source": [
    "## Dataset for Machine learning:\n",
    "Based on the above cleaning process and earlier chunk wrangled process we can prepare a dataset for machine learning purpose by removing the unwanted columns."
   ]
  },
  {
   "cell_type": "code",
   "execution_count": 61,
   "metadata": {},
   "outputs": [
    {
     "name": "stdout",
     "output_type": "stream",
     "text": [
      "<class 'pandas.core.frame.DataFrame'>\n",
      "Int64Index: 1927085 entries, 0 to 1927100\n",
      "Data columns (total 39 columns):\n",
      " #   Column                            Dtype  \n",
      "---  ------                            -----  \n",
      " 0   proto                             object \n",
      " 1   proto_number                      int64  \n",
      " 2   saddr                             object \n",
      " 3   sport                             int64  \n",
      " 4   daddr                             object \n",
      " 5   dport                             int64  \n",
      " 6   pkts                              int64  \n",
      " 7   bytes                             int64  \n",
      " 8   state                             object \n",
      " 9   dur                               float64\n",
      " 10  average_dur                       float64\n",
      " 11  stddev_dur                        float64\n",
      " 12  total_dur                         float64\n",
      " 13  min_dur                           float64\n",
      " 14  max_dur                           float64\n",
      " 15  spkts                             int64  \n",
      " 16  dpkts                             int64  \n",
      " 17  sbytes                            int64  \n",
      " 18  dbytes                            int64  \n",
      " 19  rate                              float64\n",
      " 20  srate                             float64\n",
      " 21  drate                             float64\n",
      " 22  TnBPSrcIP                         int64  \n",
      " 23  TnBPDstIP                         int64  \n",
      " 24  TnP_PSrcIP                        int64  \n",
      " 25  TnP_PDstIP                        int64  \n",
      " 26  TnP_PerProto                      int64  \n",
      " 27  TnP_Per_Dport                     int64  \n",
      " 28  AR_P_Proto_P_SrcIP                float64\n",
      " 29  AR_P_Proto_P_DstIP                float64\n",
      " 30  N_IN_Conn_P_DstIP                 int64  \n",
      " 31  N_IN_Conn_P_SrcIP                 int64  \n",
      " 32  AR_P_Proto_P_Sport                float64\n",
      " 33  AR_P_Proto_P_Dport                float64\n",
      " 34  Pkts_P_State_P_Protocol_P_DestIP  int64  \n",
      " 35  Pkts_P_State_P_Protocol_P_SrcIP   int64  \n",
      " 36  attack                            int64  \n",
      " 37  category                          object \n",
      " 38  subcategory                       object \n",
      "dtypes: float64(13), int64(20), object(6)\n",
      "memory usage: 588.1+ MB\n"
     ]
    }
   ],
   "source": [
    "df.info()"
   ]
  },
  {
   "cell_type": "code",
   "execution_count": 62,
   "metadata": {},
   "outputs": [],
   "source": [
    "df_ml = df.copy()"
   ]
  },
  {
   "cell_type": "code",
   "execution_count": 63,
   "metadata": {},
   "outputs": [],
   "source": [
    "df_ml.drop(['proto', 'proto_number', 'saddr', 'sport', 'daddr', 'dport','state','category', 'subcategory',], axis=1, inplace=True)"
   ]
  },
  {
   "cell_type": "code",
   "execution_count": 64,
   "metadata": {},
   "outputs": [],
   "source": [
    "df_ml.to_csv(r'ml_dataset.csv')"
   ]
  },
  {
   "cell_type": "code",
   "execution_count": 65,
   "metadata": {},
   "outputs": [
    {
     "data": {
      "text/html": [
       "<div>\n",
       "<style scoped>\n",
       "    .dataframe tbody tr th:only-of-type {\n",
       "        vertical-align: middle;\n",
       "    }\n",
       "\n",
       "    .dataframe tbody tr th {\n",
       "        vertical-align: top;\n",
       "    }\n",
       "\n",
       "    .dataframe thead th {\n",
       "        text-align: right;\n",
       "    }\n",
       "</style>\n",
       "<table border=\"1\" class=\"dataframe\">\n",
       "  <thead>\n",
       "    <tr style=\"text-align: right;\">\n",
       "      <th></th>\n",
       "      <th>pkts</th>\n",
       "      <th>bytes</th>\n",
       "      <th>dur</th>\n",
       "      <th>average_dur</th>\n",
       "      <th>stddev_dur</th>\n",
       "      <th>total_dur</th>\n",
       "      <th>min_dur</th>\n",
       "      <th>max_dur</th>\n",
       "      <th>spkts</th>\n",
       "      <th>dpkts</th>\n",
       "      <th>...</th>\n",
       "      <th>TnP_Per_Dport</th>\n",
       "      <th>AR_P_Proto_P_SrcIP</th>\n",
       "      <th>AR_P_Proto_P_DstIP</th>\n",
       "      <th>N_IN_Conn_P_DstIP</th>\n",
       "      <th>N_IN_Conn_P_SrcIP</th>\n",
       "      <th>AR_P_Proto_P_Sport</th>\n",
       "      <th>AR_P_Proto_P_Dport</th>\n",
       "      <th>Pkts_P_State_P_Protocol_P_DestIP</th>\n",
       "      <th>Pkts_P_State_P_Protocol_P_SrcIP</th>\n",
       "      <th>attack</th>\n",
       "    </tr>\n",
       "  </thead>\n",
       "  <tbody>\n",
       "    <tr>\n",
       "      <th>0</th>\n",
       "      <td>10</td>\n",
       "      <td>1729</td>\n",
       "      <td>6.40642</td>\n",
       "      <td>0.67947</td>\n",
       "      <td>0.54413</td>\n",
       "      <td>1.35895</td>\n",
       "      <td>0.13535</td>\n",
       "      <td>1.22360</td>\n",
       "      <td>6</td>\n",
       "      <td>4</td>\n",
       "      <td>...</td>\n",
       "      <td>700</td>\n",
       "      <td>1.26889</td>\n",
       "      <td>1.21662</td>\n",
       "      <td>40</td>\n",
       "      <td>38</td>\n",
       "      <td>1.56093</td>\n",
       "      <td>1.21662</td>\n",
       "      <td>328</td>\n",
       "      <td>308</td>\n",
       "      <td>1</td>\n",
       "    </tr>\n",
       "    <tr>\n",
       "      <th>1</th>\n",
       "      <td>10</td>\n",
       "      <td>1604</td>\n",
       "      <td>6.40585</td>\n",
       "      <td>0.67957</td>\n",
       "      <td>0.54420</td>\n",
       "      <td>1.35914</td>\n",
       "      <td>0.13537</td>\n",
       "      <td>1.22377</td>\n",
       "      <td>6</td>\n",
       "      <td>4</td>\n",
       "      <td>...</td>\n",
       "      <td>700</td>\n",
       "      <td>1.26889</td>\n",
       "      <td>1.21662</td>\n",
       "      <td>40</td>\n",
       "      <td>38</td>\n",
       "      <td>1.56107</td>\n",
       "      <td>1.21662</td>\n",
       "      <td>328</td>\n",
       "      <td>308</td>\n",
       "      <td>1</td>\n",
       "    </tr>\n",
       "    <tr>\n",
       "      <th>2</th>\n",
       "      <td>8</td>\n",
       "      <td>1708</td>\n",
       "      <td>6.40104</td>\n",
       "      <td>1.11085</td>\n",
       "      <td>1.11085</td>\n",
       "      <td>2.22169</td>\n",
       "      <td>0.00000</td>\n",
       "      <td>2.22169</td>\n",
       "      <td>5</td>\n",
       "      <td>3</td>\n",
       "      <td>...</td>\n",
       "      <td>700</td>\n",
       "      <td>1.26889</td>\n",
       "      <td>1.21662</td>\n",
       "      <td>40</td>\n",
       "      <td>38</td>\n",
       "      <td>1.24980</td>\n",
       "      <td>1.21662</td>\n",
       "      <td>328</td>\n",
       "      <td>308</td>\n",
       "      <td>1</td>\n",
       "    </tr>\n",
       "    <tr>\n",
       "      <th>3</th>\n",
       "      <td>8</td>\n",
       "      <td>1462</td>\n",
       "      <td>6.40070</td>\n",
       "      <td>1.11333</td>\n",
       "      <td>1.11333</td>\n",
       "      <td>2.22666</td>\n",
       "      <td>0.00000</td>\n",
       "      <td>2.22666</td>\n",
       "      <td>5</td>\n",
       "      <td>3</td>\n",
       "      <td>...</td>\n",
       "      <td>700</td>\n",
       "      <td>1.26889</td>\n",
       "      <td>1.21662</td>\n",
       "      <td>40</td>\n",
       "      <td>38</td>\n",
       "      <td>1.24986</td>\n",
       "      <td>1.21662</td>\n",
       "      <td>328</td>\n",
       "      <td>308</td>\n",
       "      <td>1</td>\n",
       "    </tr>\n",
       "    <tr>\n",
       "      <th>4</th>\n",
       "      <td>8</td>\n",
       "      <td>1296</td>\n",
       "      <td>6.40047</td>\n",
       "      <td>1.11310</td>\n",
       "      <td>1.11310</td>\n",
       "      <td>2.22620</td>\n",
       "      <td>0.00000</td>\n",
       "      <td>2.22620</td>\n",
       "      <td>5</td>\n",
       "      <td>3</td>\n",
       "      <td>...</td>\n",
       "      <td>700</td>\n",
       "      <td>1.26889</td>\n",
       "      <td>1.21662</td>\n",
       "      <td>40</td>\n",
       "      <td>38</td>\n",
       "      <td>1.24991</td>\n",
       "      <td>1.21662</td>\n",
       "      <td>328</td>\n",
       "      <td>308</td>\n",
       "      <td>1</td>\n",
       "    </tr>\n",
       "  </tbody>\n",
       "</table>\n",
       "<p>5 rows × 30 columns</p>\n",
       "</div>"
      ],
      "text/plain": [
       "   pkts  bytes     dur  average_dur  stddev_dur  total_dur  min_dur  max_dur  \\\n",
       "0    10   1729 6.40642      0.67947     0.54413    1.35895  0.13535  1.22360   \n",
       "1    10   1604 6.40585      0.67957     0.54420    1.35914  0.13537  1.22377   \n",
       "2     8   1708 6.40104      1.11085     1.11085    2.22169  0.00000  2.22169   \n",
       "3     8   1462 6.40070      1.11333     1.11333    2.22666  0.00000  2.22666   \n",
       "4     8   1296 6.40047      1.11310     1.11310    2.22620  0.00000  2.22620   \n",
       "\n",
       "   spkts  dpkts  ...  TnP_Per_Dport  AR_P_Proto_P_SrcIP  AR_P_Proto_P_DstIP  \\\n",
       "0      6      4  ...            700             1.26889             1.21662   \n",
       "1      6      4  ...            700             1.26889             1.21662   \n",
       "2      5      3  ...            700             1.26889             1.21662   \n",
       "3      5      3  ...            700             1.26889             1.21662   \n",
       "4      5      3  ...            700             1.26889             1.21662   \n",
       "\n",
       "   N_IN_Conn_P_DstIP  N_IN_Conn_P_SrcIP  AR_P_Proto_P_Sport  \\\n",
       "0                 40                 38             1.56093   \n",
       "1                 40                 38             1.56107   \n",
       "2                 40                 38             1.24980   \n",
       "3                 40                 38             1.24986   \n",
       "4                 40                 38             1.24991   \n",
       "\n",
       "   AR_P_Proto_P_Dport  Pkts_P_State_P_Protocol_P_DestIP  \\\n",
       "0             1.21662                               328   \n",
       "1             1.21662                               328   \n",
       "2             1.21662                               328   \n",
       "3             1.21662                               328   \n",
       "4             1.21662                               328   \n",
       "\n",
       "   Pkts_P_State_P_Protocol_P_SrcIP  attack  \n",
       "0                              308       1  \n",
       "1                              308       1  \n",
       "2                              308       1  \n",
       "3                              308       1  \n",
       "4                              308       1  \n",
       "\n",
       "[5 rows x 30 columns]"
      ]
     },
     "execution_count": 65,
     "metadata": {},
     "output_type": "execute_result"
    }
   ],
   "source": [
    "df_ml.head()"
   ]
  },
  {
   "cell_type": "code",
   "execution_count": 66,
   "metadata": {},
   "outputs": [
    {
     "data": {
      "text/html": [
       "<div>\n",
       "<style scoped>\n",
       "    .dataframe tbody tr th:only-of-type {\n",
       "        vertical-align: middle;\n",
       "    }\n",
       "\n",
       "    .dataframe tbody tr th {\n",
       "        vertical-align: top;\n",
       "    }\n",
       "\n",
       "    .dataframe thead th {\n",
       "        text-align: right;\n",
       "    }\n",
       "</style>\n",
       "<table border=\"1\" class=\"dataframe\">\n",
       "  <thead>\n",
       "    <tr style=\"text-align: right;\">\n",
       "      <th></th>\n",
       "      <th>pkts</th>\n",
       "      <th>bytes</th>\n",
       "      <th>dur</th>\n",
       "      <th>average_dur</th>\n",
       "      <th>stddev_dur</th>\n",
       "      <th>total_dur</th>\n",
       "      <th>min_dur</th>\n",
       "      <th>max_dur</th>\n",
       "      <th>spkts</th>\n",
       "      <th>dpkts</th>\n",
       "      <th>...</th>\n",
       "      <th>TnP_Per_Dport</th>\n",
       "      <th>AR_P_Proto_P_SrcIP</th>\n",
       "      <th>AR_P_Proto_P_DstIP</th>\n",
       "      <th>N_IN_Conn_P_DstIP</th>\n",
       "      <th>N_IN_Conn_P_SrcIP</th>\n",
       "      <th>AR_P_Proto_P_Sport</th>\n",
       "      <th>AR_P_Proto_P_Dport</th>\n",
       "      <th>Pkts_P_State_P_Protocol_P_DestIP</th>\n",
       "      <th>Pkts_P_State_P_Protocol_P_SrcIP</th>\n",
       "      <th>attack</th>\n",
       "    </tr>\n",
       "  </thead>\n",
       "  <tbody>\n",
       "    <tr>\n",
       "      <th>count</th>\n",
       "      <td>1927085.00000</td>\n",
       "      <td>1927085.00000</td>\n",
       "      <td>1927085.00000</td>\n",
       "      <td>1927085.00000</td>\n",
       "      <td>1927085.00000</td>\n",
       "      <td>1927085.00000</td>\n",
       "      <td>1927085.00000</td>\n",
       "      <td>1927085.00000</td>\n",
       "      <td>1927085.00000</td>\n",
       "      <td>1927085.00000</td>\n",
       "      <td>...</td>\n",
       "      <td>1927085.00000</td>\n",
       "      <td>1927085.00000</td>\n",
       "      <td>1927085.00000</td>\n",
       "      <td>1927085.00000</td>\n",
       "      <td>1927085.00000</td>\n",
       "      <td>1927085.00000</td>\n",
       "      <td>1927085.00000</td>\n",
       "      <td>1927085.00000</td>\n",
       "      <td>1927085.00000</td>\n",
       "      <td>1927085.00000</td>\n",
       "    </tr>\n",
       "    <tr>\n",
       "      <th>mean</th>\n",
       "      <td>7.91386</td>\n",
       "      <td>1126.11269</td>\n",
       "      <td>14.84887</td>\n",
       "      <td>2.54911</td>\n",
       "      <td>0.94513</td>\n",
       "      <td>7.25680</td>\n",
       "      <td>1.30161</td>\n",
       "      <td>3.34826</td>\n",
       "      <td>7.44878</td>\n",
       "      <td>0.46508</td>\n",
       "      <td>...</td>\n",
       "      <td>734.07256</td>\n",
       "      <td>1.33796</td>\n",
       "      <td>1.80693</td>\n",
       "      <td>99.88558</td>\n",
       "      <td>81.94465</td>\n",
       "      <td>0.84211</td>\n",
       "      <td>1.41853</td>\n",
       "      <td>677.16953</td>\n",
       "      <td>574.20087</td>\n",
       "      <td>0.99975</td>\n",
       "    </tr>\n",
       "    <tr>\n",
       "      <th>std</th>\n",
       "      <td>159.19812</td>\n",
       "      <td>154895.73894</td>\n",
       "      <td>12.38461</td>\n",
       "      <td>1.40456</td>\n",
       "      <td>0.75185</td>\n",
       "      <td>8.14081</td>\n",
       "      <td>1.49102</td>\n",
       "      <td>1.64710</td>\n",
       "      <td>106.16825</td>\n",
       "      <td>68.49927</td>\n",
       "      <td>...</td>\n",
       "      <td>833.37060</td>\n",
       "      <td>87.17321</td>\n",
       "      <td>224.23285</td>\n",
       "      <td>2.61323</td>\n",
       "      <td>24.22740</td>\n",
       "      <td>63.18307</td>\n",
       "      <td>63.20720</td>\n",
       "      <td>503.66721</td>\n",
       "      <td>471.70164</td>\n",
       "      <td>0.01573</td>\n",
       "    </tr>\n",
       "    <tr>\n",
       "      <th>min</th>\n",
       "      <td>1.00000</td>\n",
       "      <td>60.00000</td>\n",
       "      <td>0.00000</td>\n",
       "      <td>0.00000</td>\n",
       "      <td>0.00000</td>\n",
       "      <td>0.00000</td>\n",
       "      <td>0.00000</td>\n",
       "      <td>0.00000</td>\n",
       "      <td>1.00000</td>\n",
       "      <td>0.00000</td>\n",
       "      <td>...</td>\n",
       "      <td>1.00000</td>\n",
       "      <td>0.00000</td>\n",
       "      <td>0.00000</td>\n",
       "      <td>1.00000</td>\n",
       "      <td>1.00000</td>\n",
       "      <td>0.00000</td>\n",
       "      <td>0.00000</td>\n",
       "      <td>1.00000</td>\n",
       "      <td>1.00000</td>\n",
       "      <td>0.00000</td>\n",
       "    </tr>\n",
       "    <tr>\n",
       "      <th>25%</th>\n",
       "      <td>5.00000</td>\n",
       "      <td>420.00000</td>\n",
       "      <td>12.12148</td>\n",
       "      <td>2.01579</td>\n",
       "      <td>0.12290</td>\n",
       "      <td>4.53260</td>\n",
       "      <td>0.00000</td>\n",
       "      <td>3.26039</td>\n",
       "      <td>4.00000</td>\n",
       "      <td>0.00000</td>\n",
       "      <td>...</td>\n",
       "      <td>500.00000</td>\n",
       "      <td>0.35949</td>\n",
       "      <td>0.37034</td>\n",
       "      <td>100.00000</td>\n",
       "      <td>68.00000</td>\n",
       "      <td>0.35027</td>\n",
       "      <td>0.37031</td>\n",
       "      <td>365.00000</td>\n",
       "      <td>269.00000</td>\n",
       "      <td>1.00000</td>\n",
       "    </tr>\n",
       "    <tr>\n",
       "      <th>50%</th>\n",
       "      <td>7.00000</td>\n",
       "      <td>616.00000</td>\n",
       "      <td>13.68343</td>\n",
       "      <td>2.75968</td>\n",
       "      <td>0.93757</td>\n",
       "      <td>8.11673</td>\n",
       "      <td>0.16956</td>\n",
       "      <td>4.05763</td>\n",
       "      <td>6.00000</td>\n",
       "      <td>0.00000</td>\n",
       "      <td>...</td>\n",
       "      <td>682.00000</td>\n",
       "      <td>0.54103</td>\n",
       "      <td>0.54977</td>\n",
       "      <td>100.00000</td>\n",
       "      <td>97.00000</td>\n",
       "      <td>0.54377</td>\n",
       "      <td>0.54969</td>\n",
       "      <td>627.00000</td>\n",
       "      <td>500.00000</td>\n",
       "      <td>1.00000</td>\n",
       "    </tr>\n",
       "    <tr>\n",
       "      <th>75%</th>\n",
       "      <td>10.00000</td>\n",
       "      <td>780.00000</td>\n",
       "      <td>14.54814</td>\n",
       "      <td>3.65985</td>\n",
       "      <td>1.69005</td>\n",
       "      <td>10.52096</td>\n",
       "      <td>2.76341</td>\n",
       "      <td>4.17246</td>\n",
       "      <td>9.00000</td>\n",
       "      <td>0.00000</td>\n",
       "      <td>...</td>\n",
       "      <td>952.00000</td>\n",
       "      <td>0.75889</td>\n",
       "      <td>0.75345</td>\n",
       "      <td>100.00000</td>\n",
       "      <td>100.00000</td>\n",
       "      <td>0.72852</td>\n",
       "      <td>0.75334</td>\n",
       "      <td>948.00000</td>\n",
       "      <td>784.00000</td>\n",
       "      <td>1.00000</td>\n",
       "    </tr>\n",
       "    <tr>\n",
       "      <th>max</th>\n",
       "      <td>70057.00000</td>\n",
       "      <td>71833345.00000</td>\n",
       "      <td>1940.85925</td>\n",
       "      <td>4.98188</td>\n",
       "      <td>2.49676</td>\n",
       "      <td>1913.19360</td>\n",
       "      <td>4.98047</td>\n",
       "      <td>5.00000</td>\n",
       "      <td>35029.00000</td>\n",
       "      <td>35029.00000</td>\n",
       "      <td>...</td>\n",
       "      <td>244425.00000</td>\n",
       "      <td>86956.50000</td>\n",
       "      <td>181818.00000</td>\n",
       "      <td>100.00000</td>\n",
       "      <td>100.00000</td>\n",
       "      <td>86956.50000</td>\n",
       "      <td>86956.50000</td>\n",
       "      <td>112544.00000</td>\n",
       "      <td>117939.00000</td>\n",
       "      <td>1.00000</td>\n",
       "    </tr>\n",
       "  </tbody>\n",
       "</table>\n",
       "<p>8 rows × 30 columns</p>\n",
       "</div>"
      ],
      "text/plain": [
       "               pkts          bytes           dur   average_dur    stddev_dur  \\\n",
       "count 1927085.00000  1927085.00000 1927085.00000 1927085.00000 1927085.00000   \n",
       "mean        7.91386     1126.11269      14.84887       2.54911       0.94513   \n",
       "std       159.19812   154895.73894      12.38461       1.40456       0.75185   \n",
       "min         1.00000       60.00000       0.00000       0.00000       0.00000   \n",
       "25%         5.00000      420.00000      12.12148       2.01579       0.12290   \n",
       "50%         7.00000      616.00000      13.68343       2.75968       0.93757   \n",
       "75%        10.00000      780.00000      14.54814       3.65985       1.69005   \n",
       "max     70057.00000 71833345.00000    1940.85925       4.98188       2.49676   \n",
       "\n",
       "          total_dur       min_dur       max_dur         spkts         dpkts  \\\n",
       "count 1927085.00000 1927085.00000 1927085.00000 1927085.00000 1927085.00000   \n",
       "mean        7.25680       1.30161       3.34826       7.44878       0.46508   \n",
       "std         8.14081       1.49102       1.64710     106.16825      68.49927   \n",
       "min         0.00000       0.00000       0.00000       1.00000       0.00000   \n",
       "25%         4.53260       0.00000       3.26039       4.00000       0.00000   \n",
       "50%         8.11673       0.16956       4.05763       6.00000       0.00000   \n",
       "75%        10.52096       2.76341       4.17246       9.00000       0.00000   \n",
       "max      1913.19360       4.98047       5.00000   35029.00000   35029.00000   \n",
       "\n",
       "       ...  TnP_Per_Dport  AR_P_Proto_P_SrcIP  AR_P_Proto_P_DstIP  \\\n",
       "count  ...  1927085.00000       1927085.00000       1927085.00000   \n",
       "mean   ...      734.07256             1.33796             1.80693   \n",
       "std    ...      833.37060            87.17321           224.23285   \n",
       "min    ...        1.00000             0.00000             0.00000   \n",
       "25%    ...      500.00000             0.35949             0.37034   \n",
       "50%    ...      682.00000             0.54103             0.54977   \n",
       "75%    ...      952.00000             0.75889             0.75345   \n",
       "max    ...   244425.00000         86956.50000        181818.00000   \n",
       "\n",
       "       N_IN_Conn_P_DstIP  N_IN_Conn_P_SrcIP  AR_P_Proto_P_Sport  \\\n",
       "count      1927085.00000      1927085.00000       1927085.00000   \n",
       "mean            99.88558           81.94465             0.84211   \n",
       "std              2.61323           24.22740            63.18307   \n",
       "min              1.00000            1.00000             0.00000   \n",
       "25%            100.00000           68.00000             0.35027   \n",
       "50%            100.00000           97.00000             0.54377   \n",
       "75%            100.00000          100.00000             0.72852   \n",
       "max            100.00000          100.00000         86956.50000   \n",
       "\n",
       "       AR_P_Proto_P_Dport  Pkts_P_State_P_Protocol_P_DestIP  \\\n",
       "count       1927085.00000                     1927085.00000   \n",
       "mean              1.41853                         677.16953   \n",
       "std              63.20720                         503.66721   \n",
       "min               0.00000                           1.00000   \n",
       "25%               0.37031                         365.00000   \n",
       "50%               0.54969                         627.00000   \n",
       "75%               0.75334                         948.00000   \n",
       "max           86956.50000                      112544.00000   \n",
       "\n",
       "       Pkts_P_State_P_Protocol_P_SrcIP        attack  \n",
       "count                    1927085.00000 1927085.00000  \n",
       "mean                         574.20087       0.99975  \n",
       "std                          471.70164       0.01573  \n",
       "min                            1.00000       0.00000  \n",
       "25%                          269.00000       1.00000  \n",
       "50%                          500.00000       1.00000  \n",
       "75%                          784.00000       1.00000  \n",
       "max                       117939.00000       1.00000  \n",
       "\n",
       "[8 rows x 30 columns]"
      ]
     },
     "execution_count": 66,
     "metadata": {},
     "output_type": "execute_result"
    }
   ],
   "source": [
    "df_ml.describe()"
   ]
  },
  {
   "cell_type": "markdown",
   "metadata": {},
   "source": [
    "# We have made a dataset that is perfect for machine learning classifcation"
   ]
  },
  {
   "cell_type": "code",
   "execution_count": null,
   "metadata": {},
   "outputs": [],
   "source": []
  },
  {
   "cell_type": "code",
   "execution_count": null,
   "metadata": {},
   "outputs": [],
   "source": []
  }
 ],
 "metadata": {
  "kernelspec": {
   "display_name": "Python 3",
   "language": "python",
   "name": "python3"
  },
  "language_info": {
   "codemirror_mode": {
    "name": "ipython",
    "version": 3
   },
   "file_extension": ".py",
   "mimetype": "text/x-python",
   "name": "python",
   "nbconvert_exporter": "python",
   "pygments_lexer": "ipython3",
   "version": "3.7.6"
  }
 },
 "nbformat": 4,
 "nbformat_minor": 4
}
