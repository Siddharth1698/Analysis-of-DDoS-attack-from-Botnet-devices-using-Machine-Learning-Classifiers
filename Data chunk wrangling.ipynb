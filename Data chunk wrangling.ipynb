{
 "cells": [
  {
   "cell_type": "markdown",
   "metadata": {},
   "source": [
    "# Data Wrangling and Analysis\n",
    "\n",
    "#### This is the process of wrangling through the data we have and bring out insights available. \n",
    "\n",
    "#### Our prime aim of this phase is to analyise the entire dataset and bring out powerful insights which can help us to make out ML model better."
   ]
  },
  {
   "cell_type": "markdown",
   "metadata": {},
   "source": [
    "### Importing the libraries "
   ]
  },
  {
   "cell_type": "code",
   "execution_count": 32,
   "metadata": {},
   "outputs": [],
   "source": [
    "import pandas as pd\n",
    "import numpy as np"
   ]
  },
  {
   "cell_type": "markdown",
   "metadata": {},
   "source": [
    "### Reading dataset to a dataframe"
   ]
  },
  {
   "cell_type": "code",
   "execution_count": 33,
   "metadata": {},
   "outputs": [],
   "source": [
    "df_chunk = pd.read_csv(\"../dataset/combined.csv\",nrows=1000)\n",
    "\n",
    "# initial dataset has around 36 lakh rows so for easy wrangling to understand about the unwanted columns we take a chunk of dataset."
   ]
  },
  {
   "cell_type": "markdown",
   "metadata": {},
   "source": [
    "### Wrangling data"
   ]
  },
  {
   "cell_type": "code",
   "execution_count": 34,
   "metadata": {},
   "outputs": [],
   "source": [
    "df = df_chunk.copy()\n"
   ]
  },
  {
   "cell_type": "code",
   "execution_count": 35,
   "metadata": {},
   "outputs": [
    {
     "data": {
      "text/html": [
       "<div>\n",
       "<style scoped>\n",
       "    .dataframe tbody tr th:only-of-type {\n",
       "        vertical-align: middle;\n",
       "    }\n",
       "\n",
       "    .dataframe tbody tr th {\n",
       "        vertical-align: top;\n",
       "    }\n",
       "\n",
       "    .dataframe thead th {\n",
       "        text-align: right;\n",
       "    }\n",
       "</style>\n",
       "<table border=\"1\" class=\"dataframe\">\n",
       "  <thead>\n",
       "    <tr style=\"text-align: right;\">\n",
       "      <th></th>\n",
       "      <th>pkSeqID</th>\n",
       "      <th>stime</th>\n",
       "      <th>flgs</th>\n",
       "      <th>flgs_number</th>\n",
       "      <th>proto</th>\n",
       "      <th>proto_number</th>\n",
       "      <th>saddr</th>\n",
       "      <th>sport</th>\n",
       "      <th>daddr</th>\n",
       "      <th>dport</th>\n",
       "      <th>...</th>\n",
       "      <th>AR_P_Proto_P_DstIP</th>\n",
       "      <th>N_IN_Conn_P_DstIP</th>\n",
       "      <th>N_IN_Conn_P_SrcIP</th>\n",
       "      <th>AR_P_Proto_P_Sport</th>\n",
       "      <th>AR_P_Proto_P_Dport</th>\n",
       "      <th>Pkts_P_State_P_Protocol_P_DestIP</th>\n",
       "      <th>Pkts_P_State_P_Protocol_P_SrcIP</th>\n",
       "      <th>attack</th>\n",
       "      <th>category</th>\n",
       "      <th>subcategory</th>\n",
       "    </tr>\n",
       "  </thead>\n",
       "  <tbody>\n",
       "    <tr>\n",
       "      <th>0</th>\n",
       "      <td>1</td>\n",
       "      <td>1.528089e+09</td>\n",
       "      <td>e</td>\n",
       "      <td>1</td>\n",
       "      <td>tcp</td>\n",
       "      <td>1</td>\n",
       "      <td>192.168.100.147</td>\n",
       "      <td>49960</td>\n",
       "      <td>192.168.100.7</td>\n",
       "      <td>80</td>\n",
       "      <td>...</td>\n",
       "      <td>1.12704</td>\n",
       "      <td>96</td>\n",
       "      <td>75</td>\n",
       "      <td>1.133720</td>\n",
       "      <td>1.129970</td>\n",
       "      <td>770</td>\n",
       "      <td>602</td>\n",
       "      <td>1</td>\n",
       "      <td>DoS</td>\n",
       "      <td>HTTP</td>\n",
       "    </tr>\n",
       "    <tr>\n",
       "      <th>1</th>\n",
       "      <td>2</td>\n",
       "      <td>1.528089e+09</td>\n",
       "      <td>e</td>\n",
       "      <td>1</td>\n",
       "      <td>arp</td>\n",
       "      <td>2</td>\n",
       "      <td>192.168.100.7</td>\n",
       "      <td>-1</td>\n",
       "      <td>192.168.100.147</td>\n",
       "      <td>-1</td>\n",
       "      <td>...</td>\n",
       "      <td>15267.20000</td>\n",
       "      <td>1</td>\n",
       "      <td>2</td>\n",
       "      <td>0.005142</td>\n",
       "      <td>0.005142</td>\n",
       "      <td>2</td>\n",
       "      <td>6</td>\n",
       "      <td>1</td>\n",
       "      <td>DoS</td>\n",
       "      <td>HTTP</td>\n",
       "    </tr>\n",
       "    <tr>\n",
       "      <th>2</th>\n",
       "      <td>3</td>\n",
       "      <td>1.528089e+09</td>\n",
       "      <td>e</td>\n",
       "      <td>1</td>\n",
       "      <td>tcp</td>\n",
       "      <td>1</td>\n",
       "      <td>192.168.100.147</td>\n",
       "      <td>49962</td>\n",
       "      <td>192.168.100.7</td>\n",
       "      <td>80</td>\n",
       "      <td>...</td>\n",
       "      <td>1.12704</td>\n",
       "      <td>96</td>\n",
       "      <td>75</td>\n",
       "      <td>1.135100</td>\n",
       "      <td>1.129970</td>\n",
       "      <td>770</td>\n",
       "      <td>602</td>\n",
       "      <td>1</td>\n",
       "      <td>DoS</td>\n",
       "      <td>HTTP</td>\n",
       "    </tr>\n",
       "    <tr>\n",
       "      <th>3</th>\n",
       "      <td>4</td>\n",
       "      <td>1.528089e+09</td>\n",
       "      <td>e</td>\n",
       "      <td>1</td>\n",
       "      <td>tcp</td>\n",
       "      <td>1</td>\n",
       "      <td>192.168.100.147</td>\n",
       "      <td>49964</td>\n",
       "      <td>192.168.100.7</td>\n",
       "      <td>80</td>\n",
       "      <td>...</td>\n",
       "      <td>1.12704</td>\n",
       "      <td>96</td>\n",
       "      <td>75</td>\n",
       "      <td>1.135140</td>\n",
       "      <td>1.129970</td>\n",
       "      <td>770</td>\n",
       "      <td>602</td>\n",
       "      <td>1</td>\n",
       "      <td>DoS</td>\n",
       "      <td>HTTP</td>\n",
       "    </tr>\n",
       "    <tr>\n",
       "      <th>4</th>\n",
       "      <td>5</td>\n",
       "      <td>1.528089e+09</td>\n",
       "      <td>e</td>\n",
       "      <td>1</td>\n",
       "      <td>tcp</td>\n",
       "      <td>1</td>\n",
       "      <td>192.168.100.147</td>\n",
       "      <td>49966</td>\n",
       "      <td>192.168.100.7</td>\n",
       "      <td>80</td>\n",
       "      <td>...</td>\n",
       "      <td>1.12704</td>\n",
       "      <td>96</td>\n",
       "      <td>75</td>\n",
       "      <td>1.135260</td>\n",
       "      <td>1.129970</td>\n",
       "      <td>770</td>\n",
       "      <td>602</td>\n",
       "      <td>1</td>\n",
       "      <td>DoS</td>\n",
       "      <td>HTTP</td>\n",
       "    </tr>\n",
       "  </tbody>\n",
       "</table>\n",
       "<p>5 rows × 46 columns</p>\n",
       "</div>"
      ],
      "text/plain": [
       "   pkSeqID         stime flgs  flgs_number proto  proto_number  \\\n",
       "0        1  1.528089e+09    e            1   tcp             1   \n",
       "1        2  1.528089e+09    e            1   arp             2   \n",
       "2        3  1.528089e+09    e            1   tcp             1   \n",
       "3        4  1.528089e+09    e            1   tcp             1   \n",
       "4        5  1.528089e+09    e            1   tcp             1   \n",
       "\n",
       "             saddr  sport            daddr  dport  ...  AR_P_Proto_P_DstIP  \\\n",
       "0  192.168.100.147  49960    192.168.100.7     80  ...             1.12704   \n",
       "1    192.168.100.7     -1  192.168.100.147     -1  ...         15267.20000   \n",
       "2  192.168.100.147  49962    192.168.100.7     80  ...             1.12704   \n",
       "3  192.168.100.147  49964    192.168.100.7     80  ...             1.12704   \n",
       "4  192.168.100.147  49966    192.168.100.7     80  ...             1.12704   \n",
       "\n",
       "   N_IN_Conn_P_DstIP N_IN_Conn_P_SrcIP  AR_P_Proto_P_Sport  \\\n",
       "0                 96                75            1.133720   \n",
       "1                  1                 2            0.005142   \n",
       "2                 96                75            1.135100   \n",
       "3                 96                75            1.135140   \n",
       "4                 96                75            1.135260   \n",
       "\n",
       "   AR_P_Proto_P_Dport  Pkts_P_State_P_Protocol_P_DestIP  \\\n",
       "0            1.129970                               770   \n",
       "1            0.005142                                 2   \n",
       "2            1.129970                               770   \n",
       "3            1.129970                               770   \n",
       "4            1.129970                               770   \n",
       "\n",
       "   Pkts_P_State_P_Protocol_P_SrcIP  attack  category  subcategory  \n",
       "0                              602       1       DoS         HTTP  \n",
       "1                                6       1       DoS         HTTP  \n",
       "2                              602       1       DoS         HTTP  \n",
       "3                              602       1       DoS         HTTP  \n",
       "4                              602       1       DoS         HTTP  \n",
       "\n",
       "[5 rows x 46 columns]"
      ]
     },
     "execution_count": 35,
     "metadata": {},
     "output_type": "execute_result"
    }
   ],
   "source": [
    "df.head()\n"
   ]
  },
  {
   "cell_type": "code",
   "execution_count": 36,
   "metadata": {},
   "outputs": [
    {
     "data": {
      "text/plain": [
       "Index(['pkSeqID', 'stime', 'flgs', 'flgs_number', 'proto', 'proto_number',\n",
       "       'saddr', 'sport', 'daddr', 'dport', 'pkts', 'bytes', 'state',\n",
       "       'state_number', 'ltime', 'seq', 'dur', 'mean', 'stddev', 'sum', 'min',\n",
       "       'max', 'spkts', 'dpkts', 'sbytes', 'dbytes', 'rate', 'srate', 'drate',\n",
       "       'TnBPSrcIP', 'TnBPDstIP', 'TnP_PSrcIP', 'TnP_PDstIP', 'TnP_PerProto',\n",
       "       'TnP_Per_Dport', 'AR_P_Proto_P_SrcIP', 'AR_P_Proto_P_DstIP',\n",
       "       'N_IN_Conn_P_DstIP', 'N_IN_Conn_P_SrcIP', 'AR_P_Proto_P_Sport',\n",
       "       'AR_P_Proto_P_Dport', 'Pkts_P_State_P_Protocol_P_DestIP',\n",
       "       'Pkts_P_State_P_Protocol_P_SrcIP', 'attack', 'category', 'subcategory'],\n",
       "      dtype='object')"
      ]
     },
     "execution_count": 36,
     "metadata": {},
     "output_type": "execute_result"
    }
   ],
   "source": [
    "df.columns\n"
   ]
  },
  {
   "cell_type": "code",
   "execution_count": 37,
   "metadata": {},
   "outputs": [
    {
     "data": {
      "text/plain": [
       "(1000, 46)"
      ]
     },
     "execution_count": 37,
     "metadata": {},
     "output_type": "execute_result"
    }
   ],
   "source": [
    "df.shape\n",
    "\n",
    "# for understanding structure of dataset"
   ]
  },
  {
   "cell_type": "code",
   "execution_count": 38,
   "metadata": {},
   "outputs": [
    {
     "name": "stdout",
     "output_type": "stream",
     "text": [
      "<class 'pandas.core.frame.DataFrame'>\n",
      "RangeIndex: 1000 entries, 0 to 999\n",
      "Data columns (total 46 columns):\n",
      " #   Column                            Non-Null Count  Dtype  \n",
      "---  ------                            --------------  -----  \n",
      " 0   pkSeqID                           1000 non-null   int64  \n",
      " 1   stime                             1000 non-null   float64\n",
      " 2   flgs                              1000 non-null   object \n",
      " 3   flgs_number                       1000 non-null   int64  \n",
      " 4   proto                             1000 non-null   object \n",
      " 5   proto_number                      1000 non-null   int64  \n",
      " 6   saddr                             1000 non-null   object \n",
      " 7   sport                             1000 non-null   int64  \n",
      " 8   daddr                             1000 non-null   object \n",
      " 9   dport                             1000 non-null   int64  \n",
      " 10  pkts                              1000 non-null   int64  \n",
      " 11  bytes                             1000 non-null   int64  \n",
      " 12  state                             1000 non-null   object \n",
      " 13  state_number                      1000 non-null   int64  \n",
      " 14  ltime                             1000 non-null   float64\n",
      " 15  seq                               1000 non-null   int64  \n",
      " 16  dur                               1000 non-null   float64\n",
      " 17  mean                              1000 non-null   float64\n",
      " 18  stddev                            1000 non-null   float64\n",
      " 19  sum                               1000 non-null   float64\n",
      " 20  min                               1000 non-null   float64\n",
      " 21  max                               1000 non-null   float64\n",
      " 22  spkts                             1000 non-null   int64  \n",
      " 23  dpkts                             1000 non-null   int64  \n",
      " 24  sbytes                            1000 non-null   int64  \n",
      " 25  dbytes                            1000 non-null   int64  \n",
      " 26  rate                              1000 non-null   float64\n",
      " 27  srate                             1000 non-null   float64\n",
      " 28  drate                             1000 non-null   float64\n",
      " 29  TnBPSrcIP                         1000 non-null   int64  \n",
      " 30  TnBPDstIP                         1000 non-null   int64  \n",
      " 31  TnP_PSrcIP                        1000 non-null   int64  \n",
      " 32  TnP_PDstIP                        1000 non-null   int64  \n",
      " 33  TnP_PerProto                      1000 non-null   int64  \n",
      " 34  TnP_Per_Dport                     1000 non-null   int64  \n",
      " 35  AR_P_Proto_P_SrcIP                1000 non-null   float64\n",
      " 36  AR_P_Proto_P_DstIP                1000 non-null   float64\n",
      " 37  N_IN_Conn_P_DstIP                 1000 non-null   int64  \n",
      " 38  N_IN_Conn_P_SrcIP                 1000 non-null   int64  \n",
      " 39  AR_P_Proto_P_Sport                1000 non-null   float64\n",
      " 40  AR_P_Proto_P_Dport                1000 non-null   float64\n",
      " 41  Pkts_P_State_P_Protocol_P_DestIP  1000 non-null   int64  \n",
      " 42  Pkts_P_State_P_Protocol_P_SrcIP   1000 non-null   int64  \n",
      " 43  attack                            1000 non-null   int64  \n",
      " 44  category                          1000 non-null   object \n",
      " 45  subcategory                       1000 non-null   object \n",
      "dtypes: float64(15), int64(24), object(7)\n",
      "memory usage: 359.5+ KB\n"
     ]
    }
   ],
   "source": [
    "df.info()"
   ]
  },
  {
   "cell_type": "code",
   "execution_count": 39,
   "metadata": {},
   "outputs": [
    {
     "data": {
      "text/plain": [
       "Index(['pkSeqID', 'stime', 'flgs', 'flgs_number', 'proto', 'proto_number',\n",
       "       'saddr', 'sport', 'daddr', 'dport', 'pkts', 'bytes', 'state',\n",
       "       'state_number', 'ltime', 'seq', 'dur', 'mean', 'stddev', 'sum', 'min',\n",
       "       'max', 'spkts', 'dpkts', 'sbytes', 'dbytes', 'rate', 'srate', 'drate',\n",
       "       'TnBPSrcIP', 'TnBPDstIP', 'TnP_PSrcIP', 'TnP_PDstIP', 'TnP_PerProto',\n",
       "       'TnP_Per_Dport', 'AR_P_Proto_P_SrcIP', 'AR_P_Proto_P_DstIP',\n",
       "       'N_IN_Conn_P_DstIP', 'N_IN_Conn_P_SrcIP', 'AR_P_Proto_P_Sport',\n",
       "       'AR_P_Proto_P_Dport', 'Pkts_P_State_P_Protocol_P_DestIP',\n",
       "       'Pkts_P_State_P_Protocol_P_SrcIP', 'attack', 'category', 'subcategory'],\n",
       "      dtype='object')"
      ]
     },
     "execution_count": 39,
     "metadata": {},
     "output_type": "execute_result"
    }
   ],
   "source": [
    "df.columns"
   ]
  },
  {
   "cell_type": "code",
   "execution_count": 40,
   "metadata": {},
   "outputs": [
    {
     "data": {
      "text/plain": [
       "0      e\n",
       "1      e\n",
       "2      e\n",
       "3      e\n",
       "4      e\n",
       "      ..\n",
       "995    e\n",
       "996    e\n",
       "997    e\n",
       "998    e\n",
       "999    e\n",
       "Name: flgs, Length: 1000, dtype: object"
      ]
     },
     "execution_count": 40,
     "metadata": {},
     "output_type": "execute_result"
    }
   ],
   "source": [
    "df.flgs"
   ]
  },
  {
   "cell_type": "code",
   "execution_count": 41,
   "metadata": {},
   "outputs": [
    {
     "data": {
      "text/plain": [
       "0      RST\n",
       "1      CON\n",
       "2      RST\n",
       "3      RST\n",
       "4      RST\n",
       "      ... \n",
       "995    RST\n",
       "996    RST\n",
       "997    RST\n",
       "998    RST\n",
       "999    RST\n",
       "Name: state, Length: 1000, dtype: object"
      ]
     },
     "execution_count": 41,
     "metadata": {},
     "output_type": "execute_result"
    }
   ],
   "source": [
    "df.state"
   ]
  },
  {
   "cell_type": "code",
   "execution_count": 42,
   "metadata": {},
   "outputs": [
    {
     "data": {
      "text/plain": [
       "1.528089e+09    14\n",
       "1.528089e+09    13\n",
       "1.528089e+09    12\n",
       "1.528089e+09     9\n",
       "1.528089e+09     8\n",
       "                ..\n",
       "1.528089e+09     1\n",
       "1.528089e+09     1\n",
       "1.528089e+09     1\n",
       "1.528089e+09     1\n",
       "1.528089e+09     1\n",
       "Name: ltime, Length: 663, dtype: int64"
      ]
     },
     "execution_count": 42,
     "metadata": {},
     "output_type": "execute_result"
    }
   ],
   "source": [
    "df.ltime.value_counts()"
   ]
  },
  {
   "cell_type": "code",
   "execution_count": 43,
   "metadata": {},
   "outputs": [
    {
     "data": {
      "text/plain": [
       "0         9\n",
       "1        10\n",
       "2        11\n",
       "3        12\n",
       "4        13\n",
       "       ... \n",
       "995    1004\n",
       "996    1005\n",
       "997    1006\n",
       "998    1007\n",
       "999    1008\n",
       "Name: seq, Length: 1000, dtype: int64"
      ]
     },
     "execution_count": 43,
     "metadata": {},
     "output_type": "execute_result"
    }
   ],
   "source": [
    "df.seq"
   ]
  },
  {
   "cell_type": "code",
   "execution_count": 44,
   "metadata": {},
   "outputs": [],
   "source": [
    "df.drop(['pkSeqID', 'stime', 'flgs', 'flgs_number','proto', 'proto_number',\n",
    "       'saddr', 'sport', 'daddr', 'dport','state','seq','ltime','subcategory','category'], axis=1, inplace=True)"
   ]
  },
  {
   "cell_type": "code",
   "execution_count": 45,
   "metadata": {},
   "outputs": [
    {
     "data": {
      "text/plain": [
       "Index(['pkts', 'bytes', 'state_number', 'dur', 'mean', 'stddev', 'sum', 'min',\n",
       "       'max', 'spkts', 'dpkts', 'sbytes', 'dbytes', 'rate', 'srate', 'drate',\n",
       "       'TnBPSrcIP', 'TnBPDstIP', 'TnP_PSrcIP', 'TnP_PDstIP', 'TnP_PerProto',\n",
       "       'TnP_Per_Dport', 'AR_P_Proto_P_SrcIP', 'AR_P_Proto_P_DstIP',\n",
       "       'N_IN_Conn_P_DstIP', 'N_IN_Conn_P_SrcIP', 'AR_P_Proto_P_Sport',\n",
       "       'AR_P_Proto_P_Dport', 'Pkts_P_State_P_Protocol_P_DestIP',\n",
       "       'Pkts_P_State_P_Protocol_P_SrcIP', 'attack'],\n",
       "      dtype='object')"
      ]
     },
     "execution_count": 45,
     "metadata": {},
     "output_type": "execute_result"
    }
   ],
   "source": [
    "df.columns"
   ]
  },
  {
   "cell_type": "code",
   "execution_count": 46,
   "metadata": {},
   "outputs": [
    {
     "data": {
      "text/plain": [
       "(1000, 31)"
      ]
     },
     "execution_count": 46,
     "metadata": {},
     "output_type": "execute_result"
    }
   ],
   "source": [
    "df.shape"
   ]
  },
  {
   "cell_type": "code",
   "execution_count": 47,
   "metadata": {},
   "outputs": [
    {
     "data": {
      "text/html": [
       "<div>\n",
       "<style scoped>\n",
       "    .dataframe tbody tr th:only-of-type {\n",
       "        vertical-align: middle;\n",
       "    }\n",
       "\n",
       "    .dataframe tbody tr th {\n",
       "        vertical-align: top;\n",
       "    }\n",
       "\n",
       "    .dataframe thead th {\n",
       "        text-align: right;\n",
       "    }\n",
       "</style>\n",
       "<table border=\"1\" class=\"dataframe\">\n",
       "  <thead>\n",
       "    <tr style=\"text-align: right;\">\n",
       "      <th></th>\n",
       "      <th>pkts</th>\n",
       "      <th>bytes</th>\n",
       "      <th>state_number</th>\n",
       "      <th>dur</th>\n",
       "      <th>mean</th>\n",
       "      <th>stddev</th>\n",
       "      <th>sum</th>\n",
       "      <th>min</th>\n",
       "      <th>max</th>\n",
       "      <th>spkts</th>\n",
       "      <th>...</th>\n",
       "      <th>TnP_Per_Dport</th>\n",
       "      <th>AR_P_Proto_P_SrcIP</th>\n",
       "      <th>AR_P_Proto_P_DstIP</th>\n",
       "      <th>N_IN_Conn_P_DstIP</th>\n",
       "      <th>N_IN_Conn_P_SrcIP</th>\n",
       "      <th>AR_P_Proto_P_Sport</th>\n",
       "      <th>AR_P_Proto_P_Dport</th>\n",
       "      <th>Pkts_P_State_P_Protocol_P_DestIP</th>\n",
       "      <th>Pkts_P_State_P_Protocol_P_SrcIP</th>\n",
       "      <th>attack</th>\n",
       "    </tr>\n",
       "  </thead>\n",
       "  <tbody>\n",
       "    <tr>\n",
       "      <th>count</th>\n",
       "      <td>1000.000000</td>\n",
       "      <td>1000.000000</td>\n",
       "      <td>1000.000000</td>\n",
       "      <td>1000.000000</td>\n",
       "      <td>1000.000000</td>\n",
       "      <td>1000.000000</td>\n",
       "      <td>1000.000000</td>\n",
       "      <td>1000.000000</td>\n",
       "      <td>1000.000000</td>\n",
       "      <td>1000.000000</td>\n",
       "      <td>...</td>\n",
       "      <td>1000.000000</td>\n",
       "      <td>1000.000000</td>\n",
       "      <td>1000.000000</td>\n",
       "      <td>1000.000000</td>\n",
       "      <td>1000.000000</td>\n",
       "      <td>1000.000000</td>\n",
       "      <td>1000.000000</td>\n",
       "      <td>1000.000000</td>\n",
       "      <td>1000.000000</td>\n",
       "      <td>1000.0</td>\n",
       "    </tr>\n",
       "    <tr>\n",
       "      <th>mean</th>\n",
       "      <td>9.274000</td>\n",
       "      <td>1869.395000</td>\n",
       "      <td>1.006000</td>\n",
       "      <td>18.246482</td>\n",
       "      <td>0.856630</td>\n",
       "      <td>0.804729</td>\n",
       "      <td>1.904605</td>\n",
       "      <td>0.136039</td>\n",
       "      <td>1.787086</td>\n",
       "      <td>5.699000</td>\n",
       "      <td>...</td>\n",
       "      <td>921.076000</td>\n",
       "      <td>60.793803</td>\n",
       "      <td>65.872920</td>\n",
       "      <td>74.650000</td>\n",
       "      <td>63.248000</td>\n",
       "      <td>50.090629</td>\n",
       "      <td>38.518740</td>\n",
       "      <td>695.709000</td>\n",
       "      <td>589.821000</td>\n",
       "      <td>1.0</td>\n",
       "    </tr>\n",
       "    <tr>\n",
       "      <th>std</th>\n",
       "      <td>1.484968</td>\n",
       "      <td>497.553328</td>\n",
       "      <td>0.077266</td>\n",
       "      <td>50.122024</td>\n",
       "      <td>0.866319</td>\n",
       "      <td>0.734332</td>\n",
       "      <td>1.726297</td>\n",
       "      <td>0.610303</td>\n",
       "      <td>1.522645</td>\n",
       "      <td>1.061851</td>\n",
       "      <td>...</td>\n",
       "      <td>115.383177</td>\n",
       "      <td>881.325166</td>\n",
       "      <td>890.170867</td>\n",
       "      <td>25.314508</td>\n",
       "      <td>27.563785</td>\n",
       "      <td>735.241369</td>\n",
       "      <td>689.582055</td>\n",
       "      <td>244.794687</td>\n",
       "      <td>272.955784</td>\n",
       "      <td>0.0</td>\n",
       "    </tr>\n",
       "    <tr>\n",
       "      <th>min</th>\n",
       "      <td>2.000000</td>\n",
       "      <td>120.000000</td>\n",
       "      <td>1.000000</td>\n",
       "      <td>0.000127</td>\n",
       "      <td>0.000017</td>\n",
       "      <td>0.000000</td>\n",
       "      <td>0.000069</td>\n",
       "      <td>0.000000</td>\n",
       "      <td>0.000069</td>\n",
       "      <td>1.000000</td>\n",
       "      <td>...</td>\n",
       "      <td>2.000000</td>\n",
       "      <td>0.003857</td>\n",
       "      <td>0.003857</td>\n",
       "      <td>1.000000</td>\n",
       "      <td>1.000000</td>\n",
       "      <td>0.005142</td>\n",
       "      <td>0.005142</td>\n",
       "      <td>2.000000</td>\n",
       "      <td>2.000000</td>\n",
       "      <td>1.0</td>\n",
       "    </tr>\n",
       "    <tr>\n",
       "      <th>25%</th>\n",
       "      <td>8.000000</td>\n",
       "      <td>1556.000000</td>\n",
       "      <td>1.000000</td>\n",
       "      <td>7.035500</td>\n",
       "      <td>0.025027</td>\n",
       "      <td>0.023650</td>\n",
       "      <td>0.050055</td>\n",
       "      <td>0.000000</td>\n",
       "      <td>0.049960</td>\n",
       "      <td>5.000000</td>\n",
       "      <td>...</td>\n",
       "      <td>825.000000</td>\n",
       "      <td>0.385696</td>\n",
       "      <td>0.380003</td>\n",
       "      <td>55.000000</td>\n",
       "      <td>39.000000</td>\n",
       "      <td>0.390772</td>\n",
       "      <td>0.477880</td>\n",
       "      <td>578.000000</td>\n",
       "      <td>375.000000</td>\n",
       "      <td>1.0</td>\n",
       "    </tr>\n",
       "    <tr>\n",
       "      <th>50%</th>\n",
       "      <td>10.000000</td>\n",
       "      <td>1711.000000</td>\n",
       "      <td>1.000000</td>\n",
       "      <td>14.035206</td>\n",
       "      <td>0.667312</td>\n",
       "      <td>0.641082</td>\n",
       "      <td>1.988666</td>\n",
       "      <td>0.000081</td>\n",
       "      <td>1.880558</td>\n",
       "      <td>6.000000</td>\n",
       "      <td>...</td>\n",
       "      <td>952.000000</td>\n",
       "      <td>0.712387</td>\n",
       "      <td>0.712387</td>\n",
       "      <td>83.000000</td>\n",
       "      <td>75.000000</td>\n",
       "      <td>0.712533</td>\n",
       "      <td>0.491315</td>\n",
       "      <td>753.000000</td>\n",
       "      <td>628.000000</td>\n",
       "      <td>1.0</td>\n",
       "    </tr>\n",
       "    <tr>\n",
       "      <th>75%</th>\n",
       "      <td>10.000000</td>\n",
       "      <td>2152.250000</td>\n",
       "      <td>1.000000</td>\n",
       "      <td>21.495933</td>\n",
       "      <td>1.009226</td>\n",
       "      <td>1.002265</td>\n",
       "      <td>2.551987</td>\n",
       "      <td>0.000258</td>\n",
       "      <td>2.551987</td>\n",
       "      <td>6.000000</td>\n",
       "      <td>...</td>\n",
       "      <td>1000.000000</td>\n",
       "      <td>1.209220</td>\n",
       "      <td>1.127040</td>\n",
       "      <td>96.000000</td>\n",
       "      <td>83.000000</td>\n",
       "      <td>1.148007</td>\n",
       "      <td>1.129970</td>\n",
       "      <td>922.000000</td>\n",
       "      <td>811.000000</td>\n",
       "      <td>1.0</td>\n",
       "    </tr>\n",
       "    <tr>\n",
       "      <th>max</th>\n",
       "      <td>22.000000</td>\n",
       "      <td>6999.000000</td>\n",
       "      <td>2.000000</td>\n",
       "      <td>1555.683960</td>\n",
       "      <td>4.911030</td>\n",
       "      <td>2.445529</td>\n",
       "      <td>11.690903</td>\n",
       "      <td>4.911030</td>\n",
       "      <td>4.954470</td>\n",
       "      <td>17.000000</td>\n",
       "      <td>...</td>\n",
       "      <td>1025.000000</td>\n",
       "      <td>15748.000000</td>\n",
       "      <td>15267.200000</td>\n",
       "      <td>100.000000</td>\n",
       "      <td>100.000000</td>\n",
       "      <td>13245.000000</td>\n",
       "      <td>13245.000000</td>\n",
       "      <td>1000.000000</td>\n",
       "      <td>1000.000000</td>\n",
       "      <td>1.0</td>\n",
       "    </tr>\n",
       "  </tbody>\n",
       "</table>\n",
       "<p>8 rows × 31 columns</p>\n",
       "</div>"
      ],
      "text/plain": [
       "              pkts        bytes  state_number          dur         mean  \\\n",
       "count  1000.000000  1000.000000   1000.000000  1000.000000  1000.000000   \n",
       "mean      9.274000  1869.395000      1.006000    18.246482     0.856630   \n",
       "std       1.484968   497.553328      0.077266    50.122024     0.866319   \n",
       "min       2.000000   120.000000      1.000000     0.000127     0.000017   \n",
       "25%       8.000000  1556.000000      1.000000     7.035500     0.025027   \n",
       "50%      10.000000  1711.000000      1.000000    14.035206     0.667312   \n",
       "75%      10.000000  2152.250000      1.000000    21.495933     1.009226   \n",
       "max      22.000000  6999.000000      2.000000  1555.683960     4.911030   \n",
       "\n",
       "            stddev          sum          min          max        spkts  ...  \\\n",
       "count  1000.000000  1000.000000  1000.000000  1000.000000  1000.000000  ...   \n",
       "mean      0.804729     1.904605     0.136039     1.787086     5.699000  ...   \n",
       "std       0.734332     1.726297     0.610303     1.522645     1.061851  ...   \n",
       "min       0.000000     0.000069     0.000000     0.000069     1.000000  ...   \n",
       "25%       0.023650     0.050055     0.000000     0.049960     5.000000  ...   \n",
       "50%       0.641082     1.988666     0.000081     1.880558     6.000000  ...   \n",
       "75%       1.002265     2.551987     0.000258     2.551987     6.000000  ...   \n",
       "max       2.445529    11.690903     4.911030     4.954470    17.000000  ...   \n",
       "\n",
       "       TnP_Per_Dport  AR_P_Proto_P_SrcIP  AR_P_Proto_P_DstIP  \\\n",
       "count    1000.000000         1000.000000         1000.000000   \n",
       "mean      921.076000           60.793803           65.872920   \n",
       "std       115.383177          881.325166          890.170867   \n",
       "min         2.000000            0.003857            0.003857   \n",
       "25%       825.000000            0.385696            0.380003   \n",
       "50%       952.000000            0.712387            0.712387   \n",
       "75%      1000.000000            1.209220            1.127040   \n",
       "max      1025.000000        15748.000000        15267.200000   \n",
       "\n",
       "       N_IN_Conn_P_DstIP  N_IN_Conn_P_SrcIP  AR_P_Proto_P_Sport  \\\n",
       "count        1000.000000        1000.000000         1000.000000   \n",
       "mean           74.650000          63.248000           50.090629   \n",
       "std            25.314508          27.563785          735.241369   \n",
       "min             1.000000           1.000000            0.005142   \n",
       "25%            55.000000          39.000000            0.390772   \n",
       "50%            83.000000          75.000000            0.712533   \n",
       "75%            96.000000          83.000000            1.148007   \n",
       "max           100.000000         100.000000        13245.000000   \n",
       "\n",
       "       AR_P_Proto_P_Dport  Pkts_P_State_P_Protocol_P_DestIP  \\\n",
       "count         1000.000000                       1000.000000   \n",
       "mean            38.518740                        695.709000   \n",
       "std            689.582055                        244.794687   \n",
       "min              0.005142                          2.000000   \n",
       "25%              0.477880                        578.000000   \n",
       "50%              0.491315                        753.000000   \n",
       "75%              1.129970                        922.000000   \n",
       "max          13245.000000                       1000.000000   \n",
       "\n",
       "       Pkts_P_State_P_Protocol_P_SrcIP  attack  \n",
       "count                      1000.000000  1000.0  \n",
       "mean                        589.821000     1.0  \n",
       "std                         272.955784     0.0  \n",
       "min                           2.000000     1.0  \n",
       "25%                         375.000000     1.0  \n",
       "50%                         628.000000     1.0  \n",
       "75%                         811.000000     1.0  \n",
       "max                        1000.000000     1.0  \n",
       "\n",
       "[8 rows x 31 columns]"
      ]
     },
     "execution_count": 47,
     "metadata": {},
     "output_type": "execute_result"
    }
   ],
   "source": [
    "df.describe()"
   ]
  },
  {
   "cell_type": "code",
   "execution_count": 48,
   "metadata": {},
   "outputs": [
    {
     "name": "stdout",
     "output_type": "stream",
     "text": [
      "<class 'pandas.core.frame.DataFrame'>\n",
      "RangeIndex: 1000 entries, 0 to 999\n",
      "Data columns (total 31 columns):\n",
      " #   Column                            Non-Null Count  Dtype  \n",
      "---  ------                            --------------  -----  \n",
      " 0   pkts                              1000 non-null   int64  \n",
      " 1   bytes                             1000 non-null   int64  \n",
      " 2   state_number                      1000 non-null   int64  \n",
      " 3   dur                               1000 non-null   float64\n",
      " 4   mean                              1000 non-null   float64\n",
      " 5   stddev                            1000 non-null   float64\n",
      " 6   sum                               1000 non-null   float64\n",
      " 7   min                               1000 non-null   float64\n",
      " 8   max                               1000 non-null   float64\n",
      " 9   spkts                             1000 non-null   int64  \n",
      " 10  dpkts                             1000 non-null   int64  \n",
      " 11  sbytes                            1000 non-null   int64  \n",
      " 12  dbytes                            1000 non-null   int64  \n",
      " 13  rate                              1000 non-null   float64\n",
      " 14  srate                             1000 non-null   float64\n",
      " 15  drate                             1000 non-null   float64\n",
      " 16  TnBPSrcIP                         1000 non-null   int64  \n",
      " 17  TnBPDstIP                         1000 non-null   int64  \n",
      " 18  TnP_PSrcIP                        1000 non-null   int64  \n",
      " 19  TnP_PDstIP                        1000 non-null   int64  \n",
      " 20  TnP_PerProto                      1000 non-null   int64  \n",
      " 21  TnP_Per_Dport                     1000 non-null   int64  \n",
      " 22  AR_P_Proto_P_SrcIP                1000 non-null   float64\n",
      " 23  AR_P_Proto_P_DstIP                1000 non-null   float64\n",
      " 24  N_IN_Conn_P_DstIP                 1000 non-null   int64  \n",
      " 25  N_IN_Conn_P_SrcIP                 1000 non-null   int64  \n",
      " 26  AR_P_Proto_P_Sport                1000 non-null   float64\n",
      " 27  AR_P_Proto_P_Dport                1000 non-null   float64\n",
      " 28  Pkts_P_State_P_Protocol_P_DestIP  1000 non-null   int64  \n",
      " 29  Pkts_P_State_P_Protocol_P_SrcIP   1000 non-null   int64  \n",
      " 30  attack                            1000 non-null   int64  \n",
      "dtypes: float64(13), int64(18)\n",
      "memory usage: 242.3 KB\n"
     ]
    }
   ],
   "source": [
    "df.info()"
   ]
  },
  {
   "cell_type": "code",
   "execution_count": null,
   "metadata": {},
   "outputs": [],
   "source": []
  },
  {
   "cell_type": "markdown",
   "metadata": {},
   "source": [
    "## Insights from chuncked dataset:"
   ]
  },
  {
   "cell_type": "markdown",
   "metadata": {},
   "source": [
    "1.We only require upto 31 features out of the 46 we have for moachine learning classification.\n",
    "\n",
    "2.We can see that pkSeqID(sequence id), stime(Record start time), flgs(flag represting letter), flg number,proto,port number, saddr(ip of sender), sport(port of sender), daddr(ip of receiver), dport(ip of receiver),state(we already have state number),seq(Argus sequence number and not required), ltime(record time and not required), subcategory, category (not required as we will later filter it out with 1 and 0 for DDoS alone).These are the basic features captured by wireshark.\n",
    "\n",
    "3.The columns from 29 to 42 are extracted flow based features from the initial columns.\n",
    "\n",
    "4.Since we only want DDoS we need to remove all other kinds of attacks except normal and DDoS from the Category column of dataset.\n",
    "\n",
    "5."
   ]
  }
 ],
 "metadata": {
  "kernelspec": {
   "display_name": "Python 3",
   "language": "python",
   "name": "python3"
  },
  "language_info": {
   "codemirror_mode": {
    "name": "ipython",
    "version": 3
   },
   "file_extension": ".py",
   "mimetype": "text/x-python",
   "name": "python",
   "nbconvert_exporter": "python",
   "pygments_lexer": "ipython3",
   "version": "3.7.6"
  }
 },
 "nbformat": 4,
 "nbformat_minor": 4
}
