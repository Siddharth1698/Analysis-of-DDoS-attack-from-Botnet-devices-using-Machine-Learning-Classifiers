{
 "cells": [
  {
   "cell_type": "markdown",
   "metadata": {},
   "source": [
    "# DATA ANALYSIS FOR DDoS BOTNET Dataset\n",
    "\n",
    "In this section, we have got the cleaned dataset which basically has the complete DDoS botnet data with normal data. We have cleaned the dataset completely so that it is free of dirty data and we can easily make out insights out of the dataset. We go through two major process in our data analysis phase.\n",
    "\n",
    "### 1. Exploratory Data Analysis\n",
    "\n",
    "### 2. Explanatory Data Analysis"
   ]
  },
  {
   "cell_type": "markdown",
   "metadata": {},
   "source": [
    "### Types of graph used:\n",
    "\n",
    "1. BAR CHART\n",
    "2. PIE CHART\n",
    "3. BOX PLOTS\n",
    "4. VIOLIN PLOTS\n"
   ]
  },
  {
   "cell_type": "markdown",
   "metadata": {},
   "source": [
    "# Exploratory Data Analysis"
   ]
  },
  {
   "cell_type": "markdown",
   "metadata": {},
   "source": [
    "### Importing the required libraries"
   ]
  },
  {
   "cell_type": "code",
   "execution_count": 2,
   "metadata": {},
   "outputs": [],
   "source": [
    "import pandas as pd\n",
    "import numpy as np\n",
    "import matplotlib.pyplot as plt\n",
    "import seaborn as sb\n",
    "import plotly as py"
   ]
  },
  {
   "cell_type": "markdown",
   "metadata": {},
   "source": [
    "### Importing the dataset for analysis"
   ]
  },
  {
   "cell_type": "code",
   "execution_count": 3,
   "metadata": {},
   "outputs": [],
   "source": [
    "df_original = pd.read_csv('../dataset/basic_cleaned.csv')\n",
    "df = df_original.copy()\n",
    "\n",
    "# It is a good practise to make a copy of dataset so we generated a copy for quick fixes later if necessary"
   ]
  },
  {
   "cell_type": "markdown",
   "metadata": {},
   "source": [
    "### Understanding the dataset"
   ]
  },
  {
   "cell_type": "code",
   "execution_count": 4,
   "metadata": {},
   "outputs": [
    {
     "data": {
      "text/plain": [
       "(1927085, 40)"
      ]
     },
     "execution_count": 4,
     "metadata": {},
     "output_type": "execute_result"
    }
   ],
   "source": [
    "df.shape\n",
    "\n",
    "# Shape lets us know about the number of rows and columns available for our dataset"
   ]
  },
  {
   "cell_type": "code",
   "execution_count": 5,
   "metadata": {},
   "outputs": [
    {
     "data": {
      "text/plain": [
       "Index(['Unnamed: 0', 'proto', 'proto_number', 'saddr', 'sport', 'daddr',\n",
       "       'dport', 'pkts', 'bytes', 'state', 'dur', 'average_dur', 'stddev_dur',\n",
       "       'total_dur', 'min_dur', 'max_dur', 'spkts', 'dpkts', 'sbytes', 'dbytes',\n",
       "       'rate', 'srate', 'drate', 'TnBPSrcIP', 'TnBPDstIP', 'TnP_PSrcIP',\n",
       "       'TnP_PDstIP', 'TnP_PerProto', 'TnP_Per_Dport', 'AR_P_Proto_P_SrcIP',\n",
       "       'AR_P_Proto_P_DstIP', 'N_IN_Conn_P_DstIP', 'N_IN_Conn_P_SrcIP',\n",
       "       'AR_P_Proto_P_Sport', 'AR_P_Proto_P_Dport',\n",
       "       'Pkts_P_State_P_Protocol_P_DestIP', 'Pkts_P_State_P_Protocol_P_SrcIP',\n",
       "       'attack', 'category', 'subcategory'],\n",
       "      dtype='object')"
      ]
     },
     "execution_count": 5,
     "metadata": {},
     "output_type": "execute_result"
    }
   ],
   "source": [
    "df.columns\n",
    "\n",
    "# Shows all columns available"
   ]
  },
  {
   "cell_type": "code",
   "execution_count": 6,
   "metadata": {},
   "outputs": [],
   "source": [
    "df.drop(['Unnamed: 0'],axis=1,inplace=True)\n",
    "\n",
    "# we drop 1st column here as it is just ID and not required."
   ]
  },
  {
   "cell_type": "code",
   "execution_count": 7,
   "metadata": {},
   "outputs": [],
   "source": [
    "df_attacked = df[ (df['category'] =='DDoS') ]\n",
    "\n",
    "# we are taking all the malicious packets data into a data frame called df_attacked"
   ]
  },
  {
   "cell_type": "code",
   "execution_count": 8,
   "metadata": {},
   "outputs": [],
   "source": [
    "df_normal = df[ (df['category'] =='Normal') ]\n",
    "\n",
    "# we are taking all the normal packets data into a data frame called df_normal"
   ]
  },
  {
   "cell_type": "code",
   "execution_count": null,
   "metadata": {},
   "outputs": [],
   "source": []
  },
  {
   "cell_type": "markdown",
   "metadata": {},
   "source": [
    "### Definitions used in our analysis work:\n"
   ]
  },
  {
   "cell_type": "code",
   "execution_count": 9,
   "metadata": {},
   "outputs": [],
   "source": [
    "def gen_bar(column,num_observ,df_type):\n",
    "    base_color = sb.color_palette()[0]\n",
    "    bot_order = df_type[column].value_counts()[:num_observ].index\n",
    "    sb.countplot(data = df_type, y = column, color = base_color, order = bot_order)\n",
    "    \n",
    "# This is a function that is used to plot a bar graph by taking three parameters:\n",
    "  # 1. columns: Tells about the name of the column needed.\n",
    "  # 2. num_observ: It takes the number of observations for which graph needs to be plotted.\n",
    "  # 3. df_type: This parameter takes the datafram used for analysis."
   ]
  },
  {
   "cell_type": "code",
   "execution_count": 10,
   "metadata": {},
   "outputs": [],
   "source": [
    "def gen_pie(column,num_observ,df_type):\n",
    "    sorted_counts = df_type[column].value_counts()[:num_observ]\n",
    "    plt.pie(sorted_counts, labels = sorted_counts.index, startangle = 90, autopct='%1.0f%%', pctdistance=1.2, labeldistance=0.7,counterclock = False)\n",
    "    plt.axis('square')\n",
    "# This is a function that is used to plot a pie chart by taking three parameters:\n",
    "  # 1. columns: Tells about the name of the column needed.\n",
    "  # 2. num_observ: It takes the number of observations for which graph needs to be plotted.\n",
    "  # 3. df_type: This parameter takes the datafram used for analysis."
   ]
  },
  {
   "cell_type": "markdown",
   "metadata": {},
   "source": [
    "## 1.What are the different type of protocols available? "
   ]
  },
  {
   "cell_type": "code",
   "execution_count": 11,
   "metadata": {},
   "outputs": [
    {
     "data": {
      "text/plain": [
       "array(['tcp', 'arp', 'udp', 'ipv6-icmp'], dtype=object)"
      ]
     },
     "execution_count": 11,
     "metadata": {},
     "output_type": "execute_result"
    }
   ],
   "source": [
    "df.proto.unique()\n",
    "\n",
    "# unique method is used to get the unique values available for that particular column."
   ]
  },
  {
   "cell_type": "code",
   "execution_count": 12,
   "metadata": {},
   "outputs": [
    {
     "data": {
      "text/plain": [
       "tcp          978397\n",
       "udp          948598\n",
       "arp              82\n",
       "ipv6-icmp         8\n",
       "Name: proto, dtype: int64"
      ]
     },
     "execution_count": 12,
     "metadata": {},
     "output_type": "execute_result"
    }
   ],
   "source": [
    "df.proto.value_counts()\n",
    "\n",
    "# value count tells us about the number of observations per unique entities in descending order."
   ]
  },
  {
   "cell_type": "markdown",
   "metadata": {},
   "source": [
    "### Insights:\n",
    "We have the majority of the data in dataset that consist of TCP and UDP protocols. There are very few samples of ARP and ICMP protocol."
   ]
  },
  {
   "cell_type": "code",
   "execution_count": null,
   "metadata": {},
   "outputs": [],
   "source": []
  },
  {
   "cell_type": "markdown",
   "metadata": {},
   "source": [
    "## 2.Who are the top bots initiating the DDoS attacks?"
   ]
  },
  {
   "cell_type": "code",
   "execution_count": 12,
   "metadata": {},
   "outputs": [
    {
     "data": {
      "image/png": "[encoded data removed]",
      "text/plain": [
       "<Figure size 432x288 with 1 Axes>"
      ]
     },
     "metadata": {
      "needs_background": "light"
     },
     "output_type": "display_data"
    }
   ],
   "source": [
    "gen_bar('saddr',4,df_attacked)\n",
    "\n",
    "# we called the function to generate the bar graph for top 4 values of senders address in malicious dataset."
   ]
  },
  {
   "cell_type": "markdown",
   "metadata": {},
   "source": [
    "## Which device from our dataset has initiated the most number of packets without an attack"
   ]
  },
  {
   "cell_type": "code",
   "execution_count": 93,
   "metadata": {},
   "outputs": [
    {
     "data": {
      "image/png": "[encoded data removed]",
      "text/plain": [
       "<Figure size 432x288 with 1 Axes>"
      ]
     },
     "metadata": {
      "needs_background": "light"
     },
     "output_type": "display_data"
    }
   ],
   "source": [
    "gen_bar('saddr',4,df_normal)\n",
    "\n",
    "# we called the function to generate the bar graph for top 4 values of senders address in normal dataset."
   ]
  },
  {
   "cell_type": "markdown",
   "metadata": {},
   "source": [
    "### Insights:\n",
    "1.From this bar graph we can understand that 192.168.100.147 has sent out the most number of attack packets in our system. \n",
    "\n",
    "2.In normal case 192.168.100.3 has sent the most packets, this could be because most of the attacks were received at this bot and hence it replies the most"
   ]
  },
  {
   "cell_type": "code",
   "execution_count": null,
   "metadata": {},
   "outputs": [],
   "source": []
  },
  {
   "cell_type": "markdown",
   "metadata": {},
   "source": [
    "## 3.Which IP's were at destination? "
   ]
  },
  {
   "cell_type": "code",
   "execution_count": 98,
   "metadata": {},
   "outputs": [
    {
     "data": {
      "text/plain": [
       "192.168.100.3      1923162\n",
       "192.168.100.147       1336\n",
       "192.168.100.150       1313\n",
       "192.168.100.149        579\n",
       "Name: daddr, dtype: int64"
      ]
     },
     "execution_count": 98,
     "metadata": {},
     "output_type": "execute_result"
    }
   ],
   "source": [
    "df.daddr.value_counts().iloc[:4]\n",
    "\n",
    "# getting top 4 counts from destination address."
   ]
  },
  {
   "cell_type": "markdown",
   "metadata": {},
   "source": [
    "### Insights:\n",
    "1.We can see that the most number of packets were received on our device with IP 192.168.100.3"
   ]
  },
  {
   "cell_type": "code",
   "execution_count": null,
   "metadata": {},
   "outputs": [],
   "source": []
  },
  {
   "cell_type": "markdown",
   "metadata": {},
   "source": [
    "## 4. Top ports from which attacks were initiated and received?"
   ]
  },
  {
   "cell_type": "code",
   "execution_count": 14,
   "metadata": {},
   "outputs": [
    {
     "data": {
      "text/plain": [
       " 80       3485\n",
       "-1          35\n",
       " 54168      31\n",
       " 42038      31\n",
       " 41722      31\n",
       "          ... \n",
       " 26833      27\n",
       " 26820      27\n",
       " 26817      27\n",
       " 2152       27\n",
       " 26804      27\n",
       "Name: sport, Length: 65537, dtype: int64"
      ]
     },
     "execution_count": 14,
     "metadata": {},
     "output_type": "execute_result"
    }
   ],
   "source": [
    "df_attacked.sport.value_counts()\n",
    "\n",
    "# getting the count of values of the senders port number."
   ]
  },
  {
   "cell_type": "code",
   "execution_count": 15,
   "metadata": {},
   "outputs": [
    {
     "data": {
      "text/plain": [
       " 80       1923117\n",
       "-1             35\n",
       " 6451           2\n",
       " 6394           2\n",
       " 6457           2\n",
       "           ...   \n",
       " 40424          1\n",
       " 6648           1\n",
       " 29173          1\n",
       " 39400          1\n",
       " 8196           1\n",
       "Name: dport, Length: 3409, dtype: int64"
      ]
     },
     "execution_count": 15,
     "metadata": {},
     "output_type": "execute_result"
    }
   ],
   "source": [
    "df_attacked.dport.value_counts()\n",
    "\n",
    "# getting the count of values of the destination port number."
   ]
  },
  {
   "cell_type": "markdown",
   "metadata": {},
   "source": [
    "### Insights:\n",
    "1.We can see that highest number that is almost the entire dataset has the devices being attacked through port 80. \n",
    "\n",
    "2.We know that this is the HTTP port and is the most open port available in devices. It is also the port through which the highest number of attacks were initiated."
   ]
  },
  {
   "cell_type": "code",
   "execution_count": null,
   "metadata": {},
   "outputs": [],
   "source": []
  },
  {
   "cell_type": "markdown",
   "metadata": {},
   "source": [
    "## 5.Describe the statistics of attack packet count in transaction"
   ]
  },
  {
   "cell_type": "code",
   "execution_count": 16,
   "metadata": {},
   "outputs": [
    {
     "data": {
      "text/plain": [
       "count   1926608.00000\n",
       "mean          7.33000\n",
       "std           3.71533\n",
       "min           1.00000\n",
       "25%           5.00000\n",
       "50%           7.00000\n",
       "75%          10.00000\n",
       "max          20.00000\n",
       "Name: pkts, dtype: float64"
      ]
     },
     "execution_count": 16,
     "metadata": {},
     "output_type": "execute_result"
    }
   ],
   "source": [
    "pd.set_option('display.float_format', lambda x: '%.5f' % x)\n",
    "df_attacked.pkts.describe()\n",
    "\n",
    "# getting a statistics of malicious packet count in each transaction"
   ]
  },
  {
   "cell_type": "code",
   "execution_count": 17,
   "metadata": {},
   "outputs": [
    {
     "data": {
      "image/png": "[encoded data removed]",
      "text/plain": [
       "<Figure size 432x288 with 1 Axes>"
      ]
     },
     "metadata": {},
     "output_type": "display_data"
    }
   ],
   "source": [
    "gen_pie('pkts',8,df_attacked)\n",
    "\n",
    "# generating a pie chart for attack dataset about the packets per transcition number."
   ]
  },
  {
   "cell_type": "markdown",
   "metadata": {},
   "source": [
    "### How it differs from normal packets?"
   ]
  },
  {
   "cell_type": "code",
   "execution_count": 18,
   "metadata": {},
   "outputs": [
    {
     "data": {
      "text/plain": [
       "count     477.00000\n",
       "mean     2366.16143\n",
       "std      9847.58736\n",
       "min         1.00000\n",
       "25%         2.00000\n",
       "50%         2.00000\n",
       "75%         2.00000\n",
       "max     70057.00000\n",
       "Name: pkts, dtype: float64"
      ]
     },
     "execution_count": 18,
     "metadata": {},
     "output_type": "execute_result"
    }
   ],
   "source": [
    "df_normal.pkts.describe()\n",
    "\n",
    "# getting a statistics of normal packet count in each transaction"
   ]
  },
  {
   "cell_type": "code",
   "execution_count": 19,
   "metadata": {},
   "outputs": [
    {
     "data": {
      "image/png": "[encoded data removed]",
      "text/plain": [
       "<Figure size 432x288 with 1 Axes>"
      ]
     },
     "metadata": {},
     "output_type": "display_data"
    }
   ],
   "source": [
    "gen_pie('pkts',4,df_normal)\n",
    "\n",
    "# generating a pie chart for normal dataset about the packets per transcition number."
   ]
  },
  {
   "cell_type": "markdown",
   "metadata": {},
   "source": [
    "## Insights:\n",
    "\n",
    "1.Here we have the total count of packets sent from bot to the devices.\n",
    "\n",
    "2.The mean number packets send from bots is around 7-8. The maximum number sent is 20 and minimum being 1.\n",
    "\n",
    "3.From the above statistics we can find that upto 75% of the packets send were more than 5 in number . This makes understand that most of the attcked packets has packet number in transaction more than 5.\n",
    "\n",
    "4.20% of attack data has packet count of 7 in transaction followed by 6 for 17%.\n",
    "\n",
    "5.73% of normal dataset has packet count of 2 followed by 1 with 20%.\n"
   ]
  },
  {
   "cell_type": "code",
   "execution_count": null,
   "metadata": {},
   "outputs": [],
   "source": []
  },
  {
   "cell_type": "markdown",
   "metadata": {},
   "source": [
    "## 6.Describe the statistics of attack bytes count in transaction"
   ]
  },
  {
   "cell_type": "code",
   "execution_count": 20,
   "metadata": {},
   "outputs": [
    {
     "data": {
      "text/plain": [
       "count   1926608.00000\n",
       "mean        615.24861\n",
       "std         227.91679\n",
       "min          60.00000\n",
       "25%         420.00000\n",
       "50%         616.00000\n",
       "75%         780.00000\n",
       "max        6322.00000\n",
       "Name: bytes, dtype: float64"
      ]
     },
     "execution_count": 20,
     "metadata": {},
     "output_type": "execute_result"
    }
   ],
   "source": [
    "df_attacked.bytes.describe()\n",
    "\n",
    "# getting a statistics of malicious bytes in each transmission"
   ]
  },
  {
   "cell_type": "code",
   "execution_count": 21,
   "metadata": {},
   "outputs": [
    {
     "data": {
      "image/png": "[encoded data removed]",
      "text/plain": [
       "<Figure size 432x288 with 1 Axes>"
      ]
     },
     "metadata": {},
     "output_type": "display_data"
    }
   ],
   "source": [
    "gen_pie('bytes',8,df_attacked)\n",
    "\n",
    "# generating a pie chart for attack dataset for bytes involved in transmission of the packet."
   ]
  },
  {
   "cell_type": "markdown",
   "metadata": {},
   "source": [
    "### How it differs from normal packets?"
   ]
  },
  {
   "cell_type": "code",
   "execution_count": 22,
   "metadata": {},
   "outputs": [
    {
     "data": {
      "text/plain": [
       "count        477.00000\n",
       "mean     2064511.46751\n",
       "std      9636728.40103\n",
       "min           60.00000\n",
       "25%          172.00000\n",
       "50%          183.00000\n",
       "75%          891.00000\n",
       "max     71833345.00000\n",
       "Name: bytes, dtype: float64"
      ]
     },
     "execution_count": 22,
     "metadata": {},
     "output_type": "execute_result"
    }
   ],
   "source": [
    "df_normal.bytes.describe()\n",
    "\n",
    "# getting a statistics of normal bytes in each transmission"
   ]
  },
  {
   "cell_type": "code",
   "execution_count": 13,
   "metadata": {},
   "outputs": [
    {
     "data": {
      "image/png": "[encoded data removed]",
      "text/plain": [
       "<Figure size 432x288 with 1 Axes>"
      ]
     },
     "metadata": {},
     "output_type": "display_data"
    }
   ],
   "source": [
    "gen_pie('bytes',5,df_normal)\n",
    "\n",
    "# generating a pie chart for normal dataset for bytes involved in transmission of the packet."
   ]
  },
  {
   "cell_type": "markdown",
   "metadata": {},
   "source": [
    "### Insights:\n",
    "1.The average number of bytes in transaction is around 615 for attacked packets.\n",
    "\n",
    "2.The max is 6322 and min is around 60 for the malicious packets.\n",
    "\n",
    "3.14% of the malicious packet that is the highest number of bytes.\n",
    "\n",
    "4.In case of normal packets almost half..ie: 50% packets has 172 bytes in transaction."
   ]
  },
  {
   "cell_type": "code",
   "execution_count": null,
   "metadata": {},
   "outputs": [],
   "source": []
  },
  {
   "cell_type": "markdown",
   "metadata": {},
   "source": [
    "## 7.What are the different states of transactions going on?"
   ]
  },
  {
   "cell_type": "code",
   "execution_count": 94,
   "metadata": {},
   "outputs": [
    {
     "data": {
      "text/plain": [
       "INT    948382\n",
       "REQ    538593\n",
       "RST    437281\n",
       "ACC      2476\n",
       "CON       329\n",
       "FIN        16\n",
       "NRS         8\n",
       "Name: state, dtype: int64"
      ]
     },
     "execution_count": 94,
     "metadata": {},
     "output_type": "execute_result"
    }
   ],
   "source": [
    "sorted_counts = df['state'].value_counts()\n",
    "sorted_counts\n",
    "\n",
    "# Sorting the state of transaction"
   ]
  },
  {
   "cell_type": "code",
   "execution_count": 25,
   "metadata": {},
   "outputs": [
    {
     "data": {
      "image/png": "[encoded data removed]",
      "text/plain": [
       "<Figure size 432x288 with 1 Axes>"
      ]
     },
     "metadata": {},
     "output_type": "display_data"
    }
   ],
   "source": [
    "gen_pie('state',3,df_attacked)\n",
    "\n",
    "# generating pie chart for top 3 state value in malicious dataset"
   ]
  },
  {
   "cell_type": "code",
   "execution_count": 26,
   "metadata": {},
   "outputs": [
    {
     "data": {
      "text/plain": [
       "<matplotlib.axes._subplots.AxesSubplot at 0x7f9680f34f10>"
      ]
     },
     "execution_count": 26,
     "metadata": {},
     "output_type": "execute_result"
    },
    {
     "data": {
      "image/png": "[encoded data removed]",
      "text/plain": [
       "<Figure size 432x288 with 1 Axes>"
      ]
     },
     "metadata": {
      "needs_background": "light"
     },
     "output_type": "display_data"
    }
   ],
   "source": [
    "df['state'].value_counts().sort_index().plot.line()\n",
    "\n",
    "# getting a line plot about the states."
   ]
  },
  {
   "cell_type": "markdown",
   "metadata": {},
   "source": [
    "### How it differs from normal packets?"
   ]
  },
  {
   "cell_type": "code",
   "execution_count": 27,
   "metadata": {},
   "outputs": [
    {
     "data": {
      "image/png": "[encoded data removed]",
      "text/plain": [
       "<Figure size 432x288 with 1 Axes>"
      ]
     },
     "metadata": {},
     "output_type": "display_data"
    }
   ],
   "source": [
    "gen_pie('state',3,df_normal)\n",
    "\n",
    "# generating pie chart for top 3 state value in normal dataset"
   ]
  },
  {
   "cell_type": "code",
   "execution_count": 28,
   "metadata": {},
   "outputs": [
    {
     "data": {
      "text/plain": [
       "<matplotlib.axes._subplots.AxesSubplot at 0x7f9680e11590>"
      ]
     },
     "execution_count": 28,
     "metadata": {},
     "output_type": "execute_result"
    },
    {
     "data": {
      "image/png": "[encoded data removed]",
      "text/plain": [
       "<Figure size 432x288 with 1 Axes>"
      ]
     },
     "metadata": {
      "needs_background": "light"
     },
     "output_type": "display_data"
    }
   ],
   "source": [
    "df_normal['state'].value_counts().sort_index().plot.line()\n",
    "\n",
    "# getting a line plot about the states."
   ]
  },
  {
   "cell_type": "markdown",
   "metadata": {},
   "source": [
    "### Insights:\n",
    "\n",
    "1.INT is the highest number of state of which transaction happend in case of malicious packet and 49% of entire dataset has it.\n",
    "\n",
    "2.64% of the normal dataset has CON as it state."
   ]
  },
  {
   "cell_type": "code",
   "execution_count": null,
   "metadata": {},
   "outputs": [],
   "source": []
  },
  {
   "cell_type": "markdown",
   "metadata": {},
   "source": [
    "## 8.how is the duration of malicious packet transfer varying across the dataset and how its properties differ from normal dataset?\n"
   ]
  },
  {
   "cell_type": "code",
   "execution_count": 29,
   "metadata": {},
   "outputs": [
    {
     "data": {
      "text/plain": [
       "count   1926608.00000\n",
       "mean         14.79853\n",
       "std           8.78071\n",
       "min           0.00000\n",
       "25%          12.12172\n",
       "50%          13.68447\n",
       "75%          14.54814\n",
       "max         113.55770\n",
       "Name: dur, dtype: float64"
      ]
     },
     "execution_count": 29,
     "metadata": {},
     "output_type": "execute_result"
    }
   ],
   "source": [
    "df_attacked.dur.describe()\n",
    "\n",
    "# statistics about duration of packet transfer of attack dataset"
   ]
  },
  {
   "cell_type": "code",
   "execution_count": 30,
   "metadata": {},
   "outputs": [
    {
     "data": {
      "text/plain": [
       "0.00000     84237\n",
       "12.16235      182\n",
       "12.38465      169\n",
       "13.96231      167\n",
       "12.38396      166\n",
       "            ...  \n",
       "11.72395        1\n",
       "11.13496        1\n",
       "14.42168        1\n",
       "9.80110         1\n",
       "14.89982        1\n",
       "Name: dur, Length: 368670, dtype: int64"
      ]
     },
     "execution_count": 30,
     "metadata": {},
     "output_type": "execute_result"
    }
   ],
   "source": [
    "df_attacked.dur.value_counts()\n",
    "\n",
    "# value counts of duration of attacked packets"
   ]
  },
  {
   "cell_type": "code",
   "execution_count": 31,
   "metadata": {},
   "outputs": [
    {
     "data": {
      "text/plain": [
       "<matplotlib.axes._subplots.AxesSubplot at 0x7f9680f9e6d0>"
      ]
     },
     "execution_count": 31,
     "metadata": {},
     "output_type": "execute_result"
    },
    {
     "data": {
      "image/png": "[encoded data removed]",
      "text/plain": [
       "<Figure size 432x288 with 1 Axes>"
      ]
     },
     "metadata": {
      "needs_background": "light"
     },
     "output_type": "display_data"
    }
   ],
   "source": [
    "df_attacked['dur'].plot.hist()\n",
    "\n",
    "# plotting a histogram for attacked packet duration across the dataset"
   ]
  },
  {
   "cell_type": "code",
   "execution_count": 32,
   "metadata": {},
   "outputs": [
    {
     "data": {
      "text/plain": [
       "<matplotlib.axes._subplots.AxesSubplot at 0x7f9681174c50>"
      ]
     },
     "execution_count": 32,
     "metadata": {},
     "output_type": "execute_result"
    },
    {
     "data": {
      "image/png": "[encoded data removed]",
      "text/plain": [
       "<Figure size 432x288 with 1 Axes>"
      ]
     },
     "metadata": {
      "needs_background": "light"
     },
     "output_type": "display_data"
    }
   ],
   "source": [
    "df_normal['dur'].plot.hist()\n",
    "\n",
    "# plotting a histogram for normal packet duration across the dataset"
   ]
  },
  {
   "cell_type": "markdown",
   "metadata": {},
   "source": [
    "### Insight:\n",
    "\n",
    "1.Most of the dataset of malicious packets belongs to around range 0 to 20. Around 14 being the average.\n",
    "\n",
    "2.Highest number of duration of attacked packets is around 12-13.\n",
    "\n",
    "2.From histogram we can see that in case of notmal packets there are a few outliers and the raph is completely skewed towards the left."
   ]
  },
  {
   "cell_type": "code",
   "execution_count": null,
   "metadata": {},
   "outputs": [],
   "source": []
  },
  {
   "cell_type": "markdown",
   "metadata": {},
   "source": [
    "## 10.How is statistics of the average duration of malacious aggregate records and how it differs with normal packets?"
   ]
  },
  {
   "cell_type": "code",
   "execution_count": 33,
   "metadata": {},
   "outputs": [
    {
     "data": {
      "text/plain": [
       "count   1926608.00000\n",
       "mean          2.54962\n",
       "std           1.40421\n",
       "min           0.00000\n",
       "25%           2.01624\n",
       "50%           2.75982\n",
       "75%           3.65986\n",
       "max           4.98188\n",
       "Name: average_dur, dtype: float64"
      ]
     },
     "execution_count": 33,
     "metadata": {},
     "output_type": "execute_result"
    }
   ],
   "source": [
    "df_attacked.average_dur.describe()"
   ]
  },
  {
   "cell_type": "code",
   "execution_count": 34,
   "metadata": {},
   "outputs": [
    {
     "data": {
      "text/plain": [
       "<matplotlib.axes._subplots.AxesSubplot at 0x7f96811a6090>"
      ]
     },
     "execution_count": 34,
     "metadata": {},
     "output_type": "execute_result"
    },
    {
     "data": {
      "image/png": "[encoded data removed]",
      "text/plain": [
       "<Figure size 432x288 with 1 Axes>"
      ]
     },
     "metadata": {
      "needs_background": "light"
     },
     "output_type": "display_data"
    }
   ],
   "source": [
    "sb.boxplot( y=df_attacked[\"average_dur\"] )\n",
    "\n",
    "# making box plot for attacked dataset average duration."
   ]
  },
  {
   "cell_type": "code",
   "execution_count": 35,
   "metadata": {},
   "outputs": [
    {
     "data": {
      "text/plain": [
       "count   477.00000\n",
       "mean      0.49936\n",
       "std       1.33180\n",
       "min       0.00000\n",
       "25%       0.00000\n",
       "50%       0.00749\n",
       "75%       0.18034\n",
       "max       4.96714\n",
       "Name: average_dur, dtype: float64"
      ]
     },
     "execution_count": 35,
     "metadata": {},
     "output_type": "execute_result"
    }
   ],
   "source": [
    "df_normal.average_dur.describe()"
   ]
  },
  {
   "cell_type": "code",
   "execution_count": 36,
   "metadata": {},
   "outputs": [
    {
     "data": {
      "text/plain": [
       "<matplotlib.axes._subplots.AxesSubplot at 0x7f968108c550>"
      ]
     },
     "execution_count": 36,
     "metadata": {},
     "output_type": "execute_result"
    },
    {
     "data": {
      "image/png": "[encoded data removed]",
      "text/plain": [
       "<Figure size 432x288 with 1 Axes>"
      ]
     },
     "metadata": {
      "needs_background": "light"
     },
     "output_type": "display_data"
    }
   ],
   "source": [
    "sb.boxplot( y=df_normal[df_normal[\"average_dur\"] < 0.02].average_dur )\n",
    "\n",
    "# making box plot for normal dataset average duration."
   ]
  },
  {
   "cell_type": "markdown",
   "metadata": {},
   "source": [
    "### Insights:\n",
    "\n",
    "1.The average of avg duration of attack packet in transaction is aroud 2.75\n",
    "\n",
    "2.From the boxplot we can see that for attacked packet most of the values lies around within 2 to 4 range. So we can tell this is a character of bots.\n",
    "\n",
    "3.In case of normal packets, there were few outliers and needed to be removed. We find that most of normal packets range around 0 to 0.008. Thas a low average duration.\n"
   ]
  },
  {
   "cell_type": "code",
   "execution_count": null,
   "metadata": {},
   "outputs": [],
   "source": []
  },
  {
   "cell_type": "markdown",
   "metadata": {},
   "source": [
    "## 11.How is statistics of the standard deviation of  duration of malcious aggregate records? amd how it differs from normal packet?"
   ]
  },
  {
   "cell_type": "code",
   "execution_count": 37,
   "metadata": {},
   "outputs": [
    {
     "data": {
      "text/plain": [
       "count   1926608.00000\n",
       "mean          0.94536\n",
       "std           0.75180\n",
       "min           0.00000\n",
       "25%           0.12302\n",
       "50%           0.93764\n",
       "75%           1.69009\n",
       "max           2.49676\n",
       "Name: stddev_dur, dtype: float64"
      ]
     },
     "execution_count": 37,
     "metadata": {},
     "output_type": "execute_result"
    }
   ],
   "source": [
    "df_attacked.stddev_dur.describe()"
   ]
  },
  {
   "cell_type": "code",
   "execution_count": 38,
   "metadata": {},
   "outputs": [
    {
     "data": {
      "text/plain": [
       "0.00000    208507\n",
       "1.92082       204\n",
       "1.91372       174\n",
       "1.90994       152\n",
       "1.91140       152\n",
       "            ...  \n",
       "1.64472         1\n",
       "0.21885         1\n",
       "1.52715         1\n",
       "0.15681         1\n",
       "0.82219         1\n",
       "Name: stddev_dur, Length: 277624, dtype: int64"
      ]
     },
     "execution_count": 38,
     "metadata": {},
     "output_type": "execute_result"
    }
   ],
   "source": [
    "df_attacked.stddev_dur.value_counts()"
   ]
  },
  {
   "cell_type": "code",
   "execution_count": 39,
   "metadata": {},
   "outputs": [
    {
     "data": {
      "text/plain": [
       "<matplotlib.axes._subplots.AxesSubplot at 0x7f96810fded0>"
      ]
     },
     "execution_count": 39,
     "metadata": {},
     "output_type": "execute_result"
    },
    {
     "data": {
      "image/png": "[encoded data removed]",
      "text/plain": [
       "<Figure size 432x288 with 1 Axes>"
      ]
     },
     "metadata": {
      "needs_background": "light"
     },
     "output_type": "display_data"
    }
   ],
   "source": [
    "sb.boxplot( y=df_attacked[\"stddev_dur\"] )"
   ]
  },
  {
   "cell_type": "code",
   "execution_count": 40,
   "metadata": {},
   "outputs": [
    {
     "data": {
      "text/plain": [
       "count   477.00000\n",
       "mean      0.03933\n",
       "std       0.18975\n",
       "min       0.00000\n",
       "25%       0.00000\n",
       "50%       0.00000\n",
       "75%       0.00000\n",
       "max       1.89318\n",
       "Name: stddev_dur, dtype: float64"
      ]
     },
     "execution_count": 40,
     "metadata": {},
     "output_type": "execute_result"
    }
   ],
   "source": [
    "df_normal.stddev_dur.describe()"
   ]
  },
  {
   "cell_type": "code",
   "execution_count": 99,
   "metadata": {},
   "outputs": [
    {
     "data": {
      "text/plain": [
       "0.00000    384\n",
       "0.00003      4\n",
       "0.00001      2\n",
       "0.00002      2\n",
       "0.00002      2\n",
       "          ... \n",
       "0.00003      1\n",
       "0.00005      1\n",
       "0.00022      1\n",
       "0.08015      1\n",
       "0.09645      1\n",
       "Name: stddev_dur, Length: 87, dtype: int64"
      ]
     },
     "execution_count": 99,
     "metadata": {},
     "output_type": "execute_result"
    }
   ],
   "source": [
    "df_normal.stddev_dur.value_counts()"
   ]
  },
  {
   "cell_type": "markdown",
   "metadata": {},
   "source": [
    "### Insights:\n",
    "\n",
    "1.Standard deviation of the attacked packets has a average around 0.9.\n",
    "\n",
    "2.The max standard deviation for the attacked packets is around 2.4\n",
    "\n",
    "3.From the boxplot of attacked packet we can see that most values for standard deviation lies around 0 to 2."
   ]
  },
  {
   "cell_type": "code",
   "execution_count": null,
   "metadata": {},
   "outputs": [],
   "source": []
  },
  {
   "cell_type": "markdown",
   "metadata": {},
   "source": [
    "## 12.How is the statistics of total duration of malcious aggregate records and how it differs from normal packets?"
   ]
  },
  {
   "cell_type": "code",
   "execution_count": 41,
   "metadata": {},
   "outputs": [
    {
     "data": {
      "text/plain": [
       "count   1926608.00000\n",
       "mean          7.22696\n",
       "std           4.08917\n",
       "min           0.00000\n",
       "25%           4.54430\n",
       "50%           8.11687\n",
       "75%          10.52129\n",
       "max          16.91227\n",
       "Name: total_dur, dtype: float64"
      ]
     },
     "execution_count": 41,
     "metadata": {},
     "output_type": "execute_result"
    }
   ],
   "source": [
    "df_attacked.total_dur.describe()"
   ]
  },
  {
   "cell_type": "code",
   "execution_count": 42,
   "metadata": {},
   "outputs": [
    {
     "data": {
      "text/plain": [
       "<matplotlib.axes._subplots.AxesSubplot at 0x7f9680dc7110>"
      ]
     },
     "execution_count": 42,
     "metadata": {},
     "output_type": "execute_result"
    },
    {
     "data": {
      "image/png": "[encoded data removed]",
      "text/plain": [
       "<Figure size 432x288 with 1 Axes>"
      ]
     },
     "metadata": {
      "needs_background": "light"
     },
     "output_type": "display_data"
    }
   ],
   "source": [
    "sb.violinplot( y=df_attacked[\"total_dur\"] )\n",
    "\n",
    "# adding violin plot for attacked dataset for total duration"
   ]
  },
  {
   "cell_type": "code",
   "execution_count": 101,
   "metadata": {},
   "outputs": [
    {
     "data": {
      "text/plain": [
       "count    477.00000\n",
       "mean     127.79135\n",
       "std      431.35016\n",
       "min        0.00000\n",
       "25%        0.00000\n",
       "50%        0.00749\n",
       "75%        0.21589\n",
       "max     1913.19360\n",
       "Name: total_dur, dtype: float64"
      ]
     },
     "execution_count": 101,
     "metadata": {},
     "output_type": "execute_result"
    }
   ],
   "source": [
    "df_normal.total_dur.describe()"
   ]
  },
  {
   "cell_type": "code",
   "execution_count": 44,
   "metadata": {},
   "outputs": [
    {
     "data": {
      "text/plain": [
       "<matplotlib.axes._subplots.AxesSubplot at 0x7f9680db8110>"
      ]
     },
     "execution_count": 44,
     "metadata": {},
     "output_type": "execute_result"
    },
    {
     "data": {
      "image/png": "[encoded data removed]",
      "text/plain": [
       "<Figure size 432x288 with 1 Axes>"
      ]
     },
     "metadata": {
      "needs_background": "light"
     },
     "output_type": "display_data"
    }
   ],
   "source": [
    "sb.violinplot( y=df_normal[\"total_dur\"] )\n",
    "\n",
    "# adding violin plot for normal dataset for total duration"
   ]
  },
  {
   "cell_type": "markdown",
   "metadata": {},
   "source": [
    "### Insights:\n",
    "\n",
    "1.The mean duration of malicious aggregate record is around 7. THe maximum is around 16.\n",
    "\n",
    "2.From the violin plot we can see that most of the packets from 4 to 11 range for malicious packets.\n",
    "\n",
    "3.Normal packets are mostly 0 and skewed towards the left.\n"
   ]
  },
  {
   "cell_type": "code",
   "execution_count": null,
   "metadata": {},
   "outputs": [],
   "source": []
  },
  {
   "cell_type": "markdown",
   "metadata": {},
   "source": [
    "## 13.Describe about the min duration of records and how it effects the bots in theory and how is it different from normal packets?"
   ]
  },
  {
   "cell_type": "code",
   "execution_count": 45,
   "metadata": {},
   "outputs": [
    {
     "data": {
      "text/plain": [
       "count   1926608.00000\n",
       "mean          1.30186\n",
       "std           1.49105\n",
       "min           0.00000\n",
       "25%           0.00000\n",
       "50%           0.16964\n",
       "75%           2.76341\n",
       "max           4.98047\n",
       "Name: min_dur, dtype: float64"
      ]
     },
     "execution_count": 45,
     "metadata": {},
     "output_type": "execute_result"
    }
   ],
   "source": [
    "df_attacked.min_dur.describe()"
   ]
  },
  {
   "cell_type": "code",
   "execution_count": 46,
   "metadata": {},
   "outputs": [
    {
     "data": {
      "text/plain": [
       "<matplotlib.axes._subplots.AxesSubplot at 0x7f9680d13690>"
      ]
     },
     "execution_count": 46,
     "metadata": {},
     "output_type": "execute_result"
    },
    {
     "data": {
      "image/png": "[encoded data removed]",
      "text/plain": [
       "<Figure size 432x288 with 1 Axes>"
      ]
     },
     "metadata": {
      "needs_background": "light"
     },
     "output_type": "display_data"
    }
   ],
   "source": [
    "sb.boxplot( y=df_attacked[\"min_dur\"] )"
   ]
  },
  {
   "cell_type": "code",
   "execution_count": 47,
   "metadata": {},
   "outputs": [
    {
     "data": {
      "text/plain": [
       "count   477.00000\n",
       "mean      0.31378\n",
       "std       0.95451\n",
       "min       0.00000\n",
       "25%       0.00000\n",
       "50%       0.00743\n",
       "75%       0.16901\n",
       "max       4.95045\n",
       "Name: min_dur, dtype: float64"
      ]
     },
     "execution_count": 47,
     "metadata": {},
     "output_type": "execute_result"
    }
   ],
   "source": [
    "df_normal.min_dur.describe()"
   ]
  },
  {
   "cell_type": "code",
   "execution_count": 48,
   "metadata": {},
   "outputs": [
    {
     "data": {
      "text/plain": [
       "<matplotlib.axes._subplots.AxesSubplot at 0x7f9680ce9a10>"
      ]
     },
     "execution_count": 48,
     "metadata": {},
     "output_type": "execute_result"
    },
    {
     "data": {
      "image/png": "[encoded data removed]",
      "text/plain": [
       "<Figure size 432x288 with 1 Axes>"
      ]
     },
     "metadata": {
      "needs_background": "light"
     },
     "output_type": "display_data"
    }
   ],
   "source": [
    "sb.boxplot( y=df_normal[df_normal[\"min_dur\"] < 0.0175].min_dur )"
   ]
  },
  {
   "cell_type": "markdown",
   "metadata": {},
   "source": [
    "### Insights:\n",
    "\n",
    "1.The avergae of minimum duration of attacked packets is around 1.4.\n",
    "\n",
    "2.We can see that most of the attacked packets range from 0 to 3.\n",
    "\n",
    "3.The normal packets has outliers which when eliminated we get a range from 0 to 0.008, which is comparetevely low."
   ]
  },
  {
   "cell_type": "code",
   "execution_count": null,
   "metadata": {},
   "outputs": [],
   "source": []
  },
  {
   "cell_type": "markdown",
   "metadata": {},
   "source": [
    "## 14.Describe about the max duration of records and how it effects the bots in theory and how is it different from normal packets?"
   ]
  },
  {
   "cell_type": "code",
   "execution_count": 49,
   "metadata": {},
   "outputs": [
    {
     "data": {
      "text/plain": [
       "count   1926608.00000\n",
       "mean          3.34896\n",
       "std           1.64657\n",
       "min           0.00000\n",
       "25%           3.26208\n",
       "50%           4.05764\n",
       "75%           4.17246\n",
       "max           5.00000\n",
       "Name: max_dur, dtype: float64"
      ]
     },
     "execution_count": 49,
     "metadata": {},
     "output_type": "execute_result"
    }
   ],
   "source": [
    "df_attacked.max_dur.describe()"
   ]
  },
  {
   "cell_type": "code",
   "execution_count": 16,
   "metadata": {},
   "outputs": [
    {
     "data": {
      "text/plain": [
       "<matplotlib.axes._subplots.AxesSubplot at 0x7fb995360950>"
      ]
     },
     "execution_count": 16,
     "metadata": {},
     "output_type": "execute_result"
    },
    {
     "data": {
      "image/png": "[encoded data removed]",
      "text/plain": [
       "<Figure size 432x288 with 1 Axes>"
      ]
     },
     "metadata": {
      "needs_background": "light"
     },
     "output_type": "display_data"
    }
   ],
   "source": [
    "sb.boxplot( y=df_normal[df_normal[\"max_dur\"] > 2].min_dur )"
   ]
  },
  {
   "cell_type": "code",
   "execution_count": 51,
   "metadata": {},
   "outputs": [
    {
     "data": {
      "text/plain": [
       "count   477.00000\n",
       "mean      0.53850\n",
       "std       1.39801\n",
       "min       0.00000\n",
       "25%       0.00000\n",
       "50%       0.00749\n",
       "75%       0.21490\n",
       "max       5.00000\n",
       "Name: max_dur, dtype: float64"
      ]
     },
     "execution_count": 51,
     "metadata": {},
     "output_type": "execute_result"
    }
   ],
   "source": [
    "df_normal.max_dur.describe()"
   ]
  },
  {
   "cell_type": "code",
   "execution_count": 22,
   "metadata": {},
   "outputs": [
    {
     "data": {
      "text/plain": [
       "<matplotlib.axes._subplots.AxesSubplot at 0x7fb995c60a50>"
      ]
     },
     "execution_count": 22,
     "metadata": {},
     "output_type": "execute_result"
    },
    {
     "data": {
      "image/png": "[encoded data removed]",
      "text/plain": [
       "<Figure size 432x288 with 1 Axes>"
      ]
     },
     "metadata": {
      "needs_background": "light"
     },
     "output_type": "display_data"
    }
   ],
   "source": [
    "sb.boxplot( y=df_normal[df_normal[\"max_dur\"] < 0.02].min_dur )"
   ]
  },
  {
   "cell_type": "markdown",
   "metadata": {},
   "source": [
    "### Insights:\n",
    "\n",
    "1.The average of max duration of bots is around 3.3.\n",
    "\n",
    "2.Almost 50 precentile of data of infected packets is around 4.\n",
    "\n",
    "3.Most of the malicious packets ranges from 3 to 4.5.\n",
    "\n",
    "4.Most of the normal packets are around range of 0."
   ]
  },
  {
   "cell_type": "code",
   "execution_count": null,
   "metadata": {},
   "outputs": [],
   "source": []
  },
  {
   "cell_type": "markdown",
   "metadata": {},
   "source": [
    "## 15.Which are the top Source-to-destination packet count for malicious packets and what about normal packets ?"
   ]
  },
  {
   "cell_type": "code",
   "execution_count": 53,
   "metadata": {},
   "outputs": [
    {
     "data": {
      "text/plain": [
       "<matplotlib.axes._subplots.AxesSubplot at 0x7f9680d01a90>"
      ]
     },
     "execution_count": 53,
     "metadata": {},
     "output_type": "execute_result"
    },
    {
     "data": {
      "image/png": "[encoded data removed]",
      "text/plain": [
       "<Figure size 432x288 with 1 Axes>"
      ]
     },
     "metadata": {
      "needs_background": "light"
     },
     "output_type": "display_data"
    }
   ],
   "source": [
    "df_attacked.spkts.value_counts()[:8].plot(kind='barh')"
   ]
  },
  {
   "cell_type": "code",
   "execution_count": 54,
   "metadata": {},
   "outputs": [
    {
     "data": {
      "text/plain": [
       "<matplotlib.axes._subplots.AxesSubplot at 0x7f9680b2a310>"
      ]
     },
     "execution_count": 54,
     "metadata": {},
     "output_type": "execute_result"
    },
    {
     "data": {
      "image/png": "[encoded data removed]",
      "text/plain": [
       "<Figure size 432x288 with 1 Axes>"
      ]
     },
     "metadata": {
      "needs_background": "light"
     },
     "output_type": "display_data"
    }
   ],
   "source": [
    "sb.boxplot( y=df_attacked[\"spkts\"] )   "
   ]
  },
  {
   "cell_type": "code",
   "execution_count": 55,
   "metadata": {},
   "outputs": [
    {
     "data": {
      "text/plain": [
       "count   1926608.00000\n",
       "mean          7.02265\n",
       "std           3.80054\n",
       "min           1.00000\n",
       "25%           4.00000\n",
       "50%           6.00000\n",
       "75%           9.00000\n",
       "max          16.00000\n",
       "Name: spkts, dtype: float64"
      ]
     },
     "execution_count": 55,
     "metadata": {},
     "output_type": "execute_result"
    }
   ],
   "source": [
    "df_attacked.spkts.describe()"
   ]
  },
  {
   "cell_type": "code",
   "execution_count": 56,
   "metadata": {},
   "outputs": [
    {
     "data": {
      "text/plain": [
       "count     477.00000\n",
       "mean     1728.58700\n",
       "std      6527.30286\n",
       "min         1.00000\n",
       "25%         1.00000\n",
       "50%         1.00000\n",
       "75%         2.00000\n",
       "max     35029.00000\n",
       "Name: spkts, dtype: float64"
      ]
     },
     "execution_count": 56,
     "metadata": {},
     "output_type": "execute_result"
    }
   ],
   "source": [
    "df_normal.spkts.describe()"
   ]
  },
  {
   "cell_type": "code",
   "execution_count": 57,
   "metadata": {},
   "outputs": [
    {
     "data": {
      "text/plain": [
       "1    306\n",
       "2     84\n",
       "5     12\n",
       "3      9\n",
       "4      6\n",
       "Name: spkts, dtype: int64"
      ]
     },
     "execution_count": 57,
     "metadata": {},
     "output_type": "execute_result"
    }
   ],
   "source": [
    "df_normal[\"spkts\"].value_counts()[:5]"
   ]
  },
  {
   "cell_type": "markdown",
   "metadata": {},
   "source": [
    "### Insights:\n",
    "\n",
    "1.If we look at the source to destination packet count for malicious data has value around 6 followed by 5 and 7.\n",
    "\n",
    "2.The avergae is around 7 for malicious dataset, and around 1 for benign dataset.\n",
    "\n",
    "3.The highest number of normal counts is 306."
   ]
  },
  {
   "cell_type": "code",
   "execution_count": null,
   "metadata": {},
   "outputs": [],
   "source": []
  },
  {
   "cell_type": "markdown",
   "metadata": {},
   "source": [
    "## 16.Which are the top Destination-to-source packet count for malicious packets and how does it effect the packet?"
   ]
  },
  {
   "cell_type": "code",
   "execution_count": 58,
   "metadata": {},
   "outputs": [
    {
     "data": {
      "text/plain": [
       "<matplotlib.axes._subplots.AxesSubplot at 0x7f9679a44f90>"
      ]
     },
     "execution_count": 58,
     "metadata": {},
     "output_type": "execute_result"
    },
    {
     "data": {
      "image/png": "[encoded data removed]",
      "text/plain": [
       "<Figure size 432x288 with 1 Axes>"
      ]
     },
     "metadata": {
      "needs_background": "light"
     },
     "output_type": "display_data"
    }
   ],
   "source": [
    "df_attacked.dpkts.value_counts()[:8].plot(kind='barh')"
   ]
  },
  {
   "cell_type": "code",
   "execution_count": 59,
   "metadata": {},
   "outputs": [
    {
     "data": {
      "text/plain": [
       "count   1926608.00000\n",
       "mean          0.30734\n",
       "std           0.60690\n",
       "min           0.00000\n",
       "25%           0.00000\n",
       "50%           0.00000\n",
       "75%           0.00000\n",
       "max           4.00000\n",
       "Name: dpkts, dtype: float64"
      ]
     },
     "execution_count": 59,
     "metadata": {},
     "output_type": "execute_result"
    }
   ],
   "source": [
    "df_attacked[\"dpkts\"].describe()"
   ]
  },
  {
   "cell_type": "code",
   "execution_count": 102,
   "metadata": {},
   "outputs": [
    {
     "data": {
      "text/plain": [
       "<matplotlib.axes._subplots.AxesSubplot at 0x7f9679218c90>"
      ]
     },
     "execution_count": 102,
     "metadata": {},
     "output_type": "execute_result"
    },
    {
     "data": {
      "image/png": "[encoded data removed]",
      "text/plain": [
       "<Figure size 432x288 with 1 Axes>"
      ]
     },
     "metadata": {
      "needs_background": "light"
     },
     "output_type": "display_data"
    }
   ],
   "source": [
    "df_normal.dpkts.value_counts()[:8].plot(kind='barh')"
   ]
  },
  {
   "cell_type": "code",
   "execution_count": 60,
   "metadata": {},
   "outputs": [
    {
     "data": {
      "text/plain": [
       "count     477.00000\n",
       "mean      637.57442\n",
       "std      4311.35678\n",
       "min         0.00000\n",
       "25%         0.00000\n",
       "50%         1.00000\n",
       "75%         1.00000\n",
       "max     35029.00000\n",
       "Name: dpkts, dtype: float64"
      ]
     },
     "execution_count": 60,
     "metadata": {},
     "output_type": "execute_result"
    }
   ],
   "source": [
    "df_normal[\"dpkts\"].describe()"
   ]
  },
  {
   "cell_type": "markdown",
   "metadata": {},
   "source": [
    "### Insights:\n",
    "1.The Destination-to-source packet count for malicious packets has an most of its packets with a value 0.\n",
    "\n",
    "2.In case of normal packets most number of packets has around 1 as value followed by 0."
   ]
  },
  {
   "cell_type": "code",
   "execution_count": null,
   "metadata": {},
   "outputs": [],
   "source": []
  },
  {
   "cell_type": "markdown",
   "metadata": {},
   "source": [
    "## 17.Describe and how is value counts for Source-to-destination byte count for malicious packets and normal packets."
   ]
  },
  {
   "cell_type": "code",
   "execution_count": 61,
   "metadata": {},
   "outputs": [
    {
     "data": {
      "text/plain": [
       "<matplotlib.axes._subplots.AxesSubplot at 0x7f96799bd610>"
      ]
     },
     "execution_count": 61,
     "metadata": {},
     "output_type": "execute_result"
    },
    {
     "data": {
      "image/png": "[encoded data removed]",
      "text/plain": [
       "<Figure size 432x288 with 1 Axes>"
      ]
     },
     "metadata": {
      "needs_background": "light"
     },
     "output_type": "display_data"
    }
   ],
   "source": [
    "df_attacked.sbytes.value_counts()[:8].plot(kind=\"bar\")"
   ]
  },
  {
   "cell_type": "code",
   "execution_count": 62,
   "metadata": {},
   "outputs": [
    {
     "data": {
      "text/plain": [
       "count   1926608.00000\n",
       "mean        596.53847\n",
       "std         216.14277\n",
       "min          60.00000\n",
       "25%         420.00000\n",
       "50%         616.00000\n",
       "75%         770.00000\n",
       "max        5548.00000\n",
       "Name: sbytes, dtype: float64"
      ]
     },
     "execution_count": 62,
     "metadata": {},
     "output_type": "execute_result"
    }
   ],
   "source": [
    "df_attacked.sbytes.describe()"
   ]
  },
  {
   "cell_type": "code",
   "execution_count": 63,
   "metadata": {},
   "outputs": [
    {
     "data": {
      "text/plain": [
       "<matplotlib.axes._subplots.AxesSubplot at 0x7f9679940790>"
      ]
     },
     "execution_count": 63,
     "metadata": {},
     "output_type": "execute_result"
    },
    {
     "data": {
      "image/png": "[encoded data removed]",
      "text/plain": [
       "<Figure size 432x288 with 1 Axes>"
      ]
     },
     "metadata": {
      "needs_background": "light"
     },
     "output_type": "display_data"
    }
   ],
   "source": [
    "sb.boxplot( y=df_attacked[df_attacked[\"sbytes\"] < 1000].sbytes )   "
   ]
  },
  {
   "cell_type": "code",
   "execution_count": 64,
   "metadata": {},
   "outputs": [
    {
     "data": {
      "text/plain": [
       "count        477.00000\n",
       "mean     1442486.37945\n",
       "std      6147351.39433\n",
       "min           42.00000\n",
       "25%           86.00000\n",
       "50%           92.00000\n",
       "75%          172.00000\n",
       "max     37747017.00000\n",
       "Name: sbytes, dtype: float64"
      ]
     },
     "execution_count": 64,
     "metadata": {},
     "output_type": "execute_result"
    }
   ],
   "source": [
    "df_normal.sbytes.describe()"
   ]
  },
  {
   "cell_type": "code",
   "execution_count": 65,
   "metadata": {},
   "outputs": [
    {
     "data": {
      "text/plain": [
       "<matplotlib.axes._subplots.AxesSubplot at 0x7f9679896ed0>"
      ]
     },
     "execution_count": 65,
     "metadata": {},
     "output_type": "execute_result"
    },
    {
     "data": {
      "image/png": "[encoded data removed]",
      "text/plain": [
       "<Figure size 432x288 with 1 Axes>"
      ]
     },
     "metadata": {
      "needs_background": "light"
     },
     "output_type": "display_data"
    }
   ],
   "source": [
    "sb.boxplot( y=df_normal[df_normal[\"sbytes\"]  < 200 ].sbytes )   "
   ]
  },
  {
   "cell_type": "markdown",
   "metadata": {},
   "source": [
    "### Insights:\n",
    "\n",
    "1.The value count of 420 is highest for Source-to-destination byte count for malicious packets.\n",
    "\n",
    "2.596 is the average value for byte count in malicious packets.\n",
    "\n",
    "3.The minimum count in malocious packets remain 60.\n",
    "\n",
    "4.Most of the values of count in malicious packets range from 400 to 800.\n",
    "\n",
    "5.In case of normal packets the range of values is from 80 to 120.\n",
    "\n",
    "6.42 remains the min count for normal packets."
   ]
  },
  {
   "cell_type": "code",
   "execution_count": null,
   "metadata": {},
   "outputs": [],
   "source": []
  },
  {
   "cell_type": "markdown",
   "metadata": {},
   "source": [
    "## 18.Describe and how is value counts for Destination-to-source byte count for malicious packets."
   ]
  },
  {
   "cell_type": "code",
   "execution_count": 66,
   "metadata": {},
   "outputs": [
    {
     "data": {
      "text/plain": [
       "<matplotlib.axes._subplots.AxesSubplot at 0x7f96798839d0>"
      ]
     },
     "execution_count": 66,
     "metadata": {},
     "output_type": "execute_result"
    },
    {
     "data": {
      "image/png": "[encoded data removed]",
      "text/plain": [
       "<Figure size 432x288 with 1 Axes>"
      ]
     },
     "metadata": {
      "needs_background": "light"
     },
     "output_type": "display_data"
    }
   ],
   "source": [
    "df_attacked.dbytes.value_counts()[:8].plot(kind=\"bar\")"
   ]
  },
  {
   "cell_type": "code",
   "execution_count": 67,
   "metadata": {},
   "outputs": [
    {
     "data": {
      "text/plain": [
       "count   1926608.00000\n",
       "mean         18.71014\n",
       "std          39.76166\n",
       "min           0.00000\n",
       "25%           0.00000\n",
       "50%           0.00000\n",
       "75%           0.00000\n",
       "max         774.00000\n",
       "Name: dbytes, dtype: float64"
      ]
     },
     "execution_count": 67,
     "metadata": {},
     "output_type": "execute_result"
    }
   ],
   "source": [
    "df_attacked.dbytes.describe()"
   ]
  },
  {
   "cell_type": "code",
   "execution_count": 68,
   "metadata": {},
   "outputs": [
    {
     "data": {
      "text/plain": [
       "0      1463327\n",
       "60      353229\n",
       "120      93356\n",
       "180      14413\n",
       "240       1286\n",
       "766        810\n",
       "700        176\n",
       "274          9\n",
       "774          2\n",
       "Name: dbytes, dtype: int64"
      ]
     },
     "execution_count": 68,
     "metadata": {},
     "output_type": "execute_result"
    }
   ],
   "source": [
    "df_attacked.dbytes.value_counts()"
   ]
  },
  {
   "cell_type": "code",
   "execution_count": 69,
   "metadata": {},
   "outputs": [
    {
     "data": {
      "text/plain": [
       "count   463281.00000\n",
       "mean        77.80832\n",
       "std         44.45672\n",
       "min         60.00000\n",
       "25%         60.00000\n",
       "50%         60.00000\n",
       "75%         60.00000\n",
       "max        774.00000\n",
       "Name: dbytes, dtype: float64"
      ]
     },
     "execution_count": 69,
     "metadata": {},
     "output_type": "execute_result"
    }
   ],
   "source": [
    "df_get_attacked = df_attacked[df_attacked[\"dbytes\"] != 0]\n",
    "df_get_attacked[\"dbytes\"].describe()"
   ]
  },
  {
   "cell_type": "code",
   "execution_count": 70,
   "metadata": {},
   "outputs": [
    {
     "data": {
      "text/plain": [
       "count        477.00000\n",
       "mean      622025.08805\n",
       "std      4296180.13084\n",
       "min            0.00000\n",
       "25%            0.00000\n",
       "50%           86.00000\n",
       "75%          390.00000\n",
       "max     34181742.00000\n",
       "Name: dbytes, dtype: float64"
      ]
     },
     "execution_count": 70,
     "metadata": {},
     "output_type": "execute_result"
    }
   ],
   "source": [
    "df_normal.dbytes.describe()"
   ]
  },
  {
   "cell_type": "code",
   "execution_count": 71,
   "metadata": {},
   "outputs": [
    {
     "data": {
      "text/plain": [
       "<matplotlib.axes._subplots.AxesSubplot at 0x7f9680c44b50>"
      ]
     },
     "execution_count": 71,
     "metadata": {},
     "output_type": "execute_result"
    },
    {
     "data": {
      "image/png": "[encoded data removed]",
      "text/plain": [
       "<Figure size 432x288 with 1 Axes>"
      ]
     },
     "metadata": {
      "needs_background": "light"
     },
     "output_type": "display_data"
    }
   ],
   "source": [
    "sb.boxplot( y=df_normal[df_normal[\"dbytes\"]  < 200 ].dbytes )   "
   ]
  },
  {
   "cell_type": "markdown",
   "metadata": {},
   "source": [
    "### Insights:\n",
    "\n",
    "1.The value counts for Destination-to-source byte count for malicious packets has an average count of 60.\n",
    "\n",
    "2.In case of normal packets its values ranges from 0 to 90."
   ]
  },
  {
   "cell_type": "code",
   "execution_count": null,
   "metadata": {},
   "outputs": [],
   "source": []
  },
  {
   "cell_type": "markdown",
   "metadata": {},
   "source": [
    "## 19.Describe Total packets per second in transaction on malicious packets and how it effects malware and how it differs from normal packets."
   ]
  },
  {
   "cell_type": "code",
   "execution_count": 72,
   "metadata": {},
   "outputs": [
    {
     "data": {
      "text/plain": [
       "count   1926608.00000\n",
       "mean          0.64506\n",
       "std          31.38203\n",
       "min           0.00000\n",
       "25%           0.27143\n",
       "50%           0.46379\n",
       "75%           0.65156\n",
       "max       43478.26172\n",
       "Name: rate, dtype: float64"
      ]
     },
     "execution_count": 72,
     "metadata": {},
     "output_type": "execute_result"
    }
   ],
   "source": [
    "df_attacked.rate.describe()"
   ]
  },
  {
   "cell_type": "code",
   "execution_count": 109,
   "metadata": {},
   "outputs": [
    {
     "data": {
      "text/plain": [
       "<matplotlib.axes._subplots.AxesSubplot at 0x7f9680a54290>"
      ]
     },
     "execution_count": 109,
     "metadata": {},
     "output_type": "execute_result"
    },
    {
     "data": {
      "image/png": "[encoded data removed]",
      "text/plain": [
       "<Figure size 432x288 with 1 Axes>"
      ]
     },
     "metadata": {
      "needs_background": "light"
     },
     "output_type": "display_data"
    }
   ],
   "source": [
    "sb.boxplot( y=df_attacked[df_attacked[\"rate\"]  < 0.8].rate )   "
   ]
  },
  {
   "cell_type": "code",
   "execution_count": 74,
   "metadata": {},
   "outputs": [
    {
     "data": {
      "text/plain": [
       "count     477.00000\n",
       "mean     1068.10346\n",
       "std      7232.16636\n",
       "min         0.00000\n",
       "25%         0.22794\n",
       "50%         4.55544\n",
       "75%        39.86750\n",
       "max     90909.09375\n",
       "Name: rate, dtype: float64"
      ]
     },
     "execution_count": 74,
     "metadata": {},
     "output_type": "execute_result"
    }
   ],
   "source": [
    "df_normal.rate.describe()"
   ]
  },
  {
   "cell_type": "code",
   "execution_count": 75,
   "metadata": {},
   "outputs": [
    {
     "data": {
      "text/plain": [
       "<matplotlib.axes._subplots.AxesSubplot at 0x7f9679753250>"
      ]
     },
     "execution_count": 75,
     "metadata": {},
     "output_type": "execute_result"
    },
    {
     "data": {
      "image/png": "[encoded data removed]",
      "text/plain": [
       "<Figure size 432x288 with 1 Axes>"
      ]
     },
     "metadata": {
      "needs_background": "light"
     },
     "output_type": "display_data"
    }
   ],
   "source": [
    "sb.boxplot( y=df_normal[df_normal[\"rate\"]  < 8].rate )   "
   ]
  },
  {
   "cell_type": "markdown",
   "metadata": {},
   "source": [
    "### Insights:\n",
    "\n",
    "1.The average value of total packets per sec in transaction is 0.6.\n",
    "\n",
    "2.For normal packets the average is around 0 to 1.\n",
    "\n",
    "3.Value ranges from 0.2 to 0.5 for malicious while from 0 to 4 for normal."
   ]
  },
  {
   "cell_type": "code",
   "execution_count": null,
   "metadata": {},
   "outputs": [],
   "source": []
  },
  {
   "cell_type": "markdown",
   "metadata": {},
   "source": [
    "## 20.Describe Source-to-destination packets per second"
   ]
  },
  {
   "cell_type": "code",
   "execution_count": 76,
   "metadata": {},
   "outputs": [
    {
     "data": {
      "text/plain": [
       "count   1926608.00000\n",
       "mean          0.51535\n",
       "std           0.60616\n",
       "min           0.00000\n",
       "25%           0.24986\n",
       "50%           0.41008\n",
       "75%           0.63466\n",
       "max           7.33945\n",
       "Name: srate, dtype: float64"
      ]
     },
     "execution_count": 76,
     "metadata": {},
     "output_type": "execute_result"
    }
   ],
   "source": [
    "df_attacked.srate.describe()"
   ]
  },
  {
   "cell_type": "code",
   "execution_count": 77,
   "metadata": {},
   "outputs": [
    {
     "data": {
      "text/plain": [
       "<matplotlib.axes._subplots.AxesSubplot at 0x7f96796d4450>"
      ]
     },
     "execution_count": 77,
     "metadata": {},
     "output_type": "execute_result"
    },
    {
     "data": {
      "image/png": "[encoded data removed]",
      "text/plain": [
       "<Figure size 432x288 with 1 Axes>"
      ]
     },
     "metadata": {
      "needs_background": "light"
     },
     "output_type": "display_data"
    }
   ],
   "source": [
    "sb.boxplot( y=df_attacked[df_attacked[\"srate\"]<0.8].srate)"
   ]
  },
  {
   "cell_type": "code",
   "execution_count": 78,
   "metadata": {},
   "outputs": [
    {
     "data": {
      "text/plain": [
       "count       477.00000\n",
       "mean       5943.69924\n",
       "std       58124.55734\n",
       "min           0.00000\n",
       "25%           0.00000\n",
       "50%           0.00000\n",
       "75%           0.39981\n",
       "max     1000000.00000\n",
       "Name: srate, dtype: float64"
      ]
     },
     "execution_count": 78,
     "metadata": {},
     "output_type": "execute_result"
    }
   ],
   "source": [
    "df_normal.srate.describe()"
   ]
  },
  {
   "cell_type": "code",
   "execution_count": 79,
   "metadata": {},
   "outputs": [
    {
     "data": {
      "text/plain": [
       "0.00000         306\n",
       "0.00275           8\n",
       "0.00111           4\n",
       "0.39981           3\n",
       "250000.00000      2\n",
       "               ... \n",
       "8.00436           1\n",
       "0.00991           1\n",
       "0.12859           1\n",
       "0.39996           1\n",
       "10.01695          1\n",
       "Name: srate, Length: 147, dtype: int64"
      ]
     },
     "execution_count": 79,
     "metadata": {},
     "output_type": "execute_result"
    }
   ],
   "source": [
    "df_normal.srate.value_counts()"
   ]
  },
  {
   "cell_type": "code",
   "execution_count": 80,
   "metadata": {},
   "outputs": [
    {
     "data": {
      "text/plain": [
       "1.00271    813\n",
       "0.49449    791\n",
       "0.48444    782\n",
       "0.48450    768\n",
       "0.49070    757\n",
       "          ... \n",
       "2.33391      1\n",
       "3.51791      1\n",
       "0.24936      1\n",
       "4.63800      1\n",
       "4.85991      1\n",
       "Name: srate, Length: 68496, dtype: int64"
      ]
     },
     "execution_count": 80,
     "metadata": {},
     "output_type": "execute_result"
    }
   ],
   "source": [
    "df_get_attacked = df_attacked[df_attacked[\"srate\"] != 0]\n",
    "df_get_attacked[\"srate\"].value_counts()"
   ]
  },
  {
   "cell_type": "code",
   "execution_count": 81,
   "metadata": {},
   "outputs": [
    {
     "data": {
      "text/plain": [
       "<matplotlib.axes._subplots.AxesSubplot at 0x7f96795da7d0>"
      ]
     },
     "execution_count": 81,
     "metadata": {},
     "output_type": "execute_result"
    },
    {
     "data": {
      "image/png": "[encoded data removed]",
      "text/plain": [
       "<Figure size 432x288 with 1 Axes>"
      ]
     },
     "metadata": {
      "needs_background": "light"
     },
     "output_type": "display_data"
    }
   ],
   "source": [
    "sb.boxplot( y=df_get_attacked[df_get_attacked[\"srate\"] < 0.8].srate)"
   ]
  },
  {
   "cell_type": "markdown",
   "metadata": {},
   "source": [
    "### Insights:\n",
    "\n",
    "1.The rate values from 0.2 to 0.5 for attack packets.\n",
    "\n",
    "2.1 being highest value count upto 813 values for attacked packet rate"
   ]
  },
  {
   "cell_type": "code",
   "execution_count": null,
   "metadata": {},
   "outputs": [],
   "source": []
  },
  {
   "cell_type": "markdown",
   "metadata": {},
   "source": [
    "## 21.Describe Destination-to-source packets per second"
   ]
  },
  {
   "cell_type": "code",
   "execution_count": 82,
   "metadata": {},
   "outputs": [
    {
     "data": {
      "text/plain": [
       "count   1926608.00000\n",
       "mean          0.00704\n",
       "std           0.03567\n",
       "min           0.00000\n",
       "25%           0.00000\n",
       "50%           0.00000\n",
       "75%           0.00000\n",
       "max           1.06458\n",
       "Name: drate, dtype: float64"
      ]
     },
     "execution_count": 82,
     "metadata": {},
     "output_type": "execute_result"
    }
   ],
   "source": [
    "df_attacked.drate.describe()"
   ]
  },
  {
   "cell_type": "code",
   "execution_count": 83,
   "metadata": {},
   "outputs": [
    {
     "data": {
      "text/plain": [
       "0.00000    1816556\n",
       "0.02771        135\n",
       "0.07141        123\n",
       "0.02709        122\n",
       "0.06634        116\n",
       "            ...   \n",
       "0.61269          1\n",
       "0.68018          1\n",
       "0.24954          1\n",
       "0.61696          1\n",
       "0.31434          1\n",
       "Name: drate, Length: 6713, dtype: int64"
      ]
     },
     "execution_count": 83,
     "metadata": {},
     "output_type": "execute_result"
    }
   ],
   "source": [
    "df_attacked.drate.value_counts()"
   ]
  },
  {
   "cell_type": "code",
   "execution_count": 84,
   "metadata": {},
   "outputs": [
    {
     "data": {
      "text/plain": [
       "<matplotlib.axes._subplots.AxesSubplot at 0x7f96795a8e90>"
      ]
     },
     "execution_count": 84,
     "metadata": {},
     "output_type": "execute_result"
    },
    {
     "data": {
      "image/png": "[encoded data removed]",
      "text/plain": [
       "<Figure size 432x288 with 1 Axes>"
      ]
     },
     "metadata": {
      "needs_background": "light"
     },
     "output_type": "display_data"
    }
   ],
   "source": [
    "df_get_attacked = df_attacked[df_attacked[\"drate\"] != 0]\n",
    "sb.boxplot( y=df_get_attacked[df_get_attacked[\"drate\"] < 0.2].drate)"
   ]
  },
  {
   "cell_type": "code",
   "execution_count": 85,
   "metadata": {},
   "outputs": [
    {
     "data": {
      "text/plain": [
       "count    477.00000\n",
       "mean      11.02854\n",
       "std      133.64322\n",
       "min        0.00000\n",
       "25%        0.00000\n",
       "50%        0.00000\n",
       "75%        0.00000\n",
       "max     2178.64917\n",
       "Name: drate, dtype: float64"
      ]
     },
     "execution_count": 85,
     "metadata": {},
     "output_type": "execute_result"
    }
   ],
   "source": [
    "df_normal.drate.describe()"
   ]
  },
  {
   "cell_type": "code",
   "execution_count": 86,
   "metadata": {},
   "outputs": [
    {
     "data": {
      "text/plain": [
       "0.00000       405\n",
       "0.00275         8\n",
       "17.63355        2\n",
       "0.00176         2\n",
       "3.67242         1\n",
       "             ... \n",
       "1206.27258      1\n",
       "7.61219         1\n",
       "0.00159         1\n",
       "8.60459         1\n",
       "0.00914         1\n",
       "Name: drate, Length: 64, dtype: int64"
      ]
     },
     "execution_count": 86,
     "metadata": {},
     "output_type": "execute_result"
    }
   ],
   "source": [
    "df_normal.drate.value_counts()"
   ]
  },
  {
   "cell_type": "markdown",
   "metadata": {},
   "source": [
    "### Insight:\n",
    "\n",
    "1.Attack packets have count around 0.05 to 0.125\n",
    "\n",
    "2.Most of normal packets rate is 0.\n"
   ]
  },
  {
   "cell_type": "code",
   "execution_count": null,
   "metadata": {},
   "outputs": [],
   "source": []
  },
  {
   "cell_type": "markdown",
   "metadata": {},
   "source": [
    "## 22.How are these features used for malware detection?"
   ]
  },
  {
   "cell_type": "markdown",
   "metadata": {},
   "source": [
    "#### After collecting the pcap files, the Argus tool was used to generate the relevant network flows. The pcap files were converted into Argus format by using the Argus client program.\n",
    "\n",
    "#### Then, the sql insert command was applied to extract network flow information, and simultaneously log the extracted features into MySQL tables.\n",
    "\n",
    "#### The final features produced by Argus during the Network flow extraction process.\n",
    "\n",
    "#### Additionally, the group ‘saddr’, ‘sport’, ‘daddr’, ‘dport’, ‘proto’ are considered network flow identifiers, as this information is capable of uniquely identifying a flow at any given time and assisting in the labeling process. \n",
    "\n",
    "#### To label the data for use with machine learning processes, employed ‘alter table’queries to introduce the new columns and ‘update’queries to modify the values based on saddr and daddr values. In the dataset, attack  instances are labeled with ‘1’and normal ones are labeled with ‘0’for training and validating machine learning models through a binary classification.\n"
   ]
  },
  {
   "cell_type": "code",
   "execution_count": null,
   "metadata": {},
   "outputs": [],
   "source": []
  },
  {
   "cell_type": "markdown",
   "metadata": {},
   "source": []
  }
 ],
 "metadata": {
  "kernelspec": {
   "display_name": "Python 3",
   "language": "python",
   "name": "python3"
  },
  "language_info": {
   "codemirror_mode": {
    "name": "ipython",
    "version": 3
   },
   "file_extension": ".py",
   "mimetype": "text/x-python",
   "name": "python",
   "nbconvert_exporter": "python",
   "pygments_lexer": "ipython3",
   "version": "3.7.6"
  }
 },
 "nbformat": 4,
 "nbformat_minor": 4
}
