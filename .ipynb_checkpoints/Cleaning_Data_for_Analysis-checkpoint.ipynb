{
 "cells": [
  {
   "cell_type": "code",
   "execution_count": 0,
   "metadata": {
    "colab": {},
    "colab_type": "code",
    "id": "elcveAedSHOo"
   },
   "outputs": [],
   "source": [
    "import pandas as pd\n"
   ]
  },
  {
   "cell_type": "code",
   "execution_count": 2,
   "metadata": {
    "colab": {
     "base_uri": "https://localhost:8080/",
     "height": 72
    },
    "colab_type": "code",
    "id": "PoTp5GEOS1Yn",
    "outputId": "ae310420-24b3-407e-f2e6-dcd91ff9a4d0"
   },
   "outputs": [
    {
     "name": "stderr",
     "output_type": "stream",
     "text": [
      "/usr/local/lib/python3.6/dist-packages/IPython/core/interactiveshell.py:2718: DtypeWarning: Columns (0,1,3,5,7,9,10,11,13,14,15,16,17,18,19,20,21,22,23,24,25,26,27,28,29,30,31,32,33,34,35,36,37,38,39,40,41,42,43) have mixed types.Specify dtype option on import or set low_memory=False.\n",
      "  interactivity=interactivity, compiler=compiler, result=result)\n"
     ]
    }
   ],
   "source": [
    "df_original = pd.read_csv(\"drive/My Drive/combined.csv\")\n",
    "df = df_original.copy()"
   ]
  },
  {
   "cell_type": "code",
   "execution_count": 0,
   "metadata": {
    "colab": {},
    "colab_type": "code",
    "id": "jO3SZ5whTL-5"
   },
   "outputs": [],
   "source": [
    "indexNames = df[ (df['category'] !='DDoS') & (df['category'] != 'Normal') ].index\n",
    "df.drop(indexNames , inplace=True)"
   ]
  },
  {
   "cell_type": "markdown",
   "metadata": {
    "colab_type": "text",
    "id": "WeZast7SxW3d"
   },
   "source": [
    "#### Since we are dealing with a huge dataset it is better to take a particular chunck of data and do a basic analysis on the features we want to use for exploratiory analysis."
   ]
  },
  {
   "cell_type": "code",
   "execution_count": 7,
   "metadata": {
    "colab": {
     "base_uri": "https://localhost:8080/",
     "height": 226
    },
    "colab_type": "code",
    "id": "JvKSNnZEOSNj",
    "outputId": "4cf0338a-b355-4a6e-eb3a-f45ea57b5671"
   },
   "outputs": [
    {
     "data": {
      "text/html": [
       "<div>\n",
       "<style scoped>\n",
       "    .dataframe tbody tr th:only-of-type {\n",
       "        vertical-align: middle;\n",
       "    }\n",
       "\n",
       "    .dataframe tbody tr th {\n",
       "        vertical-align: top;\n",
       "    }\n",
       "\n",
       "    .dataframe thead th {\n",
       "        text-align: right;\n",
       "    }\n",
       "</style>\n",
       "<table border=\"1\" class=\"dataframe\">\n",
       "  <thead>\n",
       "    <tr style=\"text-align: right;\">\n",
       "      <th></th>\n",
       "      <th>pkSeqID</th>\n",
       "      <th>stime</th>\n",
       "      <th>flgs</th>\n",
       "      <th>flgs_number</th>\n",
       "      <th>proto</th>\n",
       "      <th>proto_number</th>\n",
       "      <th>saddr</th>\n",
       "      <th>sport</th>\n",
       "      <th>daddr</th>\n",
       "      <th>dport</th>\n",
       "      <th>pkts</th>\n",
       "      <th>bytes</th>\n",
       "      <th>state</th>\n",
       "      <th>state_number</th>\n",
       "      <th>ltime</th>\n",
       "      <th>seq</th>\n",
       "      <th>dur</th>\n",
       "      <th>mean</th>\n",
       "      <th>stddev</th>\n",
       "      <th>sum</th>\n",
       "      <th>min</th>\n",
       "      <th>max</th>\n",
       "      <th>spkts</th>\n",
       "      <th>dpkts</th>\n",
       "      <th>sbytes</th>\n",
       "      <th>dbytes</th>\n",
       "      <th>rate</th>\n",
       "      <th>srate</th>\n",
       "      <th>drate</th>\n",
       "      <th>TnBPSrcIP</th>\n",
       "      <th>TnBPDstIP</th>\n",
       "      <th>TnP_PSrcIP</th>\n",
       "      <th>TnP_PDstIP</th>\n",
       "      <th>TnP_PerProto</th>\n",
       "      <th>TnP_Per_Dport</th>\n",
       "      <th>AR_P_Proto_P_SrcIP</th>\n",
       "      <th>AR_P_Proto_P_DstIP</th>\n",
       "      <th>N_IN_Conn_P_DstIP</th>\n",
       "      <th>N_IN_Conn_P_SrcIP</th>\n",
       "      <th>AR_P_Proto_P_Sport</th>\n",
       "      <th>AR_P_Proto_P_Dport</th>\n",
       "      <th>Pkts_P_State_P_Protocol_P_DestIP</th>\n",
       "      <th>Pkts_P_State_P_Protocol_P_SrcIP</th>\n",
       "      <th>attack</th>\n",
       "      <th>category</th>\n",
       "      <th>subcategory</th>\n",
       "    </tr>\n",
       "  </thead>\n",
       "  <tbody>\n",
       "    <tr>\n",
       "      <th>1650261</th>\n",
       "      <td>1650261</td>\n",
       "      <td>1.5281e+09</td>\n",
       "      <td>e</td>\n",
       "      <td>1</td>\n",
       "      <td>tcp</td>\n",
       "      <td>1</td>\n",
       "      <td>192.168.100.150</td>\n",
       "      <td>54110</td>\n",
       "      <td>192.168.100.3</td>\n",
       "      <td>80</td>\n",
       "      <td>10</td>\n",
       "      <td>1729</td>\n",
       "      <td>RST</td>\n",
       "      <td>1</td>\n",
       "      <td>1.5281e+09</td>\n",
       "      <td>20</td>\n",
       "      <td>6.40642</td>\n",
       "      <td>0.679473</td>\n",
       "      <td>0.544126</td>\n",
       "      <td>1.35895</td>\n",
       "      <td>0.135347</td>\n",
       "      <td>1.2236</td>\n",
       "      <td>6</td>\n",
       "      <td>4</td>\n",
       "      <td>963</td>\n",
       "      <td>766</td>\n",
       "      <td>1.40484</td>\n",
       "      <td>0.780467</td>\n",
       "      <td>0.46828</td>\n",
       "      <td>56864</td>\n",
       "      <td>59969</td>\n",
       "      <td>308</td>\n",
       "      <td>328</td>\n",
       "      <td>328</td>\n",
       "      <td>700</td>\n",
       "      <td>1.26889</td>\n",
       "      <td>1.21662</td>\n",
       "      <td>40</td>\n",
       "      <td>38</td>\n",
       "      <td>1.56093</td>\n",
       "      <td>1.21662</td>\n",
       "      <td>328</td>\n",
       "      <td>308</td>\n",
       "      <td>1</td>\n",
       "      <td>DDoS</td>\n",
       "      <td>HTTP</td>\n",
       "    </tr>\n",
       "    <tr>\n",
       "      <th>1650262</th>\n",
       "      <td>1650262</td>\n",
       "      <td>1.5281e+09</td>\n",
       "      <td>e</td>\n",
       "      <td>1</td>\n",
       "      <td>tcp</td>\n",
       "      <td>1</td>\n",
       "      <td>192.168.100.150</td>\n",
       "      <td>54112</td>\n",
       "      <td>192.168.100.3</td>\n",
       "      <td>80</td>\n",
       "      <td>10</td>\n",
       "      <td>1604</td>\n",
       "      <td>RST</td>\n",
       "      <td>1</td>\n",
       "      <td>1.5281e+09</td>\n",
       "      <td>21</td>\n",
       "      <td>6.40585</td>\n",
       "      <td>0.679572</td>\n",
       "      <td>0.544197</td>\n",
       "      <td>1.35914</td>\n",
       "      <td>0.135375</td>\n",
       "      <td>1.22377</td>\n",
       "      <td>6</td>\n",
       "      <td>4</td>\n",
       "      <td>838</td>\n",
       "      <td>766</td>\n",
       "      <td>1.40497</td>\n",
       "      <td>0.780536</td>\n",
       "      <td>0.468322</td>\n",
       "      <td>56864</td>\n",
       "      <td>59969</td>\n",
       "      <td>308</td>\n",
       "      <td>328</td>\n",
       "      <td>328</td>\n",
       "      <td>700</td>\n",
       "      <td>1.26889</td>\n",
       "      <td>1.21662</td>\n",
       "      <td>40</td>\n",
       "      <td>38</td>\n",
       "      <td>1.56107</td>\n",
       "      <td>1.21662</td>\n",
       "      <td>328</td>\n",
       "      <td>308</td>\n",
       "      <td>1</td>\n",
       "      <td>DDoS</td>\n",
       "      <td>HTTP</td>\n",
       "    </tr>\n",
       "    <tr>\n",
       "      <th>1650263</th>\n",
       "      <td>1650263</td>\n",
       "      <td>1.5281e+09</td>\n",
       "      <td>e</td>\n",
       "      <td>1</td>\n",
       "      <td>tcp</td>\n",
       "      <td>1</td>\n",
       "      <td>192.168.100.150</td>\n",
       "      <td>54114</td>\n",
       "      <td>192.168.100.3</td>\n",
       "      <td>80</td>\n",
       "      <td>8</td>\n",
       "      <td>1708</td>\n",
       "      <td>RST</td>\n",
       "      <td>1</td>\n",
       "      <td>1.5281e+09</td>\n",
       "      <td>22</td>\n",
       "      <td>6.40104</td>\n",
       "      <td>1.11085</td>\n",
       "      <td>1.11085</td>\n",
       "      <td>2.22169</td>\n",
       "      <td>0</td>\n",
       "      <td>2.22169</td>\n",
       "      <td>5</td>\n",
       "      <td>3</td>\n",
       "      <td>1008</td>\n",
       "      <td>700</td>\n",
       "      <td>1.09357</td>\n",
       "      <td>0.624899</td>\n",
       "      <td>0.900214</td>\n",
       "      <td>56864</td>\n",
       "      <td>59969</td>\n",
       "      <td>308</td>\n",
       "      <td>328</td>\n",
       "      <td>328</td>\n",
       "      <td>700</td>\n",
       "      <td>1.26889</td>\n",
       "      <td>1.21662</td>\n",
       "      <td>40</td>\n",
       "      <td>38</td>\n",
       "      <td>1.2498</td>\n",
       "      <td>1.21662</td>\n",
       "      <td>328</td>\n",
       "      <td>308</td>\n",
       "      <td>1</td>\n",
       "      <td>DDoS</td>\n",
       "      <td>HTTP</td>\n",
       "    </tr>\n",
       "    <tr>\n",
       "      <th>1650264</th>\n",
       "      <td>1650264</td>\n",
       "      <td>1.5281e+09</td>\n",
       "      <td>e</td>\n",
       "      <td>1</td>\n",
       "      <td>tcp</td>\n",
       "      <td>1</td>\n",
       "      <td>192.168.100.150</td>\n",
       "      <td>54116</td>\n",
       "      <td>192.168.100.3</td>\n",
       "      <td>80</td>\n",
       "      <td>8</td>\n",
       "      <td>1462</td>\n",
       "      <td>RST</td>\n",
       "      <td>1</td>\n",
       "      <td>1.5281e+09</td>\n",
       "      <td>23</td>\n",
       "      <td>6.4007</td>\n",
       "      <td>1.11333</td>\n",
       "      <td>1.11333</td>\n",
       "      <td>2.22666</td>\n",
       "      <td>0</td>\n",
       "      <td>2.22666</td>\n",
       "      <td>5</td>\n",
       "      <td>3</td>\n",
       "      <td>762</td>\n",
       "      <td>700</td>\n",
       "      <td>1.09363</td>\n",
       "      <td>0.624931</td>\n",
       "      <td>0.898208</td>\n",
       "      <td>56864</td>\n",
       "      <td>59969</td>\n",
       "      <td>308</td>\n",
       "      <td>328</td>\n",
       "      <td>328</td>\n",
       "      <td>700</td>\n",
       "      <td>1.26889</td>\n",
       "      <td>1.21662</td>\n",
       "      <td>40</td>\n",
       "      <td>38</td>\n",
       "      <td>1.24986</td>\n",
       "      <td>1.21662</td>\n",
       "      <td>328</td>\n",
       "      <td>308</td>\n",
       "      <td>1</td>\n",
       "      <td>DDoS</td>\n",
       "      <td>HTTP</td>\n",
       "    </tr>\n",
       "    <tr>\n",
       "      <th>1650265</th>\n",
       "      <td>1650265</td>\n",
       "      <td>1.5281e+09</td>\n",
       "      <td>e</td>\n",
       "      <td>1</td>\n",
       "      <td>tcp</td>\n",
       "      <td>1</td>\n",
       "      <td>192.168.100.150</td>\n",
       "      <td>54118</td>\n",
       "      <td>192.168.100.3</td>\n",
       "      <td>80</td>\n",
       "      <td>8</td>\n",
       "      <td>1296</td>\n",
       "      <td>RST</td>\n",
       "      <td>1</td>\n",
       "      <td>1.5281e+09</td>\n",
       "      <td>24</td>\n",
       "      <td>6.40047</td>\n",
       "      <td>1.1131</td>\n",
       "      <td>1.1131</td>\n",
       "      <td>2.2262</td>\n",
       "      <td>0</td>\n",
       "      <td>2.2262</td>\n",
       "      <td>5</td>\n",
       "      <td>3</td>\n",
       "      <td>596</td>\n",
       "      <td>700</td>\n",
       "      <td>1.09367</td>\n",
       "      <td>0.624954</td>\n",
       "      <td>0.898394</td>\n",
       "      <td>56864</td>\n",
       "      <td>59969</td>\n",
       "      <td>308</td>\n",
       "      <td>328</td>\n",
       "      <td>328</td>\n",
       "      <td>700</td>\n",
       "      <td>1.26889</td>\n",
       "      <td>1.21662</td>\n",
       "      <td>40</td>\n",
       "      <td>38</td>\n",
       "      <td>1.24991</td>\n",
       "      <td>1.21662</td>\n",
       "      <td>328</td>\n",
       "      <td>308</td>\n",
       "      <td>1</td>\n",
       "      <td>DDoS</td>\n",
       "      <td>HTTP</td>\n",
       "    </tr>\n",
       "  </tbody>\n",
       "</table>\n",
       "</div>"
      ],
      "text/plain": [
       "         pkSeqID       stime flgs  ... attack category subcategory\n",
       "1650261  1650261  1.5281e+09    e  ...      1     DDoS        HTTP\n",
       "1650262  1650262  1.5281e+09    e  ...      1     DDoS        HTTP\n",
       "1650263  1650263  1.5281e+09    e  ...      1     DDoS        HTTP\n",
       "1650264  1650264  1.5281e+09    e  ...      1     DDoS        HTTP\n",
       "1650265  1650265  1.5281e+09    e  ...      1     DDoS        HTTP\n",
       "\n",
       "[5 rows x 46 columns]"
      ]
     },
     "execution_count": 7,
     "metadata": {
      "tags": []
     },
     "output_type": "execute_result"
    }
   ],
   "source": [
    "df.head()"
   ]
  },
  {
   "cell_type": "code",
   "execution_count": 8,
   "metadata": {
    "colab": {
     "base_uri": "https://localhost:8080/",
     "height": 34
    },
    "colab_type": "code",
    "id": "RqfD94AiPGl3",
    "outputId": "c74ab809-d9e3-428f-e037-9a3d4692e1c7"
   },
   "outputs": [
    {
     "data": {
      "text/plain": [
       "(1927101, 46)"
      ]
     },
     "execution_count": 8,
     "metadata": {
      "tags": []
     },
     "output_type": "execute_result"
    }
   ],
   "source": [
    "df.shape"
   ]
  },
  {
   "cell_type": "code",
   "execution_count": 9,
   "metadata": {
    "colab": {
     "base_uri": "https://localhost:8080/",
     "height": 69
    },
    "colab_type": "code",
    "id": "Dd6BlAvdPIOq",
    "outputId": "8063dbe0-b5a9-438d-fd63-3de590dc2512"
   },
   "outputs": [
    {
     "data": {
      "text/plain": [
       "DDoS      1926624\n",
       "Normal        477\n",
       "Name: category, dtype: int64"
      ]
     },
     "execution_count": 9,
     "metadata": {
      "tags": []
     },
     "output_type": "execute_result"
    }
   ],
   "source": [
    "df.category.value_counts()"
   ]
  },
  {
   "cell_type": "code",
   "execution_count": 11,
   "metadata": {
    "colab": {
     "base_uri": "https://localhost:8080/",
     "height": 104
    },
    "colab_type": "code",
    "id": "ZTTLcBPGPTTG",
    "outputId": "2fe6db19-4e5a-427d-9b93-55596dfabc6c"
   },
   "outputs": [
    {
     "data": {
      "text/plain": [
       "TCP       977380\n",
       "UDP       948255\n",
       "HTTP         989\n",
       "Normal       477\n",
       "Name: subcategory, dtype: int64"
      ]
     },
     "execution_count": 11,
     "metadata": {
      "tags": []
     },
     "output_type": "execute_result"
    }
   ],
   "source": [
    "df.subcategory.value_counts()"
   ]
  },
  {
   "cell_type": "code",
   "execution_count": 0,
   "metadata": {
    "colab": {},
    "colab_type": "code",
    "id": "Wq4gRINWPYp-"
   },
   "outputs": [],
   "source": [
    "df.to_csv('DDoSdata.csv')\n",
    "!cp DDoSdata.csv \"drive/My Drive/\""
   ]
  },
  {
   "cell_type": "code",
   "execution_count": 0,
   "metadata": {
    "colab": {},
    "colab_type": "code",
    "id": "9mM8zD-sQRGp"
   },
   "outputs": [],
   "source": []
  }
 ],
 "metadata": {
  "colab": {
   "name": "Cleaning Data for Analysis",
   "provenance": []
  },
  "kernelspec": {
   "display_name": "Python 3",
   "language": "python",
   "name": "python3"
  },
  "language_info": {
   "codemirror_mode": {
    "name": "ipython",
    "version": 3
   },
   "file_extension": ".py",
   "mimetype": "text/x-python",
   "name": "python",
   "nbconvert_exporter": "python",
   "pygments_lexer": "ipython3",
   "version": "3.7.6"
  }
 },
 "nbformat": 4,
 "nbformat_minor": 1
}
