{
 "cells": [
  {
   "cell_type": "markdown",
   "metadata": {},
   "source": [
    "# Data Wrangling and Analysis\n",
    "\n",
    "#### This is the process of wrangling through the data we have and bring out insights available. \n",
    "\n",
    "#### Our prime aim of this phase is to analyise the entire dataset and bring out powerful insights which can help us to make out ML model better."
   ]
  },
  {
   "cell_type": "markdown",
   "metadata": {},
   "source": [
    "### Importing the libraries "
   ]
  },
  {
   "cell_type": "code",
   "execution_count": 1,
   "metadata": {},
   "outputs": [],
   "source": [
    "import pandas as pd\n",
    "import numpy as np"
   ]
  },
  {
   "cell_type": "markdown",
   "metadata": {},
   "source": [
    "### Reading dataset to a dataframe"
   ]
  },
  {
   "cell_type": "code",
   "execution_count": 7,
   "metadata": {},
   "outputs": [],
   "source": [
    "df_chunk = pd.read_csv(\"../dataset/combined.csv\",nrows=1000)\n",
    "\n",
    "# initial dataset has around 36 lakh rows so for easy wrangling to understand about the unwanted columns we take a chunk of dataset."
   ]
  },
  {
   "cell_type": "markdown",
   "metadata": {},
   "source": [
    "### Wrangling data"
   ]
  },
  {
   "cell_type": "code",
   "execution_count": 8,
   "metadata": {},
   "outputs": [],
   "source": [
    "df = df_chunk.copy()\n",
    "\n",
    "# making an copy of chunk dataframe"
   ]
  },
  {
   "cell_type": "code",
   "execution_count": 10,
   "metadata": {},
   "outputs": [
    {
     "data": {
      "text/html": [
       "<div>\n",
       "<style scoped>\n",
       "    .dataframe tbody tr th:only-of-type {\n",
       "        vertical-align: middle;\n",
       "    }\n",
       "\n",
       "    .dataframe tbody tr th {\n",
       "        vertical-align: top;\n",
       "    }\n",
       "\n",
       "    .dataframe thead th {\n",
       "        text-align: right;\n",
       "    }\n",
       "</style>\n",
       "<table border=\"1\" class=\"dataframe\">\n",
       "  <thead>\n",
       "    <tr style=\"text-align: right;\">\n",
       "      <th></th>\n",
       "      <th>pkSeqID</th>\n",
       "      <th>stime</th>\n",
       "      <th>flgs</th>\n",
       "      <th>flgs_number</th>\n",
       "      <th>proto</th>\n",
       "      <th>proto_number</th>\n",
       "      <th>saddr</th>\n",
       "      <th>sport</th>\n",
       "      <th>daddr</th>\n",
       "      <th>dport</th>\n",
       "      <th>...</th>\n",
       "      <th>AR_P_Proto_P_DstIP</th>\n",
       "      <th>N_IN_Conn_P_DstIP</th>\n",
       "      <th>N_IN_Conn_P_SrcIP</th>\n",
       "      <th>AR_P_Proto_P_Sport</th>\n",
       "      <th>AR_P_Proto_P_Dport</th>\n",
       "      <th>Pkts_P_State_P_Protocol_P_DestIP</th>\n",
       "      <th>Pkts_P_State_P_Protocol_P_SrcIP</th>\n",
       "      <th>attack</th>\n",
       "      <th>category</th>\n",
       "      <th>subcategory</th>\n",
       "    </tr>\n",
       "  </thead>\n",
       "  <tbody>\n",
       "    <tr>\n",
       "      <th>0</th>\n",
       "      <td>1</td>\n",
       "      <td>1.528089e+09</td>\n",
       "      <td>e</td>\n",
       "      <td>1</td>\n",
       "      <td>tcp</td>\n",
       "      <td>1</td>\n",
       "      <td>192.168.100.147</td>\n",
       "      <td>49960</td>\n",
       "      <td>192.168.100.7</td>\n",
       "      <td>80</td>\n",
       "      <td>...</td>\n",
       "      <td>1.12704</td>\n",
       "      <td>96</td>\n",
       "      <td>75</td>\n",
       "      <td>1.133720</td>\n",
       "      <td>1.129970</td>\n",
       "      <td>770</td>\n",
       "      <td>602</td>\n",
       "      <td>1</td>\n",
       "      <td>DoS</td>\n",
       "      <td>HTTP</td>\n",
       "    </tr>\n",
       "    <tr>\n",
       "      <th>1</th>\n",
       "      <td>2</td>\n",
       "      <td>1.528089e+09</td>\n",
       "      <td>e</td>\n",
       "      <td>1</td>\n",
       "      <td>arp</td>\n",
       "      <td>2</td>\n",
       "      <td>192.168.100.7</td>\n",
       "      <td>-1</td>\n",
       "      <td>192.168.100.147</td>\n",
       "      <td>-1</td>\n",
       "      <td>...</td>\n",
       "      <td>15267.20000</td>\n",
       "      <td>1</td>\n",
       "      <td>2</td>\n",
       "      <td>0.005142</td>\n",
       "      <td>0.005142</td>\n",
       "      <td>2</td>\n",
       "      <td>6</td>\n",
       "      <td>1</td>\n",
       "      <td>DoS</td>\n",
       "      <td>HTTP</td>\n",
       "    </tr>\n",
       "    <tr>\n",
       "      <th>2</th>\n",
       "      <td>3</td>\n",
       "      <td>1.528089e+09</td>\n",
       "      <td>e</td>\n",
       "      <td>1</td>\n",
       "      <td>tcp</td>\n",
       "      <td>1</td>\n",
       "      <td>192.168.100.147</td>\n",
       "      <td>49962</td>\n",
       "      <td>192.168.100.7</td>\n",
       "      <td>80</td>\n",
       "      <td>...</td>\n",
       "      <td>1.12704</td>\n",
       "      <td>96</td>\n",
       "      <td>75</td>\n",
       "      <td>1.135100</td>\n",
       "      <td>1.129970</td>\n",
       "      <td>770</td>\n",
       "      <td>602</td>\n",
       "      <td>1</td>\n",
       "      <td>DoS</td>\n",
       "      <td>HTTP</td>\n",
       "    </tr>\n",
       "    <tr>\n",
       "      <th>3</th>\n",
       "      <td>4</td>\n",
       "      <td>1.528089e+09</td>\n",
       "      <td>e</td>\n",
       "      <td>1</td>\n",
       "      <td>tcp</td>\n",
       "      <td>1</td>\n",
       "      <td>192.168.100.147</td>\n",
       "      <td>49964</td>\n",
       "      <td>192.168.100.7</td>\n",
       "      <td>80</td>\n",
       "      <td>...</td>\n",
       "      <td>1.12704</td>\n",
       "      <td>96</td>\n",
       "      <td>75</td>\n",
       "      <td>1.135140</td>\n",
       "      <td>1.129970</td>\n",
       "      <td>770</td>\n",
       "      <td>602</td>\n",
       "      <td>1</td>\n",
       "      <td>DoS</td>\n",
       "      <td>HTTP</td>\n",
       "    </tr>\n",
       "    <tr>\n",
       "      <th>4</th>\n",
       "      <td>5</td>\n",
       "      <td>1.528089e+09</td>\n",
       "      <td>e</td>\n",
       "      <td>1</td>\n",
       "      <td>tcp</td>\n",
       "      <td>1</td>\n",
       "      <td>192.168.100.147</td>\n",
       "      <td>49966</td>\n",
       "      <td>192.168.100.7</td>\n",
       "      <td>80</td>\n",
       "      <td>...</td>\n",
       "      <td>1.12704</td>\n",
       "      <td>96</td>\n",
       "      <td>75</td>\n",
       "      <td>1.135260</td>\n",
       "      <td>1.129970</td>\n",
       "      <td>770</td>\n",
       "      <td>602</td>\n",
       "      <td>1</td>\n",
       "      <td>DoS</td>\n",
       "      <td>HTTP</td>\n",
       "    </tr>\n",
       "  </tbody>\n",
       "</table>\n",
       "<p>5 rows × 46 columns</p>\n",
       "</div>"
      ],
      "text/plain": [
       "   pkSeqID         stime flgs  flgs_number proto  proto_number  \\\n",
       "0        1  1.528089e+09    e            1   tcp             1   \n",
       "1        2  1.528089e+09    e            1   arp             2   \n",
       "2        3  1.528089e+09    e            1   tcp             1   \n",
       "3        4  1.528089e+09    e            1   tcp             1   \n",
       "4        5  1.528089e+09    e            1   tcp             1   \n",
       "\n",
       "             saddr  sport            daddr  dport  ...  AR_P_Proto_P_DstIP  \\\n",
       "0  192.168.100.147  49960    192.168.100.7     80  ...             1.12704   \n",
       "1    192.168.100.7     -1  192.168.100.147     -1  ...         15267.20000   \n",
       "2  192.168.100.147  49962    192.168.100.7     80  ...             1.12704   \n",
       "3  192.168.100.147  49964    192.168.100.7     80  ...             1.12704   \n",
       "4  192.168.100.147  49966    192.168.100.7     80  ...             1.12704   \n",
       "\n",
       "   N_IN_Conn_P_DstIP N_IN_Conn_P_SrcIP  AR_P_Proto_P_Sport  \\\n",
       "0                 96                75            1.133720   \n",
       "1                  1                 2            0.005142   \n",
       "2                 96                75            1.135100   \n",
       "3                 96                75            1.135140   \n",
       "4                 96                75            1.135260   \n",
       "\n",
       "   AR_P_Proto_P_Dport  Pkts_P_State_P_Protocol_P_DestIP  \\\n",
       "0            1.129970                               770   \n",
       "1            0.005142                                 2   \n",
       "2            1.129970                               770   \n",
       "3            1.129970                               770   \n",
       "4            1.129970                               770   \n",
       "\n",
       "   Pkts_P_State_P_Protocol_P_SrcIP  attack  category  subcategory  \n",
       "0                              602       1       DoS         HTTP  \n",
       "1                                6       1       DoS         HTTP  \n",
       "2                              602       1       DoS         HTTP  \n",
       "3                              602       1       DoS         HTTP  \n",
       "4                              602       1       DoS         HTTP  \n",
       "\n",
       "[5 rows x 46 columns]"
      ]
     },
     "execution_count": 10,
     "metadata": {},
     "output_type": "execute_result"
    }
   ],
   "source": [
    "df.head()\n",
    "\n",
    "# getting top few portion of dataset"
   ]
  },
  {
   "cell_type": "code",
   "execution_count": 11,
   "metadata": {},
   "outputs": [
    {
     "data": {
      "text/plain": [
       "Index(['pkSeqID', 'stime', 'flgs', 'flgs_number', 'proto', 'proto_number',\n",
       "       'saddr', 'sport', 'daddr', 'dport', 'pkts', 'bytes', 'state',\n",
       "       'state_number', 'ltime', 'seq', 'dur', 'mean', 'stddev', 'sum', 'min',\n",
       "       'max', 'spkts', 'dpkts', 'sbytes', 'dbytes', 'rate', 'srate', 'drate',\n",
       "       'TnBPSrcIP', 'TnBPDstIP', 'TnP_PSrcIP', 'TnP_PDstIP', 'TnP_PerProto',\n",
       "       'TnP_Per_Dport', 'AR_P_Proto_P_SrcIP', 'AR_P_Proto_P_DstIP',\n",
       "       'N_IN_Conn_P_DstIP', 'N_IN_Conn_P_SrcIP', 'AR_P_Proto_P_Sport',\n",
       "       'AR_P_Proto_P_Dport', 'Pkts_P_State_P_Protocol_P_DestIP',\n",
       "       'Pkts_P_State_P_Protocol_P_SrcIP', 'attack', 'category', 'subcategory'],\n",
       "      dtype='object')"
      ]
     },
     "execution_count": 11,
     "metadata": {},
     "output_type": "execute_result"
    }
   ],
   "source": [
    "df.columns\n",
    "\n",
    "# name of columns"
   ]
  },
  {
   "cell_type": "code",
   "execution_count": 12,
   "metadata": {},
   "outputs": [
    {
     "data": {
      "text/plain": [
       "(1000, 46)"
      ]
     },
     "execution_count": 12,
     "metadata": {},
     "output_type": "execute_result"
    }
   ],
   "source": [
    "df.shape\n",
    "\n",
    "# for understanding structure of dataset"
   ]
  },
  {
   "cell_type": "code",
   "execution_count": 16,
   "metadata": {},
   "outputs": [
    {
     "name": "stdout",
     "output_type": "stream",
     "text": [
      "<class 'pandas.core.frame.DataFrame'>\n",
      "RangeIndex: 1000 entries, 0 to 999\n",
      "Data columns (total 46 columns):\n",
      " #   Column                            Non-Null Count  Dtype  \n",
      "---  ------                            --------------  -----  \n",
      " 0   pkSeqID                           1000 non-null   int64  \n",
      " 1   stime                             1000 non-null   float64\n",
      " 2   flgs                              1000 non-null   object \n",
      " 3   flgs_number                       1000 non-null   int64  \n",
      " 4   proto                             1000 non-null   object \n",
      " 5   proto_number                      1000 non-null   int64  \n",
      " 6   saddr                             1000 non-null   object \n",
      " 7   sport                             1000 non-null   int64  \n",
      " 8   daddr                             1000 non-null   object \n",
      " 9   dport                             1000 non-null   int64  \n",
      " 10  pkts                              1000 non-null   int64  \n",
      " 11  bytes                             1000 non-null   int64  \n",
      " 12  state                             1000 non-null   object \n",
      " 13  state_number                      1000 non-null   int64  \n",
      " 14  ltime                             1000 non-null   float64\n",
      " 15  seq                               1000 non-null   int64  \n",
      " 16  dur                               1000 non-null   float64\n",
      " 17  mean                              1000 non-null   float64\n",
      " 18  stddev                            1000 non-null   float64\n",
      " 19  sum                               1000 non-null   float64\n",
      " 20  min                               1000 non-null   float64\n",
      " 21  max                               1000 non-null   float64\n",
      " 22  spkts                             1000 non-null   int64  \n",
      " 23  dpkts                             1000 non-null   int64  \n",
      " 24  sbytes                            1000 non-null   int64  \n",
      " 25  dbytes                            1000 non-null   int64  \n",
      " 26  rate                              1000 non-null   float64\n",
      " 27  srate                             1000 non-null   float64\n",
      " 28  drate                             1000 non-null   float64\n",
      " 29  TnBPSrcIP                         1000 non-null   int64  \n",
      " 30  TnBPDstIP                         1000 non-null   int64  \n",
      " 31  TnP_PSrcIP                        1000 non-null   int64  \n",
      " 32  TnP_PDstIP                        1000 non-null   int64  \n",
      " 33  TnP_PerProto                      1000 non-null   int64  \n",
      " 34  TnP_Per_Dport                     1000 non-null   int64  \n",
      " 35  AR_P_Proto_P_SrcIP                1000 non-null   float64\n",
      " 36  AR_P_Proto_P_DstIP                1000 non-null   float64\n",
      " 37  N_IN_Conn_P_DstIP                 1000 non-null   int64  \n",
      " 38  N_IN_Conn_P_SrcIP                 1000 non-null   int64  \n",
      " 39  AR_P_Proto_P_Sport                1000 non-null   float64\n",
      " 40  AR_P_Proto_P_Dport                1000 non-null   float64\n",
      " 41  Pkts_P_State_P_Protocol_P_DestIP  1000 non-null   int64  \n",
      " 42  Pkts_P_State_P_Protocol_P_SrcIP   1000 non-null   int64  \n",
      " 43  attack                            1000 non-null   int64  \n",
      " 44  category                          1000 non-null   object \n",
      " 45  subcategory                       1000 non-null   object \n",
      "dtypes: float64(15), int64(24), object(7)\n",
      "memory usage: 359.5+ KB\n"
     ]
    }
   ],
   "source": [
    "df.info()"
   ]
  },
  {
   "cell_type": "code",
   "execution_count": 17,
   "metadata": {},
   "outputs": [
    {
     "data": {
      "text/plain": [
       "Index(['pkSeqID', 'stime', 'flgs', 'flgs_number', 'proto', 'proto_number',\n",
       "       'saddr', 'sport', 'daddr', 'dport', 'pkts', 'bytes', 'state',\n",
       "       'state_number', 'ltime', 'seq', 'dur', 'mean', 'stddev', 'sum', 'min',\n",
       "       'max', 'spkts', 'dpkts', 'sbytes', 'dbytes', 'rate', 'srate', 'drate',\n",
       "       'TnBPSrcIP', 'TnBPDstIP', 'TnP_PSrcIP', 'TnP_PDstIP', 'TnP_PerProto',\n",
       "       'TnP_Per_Dport', 'AR_P_Proto_P_SrcIP', 'AR_P_Proto_P_DstIP',\n",
       "       'N_IN_Conn_P_DstIP', 'N_IN_Conn_P_SrcIP', 'AR_P_Proto_P_Sport',\n",
       "       'AR_P_Proto_P_Dport', 'Pkts_P_State_P_Protocol_P_DestIP',\n",
       "       'Pkts_P_State_P_Protocol_P_SrcIP', 'attack', 'category', 'subcategory'],\n",
       "      dtype='object')"
      ]
     },
     "execution_count": 17,
     "metadata": {},
     "output_type": "execute_result"
    }
   ],
   "source": [
    "df.columns"
   ]
  },
  {
   "cell_type": "code",
   "execution_count": 18,
   "metadata": {},
   "outputs": [
    {
     "data": {
      "text/plain": [
       "0      e\n",
       "1      e\n",
       "2      e\n",
       "3      e\n",
       "4      e\n",
       "      ..\n",
       "995    e\n",
       "996    e\n",
       "997    e\n",
       "998    e\n",
       "999    e\n",
       "Name: flgs, Length: 1000, dtype: object"
      ]
     },
     "execution_count": 18,
     "metadata": {},
     "output_type": "execute_result"
    }
   ],
   "source": [
    "df.flgs"
   ]
  },
  {
   "cell_type": "code",
   "execution_count": 19,
   "metadata": {},
   "outputs": [
    {
     "data": {
      "text/plain": [
       "0      RST\n",
       "1      CON\n",
       "2      RST\n",
       "3      RST\n",
       "4      RST\n",
       "      ... \n",
       "995    RST\n",
       "996    RST\n",
       "997    RST\n",
       "998    RST\n",
       "999    RST\n",
       "Name: state, Length: 1000, dtype: object"
      ]
     },
     "execution_count": 19,
     "metadata": {},
     "output_type": "execute_result"
    }
   ],
   "source": [
    "df.state"
   ]
  },
  {
   "cell_type": "code",
   "execution_count": 21,
   "metadata": {},
   "outputs": [
    {
     "data": {
      "text/plain": [
       "1.528089e+09    14\n",
       "1.528089e+09    13\n",
       "1.528089e+09    12\n",
       "1.528089e+09     9\n",
       "1.528089e+09     8\n",
       "                ..\n",
       "1.528089e+09     1\n",
       "1.528089e+09     1\n",
       "1.528089e+09     1\n",
       "1.528089e+09     1\n",
       "1.528089e+09     1\n",
       "Name: ltime, Length: 663, dtype: int64"
      ]
     },
     "execution_count": 21,
     "metadata": {},
     "output_type": "execute_result"
    }
   ],
   "source": [
    "df.ltime.value_counts()"
   ]
  },
  {
   "cell_type": "code",
   "execution_count": 22,
   "metadata": {},
   "outputs": [
    {
     "data": {
      "text/plain": [
       "0         9\n",
       "1        10\n",
       "2        11\n",
       "3        12\n",
       "4        13\n",
       "       ... \n",
       "995    1004\n",
       "996    1005\n",
       "997    1006\n",
       "998    1007\n",
       "999    1008\n",
       "Name: seq, Length: 1000, dtype: int64"
      ]
     },
     "execution_count": 22,
     "metadata": {},
     "output_type": "execute_result"
    }
   ],
   "source": [
    "df.seq"
   ]
  },
  {
   "cell_type": "markdown",
   "metadata": {},
   "source": [
    "## We can see that pkSeqID(sequence id), stime(Record start time), flgs(flag represting letter), proto(we already have proto number), saddr(ip of sender), sport(port of sender), daddr(ip of receiver), dport(ip of receiver),state(we already have state number),seq(Argus sequence number and not required), ltime(record time and not required), subcategory, category (not required as we will later filter it out with 1 and 0 for DDoS alone).These are the basic features captured by wireshark.\n",
    "## The rest are generated flow features and we need them for classification."
   ]
  },
  {
   "cell_type": "code",
   "execution_count": null,
   "metadata": {},
   "outputs": [],
   "source": [
    "df.drop(['pkSeqID', 'stime', 'flgs', 'flgs_number',], axis=1, inplace=True)"
   ]
  },
  {
   "cell_type": "code",
   "execution_count": 23,
   "metadata": {},
   "outputs": [
    {
     "data": {
      "text/plain": [
       "Index(['pkSeqID', 'stime', 'flgs', 'flgs_number', 'proto', 'proto_number',\n",
       "       'saddr', 'sport', 'daddr', 'dport', 'pkts', 'bytes', 'state',\n",
       "       'state_number', 'ltime', 'seq', 'dur', 'mean', 'stddev', 'sum', 'min',\n",
       "       'max', 'spkts', 'dpkts', 'sbytes', 'dbytes', 'rate', 'srate', 'drate',\n",
       "       'TnBPSrcIP', 'TnBPDstIP', 'TnP_PSrcIP', 'TnP_PDstIP', 'TnP_PerProto',\n",
       "       'TnP_Per_Dport', 'AR_P_Proto_P_SrcIP', 'AR_P_Proto_P_DstIP',\n",
       "       'N_IN_Conn_P_DstIP', 'N_IN_Conn_P_SrcIP', 'AR_P_Proto_P_Sport',\n",
       "       'AR_P_Proto_P_Dport', 'Pkts_P_State_P_Protocol_P_DestIP',\n",
       "       'Pkts_P_State_P_Protocol_P_SrcIP', 'attack', 'category', 'subcategory'],\n",
       "      dtype='object')"
      ]
     },
     "execution_count": 23,
     "metadata": {},
     "output_type": "execute_result"
    }
   ],
   "source": [
    "df.columns"
   ]
  },
  {
   "cell_type": "code",
   "execution_count": null,
   "metadata": {},
   "outputs": [],
   "source": []
  },
  {
   "cell_type": "code",
   "execution_count": null,
   "metadata": {},
   "outputs": [],
   "source": []
  },
  {
   "cell_type": "code",
   "execution_count": null,
   "metadata": {},
   "outputs": [],
   "source": []
  },
  {
   "cell_type": "code",
   "execution_count": 24,
   "metadata": {},
   "outputs": [],
   "source": [
    "df_try = pd.read_csv(\"../dataset/testing.csv\",nrows=1000)"
   ]
  },
  {
   "cell_type": "markdown",
   "metadata": {},
   "source": []
  },
  {
   "cell_type": "code",
   "execution_count": null,
   "metadata": {},
   "outputs": [],
   "source": []
  },
  {
   "cell_type": "code",
   "execution_count": null,
   "metadata": {},
   "outputs": [],
   "source": []
  },
  {
   "cell_type": "code",
   "execution_count": null,
   "metadata": {},
   "outputs": [],
   "source": []
  },
  {
   "cell_type": "code",
   "execution_count": null,
   "metadata": {},
   "outputs": [],
   "source": []
  },
  {
   "cell_type": "code",
   "execution_count": null,
   "metadata": {},
   "outputs": [],
   "source": []
  },
  {
   "cell_type": "code",
   "execution_count": 13,
   "metadata": {},
   "outputs": [
    {
     "data": {
      "text/plain": [
       "array(['DoS'], dtype=object)"
      ]
     },
     "execution_count": 13,
     "metadata": {},
     "output_type": "execute_result"
    }
   ],
   "source": [
    "df.category.unique()\n",
    "\n",
    "# for understanding categories of type of attacks"
   ]
  },
  {
   "cell_type": "code",
   "execution_count": 42,
   "metadata": {},
   "outputs": [
    {
     "data": {
      "text/plain": [
       "array(['HTTP', 'TCP', 'UDP', 'Normal', 'OS_Fingerprint', 'Service_Scan',\n",
       "       'Data_Exfiltration', 'Keylogging'], dtype=object)"
      ]
     },
     "execution_count": 42,
     "metadata": {},
     "output_type": "execute_result"
    }
   ],
   "source": [
    "df.subcategory.unique()\n",
    "\n",
    "# for understanding subcategories of type of attacks"
   ]
  },
  {
   "cell_type": "code",
   "execution_count": 9,
   "metadata": {},
   "outputs": [
    {
     "data": {
      "text/plain": [
       "1    3668045\n",
       "0        477\n",
       "Name: attack, dtype: int64"
      ]
     },
     "execution_count": 9,
     "metadata": {},
     "output_type": "execute_result"
    }
   ],
   "source": [
    "df.attack.value_counts()\n",
    "\n",
    "# malicious packets available for classification"
   ]
  },
  {
   "cell_type": "code",
   "execution_count": 41,
   "metadata": {},
   "outputs": [
    {
     "data": {
      "text/plain": [
       "array(['tcp', 'arp', 'udp', 'icmp', 'ipv6-icmp'], dtype=object)"
      ]
     },
     "execution_count": 41,
     "metadata": {},
     "output_type": "execute_result"
    }
   ],
   "source": [
    "df.proto.unique()\n",
    "\n",
    "# for understanding protocols used."
   ]
  },
  {
   "cell_type": "code",
   "execution_count": 11,
   "metadata": {},
   "outputs": [
    {
     "data": {
      "text/plain": [
       "192.168.100.147              950966\n",
       "192.168.100.148              923290\n",
       "192.168.100.150              890262\n",
       "192.168.100.149              890146\n",
       "192.168.100.3                  8281\n",
       "192.168.100.5                  5118\n",
       "192.168.100.6                   327\n",
       "192.168.100.7                    43\n",
       "192.168.100.4                    19\n",
       "192.168.100.1                    16\n",
       "192.168.100.46                   15\n",
       "192.168.100.27                   14\n",
       "fe80::250:56ff:febe:254           6\n",
       "fe80::c0c0:aa20:45b9:bdd9         4\n",
       "192.168.100.55                    3\n",
       "fe80::250:56ff:febe:26db          2\n",
       "fe80::250:56ff:febe:c038          2\n",
       "fe80::250:56ff:febe:e9d9          2\n",
       "fe80::2c6a:ff9b:7e14:166a         2\n",
       "fe80::250:56ff:febe:89ee          2\n",
       "fe80::250:56ff:febe:bf1a          2\n",
       "Name: saddr, dtype: int64"
      ]
     },
     "execution_count": 11,
     "metadata": {},
     "output_type": "execute_result"
    }
   ],
   "source": [
    "df.saddr.value_counts()\n",
    "\n",
    "# Bots IP"
   ]
  },
  {
   "cell_type": "code",
   "execution_count": 19,
   "metadata": {},
   "outputs": [
    {
     "data": {
      "text/plain": [
       "192.168.100.3      2375733\n",
       "192.168.100.5       451694\n",
       "192.168.100.7       414859\n",
       "192.168.100.6       412209\n",
       "192.168.100.150       3860\n",
       "192.168.100.147       3658\n",
       "192.168.100.149       3111\n",
       "192.168.100.148       2969\n",
       "8.8.8.8                 60\n",
       "192.168.217.2           59\n",
       "Name: daddr, dtype: int64"
      ]
     },
     "execution_count": 19,
     "metadata": {},
     "output_type": "execute_result"
    }
   ],
   "source": [
    "df.daddr.value_counts().head(10)\n",
    "\n",
    "# top destination IPs"
   ]
  },
  {
   "cell_type": "code",
   "execution_count": 13,
   "metadata": {},
   "outputs": [
    {
     "name": "stdout",
     "output_type": "stream",
     "text": [
      "<class 'pandas.core.frame.DataFrame'>\n",
      "RangeIndex: 3668522 entries, 0 to 3668521\n",
      "Data columns (total 20 columns):\n",
      " #   Column             Dtype  \n",
      "---  ------             -----  \n",
      " 0   Unnamed: 0         int64  \n",
      " 1   pkSeqID            int64  \n",
      " 2   proto              object \n",
      " 3   saddr              object \n",
      " 4   sport              object \n",
      " 5   daddr              object \n",
      " 6   dport              object \n",
      " 7   seq                int64  \n",
      " 8   stddev             float64\n",
      " 9   N_IN_Conn_P_SrcIP  int64  \n",
      " 10  min                float64\n",
      " 11  state_number       int64  \n",
      " 12  mean               float64\n",
      " 13  N_IN_Conn_P_DstIP  int64  \n",
      " 14  drate              float64\n",
      " 15  srate              float64\n",
      " 16  max                float64\n",
      " 17  attack             int64  \n",
      " 18  category           object \n",
      " 19  subcategory        object \n",
      "dtypes: float64(6), int64(7), object(7)\n",
      "memory usage: 559.8+ MB\n"
     ]
    }
   ],
   "source": [
    "df.info()\n",
    "\n",
    "# understanding type of data in each column"
   ]
  },
  {
   "cell_type": "code",
   "execution_count": 14,
   "metadata": {},
   "outputs": [
    {
     "data": {
      "text/html": [
       "<div>\n",
       "<style scoped>\n",
       "    .dataframe tbody tr th:only-of-type {\n",
       "        vertical-align: middle;\n",
       "    }\n",
       "\n",
       "    .dataframe tbody tr th {\n",
       "        vertical-align: top;\n",
       "    }\n",
       "\n",
       "    .dataframe thead th {\n",
       "        text-align: right;\n",
       "    }\n",
       "</style>\n",
       "<table border=\"1\" class=\"dataframe\">\n",
       "  <thead>\n",
       "    <tr style=\"text-align: right;\">\n",
       "      <th></th>\n",
       "      <th>Unnamed: 0</th>\n",
       "      <th>pkSeqID</th>\n",
       "      <th>seq</th>\n",
       "      <th>stddev</th>\n",
       "      <th>N_IN_Conn_P_SrcIP</th>\n",
       "      <th>min</th>\n",
       "      <th>state_number</th>\n",
       "      <th>mean</th>\n",
       "      <th>N_IN_Conn_P_DstIP</th>\n",
       "      <th>drate</th>\n",
       "      <th>srate</th>\n",
       "      <th>max</th>\n",
       "      <th>attack</th>\n",
       "    </tr>\n",
       "  </thead>\n",
       "  <tbody>\n",
       "    <tr>\n",
       "      <th>count</th>\n",
       "      <td>3668522.000000</td>\n",
       "      <td>3668522.000000</td>\n",
       "      <td>3668522.000000</td>\n",
       "      <td>3668522.000000</td>\n",
       "      <td>3668522.000000</td>\n",
       "      <td>3668522.000000</td>\n",
       "      <td>3668522.000000</td>\n",
       "      <td>3668522.000000</td>\n",
       "      <td>3668522.000000</td>\n",
       "      <td>3668522.000000</td>\n",
       "      <td>3668522.000000</td>\n",
       "      <td>3668522.000000</td>\n",
       "      <td>3668522.000000</td>\n",
       "    </tr>\n",
       "    <tr>\n",
       "      <th>mean</th>\n",
       "      <td>1834260.500000</td>\n",
       "      <td>1834261.500000</td>\n",
       "      <td>121320.416125</td>\n",
       "      <td>0.887150</td>\n",
       "      <td>82.538483</td>\n",
       "      <td>1.017540</td>\n",
       "      <td>3.134390</td>\n",
       "      <td>2.231063</td>\n",
       "      <td>92.451680</td>\n",
       "      <td>0.445505</td>\n",
       "      <td>2.955111</td>\n",
       "      <td>3.020015</td>\n",
       "      <td>0.999870</td>\n",
       "    </tr>\n",
       "    <tr>\n",
       "      <th>std</th>\n",
       "      <td>1059011.226452</td>\n",
       "      <td>1059011.226452</td>\n",
       "      <td>75794.283785</td>\n",
       "      <td>0.803714</td>\n",
       "      <td>24.397394</td>\n",
       "      <td>1.483688</td>\n",
       "      <td>1.186971</td>\n",
       "      <td>1.517728</td>\n",
       "      <td>18.176435</td>\n",
       "      <td>60.288626</td>\n",
       "      <td>724.542476</td>\n",
       "      <td>1.860877</td>\n",
       "      <td>0.011402</td>\n",
       "    </tr>\n",
       "    <tr>\n",
       "      <th>min</th>\n",
       "      <td>0.000000</td>\n",
       "      <td>1.000000</td>\n",
       "      <td>1.000000</td>\n",
       "      <td>0.000000</td>\n",
       "      <td>1.000000</td>\n",
       "      <td>0.000000</td>\n",
       "      <td>1.000000</td>\n",
       "      <td>0.000000</td>\n",
       "      <td>1.000000</td>\n",
       "      <td>0.000000</td>\n",
       "      <td>0.000000</td>\n",
       "      <td>0.000000</td>\n",
       "      <td>0.000000</td>\n",
       "    </tr>\n",
       "    <tr>\n",
       "      <th>25%</th>\n",
       "      <td>917130.250000</td>\n",
       "      <td>917131.250000</td>\n",
       "      <td>54876.000000</td>\n",
       "      <td>0.030019</td>\n",
       "      <td>69.000000</td>\n",
       "      <td>0.000000</td>\n",
       "      <td>3.000000</td>\n",
       "      <td>0.181967</td>\n",
       "      <td>100.000000</td>\n",
       "      <td>0.000000</td>\n",
       "      <td>0.155970</td>\n",
       "      <td>0.280607</td>\n",
       "      <td>1.000000</td>\n",
       "    </tr>\n",
       "    <tr>\n",
       "      <th>50%</th>\n",
       "      <td>1834260.500000</td>\n",
       "      <td>1834261.500000</td>\n",
       "      <td>117769.000000</td>\n",
       "      <td>0.793896</td>\n",
       "      <td>100.000000</td>\n",
       "      <td>0.000000</td>\n",
       "      <td>4.000000</td>\n",
       "      <td>2.690125</td>\n",
       "      <td>100.000000</td>\n",
       "      <td>0.000000</td>\n",
       "      <td>0.283783</td>\n",
       "      <td>4.009111</td>\n",
       "      <td>1.000000</td>\n",
       "    </tr>\n",
       "    <tr>\n",
       "      <th>75%</th>\n",
       "      <td>2751390.750000</td>\n",
       "      <td>2751391.750000</td>\n",
       "      <td>184930.000000</td>\n",
       "      <td>1.745296</td>\n",
       "      <td>100.000000</td>\n",
       "      <td>2.151138</td>\n",
       "      <td>4.000000</td>\n",
       "      <td>3.565203</td>\n",
       "      <td>100.000000</td>\n",
       "      <td>0.000000</td>\n",
       "      <td>0.488201</td>\n",
       "      <td>4.293582</td>\n",
       "      <td>1.000000</td>\n",
       "    </tr>\n",
       "    <tr>\n",
       "      <th>max</th>\n",
       "      <td>3668521.000000</td>\n",
       "      <td>3668522.000000</td>\n",
       "      <td>262212.000000</td>\n",
       "      <td>2.496763</td>\n",
       "      <td>100.000000</td>\n",
       "      <td>4.980471</td>\n",
       "      <td>11.000000</td>\n",
       "      <td>4.981882</td>\n",
       "      <td>100.000000</td>\n",
       "      <td>58823.527344</td>\n",
       "      <td>1000000.000000</td>\n",
       "      <td>4.999999</td>\n",
       "      <td>1.000000</td>\n",
       "    </tr>\n",
       "  </tbody>\n",
       "</table>\n",
       "</div>"
      ],
      "text/plain": [
       "          Unnamed: 0        pkSeqID            seq         stddev  \\\n",
       "count 3668522.000000 3668522.000000 3668522.000000 3668522.000000   \n",
       "mean  1834260.500000 1834261.500000  121320.416125       0.887150   \n",
       "std   1059011.226452 1059011.226452   75794.283785       0.803714   \n",
       "min         0.000000       1.000000       1.000000       0.000000   \n",
       "25%    917130.250000  917131.250000   54876.000000       0.030019   \n",
       "50%   1834260.500000 1834261.500000  117769.000000       0.793896   \n",
       "75%   2751390.750000 2751391.750000  184930.000000       1.745296   \n",
       "max   3668521.000000 3668522.000000  262212.000000       2.496763   \n",
       "\n",
       "       N_IN_Conn_P_SrcIP            min   state_number           mean  \\\n",
       "count     3668522.000000 3668522.000000 3668522.000000 3668522.000000   \n",
       "mean           82.538483       1.017540       3.134390       2.231063   \n",
       "std            24.397394       1.483688       1.186971       1.517728   \n",
       "min             1.000000       0.000000       1.000000       0.000000   \n",
       "25%            69.000000       0.000000       3.000000       0.181967   \n",
       "50%           100.000000       0.000000       4.000000       2.690125   \n",
       "75%           100.000000       2.151138       4.000000       3.565203   \n",
       "max           100.000000       4.980471      11.000000       4.981882   \n",
       "\n",
       "       N_IN_Conn_P_DstIP          drate          srate            max  \\\n",
       "count     3668522.000000 3668522.000000 3668522.000000 3668522.000000   \n",
       "mean           92.451680       0.445505       2.955111       3.020015   \n",
       "std            18.176435      60.288626     724.542476       1.860877   \n",
       "min             1.000000       0.000000       0.000000       0.000000   \n",
       "25%           100.000000       0.000000       0.155970       0.280607   \n",
       "50%           100.000000       0.000000       0.283783       4.009111   \n",
       "75%           100.000000       0.000000       0.488201       4.293582   \n",
       "max           100.000000   58823.527344 1000000.000000       4.999999   \n",
       "\n",
       "              attack  \n",
       "count 3668522.000000  \n",
       "mean        0.999870  \n",
       "std         0.011402  \n",
       "min         0.000000  \n",
       "25%         1.000000  \n",
       "50%         1.000000  \n",
       "75%         1.000000  \n",
       "max         1.000000  "
      ]
     },
     "execution_count": 14,
     "metadata": {},
     "output_type": "execute_result"
    }
   ],
   "source": [
    "pd.set_option('float_format', '{:f}'.format)\n",
    "df.describe()\n",
    "\n",
    "# understanding statistics behind our dataset"
   ]
  },
  {
   "cell_type": "code",
   "execution_count": 23,
   "metadata": {},
   "outputs": [
    {
     "data": {
      "text/plain": [
       "0.4455046496689945"
      ]
     },
     "execution_count": 23,
     "metadata": {},
     "output_type": "execute_result"
    }
   ],
   "source": [
    "df.drate.mean()\n",
    "\n",
    "# mean rate of Destination-to-source packets per second"
   ]
  },
  {
   "cell_type": "code",
   "execution_count": 24,
   "metadata": {},
   "outputs": [
    {
     "data": {
      "text/plain": [
       "2.9551111198337434"
      ]
     },
     "execution_count": 24,
     "metadata": {},
     "output_type": "execute_result"
    }
   ],
   "source": [
    "df.srate.mean()\n",
    "\n",
    "# mean rate of Source-to-destination packets per second"
   ]
  },
  {
   "cell_type": "code",
   "execution_count": 30,
   "metadata": {},
   "outputs": [
    {
     "data": {
      "text/plain": [
       "0.000000    420732\n",
       "0.000014       376\n",
       "0.000015       328\n",
       "0.000043       291\n",
       "0.000047       290\n",
       "0.000030       288\n",
       "0.000032       288\n",
       "0.000050       284\n",
       "0.000041       284\n",
       "0.000039       282\n",
       "Name: max, dtype: int64"
      ]
     },
     "execution_count": 30,
     "metadata": {},
     "output_type": "execute_result"
    }
   ],
   "source": [
    "df['max'].value_counts().head(10)\n",
    "\n",
    "# Maximum duration of aggregated records for top 10 "
   ]
  },
  {
   "cell_type": "code",
   "execution_count": 45,
   "metadata": {},
   "outputs": [
    {
     "data": {
      "text/plain": [
       "Unnamed: 0           0\n",
       "pkSeqID              0\n",
       "proto                0\n",
       "saddr                0\n",
       "sport                0\n",
       "daddr                0\n",
       "dport                0\n",
       "seq                  0\n",
       "stddev               0\n",
       "N_IN_Conn_P_SrcIP    0\n",
       "min                  0\n",
       "state_number         0\n",
       "mean                 0\n",
       "N_IN_Conn_P_DstIP    0\n",
       "drate                0\n",
       "srate                0\n",
       "max                  0\n",
       "attack               0\n",
       "category             0\n",
       "subcategory          0\n",
       "dtype: int64"
      ]
     },
     "execution_count": 45,
     "metadata": {},
     "output_type": "execute_result"
    }
   ],
   "source": [
    "df.isnull().sum()\n",
    "\n",
    "# geting number of null values from each column"
   ]
  },
  {
   "cell_type": "code",
   "execution_count": 47,
   "metadata": {},
   "outputs": [
    {
     "data": {
      "text/plain": [
       "0"
      ]
     },
     "execution_count": 47,
     "metadata": {},
     "output_type": "execute_result"
    }
   ],
   "source": [
    "df.duplicated().sum()\n",
    "\n",
    "# duplicates in dataset"
   ]
  },
  {
   "cell_type": "code",
   "execution_count": null,
   "metadata": {},
   "outputs": [],
   "source": []
  },
  {
   "cell_type": "markdown",
   "metadata": {},
   "source": [
    "## Initial analyisis of dataset\n",
    "\n",
    "This include answering basic questions of dataset and changing the dataset accordingly for further analysis."
   ]
  },
  {
   "cell_type": "code",
   "execution_count": null,
   "metadata": {},
   "outputs": [],
   "source": []
  }
 ],
 "metadata": {
  "kernelspec": {
   "display_name": "Python 3",
   "language": "python",
   "name": "python3"
  },
  "language_info": {
   "codemirror_mode": {
    "name": "ipython",
    "version": 3
   },
   "file_extension": ".py",
   "mimetype": "text/x-python",
   "name": "python",
   "nbconvert_exporter": "python",
   "pygments_lexer": "ipython3",
   "version": "3.7.6"
  }
 },
 "nbformat": 4,
 "nbformat_minor": 4
}
