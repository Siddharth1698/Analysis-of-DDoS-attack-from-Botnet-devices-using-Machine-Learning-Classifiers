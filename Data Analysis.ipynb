{
 "cells": [
  {
   "cell_type": "markdown",
   "metadata": {},
   "source": [
    "# Data Wrangling and Analysis\n",
    "\n",
    "#### This is the process of wrangling through the data we have and bring out insights available. \n",
    "\n",
    "#### Our prime aim of this phase is to analyise the entire dataset and bring out powerful insights which can help us to make out ML model better."
   ]
  },
  {
   "cell_type": "markdown",
   "metadata": {},
   "source": [
    "### Importing the libraries "
   ]
  },
  {
   "cell_type": "code",
   "execution_count": 1,
   "metadata": {},
   "outputs": [],
   "source": [
    "import pandas as pd\n",
    "import numpy as np"
   ]
  },
  {
   "cell_type": "markdown",
   "metadata": {},
   "source": [
    "### Reading dataset to a dataframe"
   ]
  },
  {
   "cell_type": "code",
   "execution_count": 2,
   "metadata": {},
   "outputs": [
    {
     "name": "stderr",
     "output_type": "stream",
     "text": [
      "/home/siddharth/anaconda3/lib/python3.7/site-packages/IPython/core/interactiveshell.py:3063: DtypeWarning: Columns (4,6) have mixed types.Specify dtype option on import or set low_memory=False.\n",
      "  interactivity=interactivity, compiler=compiler, result=result)\n"
     ]
    }
   ],
   "source": [
    "df_original = pd.read_csv(\"../dataset/total.csv\",sep=\";\")"
   ]
  },
  {
   "cell_type": "markdown",
   "metadata": {},
   "source": [
    "### Wrangling data"
   ]
  },
  {
   "cell_type": "code",
   "execution_count": 3,
   "metadata": {},
   "outputs": [],
   "source": [
    "df = df_original.copy()\n",
    "\n",
    "# making an copy of original dataframe"
   ]
  },
  {
   "cell_type": "code",
   "execution_count": 4,
   "metadata": {},
   "outputs": [
    {
     "data": {
      "text/html": [
       "<div>\n",
       "<style scoped>\n",
       "    .dataframe tbody tr th:only-of-type {\n",
       "        vertical-align: middle;\n",
       "    }\n",
       "\n",
       "    .dataframe tbody tr th {\n",
       "        vertical-align: top;\n",
       "    }\n",
       "\n",
       "    .dataframe thead th {\n",
       "        text-align: right;\n",
       "    }\n",
       "</style>\n",
       "<table border=\"1\" class=\"dataframe\">\n",
       "  <thead>\n",
       "    <tr style=\"text-align: right;\">\n",
       "      <th></th>\n",
       "      <th>Unnamed: 0</th>\n",
       "      <th>pkSeqID</th>\n",
       "      <th>proto</th>\n",
       "      <th>saddr</th>\n",
       "      <th>sport</th>\n",
       "      <th>daddr</th>\n",
       "      <th>dport</th>\n",
       "      <th>seq</th>\n",
       "      <th>stddev</th>\n",
       "      <th>N_IN_Conn_P_SrcIP</th>\n",
       "      <th>min</th>\n",
       "      <th>state_number</th>\n",
       "      <th>mean</th>\n",
       "      <th>N_IN_Conn_P_DstIP</th>\n",
       "      <th>drate</th>\n",
       "      <th>srate</th>\n",
       "      <th>max</th>\n",
       "      <th>attack</th>\n",
       "      <th>category</th>\n",
       "      <th>subcategory</th>\n",
       "    </tr>\n",
       "  </thead>\n",
       "  <tbody>\n",
       "    <tr>\n",
       "      <th>0</th>\n",
       "      <td>0</td>\n",
       "      <td>1</td>\n",
       "      <td>tcp</td>\n",
       "      <td>192.168.100.147</td>\n",
       "      <td>49960</td>\n",
       "      <td>192.168.100.7</td>\n",
       "      <td>80</td>\n",
       "      <td>9</td>\n",
       "      <td>0.068909</td>\n",
       "      <td>75</td>\n",
       "      <td>0.000000</td>\n",
       "      <td>1</td>\n",
       "      <td>0.068909</td>\n",
       "      <td>96</td>\n",
       "      <td>14.511893</td>\n",
       "      <td>0.566862</td>\n",
       "      <td>0.137818</td>\n",
       "      <td>1</td>\n",
       "      <td>DoS</td>\n",
       "      <td>HTTP</td>\n",
       "    </tr>\n",
       "    <tr>\n",
       "      <th>1</th>\n",
       "      <td>1</td>\n",
       "      <td>2</td>\n",
       "      <td>arp</td>\n",
       "      <td>192.168.100.7</td>\n",
       "      <td>-1</td>\n",
       "      <td>192.168.100.147</td>\n",
       "      <td>-1</td>\n",
       "      <td>10</td>\n",
       "      <td>0.000000</td>\n",
       "      <td>2</td>\n",
       "      <td>0.000131</td>\n",
       "      <td>2</td>\n",
       "      <td>0.000131</td>\n",
       "      <td>1</td>\n",
       "      <td>0.000000</td>\n",
       "      <td>0.000000</td>\n",
       "      <td>0.000131</td>\n",
       "      <td>1</td>\n",
       "      <td>DoS</td>\n",
       "      <td>HTTP</td>\n",
       "    </tr>\n",
       "    <tr>\n",
       "      <th>2</th>\n",
       "      <td>2</td>\n",
       "      <td>3</td>\n",
       "      <td>tcp</td>\n",
       "      <td>192.168.100.147</td>\n",
       "      <td>49962</td>\n",
       "      <td>192.168.100.7</td>\n",
       "      <td>80</td>\n",
       "      <td>11</td>\n",
       "      <td>0.064494</td>\n",
       "      <td>75</td>\n",
       "      <td>0.000000</td>\n",
       "      <td>1</td>\n",
       "      <td>0.064494</td>\n",
       "      <td>96</td>\n",
       "      <td>15.505319</td>\n",
       "      <td>0.567549</td>\n",
       "      <td>0.128988</td>\n",
       "      <td>1</td>\n",
       "      <td>DoS</td>\n",
       "      <td>HTTP</td>\n",
       "    </tr>\n",
       "    <tr>\n",
       "      <th>3</th>\n",
       "      <td>3</td>\n",
       "      <td>4</td>\n",
       "      <td>tcp</td>\n",
       "      <td>192.168.100.147</td>\n",
       "      <td>49964</td>\n",
       "      <td>192.168.100.7</td>\n",
       "      <td>80</td>\n",
       "      <td>12</td>\n",
       "      <td>0.064189</td>\n",
       "      <td>75</td>\n",
       "      <td>0.000000</td>\n",
       "      <td>1</td>\n",
       "      <td>0.064189</td>\n",
       "      <td>96</td>\n",
       "      <td>15.578993</td>\n",
       "      <td>0.567570</td>\n",
       "      <td>0.128378</td>\n",
       "      <td>1</td>\n",
       "      <td>DoS</td>\n",
       "      <td>HTTP</td>\n",
       "    </tr>\n",
       "    <tr>\n",
       "      <th>4</th>\n",
       "      <td>4</td>\n",
       "      <td>5</td>\n",
       "      <td>tcp</td>\n",
       "      <td>192.168.100.147</td>\n",
       "      <td>49966</td>\n",
       "      <td>192.168.100.7</td>\n",
       "      <td>80</td>\n",
       "      <td>13</td>\n",
       "      <td>0.063887</td>\n",
       "      <td>75</td>\n",
       "      <td>0.000000</td>\n",
       "      <td>1</td>\n",
       "      <td>0.063887</td>\n",
       "      <td>96</td>\n",
       "      <td>15.652637</td>\n",
       "      <td>0.567630</td>\n",
       "      <td>0.127774</td>\n",
       "      <td>1</td>\n",
       "      <td>DoS</td>\n",
       "      <td>HTTP</td>\n",
       "    </tr>\n",
       "  </tbody>\n",
       "</table>\n",
       "</div>"
      ],
      "text/plain": [
       "   Unnamed: 0  pkSeqID proto            saddr  sport            daddr dport  \\\n",
       "0           0        1   tcp  192.168.100.147  49960    192.168.100.7    80   \n",
       "1           1        2   arp    192.168.100.7     -1  192.168.100.147    -1   \n",
       "2           2        3   tcp  192.168.100.147  49962    192.168.100.7    80   \n",
       "3           3        4   tcp  192.168.100.147  49964    192.168.100.7    80   \n",
       "4           4        5   tcp  192.168.100.147  49966    192.168.100.7    80   \n",
       "\n",
       "   seq    stddev  N_IN_Conn_P_SrcIP       min  state_number      mean  \\\n",
       "0    9  0.068909                 75  0.000000             1  0.068909   \n",
       "1   10  0.000000                  2  0.000131             2  0.000131   \n",
       "2   11  0.064494                 75  0.000000             1  0.064494   \n",
       "3   12  0.064189                 75  0.000000             1  0.064189   \n",
       "4   13  0.063887                 75  0.000000             1  0.063887   \n",
       "\n",
       "   N_IN_Conn_P_DstIP      drate     srate       max  attack category  \\\n",
       "0                 96  14.511893  0.566862  0.137818       1      DoS   \n",
       "1                  1   0.000000  0.000000  0.000131       1      DoS   \n",
       "2                 96  15.505319  0.567549  0.128988       1      DoS   \n",
       "3                 96  15.578993  0.567570  0.128378       1      DoS   \n",
       "4                 96  15.652637  0.567630  0.127774       1      DoS   \n",
       "\n",
       "  subcategory  \n",
       "0        HTTP  \n",
       "1        HTTP  \n",
       "2        HTTP  \n",
       "3        HTTP  \n",
       "4        HTTP  "
      ]
     },
     "execution_count": 4,
     "metadata": {},
     "output_type": "execute_result"
    }
   ],
   "source": [
    "df.head()\n",
    "\n",
    "# getiing top few portion of dataset"
   ]
  },
  {
   "cell_type": "code",
   "execution_count": 5,
   "metadata": {},
   "outputs": [
    {
     "data": {
      "text/plain": [
       "Index(['Unnamed: 0', 'pkSeqID', 'proto', 'saddr', 'sport', 'daddr', 'dport',\n",
       "       'seq', 'stddev', 'N_IN_Conn_P_SrcIP', 'min', 'state_number', 'mean',\n",
       "       'N_IN_Conn_P_DstIP', 'drate', 'srate', 'max', 'attack', 'category',\n",
       "       'subcategory'],\n",
       "      dtype='object')"
      ]
     },
     "execution_count": 5,
     "metadata": {},
     "output_type": "execute_result"
    }
   ],
   "source": [
    "df.columns\n",
    "\n",
    "# name of columns"
   ]
  },
  {
   "cell_type": "code",
   "execution_count": 6,
   "metadata": {},
   "outputs": [
    {
     "data": {
      "text/plain": [
       "(3668522, 20)"
      ]
     },
     "execution_count": 6,
     "metadata": {},
     "output_type": "execute_result"
    }
   ],
   "source": [
    "df.shape\n",
    "\n",
    "# for understanding structure of dataset"
   ]
  },
  {
   "cell_type": "code",
   "execution_count": 43,
   "metadata": {},
   "outputs": [
    {
     "data": {
      "text/plain": [
       "array(['DoS', 'DDoS', 'Normal', 'Reconnaissance', 'Theft'], dtype=object)"
      ]
     },
     "execution_count": 43,
     "metadata": {},
     "output_type": "execute_result"
    }
   ],
   "source": [
    "df.category.unique()\n",
    "\n",
    "# for understanding categories of type of attacks"
   ]
  },
  {
   "cell_type": "code",
   "execution_count": 42,
   "metadata": {},
   "outputs": [
    {
     "data": {
      "text/plain": [
       "array(['HTTP', 'TCP', 'UDP', 'Normal', 'OS_Fingerprint', 'Service_Scan',\n",
       "       'Data_Exfiltration', 'Keylogging'], dtype=object)"
      ]
     },
     "execution_count": 42,
     "metadata": {},
     "output_type": "execute_result"
    }
   ],
   "source": [
    "df.subcategory.unique()\n",
    "\n",
    "# for understanding subcategories of type of attacks"
   ]
  },
  {
   "cell_type": "code",
   "execution_count": 9,
   "metadata": {},
   "outputs": [
    {
     "data": {
      "text/plain": [
       "1    3668045\n",
       "0        477\n",
       "Name: attack, dtype: int64"
      ]
     },
     "execution_count": 9,
     "metadata": {},
     "output_type": "execute_result"
    }
   ],
   "source": [
    "df.attack.value_counts()\n",
    "\n",
    "# malicious packets available for classification"
   ]
  },
  {
   "cell_type": "code",
   "execution_count": 41,
   "metadata": {},
   "outputs": [
    {
     "data": {
      "text/plain": [
       "array(['tcp', 'arp', 'udp', 'icmp', 'ipv6-icmp'], dtype=object)"
      ]
     },
     "execution_count": 41,
     "metadata": {},
     "output_type": "execute_result"
    }
   ],
   "source": [
    "df.proto.unique()\n",
    "\n",
    "# for understanding protocols used."
   ]
  },
  {
   "cell_type": "code",
   "execution_count": 11,
   "metadata": {},
   "outputs": [
    {
     "data": {
      "text/plain": [
       "192.168.100.147              950966\n",
       "192.168.100.148              923290\n",
       "192.168.100.150              890262\n",
       "192.168.100.149              890146\n",
       "192.168.100.3                  8281\n",
       "192.168.100.5                  5118\n",
       "192.168.100.6                   327\n",
       "192.168.100.7                    43\n",
       "192.168.100.4                    19\n",
       "192.168.100.1                    16\n",
       "192.168.100.46                   15\n",
       "192.168.100.27                   14\n",
       "fe80::250:56ff:febe:254           6\n",
       "fe80::c0c0:aa20:45b9:bdd9         4\n",
       "192.168.100.55                    3\n",
       "fe80::250:56ff:febe:26db          2\n",
       "fe80::250:56ff:febe:c038          2\n",
       "fe80::250:56ff:febe:e9d9          2\n",
       "fe80::2c6a:ff9b:7e14:166a         2\n",
       "fe80::250:56ff:febe:89ee          2\n",
       "fe80::250:56ff:febe:bf1a          2\n",
       "Name: saddr, dtype: int64"
      ]
     },
     "execution_count": 11,
     "metadata": {},
     "output_type": "execute_result"
    }
   ],
   "source": [
    "df.saddr.value_counts()\n",
    "\n",
    "# Bots IP"
   ]
  },
  {
   "cell_type": "code",
   "execution_count": 19,
   "metadata": {},
   "outputs": [
    {
     "data": {
      "text/plain": [
       "192.168.100.3      2375733\n",
       "192.168.100.5       451694\n",
       "192.168.100.7       414859\n",
       "192.168.100.6       412209\n",
       "192.168.100.150       3860\n",
       "192.168.100.147       3658\n",
       "192.168.100.149       3111\n",
       "192.168.100.148       2969\n",
       "8.8.8.8                 60\n",
       "192.168.217.2           59\n",
       "Name: daddr, dtype: int64"
      ]
     },
     "execution_count": 19,
     "metadata": {},
     "output_type": "execute_result"
    }
   ],
   "source": [
    "df.daddr.value_counts().head(10)\n",
    "\n",
    "# top destination IPs"
   ]
  },
  {
   "cell_type": "code",
   "execution_count": 13,
   "metadata": {},
   "outputs": [
    {
     "name": "stdout",
     "output_type": "stream",
     "text": [
      "<class 'pandas.core.frame.DataFrame'>\n",
      "RangeIndex: 3668522 entries, 0 to 3668521\n",
      "Data columns (total 20 columns):\n",
      " #   Column             Dtype  \n",
      "---  ------             -----  \n",
      " 0   Unnamed: 0         int64  \n",
      " 1   pkSeqID            int64  \n",
      " 2   proto              object \n",
      " 3   saddr              object \n",
      " 4   sport              object \n",
      " 5   daddr              object \n",
      " 6   dport              object \n",
      " 7   seq                int64  \n",
      " 8   stddev             float64\n",
      " 9   N_IN_Conn_P_SrcIP  int64  \n",
      " 10  min                float64\n",
      " 11  state_number       int64  \n",
      " 12  mean               float64\n",
      " 13  N_IN_Conn_P_DstIP  int64  \n",
      " 14  drate              float64\n",
      " 15  srate              float64\n",
      " 16  max                float64\n",
      " 17  attack             int64  \n",
      " 18  category           object \n",
      " 19  subcategory        object \n",
      "dtypes: float64(6), int64(7), object(7)\n",
      "memory usage: 559.8+ MB\n"
     ]
    }
   ],
   "source": [
    "df.info()\n",
    "\n",
    "# understanding type of data in each column"
   ]
  },
  {
   "cell_type": "code",
   "execution_count": 14,
   "metadata": {},
   "outputs": [
    {
     "data": {
      "text/html": [
       "<div>\n",
       "<style scoped>\n",
       "    .dataframe tbody tr th:only-of-type {\n",
       "        vertical-align: middle;\n",
       "    }\n",
       "\n",
       "    .dataframe tbody tr th {\n",
       "        vertical-align: top;\n",
       "    }\n",
       "\n",
       "    .dataframe thead th {\n",
       "        text-align: right;\n",
       "    }\n",
       "</style>\n",
       "<table border=\"1\" class=\"dataframe\">\n",
       "  <thead>\n",
       "    <tr style=\"text-align: right;\">\n",
       "      <th></th>\n",
       "      <th>Unnamed: 0</th>\n",
       "      <th>pkSeqID</th>\n",
       "      <th>seq</th>\n",
       "      <th>stddev</th>\n",
       "      <th>N_IN_Conn_P_SrcIP</th>\n",
       "      <th>min</th>\n",
       "      <th>state_number</th>\n",
       "      <th>mean</th>\n",
       "      <th>N_IN_Conn_P_DstIP</th>\n",
       "      <th>drate</th>\n",
       "      <th>srate</th>\n",
       "      <th>max</th>\n",
       "      <th>attack</th>\n",
       "    </tr>\n",
       "  </thead>\n",
       "  <tbody>\n",
       "    <tr>\n",
       "      <th>count</th>\n",
       "      <td>3668522.000000</td>\n",
       "      <td>3668522.000000</td>\n",
       "      <td>3668522.000000</td>\n",
       "      <td>3668522.000000</td>\n",
       "      <td>3668522.000000</td>\n",
       "      <td>3668522.000000</td>\n",
       "      <td>3668522.000000</td>\n",
       "      <td>3668522.000000</td>\n",
       "      <td>3668522.000000</td>\n",
       "      <td>3668522.000000</td>\n",
       "      <td>3668522.000000</td>\n",
       "      <td>3668522.000000</td>\n",
       "      <td>3668522.000000</td>\n",
       "    </tr>\n",
       "    <tr>\n",
       "      <th>mean</th>\n",
       "      <td>1834260.500000</td>\n",
       "      <td>1834261.500000</td>\n",
       "      <td>121320.416125</td>\n",
       "      <td>0.887150</td>\n",
       "      <td>82.538483</td>\n",
       "      <td>1.017540</td>\n",
       "      <td>3.134390</td>\n",
       "      <td>2.231063</td>\n",
       "      <td>92.451680</td>\n",
       "      <td>0.445505</td>\n",
       "      <td>2.955111</td>\n",
       "      <td>3.020015</td>\n",
       "      <td>0.999870</td>\n",
       "    </tr>\n",
       "    <tr>\n",
       "      <th>std</th>\n",
       "      <td>1059011.226452</td>\n",
       "      <td>1059011.226452</td>\n",
       "      <td>75794.283785</td>\n",
       "      <td>0.803714</td>\n",
       "      <td>24.397394</td>\n",
       "      <td>1.483688</td>\n",
       "      <td>1.186971</td>\n",
       "      <td>1.517728</td>\n",
       "      <td>18.176435</td>\n",
       "      <td>60.288626</td>\n",
       "      <td>724.542476</td>\n",
       "      <td>1.860877</td>\n",
       "      <td>0.011402</td>\n",
       "    </tr>\n",
       "    <tr>\n",
       "      <th>min</th>\n",
       "      <td>0.000000</td>\n",
       "      <td>1.000000</td>\n",
       "      <td>1.000000</td>\n",
       "      <td>0.000000</td>\n",
       "      <td>1.000000</td>\n",
       "      <td>0.000000</td>\n",
       "      <td>1.000000</td>\n",
       "      <td>0.000000</td>\n",
       "      <td>1.000000</td>\n",
       "      <td>0.000000</td>\n",
       "      <td>0.000000</td>\n",
       "      <td>0.000000</td>\n",
       "      <td>0.000000</td>\n",
       "    </tr>\n",
       "    <tr>\n",
       "      <th>25%</th>\n",
       "      <td>917130.250000</td>\n",
       "      <td>917131.250000</td>\n",
       "      <td>54876.000000</td>\n",
       "      <td>0.030019</td>\n",
       "      <td>69.000000</td>\n",
       "      <td>0.000000</td>\n",
       "      <td>3.000000</td>\n",
       "      <td>0.181967</td>\n",
       "      <td>100.000000</td>\n",
       "      <td>0.000000</td>\n",
       "      <td>0.155970</td>\n",
       "      <td>0.280607</td>\n",
       "      <td>1.000000</td>\n",
       "    </tr>\n",
       "    <tr>\n",
       "      <th>50%</th>\n",
       "      <td>1834260.500000</td>\n",
       "      <td>1834261.500000</td>\n",
       "      <td>117769.000000</td>\n",
       "      <td>0.793896</td>\n",
       "      <td>100.000000</td>\n",
       "      <td>0.000000</td>\n",
       "      <td>4.000000</td>\n",
       "      <td>2.690125</td>\n",
       "      <td>100.000000</td>\n",
       "      <td>0.000000</td>\n",
       "      <td>0.283783</td>\n",
       "      <td>4.009111</td>\n",
       "      <td>1.000000</td>\n",
       "    </tr>\n",
       "    <tr>\n",
       "      <th>75%</th>\n",
       "      <td>2751390.750000</td>\n",
       "      <td>2751391.750000</td>\n",
       "      <td>184930.000000</td>\n",
       "      <td>1.745296</td>\n",
       "      <td>100.000000</td>\n",
       "      <td>2.151138</td>\n",
       "      <td>4.000000</td>\n",
       "      <td>3.565203</td>\n",
       "      <td>100.000000</td>\n",
       "      <td>0.000000</td>\n",
       "      <td>0.488201</td>\n",
       "      <td>4.293582</td>\n",
       "      <td>1.000000</td>\n",
       "    </tr>\n",
       "    <tr>\n",
       "      <th>max</th>\n",
       "      <td>3668521.000000</td>\n",
       "      <td>3668522.000000</td>\n",
       "      <td>262212.000000</td>\n",
       "      <td>2.496763</td>\n",
       "      <td>100.000000</td>\n",
       "      <td>4.980471</td>\n",
       "      <td>11.000000</td>\n",
       "      <td>4.981882</td>\n",
       "      <td>100.000000</td>\n",
       "      <td>58823.527344</td>\n",
       "      <td>1000000.000000</td>\n",
       "      <td>4.999999</td>\n",
       "      <td>1.000000</td>\n",
       "    </tr>\n",
       "  </tbody>\n",
       "</table>\n",
       "</div>"
      ],
      "text/plain": [
       "          Unnamed: 0        pkSeqID            seq         stddev  \\\n",
       "count 3668522.000000 3668522.000000 3668522.000000 3668522.000000   \n",
       "mean  1834260.500000 1834261.500000  121320.416125       0.887150   \n",
       "std   1059011.226452 1059011.226452   75794.283785       0.803714   \n",
       "min         0.000000       1.000000       1.000000       0.000000   \n",
       "25%    917130.250000  917131.250000   54876.000000       0.030019   \n",
       "50%   1834260.500000 1834261.500000  117769.000000       0.793896   \n",
       "75%   2751390.750000 2751391.750000  184930.000000       1.745296   \n",
       "max   3668521.000000 3668522.000000  262212.000000       2.496763   \n",
       "\n",
       "       N_IN_Conn_P_SrcIP            min   state_number           mean  \\\n",
       "count     3668522.000000 3668522.000000 3668522.000000 3668522.000000   \n",
       "mean           82.538483       1.017540       3.134390       2.231063   \n",
       "std            24.397394       1.483688       1.186971       1.517728   \n",
       "min             1.000000       0.000000       1.000000       0.000000   \n",
       "25%            69.000000       0.000000       3.000000       0.181967   \n",
       "50%           100.000000       0.000000       4.000000       2.690125   \n",
       "75%           100.000000       2.151138       4.000000       3.565203   \n",
       "max           100.000000       4.980471      11.000000       4.981882   \n",
       "\n",
       "       N_IN_Conn_P_DstIP          drate          srate            max  \\\n",
       "count     3668522.000000 3668522.000000 3668522.000000 3668522.000000   \n",
       "mean           92.451680       0.445505       2.955111       3.020015   \n",
       "std            18.176435      60.288626     724.542476       1.860877   \n",
       "min             1.000000       0.000000       0.000000       0.000000   \n",
       "25%           100.000000       0.000000       0.155970       0.280607   \n",
       "50%           100.000000       0.000000       0.283783       4.009111   \n",
       "75%           100.000000       0.000000       0.488201       4.293582   \n",
       "max           100.000000   58823.527344 1000000.000000       4.999999   \n",
       "\n",
       "              attack  \n",
       "count 3668522.000000  \n",
       "mean        0.999870  \n",
       "std         0.011402  \n",
       "min         0.000000  \n",
       "25%         1.000000  \n",
       "50%         1.000000  \n",
       "75%         1.000000  \n",
       "max         1.000000  "
      ]
     },
     "execution_count": 14,
     "metadata": {},
     "output_type": "execute_result"
    }
   ],
   "source": [
    "pd.set_option('float_format', '{:f}'.format)\n",
    "df.describe()\n",
    "\n",
    "# understanding statistics behind our dataset"
   ]
  },
  {
   "cell_type": "code",
   "execution_count": 23,
   "metadata": {},
   "outputs": [
    {
     "data": {
      "text/plain": [
       "0.4455046496689945"
      ]
     },
     "execution_count": 23,
     "metadata": {},
     "output_type": "execute_result"
    }
   ],
   "source": [
    "df.drate.mean()\n",
    "\n",
    "# mean rate of Destination-to-source packets per second"
   ]
  },
  {
   "cell_type": "code",
   "execution_count": 24,
   "metadata": {},
   "outputs": [
    {
     "data": {
      "text/plain": [
       "2.9551111198337434"
      ]
     },
     "execution_count": 24,
     "metadata": {},
     "output_type": "execute_result"
    }
   ],
   "source": [
    "df.srate.mean()\n",
    "\n",
    "# mean rate of Source-to-destination packets per second"
   ]
  },
  {
   "cell_type": "code",
   "execution_count": 30,
   "metadata": {},
   "outputs": [
    {
     "data": {
      "text/plain": [
       "0.000000    420732\n",
       "0.000014       376\n",
       "0.000015       328\n",
       "0.000043       291\n",
       "0.000047       290\n",
       "0.000030       288\n",
       "0.000032       288\n",
       "0.000050       284\n",
       "0.000041       284\n",
       "0.000039       282\n",
       "Name: max, dtype: int64"
      ]
     },
     "execution_count": 30,
     "metadata": {},
     "output_type": "execute_result"
    }
   ],
   "source": [
    "df['max'].value_counts().head(10)\n",
    "\n",
    "# Maximum duration of aggregated records for top 10 "
   ]
  },
  {
   "cell_type": "code",
   "execution_count": 45,
   "metadata": {},
   "outputs": [
    {
     "data": {
      "text/plain": [
       "Unnamed: 0           0\n",
       "pkSeqID              0\n",
       "proto                0\n",
       "saddr                0\n",
       "sport                0\n",
       "daddr                0\n",
       "dport                0\n",
       "seq                  0\n",
       "stddev               0\n",
       "N_IN_Conn_P_SrcIP    0\n",
       "min                  0\n",
       "state_number         0\n",
       "mean                 0\n",
       "N_IN_Conn_P_DstIP    0\n",
       "drate                0\n",
       "srate                0\n",
       "max                  0\n",
       "attack               0\n",
       "category             0\n",
       "subcategory          0\n",
       "dtype: int64"
      ]
     },
     "execution_count": 45,
     "metadata": {},
     "output_type": "execute_result"
    }
   ],
   "source": [
    "df.isnull().sum()\n",
    "\n",
    "# geting number of null values from each column"
   ]
  },
  {
   "cell_type": "code",
   "execution_count": 47,
   "metadata": {},
   "outputs": [
    {
     "data": {
      "text/plain": [
       "0"
      ]
     },
     "execution_count": 47,
     "metadata": {},
     "output_type": "execute_result"
    }
   ],
   "source": [
    "df.duplicated().sum()\n",
    "\n",
    "# duplicates in dataset"
   ]
  },
  {
   "cell_type": "code",
   "execution_count": null,
   "metadata": {},
   "outputs": [],
   "source": []
  }
 ],
 "metadata": {
  "kernelspec": {
   "display_name": "Python 3",
   "language": "python",
   "name": "python3"
  },
  "language_info": {
   "codemirror_mode": {
    "name": "ipython",
    "version": 3
   },
   "file_extension": ".py",
   "mimetype": "text/x-python",
   "name": "python",
   "nbconvert_exporter": "python",
   "pygments_lexer": "ipython3",
   "version": "3.7.6"
  }
 },
 "nbformat": 4,
 "nbformat_minor": 4
}
