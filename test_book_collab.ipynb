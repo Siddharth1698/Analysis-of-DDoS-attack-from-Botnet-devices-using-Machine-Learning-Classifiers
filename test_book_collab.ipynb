{
  "nbformat": 4,
  "nbformat_minor": 0,
  "metadata": {
    "colab": {
      "name": "project try",
      "provenance": [],
      "authorship_tag": "ABX9TyMKY0g6GkJSer6Br8yA9QZf",
      "include_colab_link": true
    },
    "kernelspec": {
      "name": "python3",
      "display_name": "Python 3"
    }
  },
  "cells": [
    {
      "cell_type": "markdown",
      "metadata": {
        "id": "view-in-github",
        "colab_type": "text"
      },
      "source": [
        "<a href=\"https://colab.research.google.com/github/Siddharth1698/Analysis-of-DDoS-attack-from-Botnet-devices-using-Machine-Learning-Classifiers/blob/master/test_book_collab.ipynb\" target=\"_parent\"><img src=\"https://colab.research.google.com/assets/colab-badge.svg\" alt=\"Open In Colab\"/></a>"
      ]
    },
    {
      "cell_type": "code",
      "metadata": {
        "id": "elcveAedSHOo",
        "colab_type": "code",
        "colab": {}
      },
      "source": [
        "import pandas as pd\n"
      ],
      "execution_count": 0,
      "outputs": []
    },
    {
      "cell_type": "code",
      "metadata": {
        "id": "PoTp5GEOS1Yn",
        "colab_type": "code",
        "colab": {
          "base_uri": "https://localhost:8080/",
          "height": 72
        },
        "outputId": "cc3e4c13-5d2e-4730-a911-770aec2cc462"
      },
      "source": [
        "df = pd.read_csv(\"drive/My Drive/combined.csv\")"
      ],
      "execution_count": 2,
      "outputs": [
        {
          "output_type": "stream",
          "text": [
            "/usr/local/lib/python3.6/dist-packages/IPython/core/interactiveshell.py:2718: DtypeWarning: Columns (0,1,3,5,7,9,10,11,13,14,15,16,17,18,19,20,21,22,23,24,25,26,27,28,29,30,31,32,33,34,35,36,37,38,39,40,41,42,43) have mixed types.Specify dtype option on import or set low_memory=False.\n",
            "  interactivity=interactivity, compiler=compiler, result=result)\n"
          ],
          "name": "stderr"
        }
      ]
    },
    {
      "cell_type": "code",
      "metadata": {
        "id": "cTlV-m4WTCIC",
        "colab_type": "code",
        "colab": {
          "base_uri": "https://localhost:8080/",
          "height": 226
        },
        "outputId": "fc2d2fea-de9d-4bd2-a560-79d619b0d59b"
      },
      "source": [
        "df.head()"
      ],
      "execution_count": 3,
      "outputs": [
        {
          "output_type": "execute_result",
          "data": {
            "text/html": [
              "<div>\n",
              "<style scoped>\n",
              "    .dataframe tbody tr th:only-of-type {\n",
              "        vertical-align: middle;\n",
              "    }\n",
              "\n",
              "    .dataframe tbody tr th {\n",
              "        vertical-align: top;\n",
              "    }\n",
              "\n",
              "    .dataframe thead th {\n",
              "        text-align: right;\n",
              "    }\n",
              "</style>\n",
              "<table border=\"1\" class=\"dataframe\">\n",
              "  <thead>\n",
              "    <tr style=\"text-align: right;\">\n",
              "      <th></th>\n",
              "      <th>pkSeqID</th>\n",
              "      <th>stime</th>\n",
              "      <th>flgs</th>\n",
              "      <th>flgs_number</th>\n",
              "      <th>proto</th>\n",
              "      <th>proto_number</th>\n",
              "      <th>saddr</th>\n",
              "      <th>sport</th>\n",
              "      <th>daddr</th>\n",
              "      <th>dport</th>\n",
              "      <th>pkts</th>\n",
              "      <th>bytes</th>\n",
              "      <th>state</th>\n",
              "      <th>state_number</th>\n",
              "      <th>ltime</th>\n",
              "      <th>seq</th>\n",
              "      <th>dur</th>\n",
              "      <th>mean</th>\n",
              "      <th>stddev</th>\n",
              "      <th>sum</th>\n",
              "      <th>min</th>\n",
              "      <th>max</th>\n",
              "      <th>spkts</th>\n",
              "      <th>dpkts</th>\n",
              "      <th>sbytes</th>\n",
              "      <th>dbytes</th>\n",
              "      <th>rate</th>\n",
              "      <th>srate</th>\n",
              "      <th>drate</th>\n",
              "      <th>TnBPSrcIP</th>\n",
              "      <th>TnBPDstIP</th>\n",
              "      <th>TnP_PSrcIP</th>\n",
              "      <th>TnP_PDstIP</th>\n",
              "      <th>TnP_PerProto</th>\n",
              "      <th>TnP_Per_Dport</th>\n",
              "      <th>AR_P_Proto_P_SrcIP</th>\n",
              "      <th>AR_P_Proto_P_DstIP</th>\n",
              "      <th>N_IN_Conn_P_DstIP</th>\n",
              "      <th>N_IN_Conn_P_SrcIP</th>\n",
              "      <th>AR_P_Proto_P_Sport</th>\n",
              "      <th>AR_P_Proto_P_Dport</th>\n",
              "      <th>Pkts_P_State_P_Protocol_P_DestIP</th>\n",
              "      <th>Pkts_P_State_P_Protocol_P_SrcIP</th>\n",
              "      <th>attack</th>\n",
              "      <th>category</th>\n",
              "      <th>subcategory</th>\n",
              "    </tr>\n",
              "  </thead>\n",
              "  <tbody>\n",
              "    <tr>\n",
              "      <th>0</th>\n",
              "      <td>1</td>\n",
              "      <td>1.52809e+09</td>\n",
              "      <td>e</td>\n",
              "      <td>1</td>\n",
              "      <td>tcp</td>\n",
              "      <td>1</td>\n",
              "      <td>192.168.100.147</td>\n",
              "      <td>49960</td>\n",
              "      <td>192.168.100.7</td>\n",
              "      <td>80</td>\n",
              "      <td>8</td>\n",
              "      <td>1980</td>\n",
              "      <td>RST</td>\n",
              "      <td>1</td>\n",
              "      <td>1.52809e+09</td>\n",
              "      <td>9</td>\n",
              "      <td>7.05639</td>\n",
              "      <td>0.068909</td>\n",
              "      <td>0.068909</td>\n",
              "      <td>0.137818</td>\n",
              "      <td>0</td>\n",
              "      <td>0.137818</td>\n",
              "      <td>5</td>\n",
              "      <td>3</td>\n",
              "      <td>650</td>\n",
              "      <td>1330</td>\n",
              "      <td>0.992008</td>\n",
              "      <td>0.566862</td>\n",
              "      <td>14.5119</td>\n",
              "      <td>157426</td>\n",
              "      <td>201841</td>\n",
              "      <td>602</td>\n",
              "      <td>770</td>\n",
              "      <td>772</td>\n",
              "      <td>772</td>\n",
              "      <td>1.14297</td>\n",
              "      <td>1.12704</td>\n",
              "      <td>96</td>\n",
              "      <td>75</td>\n",
              "      <td>1.13372</td>\n",
              "      <td>1.12997</td>\n",
              "      <td>770</td>\n",
              "      <td>602</td>\n",
              "      <td>1</td>\n",
              "      <td>DoS</td>\n",
              "      <td>HTTP</td>\n",
              "    </tr>\n",
              "    <tr>\n",
              "      <th>1</th>\n",
              "      <td>2</td>\n",
              "      <td>1.52809e+09</td>\n",
              "      <td>e</td>\n",
              "      <td>1</td>\n",
              "      <td>arp</td>\n",
              "      <td>2</td>\n",
              "      <td>192.168.100.7</td>\n",
              "      <td>-1</td>\n",
              "      <td>192.168.100.147</td>\n",
              "      <td>-1</td>\n",
              "      <td>2</td>\n",
              "      <td>120</td>\n",
              "      <td>CON</td>\n",
              "      <td>2</td>\n",
              "      <td>1.52809e+09</td>\n",
              "      <td>10</td>\n",
              "      <td>0.000131</td>\n",
              "      <td>0.000131</td>\n",
              "      <td>0</td>\n",
              "      <td>0.000131</td>\n",
              "      <td>0.000131</td>\n",
              "      <td>0.000131</td>\n",
              "      <td>1</td>\n",
              "      <td>1</td>\n",
              "      <td>60</td>\n",
              "      <td>60</td>\n",
              "      <td>7633.59</td>\n",
              "      <td>0</td>\n",
              "      <td>0</td>\n",
              "      <td>360</td>\n",
              "      <td>120</td>\n",
              "      <td>6</td>\n",
              "      <td>2</td>\n",
              "      <td>8</td>\n",
              "      <td>8</td>\n",
              "      <td>0.00385682</td>\n",
              "      <td>15267.2</td>\n",
              "      <td>1</td>\n",
              "      <td>2</td>\n",
              "      <td>0.00514243</td>\n",
              "      <td>0.00514243</td>\n",
              "      <td>2</td>\n",
              "      <td>6</td>\n",
              "      <td>1</td>\n",
              "      <td>DoS</td>\n",
              "      <td>HTTP</td>\n",
              "    </tr>\n",
              "    <tr>\n",
              "      <th>2</th>\n",
              "      <td>3</td>\n",
              "      <td>1.52809e+09</td>\n",
              "      <td>e</td>\n",
              "      <td>1</td>\n",
              "      <td>tcp</td>\n",
              "      <td>1</td>\n",
              "      <td>192.168.100.147</td>\n",
              "      <td>49962</td>\n",
              "      <td>192.168.100.7</td>\n",
              "      <td>80</td>\n",
              "      <td>8</td>\n",
              "      <td>2126</td>\n",
              "      <td>RST</td>\n",
              "      <td>1</td>\n",
              "      <td>1.52809e+09</td>\n",
              "      <td>11</td>\n",
              "      <td>7.04785</td>\n",
              "      <td>0.064494</td>\n",
              "      <td>0.064494</td>\n",
              "      <td>0.128988</td>\n",
              "      <td>0</td>\n",
              "      <td>0.128988</td>\n",
              "      <td>5</td>\n",
              "      <td>3</td>\n",
              "      <td>796</td>\n",
              "      <td>1330</td>\n",
              "      <td>0.99321</td>\n",
              "      <td>0.567549</td>\n",
              "      <td>15.5053</td>\n",
              "      <td>157426</td>\n",
              "      <td>201841</td>\n",
              "      <td>602</td>\n",
              "      <td>770</td>\n",
              "      <td>772</td>\n",
              "      <td>772</td>\n",
              "      <td>1.14297</td>\n",
              "      <td>1.12704</td>\n",
              "      <td>96</td>\n",
              "      <td>75</td>\n",
              "      <td>1.1351</td>\n",
              "      <td>1.12997</td>\n",
              "      <td>770</td>\n",
              "      <td>602</td>\n",
              "      <td>1</td>\n",
              "      <td>DoS</td>\n",
              "      <td>HTTP</td>\n",
              "    </tr>\n",
              "    <tr>\n",
              "      <th>3</th>\n",
              "      <td>4</td>\n",
              "      <td>1.52809e+09</td>\n",
              "      <td>e</td>\n",
              "      <td>1</td>\n",
              "      <td>tcp</td>\n",
              "      <td>1</td>\n",
              "      <td>192.168.100.147</td>\n",
              "      <td>49964</td>\n",
              "      <td>192.168.100.7</td>\n",
              "      <td>80</td>\n",
              "      <td>8</td>\n",
              "      <td>2024</td>\n",
              "      <td>RST</td>\n",
              "      <td>1</td>\n",
              "      <td>1.52809e+09</td>\n",
              "      <td>12</td>\n",
              "      <td>7.04759</td>\n",
              "      <td>0.064189</td>\n",
              "      <td>0.064189</td>\n",
              "      <td>0.128378</td>\n",
              "      <td>0</td>\n",
              "      <td>0.128378</td>\n",
              "      <td>5</td>\n",
              "      <td>3</td>\n",
              "      <td>694</td>\n",
              "      <td>1330</td>\n",
              "      <td>0.993247</td>\n",
              "      <td>0.56757</td>\n",
              "      <td>15.579</td>\n",
              "      <td>157426</td>\n",
              "      <td>201841</td>\n",
              "      <td>602</td>\n",
              "      <td>770</td>\n",
              "      <td>772</td>\n",
              "      <td>772</td>\n",
              "      <td>1.14297</td>\n",
              "      <td>1.12704</td>\n",
              "      <td>96</td>\n",
              "      <td>75</td>\n",
              "      <td>1.13514</td>\n",
              "      <td>1.12997</td>\n",
              "      <td>770</td>\n",
              "      <td>602</td>\n",
              "      <td>1</td>\n",
              "      <td>DoS</td>\n",
              "      <td>HTTP</td>\n",
              "    </tr>\n",
              "    <tr>\n",
              "      <th>4</th>\n",
              "      <td>5</td>\n",
              "      <td>1.52809e+09</td>\n",
              "      <td>e</td>\n",
              "      <td>1</td>\n",
              "      <td>tcp</td>\n",
              "      <td>1</td>\n",
              "      <td>192.168.100.147</td>\n",
              "      <td>49966</td>\n",
              "      <td>192.168.100.7</td>\n",
              "      <td>80</td>\n",
              "      <td>8</td>\n",
              "      <td>2319</td>\n",
              "      <td>RST</td>\n",
              "      <td>1</td>\n",
              "      <td>1.52809e+09</td>\n",
              "      <td>13</td>\n",
              "      <td>7.04684</td>\n",
              "      <td>0.063887</td>\n",
              "      <td>0.063887</td>\n",
              "      <td>0.127774</td>\n",
              "      <td>0</td>\n",
              "      <td>0.127774</td>\n",
              "      <td>5</td>\n",
              "      <td>3</td>\n",
              "      <td>989</td>\n",
              "      <td>1330</td>\n",
              "      <td>0.993353</td>\n",
              "      <td>0.56763</td>\n",
              "      <td>15.6526</td>\n",
              "      <td>157426</td>\n",
              "      <td>201841</td>\n",
              "      <td>602</td>\n",
              "      <td>770</td>\n",
              "      <td>772</td>\n",
              "      <td>772</td>\n",
              "      <td>1.14297</td>\n",
              "      <td>1.12704</td>\n",
              "      <td>96</td>\n",
              "      <td>75</td>\n",
              "      <td>1.13526</td>\n",
              "      <td>1.12997</td>\n",
              "      <td>770</td>\n",
              "      <td>602</td>\n",
              "      <td>1</td>\n",
              "      <td>DoS</td>\n",
              "      <td>HTTP</td>\n",
              "    </tr>\n",
              "  </tbody>\n",
              "</table>\n",
              "</div>"
            ],
            "text/plain": [
              "  pkSeqID        stime flgs  ... attack category subcategory\n",
              "0       1  1.52809e+09    e  ...      1      DoS        HTTP\n",
              "1       2  1.52809e+09    e  ...      1      DoS        HTTP\n",
              "2       3  1.52809e+09    e  ...      1      DoS        HTTP\n",
              "3       4  1.52809e+09    e  ...      1      DoS        HTTP\n",
              "4       5  1.52809e+09    e  ...      1      DoS        HTTP\n",
              "\n",
              "[5 rows x 46 columns]"
            ]
          },
          "metadata": {
            "tags": []
          },
          "execution_count": 3
        }
      ]
    },
    {
      "cell_type": "code",
      "metadata": {
        "id": "jO3SZ5whTL-5",
        "colab_type": "code",
        "colab": {
          "base_uri": "https://localhost:8080/",
          "height": 34
        },
        "outputId": "8b2073b6-1a86-4504-b8d0-17ae34124dd8"
      },
      "source": [
        "df.shape"
      ],
      "execution_count": 4,
      "outputs": [
        {
          "output_type": "execute_result",
          "data": {
            "text/plain": [
              "(3668525, 46)"
            ]
          },
          "metadata": {
            "tags": []
          },
          "execution_count": 4
        }
      ]
    },
    {
      "cell_type": "code",
      "metadata": {
        "id": "hL3K8xu5TR3g",
        "colab_type": "code",
        "colab": {
          "base_uri": "https://localhost:8080/",
          "height": 191
        },
        "outputId": "915ce3a1-38de-48bc-8ab2-6f65937385e6"
      },
      "source": [
        "df.columns"
      ],
      "execution_count": 6,
      "outputs": [
        {
          "output_type": "execute_result",
          "data": {
            "text/plain": [
              "Index(['pkSeqID', 'stime', 'flgs', 'flgs_number', 'proto', 'proto_number',\n",
              "       'saddr', 'sport', 'daddr', 'dport', 'pkts', 'bytes', 'state',\n",
              "       'state_number', 'ltime', 'seq', 'dur', 'mean', 'stddev', 'sum', 'min',\n",
              "       'max', 'spkts', 'dpkts', 'sbytes', 'dbytes', 'rate', 'srate', 'drate',\n",
              "       'TnBPSrcIP', 'TnBPDstIP', 'TnP_PSrcIP', 'TnP_PDstIP', 'TnP_PerProto',\n",
              "       'TnP_Per_Dport', 'AR_P_Proto_P_SrcIP', 'AR_P_Proto_P_DstIP',\n",
              "       'N_IN_Conn_P_DstIP', 'N_IN_Conn_P_SrcIP', 'AR_P_Proto_P_Sport',\n",
              "       'AR_P_Proto_P_Dport', 'Pkts_P_State_P_Protocol_P_DestIP',\n",
              "       'Pkts_P_State_P_Protocol_P_SrcIP', 'attack', 'category', 'subcategory'],\n",
              "      dtype='object')"
            ]
          },
          "metadata": {
            "tags": []
          },
          "execution_count": 6
        }
      ]
    },
    {
      "cell_type": "code",
      "metadata": {
        "id": "Yf9rqm5GTWi1",
        "colab_type": "code",
        "colab": {
          "base_uri": "https://localhost:8080/",
          "height": 104
        },
        "outputId": "b5b1a58a-f116-4b52-bd29-645609d3b2a0"
      },
      "source": [
        "df.attack.value_counts()"
      ],
      "execution_count": 7,
      "outputs": [
        {
          "output_type": "execute_result",
          "data": {
            "text/plain": [
              "1         3618896\n",
              "1           49149\n",
              "0             477\n",
              "attack          3\n",
              "Name: attack, dtype: int64"
            ]
          },
          "metadata": {
            "tags": []
          },
          "execution_count": 7
        }
      ]
    },
    {
      "cell_type": "code",
      "metadata": {
        "id": "6Im-6rp7TaxE",
        "colab_type": "code",
        "colab": {
          "base_uri": "https://localhost:8080/",
          "height": 52
        },
        "outputId": "7c938674-745e-46a9-b4fa-236e343ad120"
      },
      "source": [
        "df[df['attack']==0].category.value_counts()"
      ],
      "execution_count": 18,
      "outputs": [
        {
          "output_type": "execute_result",
          "data": {
            "text/plain": [
              "Normal    477\n",
              "Name: category, dtype: int64"
            ]
          },
          "metadata": {
            "tags": []
          },
          "execution_count": 18
        }
      ]
    },
    {
      "cell_type": "code",
      "metadata": {
        "id": "sBIBFbSTTy8C",
        "colab_type": "code",
        "colab": {}
      },
      "source": [
        ""
      ],
      "execution_count": 0,
      "outputs": []
    }
  ]
}